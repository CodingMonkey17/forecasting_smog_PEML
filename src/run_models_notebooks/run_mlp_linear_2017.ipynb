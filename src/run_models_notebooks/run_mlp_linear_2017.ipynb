{
 "cells": [
  {
   "cell_type": "markdown",
   "metadata": {},
   "source": [
    "# **PEML MLP Architecture 1 - computing physics output and feed in NN with regularisation**\n",
    "## Experiment 1: y_phy calculated by linear time shifting according to wind speed and dist\n",
    "### Only 2017 data"
   ]
  },
  {
   "cell_type": "markdown",
   "metadata": {},
   "source": [
    "## **Running the models using the 'modelling' package**\n",
    "\n",
    "A notebook through which different modelling configurations can be ran, using the ``modelling`` package. It follows the steps of:\n",
    "- preparing packages;\n",
    "- setting \"global\" variables;\n",
    "- getting the data;\n",
    "- defining hyperparameters;\n",
    "- running a grid search and/or training a model; and\n",
    "- evaluation.\n",
    "In the modelling package, variations can be made to the models and training functions to experiment. Don't forget to restart the notebook after making changes there.\n",
    "\n"
   ]
  },
  {
   "cell_type": "markdown",
   "metadata": {},
   "source": [
    "For loading models, go to the ``src/results/models``:\n",
    "- Baseline NO2 2017 with MLP and MSE loss: ``best_mlp_no2_baseline_2017.pth``\n"
   ]
  },
  {
   "cell_type": "code",
   "execution_count": 1,
   "metadata": {},
   "outputs": [
    {
     "name": "stdout",
     "output_type": "stream",
     "text": [
      "Starting script...\n",
      "\n",
      "Running __init__.py for data pipeline...\n",
      "Modelling package initialized\n",
      "\n"
     ]
    }
   ],
   "source": [
    "print(\"Starting script...\")\n",
    "\n",
    "\n",
    "from modelling.MLP import BasicMLP\n",
    "from modelling import *\n",
    "\n",
    "\n",
    "import optuna\n",
    "import threading\n",
    "import os\n",
    "from pathlib import Path\n",
    "import datetime\n",
    "import numpy as np\n",
    "import pandas as pd\n",
    "import torch\n",
    "import torch.nn as nn\n",
    "import torch.optim as optim\n",
    "from torch.utils.data import DataLoader\n",
    "from torch.utils.data import ConcatDataset"
   ]
  },
  {
   "cell_type": "markdown",
   "metadata": {},
   "source": [
    "Use GPU when available"
   ]
  },
  {
   "cell_type": "code",
   "execution_count": 2,
   "metadata": {},
   "outputs": [
    {
     "name": "stdout",
     "output_type": "stream",
     "text": [
      "Device:  cpu\n"
     ]
    }
   ],
   "source": [
    "use_cuda = torch.cuda.is_available()\n",
    "device = torch.device(\"cuda\" if use_cuda else \"cpu\")\n",
    "print(\"Device: \", device)"
   ]
  },
  {
   "cell_type": "markdown",
   "metadata": {},
   "source": [
    "### **Set \"global\" variables**"
   ]
  },
  {
   "cell_type": "code",
   "execution_count": 3,
   "metadata": {},
   "outputs": [
    {
     "data": {
      "text/plain": [
       "PosixPath('/home/rachel/forecasting_smog_PEML/src')"
      ]
     },
     "execution_count": 3,
     "metadata": {},
     "output_type": "execute_result"
    }
   ],
   "source": [
    "Path.cwd()"
   ]
  },
  {
   "cell_type": "code",
   "execution_count": 4,
   "metadata": {},
   "outputs": [
    {
     "data": {
      "text/plain": [
       "<module 'config' from '/home/rachel/forecasting_smog_PEML/src/config.py'>"
      ]
     },
     "execution_count": 4,
     "metadata": {},
     "output_type": "execute_result"
    }
   ],
   "source": [
    "import importlib\n",
    "import config\n",
    "importlib.reload(config)"
   ]
  },
  {
   "cell_type": "code",
   "execution_count": 5,
   "metadata": {},
   "outputs": [],
   "source": [
    "from config import *"
   ]
  },
  {
   "cell_type": "code",
   "execution_count": 6,
   "metadata": {},
   "outputs": [
    {
     "name": "stdout",
     "output_type": "stream",
     "text": [
      "BASE_DIR:  /home/rachel/forecasting_smog_PEML\n",
      "MODEL_PATH:  /home/rachel/forecasting_smog_PEML/src/results/models\n",
      "Results path:  /home/rachel/forecasting_smog_PEML/src/results\n"
     ]
    },
    {
     "data": {
      "text/plain": [
       "<torch._C.Generator at 0x7f83ec545fb0>"
      ]
     },
     "execution_count": 6,
     "metadata": {},
     "output_type": "execute_result"
    }
   ],
   "source": [
    "HABROK = bool(0)                  # set to True if using HABROK; it will print\n",
    "                                  # all stdout to a .txt file to log progress\n",
    "\n",
    "\n",
    "print(\"BASE_DIR: \", BASE_DIR)\n",
    "print(\"MODEL_PATH: \", MODEL_PATH)\n",
    "print(\"Results path: \", RESULTS_PATH)\n",
    "\n",
    "torch.manual_seed(34)             # set seed for reproducibility\n"
   ]
  },
  {
   "cell_type": "markdown",
   "metadata": {},
   "source": [
    "\n",
    "## MODIFY THESE GLOBAL VARIABLES FOR YOUR MODEL SCENARIO\n",
    "## all other variables are defined in config.py"
   ]
  },
  {
   "cell_type": "code",
   "execution_count": 7,
   "metadata": {},
   "outputs": [
    {
     "data": {
      "text/plain": [
       "<torch._C.Generator at 0x7f83ec545fb0>"
      ]
     },
     "execution_count": 7,
     "metadata": {},
     "output_type": "execute_result"
    }
   ],
   "source": [
    "# Change this according to the data you want to use\n",
    "# Change this according to the data you want to use\n",
    "YEARS = [2017]\n",
    "TRAIN_YEARS = [2017]\n",
    "VAL_YEARS = [2017]\n",
    "TEST_YEARS = [2017]\n",
    "\n",
    "LOSS_FUNC = \"LinearShift_MSE\"\n",
    "NN_TYPE = \"MLP\" # choose from \"MLP\", \"RNN\", \"LSTM\", \"GRU\"\n",
    "torch.random.manual_seed(34)"
   ]
  },
  {
   "cell_type": "code",
   "execution_count": 8,
   "metadata": {},
   "outputs": [
    {
     "name": "stdout",
     "output_type": "stream",
     "text": [
      "Using 2017\n",
      "MINMAX_PATH:  /home/rachel/forecasting_smog_PEML/data/data_combined/only_2017/pollutants_minmax_2017.csv\n",
      "DATASET_PATH:  /home/rachel/forecasting_smog_PEML/data/data_combined/only_2017\n",
      "MODEL_PATH_NAME:  best_MLP_no2_LinearShift_MSE_2017.pth\n",
      "RESULTS_METRICS_FILENAME:  results_MLP_no2_LinearShift_MSE_2017.csv\n",
      "BESTPARAMS_FILENAME:  best_params_MLP_no2_LinearShift_MSE_2017.txt\n",
      "PLOT_FILENAME:  plot_MLP_no2_LinearShift_MSE_2017.png\n"
     ]
    }
   ],
   "source": [
    "if YEARS == [2017, 2018, 2020, 2021, 2022, 2023]:\n",
    "    years = \"allyears\"\n",
    "    MINMAX_PATH = MINMAX_PATH_ALLYEARS\n",
    "    DATASET_PATH = DATASET_PATH_ALLYEARS\n",
    "    \n",
    "    print(\"Using all years\")\n",
    "    \n",
    "elif YEARS == [2017]:\n",
    "    years = \"2017\"\n",
    "    MINMAX_PATH = MINMAX_PATH_2017\n",
    "    DATASET_PATH = DATASET_PATH_2017\n",
    "    print(\"Using 2017\")\n",
    "else:\n",
    "    raise ValueError(\"Invalid years selected\")\n",
    "\n",
    "\n",
    "MODEL_PATH_NAME = f'best_{NN_TYPE}_no2_{LOSS_FUNC}_{years}.pth'\n",
    "RESULTS_METRICS_FILENAME = f'results_{NN_TYPE}_no2_{LOSS_FUNC}_{years}.csv'\n",
    "BESTPARAMS_FILENAME = f'best_params_{NN_TYPE}_no2_{LOSS_FUNC}_{years}.txt'\n",
    "PLOT_FILENAME = f'plot_{NN_TYPE}_no2_{LOSS_FUNC}_{years}.png'\n",
    "print(\"MINMAX_PATH: \", MINMAX_PATH)\n",
    "print(\"DATASET_PATH: \", DATASET_PATH)\n",
    "print(\"MODEL_PATH_NAME: \", MODEL_PATH_NAME)\n",
    "print(\"RESULTS_METRICS_FILENAME: \", RESULTS_METRICS_FILENAME)\n",
    "print(\"BESTPARAMS_FILENAME: \", BESTPARAMS_FILENAME)\n",
    "print(\"PLOT_FILENAME: \", PLOT_FILENAME)"
   ]
  },
  {
   "cell_type": "markdown",
   "metadata": {},
   "source": [
    "### **Load in data and create PyTorch *Datasets***"
   ]
  },
  {
   "cell_type": "code",
   "execution_count": 9,
   "metadata": {},
   "outputs": [
    {
     "name": "stdout",
     "output_type": "stream",
     "text": [
      "Imported train_2017_combined_u.csv\n",
      "Imported train_2017_combined_y.csv\n",
      "Imported val_2017_combined_u.csv\n",
      "Imported val_2017_combined_y.csv\n",
      "Imported test_2017_combined_u.csv\n",
      "Imported test_2017_combined_y.csv\n",
      "Successfully loaded data\n"
     ]
    }
   ],
   "source": [
    "# Load in data and create PyTorch Datasets. To tune\n",
    "# which exact .csv files get extracted, change the\n",
    "# lists in the get_dataframes() definition\n",
    "\n",
    "train_input_frames = get_dataframes('train', 'u', YEARS, DATASET_PATH)\n",
    "train_output_frames = get_dataframes('train', 'y', YEARS, DATASET_PATH)\n",
    "\n",
    "val_input_frames = get_dataframes('val', 'u', YEARS, DATASET_PATH)\n",
    "val_output_frames = get_dataframes('val', 'y', YEARS, DATASET_PATH)\n",
    "\n",
    "test_input_frames = get_dataframes('test', 'u', YEARS, DATASET_PATH)\n",
    "test_output_frames = get_dataframes('test', 'y', YEARS, DATASET_PATH)\n",
    "\n",
    "print(\"Successfully loaded data\")"
   ]
  },
  {
   "cell_type": "code",
   "execution_count": 10,
   "metadata": {},
   "outputs": [
    {
     "data": {
      "text/plain": [
       "[                           DD   FF        FH        FX  NO2_BREUKELEN  \\\n",
       " DateTime                                                                \n",
       " 2017-08-01 00:00:00  0.166667  0.1  0.111111  0.000000       0.223698   \n",
       " 2017-08-01 01:00:00  0.000000  0.0  0.111111  0.052632       0.145496   \n",
       " 2017-08-01 02:00:00  0.000000  0.0  0.000000  0.000000       0.275978   \n",
       " 2017-08-01 03:00:00  0.277778  0.1  0.000000  0.000000       0.423742   \n",
       " 2017-08-01 04:00:00  0.805556  0.2  0.111111  0.105263       0.478721   \n",
       " ...                       ...  ...       ...       ...            ...   \n",
       " 2017-11-16 19:00:00  0.750000  0.2  0.333333  0.210526       0.606502   \n",
       " 2017-11-16 20:00:00  0.972222  0.3  0.333333  0.421053       0.456470   \n",
       " 2017-11-16 21:00:00  0.888889  0.1  0.222222  0.263158       0.483258   \n",
       " 2017-11-16 22:00:00  0.944444  0.2  0.111111  0.105263       0.468784   \n",
       " 2017-11-16 23:00:00  0.861111  0.1  0.222222  0.105263       0.473428   \n",
       " \n",
       "                      NO2_TUINDORP         P   SQ         T        TD  \n",
       " DateTime                                                              \n",
       " 2017-08-01 00:00:00      0.242115  0.562982  0.0  0.536667  0.726852  \n",
       " 2017-08-01 01:00:00      0.223158  0.570694  0.0  0.546667  0.740741  \n",
       " 2017-08-01 02:00:00      0.165911  0.560411  0.0  0.506667  0.689815  \n",
       " 2017-08-01 03:00:00      0.142363  0.555270  0.0  0.463333  0.634259  \n",
       " 2017-08-01 04:00:00      0.156297  0.555270  0.0  0.493333  0.662037  \n",
       " ...                           ...       ...  ...       ...       ...  \n",
       " 2017-11-16 19:00:00      0.523871  0.789203  0.0  0.390000  0.513889  \n",
       " 2017-11-16 20:00:00      0.512314  0.814910  0.0  0.353333  0.462963  \n",
       " 2017-11-16 21:00:00      0.232880  0.827763  0.0  0.330000  0.435185  \n",
       " 2017-11-16 22:00:00      0.108123  0.832905  0.0  0.306667  0.407407  \n",
       " 2017-11-16 23:00:00      0.205120  0.845758  0.0  0.250000  0.319444  \n",
       " \n",
       " [2592 rows x 10 columns]]"
      ]
     },
     "execution_count": 10,
     "metadata": {},
     "output_type": "execute_result"
    }
   ],
   "source": [
    "train_input_frames"
   ]
  },
  {
   "cell_type": "code",
   "execution_count": 11,
   "metadata": {},
   "outputs": [],
   "source": [
    "train_dataset = TimeSeriesDataset(\n",
    "    train_input_frames,  # list of input training dataframes\n",
    "    train_output_frames, # list of output training dataframes\n",
    "    len(TRAIN_YEARS),                   # number of dataframes put in for both\n",
    "                         # (basically len(train_input_frames) and\n",
    "                         # len(train_output_frames) must be equal)\n",
    "    N_HOURS_U,           # number of hours of input data\n",
    "    N_HOURS_Y,           # number of hours of output data\n",
    "    N_HOURS_STEP,        # number of hours between each input/output pair\n",
    ")\n",
    "val_dataset = TimeSeriesDataset(\n",
    "    val_input_frames,    # etc.\n",
    "    val_output_frames,\n",
    "    len(VAL_YEARS),\n",
    "    N_HOURS_U,\n",
    "    N_HOURS_Y,\n",
    "    N_HOURS_STEP,\n",
    ")\n",
    "test_dataset = TimeSeriesDataset(\n",
    "    test_input_frames,\n",
    "    test_output_frames,\n",
    "    len(TEST_YEARS),\n",
    "    N_HOURS_U,\n",
    "    N_HOURS_Y,\n",
    "    N_HOURS_STEP,\n",
    ")\n",
    "\n",
    "del train_input_frames, train_output_frames\n",
    "del val_input_frames, val_output_frames\n",
    "del test_input_frames, test_output_frames"
   ]
  },
  {
   "cell_type": "code",
   "execution_count": 12,
   "metadata": {},
   "outputs": [
    {
     "data": {
      "text/plain": [
       "[                           DD   FF        FH        FX  NO2_BREUKELEN  \\\n",
       " DateTime                                                                \n",
       " 2017-08-01 00:00:00  0.166667  0.1  0.111111  0.000000       0.223698   \n",
       " 2017-08-01 01:00:00  0.000000  0.0  0.111111  0.052632       0.145496   \n",
       " 2017-08-01 02:00:00  0.000000  0.0  0.000000  0.000000       0.275978   \n",
       " 2017-08-01 03:00:00  0.277778  0.1  0.000000  0.000000       0.423742   \n",
       " 2017-08-01 04:00:00  0.805556  0.2  0.111111  0.105263       0.478721   \n",
       " ...                       ...  ...       ...       ...            ...   \n",
       " 2017-11-16 19:00:00  0.750000  0.2  0.333333  0.210526       0.606502   \n",
       " 2017-11-16 20:00:00  0.972222  0.3  0.333333  0.421053       0.456470   \n",
       " 2017-11-16 21:00:00  0.888889  0.1  0.222222  0.263158       0.483258   \n",
       " 2017-11-16 22:00:00  0.944444  0.2  0.111111  0.105263       0.468784   \n",
       " 2017-11-16 23:00:00  0.861111  0.1  0.222222  0.105263       0.473428   \n",
       " \n",
       "                      NO2_TUINDORP         P   SQ         T        TD  \n",
       " DateTime                                                              \n",
       " 2017-08-01 00:00:00      0.242115  0.562982  0.0  0.536667  0.726852  \n",
       " 2017-08-01 01:00:00      0.223158  0.570694  0.0  0.546667  0.740741  \n",
       " 2017-08-01 02:00:00      0.165911  0.560411  0.0  0.506667  0.689815  \n",
       " 2017-08-01 03:00:00      0.142363  0.555270  0.0  0.463333  0.634259  \n",
       " 2017-08-01 04:00:00      0.156297  0.555270  0.0  0.493333  0.662037  \n",
       " ...                           ...       ...  ...       ...       ...  \n",
       " 2017-11-16 19:00:00      0.523871  0.789203  0.0  0.390000  0.513889  \n",
       " 2017-11-16 20:00:00      0.512314  0.814910  0.0  0.353333  0.462963  \n",
       " 2017-11-16 21:00:00      0.232880  0.827763  0.0  0.330000  0.435185  \n",
       " 2017-11-16 22:00:00      0.108123  0.832905  0.0  0.306667  0.407407  \n",
       " 2017-11-16 23:00:00      0.205120  0.845758  0.0  0.250000  0.319444  \n",
       " \n",
       " [2592 rows x 10 columns]]"
      ]
     },
     "execution_count": 12,
     "metadata": {},
     "output_type": "execute_result"
    }
   ],
   "source": [
    "train_dataset.u"
   ]
  },
  {
   "cell_type": "code",
   "execution_count": 13,
   "metadata": {},
   "outputs": [
    {
     "data": {
      "text/plain": [
       "[                          NO2\n",
       " DateTime                     \n",
       " 2017-08-01 00:00:00  0.223698\n",
       " 2017-08-01 01:00:00  0.145496\n",
       " 2017-08-01 02:00:00  0.275978\n",
       " 2017-08-01 03:00:00  0.423742\n",
       " 2017-08-01 04:00:00  0.478721\n",
       " ...                       ...\n",
       " 2017-11-16 19:00:00  0.606502\n",
       " 2017-11-16 20:00:00  0.456470\n",
       " 2017-11-16 21:00:00  0.483258\n",
       " 2017-11-16 22:00:00  0.468784\n",
       " 2017-11-16 23:00:00  0.473428\n",
       " \n",
       " [2592 rows x 1 columns]]"
      ]
     },
     "execution_count": 13,
     "metadata": {},
     "output_type": "execute_result"
    }
   ],
   "source": [
    "train_dataset.y"
   ]
  },
  {
   "cell_type": "code",
   "execution_count": 14,
   "metadata": {},
   "outputs": [
    {
     "data": {
      "text/plain": [
       "72"
      ]
     },
     "execution_count": 14,
     "metadata": {},
     "output_type": "execute_result"
    }
   ],
   "source": [
    "len(train_dataset.pairs[0][0])"
   ]
  },
  {
   "cell_type": "code",
   "execution_count": 15,
   "metadata": {},
   "outputs": [
    {
     "data": {
      "text/plain": [
       "tensor([[0.1667, 0.1000, 0.1111, 0.0000, 0.2237, 0.2421, 0.5630, 0.0000, 0.5367,\n",
       "         0.7269],\n",
       "        [0.0000, 0.0000, 0.1111, 0.0526, 0.1455, 0.2232, 0.5707, 0.0000, 0.5467,\n",
       "         0.7407],\n",
       "        [0.0000, 0.0000, 0.0000, 0.0000, 0.2760, 0.1659, 0.5604, 0.0000, 0.5067,\n",
       "         0.6898],\n",
       "        [0.2778, 0.1000, 0.0000, 0.0000, 0.4237, 0.1424, 0.5553, 0.0000, 0.4633,\n",
       "         0.6343],\n",
       "        [0.8056, 0.2000, 0.1111, 0.1053, 0.4787, 0.1563, 0.5553, 0.0000, 0.4933,\n",
       "         0.6620],\n",
       "        [0.0000, 0.0000, 0.1111, 0.1053, 0.4837, 0.3135, 0.5681, 0.3000, 0.6200,\n",
       "         0.7593],\n",
       "        [0.7222, 0.1000, 0.1111, 0.0526, 0.4271, 0.5326, 0.5913, 0.0000, 0.6433,\n",
       "         0.7269],\n",
       "        [0.7500, 0.1000, 0.1111, 0.1053, 0.4223, 0.5367, 0.5938, 0.0000, 0.6500,\n",
       "         0.7037],\n",
       "        [0.7222, 0.2000, 0.2222, 0.1053, 0.3724, 0.5172, 0.5964, 0.0000, 0.6733,\n",
       "         0.6574],\n",
       "        [0.7500, 0.2000, 0.2222, 0.2105, 0.4429, 0.4459, 0.5990, 0.3000, 0.7133,\n",
       "         0.6157],\n",
       "        [0.6111, 0.2000, 0.2222, 0.1579, 0.3622, 0.3129, 0.6041, 0.0000, 0.7167,\n",
       "         0.6019],\n",
       "        [0.6111, 0.2000, 0.2222, 0.1579, 0.2893, 0.3478, 0.6067, 0.0000, 0.7133,\n",
       "         0.5926],\n",
       "        [0.6528, 0.1000, 0.2222, 0.1053, 0.3749, 0.3649, 0.6041, 0.2000, 0.7800,\n",
       "         0.6435],\n",
       "        [0.6944, 0.2000, 0.2222, 0.1053, 0.2847, 0.3019, 0.6015, 0.2000, 0.7867,\n",
       "         0.4861],\n",
       "        [0.7222, 0.2000, 0.2222, 0.2105, 0.3459, 0.2268, 0.5990, 0.4000, 0.7733,\n",
       "         0.5046],\n",
       "        [0.6111, 0.2000, 0.2222, 0.1579, 0.3897, 0.2246, 0.6015, 0.1000, 0.7633,\n",
       "         0.5972],\n",
       "        [0.6944, 0.2000, 0.2222, 0.2105, 0.3676, 0.2855, 0.6041, 0.7000, 0.7700,\n",
       "         0.5880],\n",
       "        [0.5833, 0.2000, 0.2222, 0.1579, 0.3239, 0.2469, 0.6015, 0.2000, 0.7267,\n",
       "         0.6435],\n",
       "        [0.7222, 0.2000, 0.2222, 0.1579, 0.4183, 0.2171, 0.6144, 0.2000, 0.6967,\n",
       "         0.6944],\n",
       "        [0.6944, 0.1000, 0.1111, 0.1053, 0.3872, 0.2834, 0.6298, 0.0000, 0.5933,\n",
       "         0.7130],\n",
       "        [0.4167, 0.1000, 0.1111, 0.0526, 0.4498, 0.3918, 0.6298, 0.0000, 0.5267,\n",
       "         0.6944],\n",
       "        [0.4722, 0.1000, 0.1111, 0.0000, 0.5234, 0.4752, 0.6375, 0.0000, 0.5200,\n",
       "         0.6991],\n",
       "        [0.4722, 0.1000, 0.1111, 0.0526, 0.5909, 0.5745, 0.6298, 0.0000, 0.5067,\n",
       "         0.6852],\n",
       "        [0.5000, 0.1000, 0.1111, 0.1053, 0.6181, 0.5891, 0.6247, 0.0000, 0.5033,\n",
       "         0.6713],\n",
       "        [0.0000, 0.0000, 0.1111, 0.0526, 0.4864, 0.5491, 0.6298, 0.0000, 0.5000,\n",
       "         0.6806],\n",
       "        [0.4444, 0.1000, 0.1111, 0.0526, 0.4299, 0.5092, 0.6221, 0.0000, 0.5300,\n",
       "         0.6944],\n",
       "        [0.4167, 0.2000, 0.1111, 0.0526, 0.3301, 0.3212, 0.6144, 0.0000, 0.5267,\n",
       "         0.6898],\n",
       "        [0.3889, 0.1000, 0.2222, 0.1053, 0.3700, 0.2835, 0.6118, 0.0000, 0.5467,\n",
       "         0.6898],\n",
       "        [0.5000, 0.1000, 0.1111, 0.0526, 0.4474, 0.4099, 0.6144, 0.0000, 0.5533,\n",
       "         0.7083],\n",
       "        [0.5833, 0.2000, 0.2222, 0.1579, 0.5960, 0.4797, 0.6272, 0.0000, 0.6067,\n",
       "         0.7083],\n",
       "        [0.6389, 0.2000, 0.2222, 0.2105, 0.5152, 0.5086, 0.6272, 0.0000, 0.6333,\n",
       "         0.6991],\n",
       "        [0.6667, 0.4000, 0.3333, 0.2632, 0.4485, 0.4155, 0.6375, 0.0000, 0.6567,\n",
       "         0.6574],\n",
       "        [0.6667, 0.4000, 0.4444, 0.3158, 0.3476, 0.3375, 0.6478, 0.1000, 0.6800,\n",
       "         0.6574],\n",
       "        [0.6389, 0.3000, 0.3333, 0.3684, 0.3270, 0.2610, 0.6478, 0.1000, 0.7067,\n",
       "         0.6713],\n",
       "        [0.5556, 0.4000, 0.4444, 0.2632, 0.3436, 0.2420, 0.6555, 0.3000, 0.7300,\n",
       "         0.6296],\n",
       "        [0.5833, 0.4000, 0.4444, 0.3158, 0.3431, 0.2146, 0.6427, 0.2000, 0.7433,\n",
       "         0.5741],\n",
       "        [0.5556, 0.3000, 0.3333, 0.2632, 0.3377, 0.1782, 0.6221, 0.1000, 0.7600,\n",
       "         0.5370],\n",
       "        [0.5000, 0.4000, 0.4444, 0.2632, 0.3841, 0.1985, 0.6195, 0.0000, 0.7533,\n",
       "         0.5556],\n",
       "        [0.5000, 0.5000, 0.4444, 0.3684, 0.3701, 0.2416, 0.5964, 0.0000, 0.7600,\n",
       "         0.6204],\n",
       "        [0.5833, 0.5000, 0.4444, 0.4737, 0.3766, 0.2883, 0.5938, 0.0000, 0.7267,\n",
       "         0.5833],\n",
       "        [0.5833, 0.4000, 0.7778, 0.5789, 0.4383, 0.2718, 0.6093, 0.0000, 0.5933,\n",
       "         0.6806],\n",
       "        [0.5556, 0.2000, 0.3333, 0.3158, 0.2887, 0.1936, 0.5964, 0.0000, 0.5600,\n",
       "         0.7083],\n",
       "        [0.4861, 0.1000, 0.1111, 0.1579, 0.4774, 0.2238, 0.5835, 0.0000, 0.5533,\n",
       "         0.7361],\n",
       "        [0.4167, 0.2000, 0.2222, 0.1579, 0.3391, 0.2430, 0.5656, 0.0000, 0.5533,\n",
       "         0.7269],\n",
       "        [0.3889, 0.2000, 0.2222, 0.1579, 0.1782, 0.3154, 0.5681, 0.0000, 0.5567,\n",
       "         0.7315],\n",
       "        [0.4444, 0.3000, 0.2222, 0.1579, 0.2193, 0.2860, 0.5553, 0.0000, 0.5800,\n",
       "         0.7639],\n",
       "        [0.5000, 0.3000, 0.3333, 0.2632, 0.1981, 0.2077, 0.5373, 0.0000, 0.5967,\n",
       "         0.7778],\n",
       "        [0.5000, 0.2000, 0.2222, 0.2105, 0.1707, 0.1640, 0.5167, 0.0000, 0.6000,\n",
       "         0.7778],\n",
       "        [0.4444, 0.3000, 0.3333, 0.2632, 0.1643, 0.1525, 0.4961, 0.0000, 0.5967,\n",
       "         0.7824],\n",
       "        [0.4722, 0.4000, 0.3333, 0.3158, 0.1965, 0.1328, 0.4730, 0.0000, 0.6000,\n",
       "         0.7824],\n",
       "        [0.5000, 0.4000, 0.4444, 0.3158, 0.1501, 0.1252, 0.4422, 0.0000, 0.6100,\n",
       "         0.7639],\n",
       "        [0.4722, 0.2000, 0.3333, 0.2632, 0.1518, 0.1161, 0.4293, 0.0000, 0.6000,\n",
       "         0.7639],\n",
       "        [0.4722, 0.2000, 0.2222, 0.1579, 0.2622, 0.1766, 0.4165, 0.0000, 0.5967,\n",
       "         0.7731],\n",
       "        [0.5556, 0.4000, 0.3333, 0.3158, 0.5524, 0.2840, 0.4139, 0.0000, 0.6533,\n",
       "         0.8056],\n",
       "        [0.5833, 0.5000, 0.4444, 0.4211, 0.4840, 0.3435, 0.4010, 0.5000, 0.6967,\n",
       "         0.8009],\n",
       "        [0.5833, 0.6000, 0.5556, 0.4737, 0.3544, 0.3057, 0.3985, 0.0000, 0.6867,\n",
       "         0.8194],\n",
       "        [0.5833, 0.6000, 0.5556, 0.4737, 0.2754, 0.2615, 0.4036, 0.0000, 0.6633,\n",
       "         0.8519],\n",
       "        [0.6389, 0.5000, 0.6667, 0.5789, 0.1948, 0.2453, 0.4190, 0.0000, 0.6133,\n",
       "         0.7454],\n",
       "        [0.6389, 0.7000, 0.7778, 0.6316, 0.1734, 0.1434, 0.4216, 0.6000, 0.7067,\n",
       "         0.6806],\n",
       "        [0.6667, 0.9000, 0.8889, 0.7368, 0.1505, 0.1046, 0.4267, 0.7000, 0.7467,\n",
       "         0.6435],\n",
       "        [0.6667, 0.8000, 0.7778, 0.7368, 0.1352, 0.0607, 0.4319, 0.8000, 0.7667,\n",
       "         0.6019],\n",
       "        [0.6667, 0.9000, 1.0000, 0.8947, 0.0778, 0.0700, 0.4319, 1.0000, 0.7867,\n",
       "         0.6065],\n",
       "        [0.6944, 0.8000, 0.8889, 0.7895, 0.1184, 0.0594, 0.4422, 0.4000, 0.7400,\n",
       "         0.6389],\n",
       "        [0.6667, 0.8000, 0.7778, 0.6842, 0.1293, 0.0823, 0.4370, 0.5000, 0.7633,\n",
       "         0.6389],\n",
       "        [0.6667, 0.7000, 0.8889, 0.7368, 0.1238, 0.1016, 0.4473, 1.0000, 0.7467,\n",
       "         0.6944],\n",
       "        [0.6389, 0.9000, 0.8889, 0.8421, 0.1043, 0.1005, 0.4550, 0.5000, 0.7067,\n",
       "         0.5278],\n",
       "        [0.6667, 0.7000, 1.0000, 0.8947, 0.0997, 0.0701, 0.4627, 0.3000, 0.6900,\n",
       "         0.5602],\n",
       "        [0.6389, 1.0000, 0.8889, 0.9474, 0.0812, 0.0572, 0.4653, 0.0000, 0.6800,\n",
       "         0.5648],\n",
       "        [0.6667, 0.9000, 0.8889, 0.8421, 0.0823, 0.0533, 0.4627, 0.0000, 0.6567,\n",
       "         0.5741],\n",
       "        [0.6667, 0.7000, 0.7778, 0.7368, 0.1155, 0.0475, 0.4627, 0.0000, 0.6300,\n",
       "         0.6019],\n",
       "        [0.6389, 0.4000, 0.5556, 0.5789, 0.0837, 0.0376, 0.4576, 0.0000, 0.6100,\n",
       "         0.6204],\n",
       "        [0.6111, 0.5000, 0.4444, 0.4211, 0.0570, 0.0373, 0.4499, 0.0000, 0.5933,\n",
       "         0.6296]])"
      ]
     },
     "execution_count": 15,
     "metadata": {},
     "output_type": "execute_result"
    }
   ],
   "source": [
    "train_dataset.pairs[0][0]"
   ]
  },
  {
   "cell_type": "code",
   "execution_count": 16,
   "metadata": {},
   "outputs": [
    {
     "data": {
      "text/plain": [
       "tensor([[0.1965],\n",
       "        [0.1501],\n",
       "        [0.1518],\n",
       "        [0.2622],\n",
       "        [0.5524],\n",
       "        [0.4840],\n",
       "        [0.3544],\n",
       "        [0.2754],\n",
       "        [0.1948],\n",
       "        [0.1734],\n",
       "        [0.1505],\n",
       "        [0.1352],\n",
       "        [0.0778],\n",
       "        [0.1184],\n",
       "        [0.1293],\n",
       "        [0.1238],\n",
       "        [0.1043],\n",
       "        [0.0997],\n",
       "        [0.0812],\n",
       "        [0.0823],\n",
       "        [0.1155],\n",
       "        [0.0837],\n",
       "        [0.0570],\n",
       "        [0.1006]])"
      ]
     },
     "execution_count": 16,
     "metadata": {},
     "output_type": "execute_result"
    }
   ],
   "source": [
    "train_dataset.pairs[0][1]"
   ]
  },
  {
   "cell_type": "code",
   "execution_count": 17,
   "metadata": {},
   "outputs": [
    {
     "name": "stdout",
     "output_type": "stream",
     "text": [
      "No2 tuindorp idx:  5\n",
      "No2 breukelen idx:  4\n",
      "wind dir (dd) idx:  0\n",
      "wind speed (fh) idx:  2\n",
      "Column indices are same as config.py\n"
     ]
    }
   ],
   "source": [
    "# Assuming train_dataset.u[0] is a pandas Index object with column names\n",
    "column_names = list(train_dataset.u[0])  # Convert Index to list\n",
    "\n",
    "\n",
    "print(\"No2 tuindorp idx: \", column_names.index('NO2_TUINDORP'))\n",
    "print(\"No2 breukelen idx: \", column_names.index('NO2_BREUKELEN'))\n",
    "print(\"wind dir (dd) idx: \", column_names.index('DD'))\n",
    "print(\"wind speed (fh) idx: \", column_names.index('FH'))\n",
    "\n",
    "# check if the indices are the same as whats defined in config.py\n",
    "assert column_names.index('NO2_TUINDORP')== NO2_TUINDORP_IDX\n",
    "assert column_names.index('NO2_BREUKELEN') == NO2_BREUKELEN_IDX\n",
    "assert column_names.index('DD') == WIND_DIR_IDX\n",
    "assert column_names.index('FH') == WIND_SPEED_IDX\n",
    "print(\"Column indices are same as config.py\")\n",
    "\n"
   ]
  },
  {
   "cell_type": "code",
   "execution_count": 18,
   "metadata": {},
   "outputs": [
    {
     "data": {
      "text/plain": [
       "DateTime\n",
       "2017-08-01 00:00:00    0.242115\n",
       "2017-08-01 01:00:00    0.223158\n",
       "2017-08-01 02:00:00    0.165911\n",
       "2017-08-01 03:00:00    0.142363\n",
       "2017-08-01 04:00:00    0.156297\n",
       "                         ...   \n",
       "2017-11-16 19:00:00    0.523871\n",
       "2017-11-16 20:00:00    0.512314\n",
       "2017-11-16 21:00:00    0.232880\n",
       "2017-11-16 22:00:00    0.108123\n",
       "2017-11-16 23:00:00    0.205120\n",
       "Name: NO2_TUINDORP, Length: 2592, dtype: float64"
      ]
     },
     "execution_count": 18,
     "metadata": {},
     "output_type": "execute_result"
    }
   ],
   "source": [
    "train_dataset.u[0].iloc[:,NO2_TUINDORP_IDX]"
   ]
  },
  {
   "cell_type": "code",
   "execution_count": 19,
   "metadata": {},
   "outputs": [
    {
     "data": {
      "text/plain": [
       "DateTime\n",
       "2017-08-01 00:00:00    0.223698\n",
       "2017-08-01 01:00:00    0.145496\n",
       "2017-08-01 02:00:00    0.275978\n",
       "2017-08-01 03:00:00    0.423742\n",
       "2017-08-01 04:00:00    0.478721\n",
       "                         ...   \n",
       "2017-11-16 19:00:00    0.606502\n",
       "2017-11-16 20:00:00    0.456470\n",
       "2017-11-16 21:00:00    0.483258\n",
       "2017-11-16 22:00:00    0.468784\n",
       "2017-11-16 23:00:00    0.473428\n",
       "Name: NO2_BREUKELEN, Length: 2592, dtype: float64"
      ]
     },
     "execution_count": 19,
     "metadata": {},
     "output_type": "execute_result"
    }
   ],
   "source": [
    "train_dataset.u[0].iloc[:,NO2_BREUKELEN_IDX]"
   ]
  },
  {
   "cell_type": "code",
   "execution_count": 20,
   "metadata": {},
   "outputs": [
    {
     "data": {
      "text/plain": [
       "DateTime\n",
       "2017-08-01 00:00:00    0.166667\n",
       "2017-08-01 01:00:00    0.000000\n",
       "2017-08-01 02:00:00    0.000000\n",
       "2017-08-01 03:00:00    0.277778\n",
       "2017-08-01 04:00:00    0.805556\n",
       "                         ...   \n",
       "2017-11-16 19:00:00    0.750000\n",
       "2017-11-16 20:00:00    0.972222\n",
       "2017-11-16 21:00:00    0.888889\n",
       "2017-11-16 22:00:00    0.944444\n",
       "2017-11-16 23:00:00    0.861111\n",
       "Name: DD, Length: 2592, dtype: float64"
      ]
     },
     "execution_count": 20,
     "metadata": {},
     "output_type": "execute_result"
    }
   ],
   "source": [
    "train_dataset.u[0].iloc[:,WIND_DIR_IDX]"
   ]
  },
  {
   "cell_type": "code",
   "execution_count": 21,
   "metadata": {},
   "outputs": [
    {
     "data": {
      "text/plain": [
       "DateTime\n",
       "2017-08-01 00:00:00    0.111111\n",
       "2017-08-01 01:00:00    0.111111\n",
       "2017-08-01 02:00:00    0.000000\n",
       "2017-08-01 03:00:00    0.000000\n",
       "2017-08-01 04:00:00    0.111111\n",
       "                         ...   \n",
       "2017-11-16 19:00:00    0.333333\n",
       "2017-11-16 20:00:00    0.333333\n",
       "2017-11-16 21:00:00    0.222222\n",
       "2017-11-16 22:00:00    0.111111\n",
       "2017-11-16 23:00:00    0.222222\n",
       "Name: FH, Length: 2592, dtype: float64"
      ]
     },
     "execution_count": 21,
     "metadata": {},
     "output_type": "execute_result"
    }
   ],
   "source": [
    "train_dataset.u[0].iloc[:,WIND_SPEED_IDX]"
   ]
  },
  {
   "cell_type": "markdown",
   "metadata": {},
   "source": [
    "## Tuning Hyperparamters"
   ]
  },
  {
   "cell_type": "code",
   "execution_count": 22,
   "metadata": {},
   "outputs": [
    {
     "name": "stdout",
     "output_type": "stream",
     "text": [
      "tuning with loss function:  LinearShift_MSE\n",
      "tuning with nn type:  MLP\n"
     ]
    }
   ],
   "source": [
    "print(\"tuning with loss function: \", LOSS_FUNC)\n",
    "print(\"tuning with nn type: \", NN_TYPE)"
   ]
  },
  {
   "cell_type": "code",
   "execution_count": null,
   "metadata": {},
   "outputs": [],
   "source": [
    "def objective(trial):\n",
    "    # Define hyperparameters to search over\n",
    "    n_hidden_layers = trial.suggest_int(\"n_hidden_layers\", 1, 5)\n",
    "    n_hidden_units = trial.suggest_int(\"n_hidden_units\", 32, 256)\n",
    "    lr = trial.suggest_loguniform(\"lr\", 1e-5, 1e-2)\n",
    "    weight_decay = trial.suggest_loguniform(\"weight_decay\", 1e-8, 1e-3)\n",
    "    batch_size = trial.suggest_categorical(\"batch_size\", [8, 16, 32, 64]) \n",
    "    lambda_phy = trial.suggest_loguniform(\"lambda_phy\", 1e-5, 1e-1)\n",
    "\n",
    "    # Create train & validation loaders (following the original code)\n",
    "    train_loader = DataLoader(train_dataset, batch_size=batch_size, shuffle=True)\n",
    "    val_loader = DataLoader(val_dataset, batch_size=batch_size, shuffle=False)\n",
    "\n",
    "    # Initialize MLP model\n",
    "    model = BasicMLP(\n",
    "        N_INPUT_UNITS=train_dataset.__n_features_in__(),\n",
    "        N_HIDDEN_LAYERS=n_hidden_layers,\n",
    "        N_HIDDEN_UNITS=n_hidden_units,\n",
    "        N_OUTPUT_UNITS=train_dataset.__n_features_out__(),\n",
    "        loss_function=LOSS_FUNC,\n",
    "    )\n",
    "\n",
    "    # Train and return validation loss\n",
    "    val_loss, _ = model.train_model(train_loader, val_loader, epochs=50, lr=lr, weight_decay=weight_decay, lambda_phy=lambda_phy, device=device)\n",
    "    \n",
    "    return val_loss\n",
    "\n",
    "\n",
    "# Run Optuna optimization\n",
    "study = optuna.create_study(direction=\"minimize\", study_name=\"mlp_hyperparameter_optimization_linearshift_mse_2017\", storage=\"sqlite:///mlp_hyperparameter_optimization_phy.db\", load_if_exists=True)\n",
    "\n",
    "study.optimize(objective, n_trials=50)\n",
    "\n",
    "# Print best hyperparameters\n",
    "best_params = study.best_params\n",
    "print(\"Best Hyperparameters:\", best_params)"
   ]
  },
  {
   "cell_type": "code",
   "execution_count": 38,
   "metadata": {},
   "outputs": [
    {
     "name": "stdout",
     "output_type": "stream",
     "text": [
      "Best Hyperparameters for baseline mlp 2017: {'n_hidden_layers': 2, 'n_hidden_units': 187, 'lr': 0.0016484583833793476, 'weight_decay': 7.42786315058395e-05, 'batch_size': 16, 'lambda_phy': 4.4126628878777386e-05}\n"
     ]
    }
   ],
   "source": [
    "print(\"Best Hyperparameters for baseline mlp 2017:\", best_params)"
   ]
  },
  {
   "cell_type": "code",
   "execution_count": 27,
   "metadata": {},
   "outputs": [
    {
     "data": {
      "text/plain": [
       "'best_params_MLP_no2_LinearShift_MSE_2017.txt'"
      ]
     },
     "execution_count": 27,
     "metadata": {},
     "output_type": "execute_result"
    }
   ],
   "source": [
    "BESTPARAMS_FILENAME"
   ]
  },
  {
   "cell_type": "markdown",
   "metadata": {},
   "source": [
    "### Save the params to a file"
   ]
  },
  {
   "cell_type": "code",
   "execution_count": 35,
   "metadata": {},
   "outputs": [
    {
     "name": "stdout",
     "output_type": "stream",
     "text": [
      "Best Hyperparameters saved to /home/rachel/forecasting_smog_PEML/src/results/best_params/best_params_MLP_no2_LinearShift_MSE_2017.txt\n"
     ]
    }
   ],
   "source": [
    "import json\n",
    "\n",
    "file_path = f\"{RESULTS_PATH}/best_params/{BESTPARAMS_FILENAME}\"\n",
    "\n",
    "with open(file_path, \"w\") as f:\n",
    "    json.dump(best_params, f, indent=4)  # Pretty format for readability\n",
    "\n",
    "print(f\"Best Hyperparameters saved to {file_path}\")\n"
   ]
  },
  {
   "cell_type": "markdown",
   "metadata": {},
   "source": [
    "### Read params from file"
   ]
  },
  {
   "cell_type": "code",
   "execution_count": 36,
   "metadata": {},
   "outputs": [
    {
     "name": "stdout",
     "output_type": "stream",
     "text": [
      "Loaded Best Parameters: {'n_hidden_layers': 2, 'n_hidden_units': 187, 'lr': 0.0016484583833793476, 'weight_decay': 7.42786315058395e-05, 'batch_size': 16, 'lambda_phy': 4.4126628878777386e-05}\n"
     ]
    }
   ],
   "source": [
    "with open(file_path, \"r\") as f:\n",
    "    best_params = json.load(f)  # Automatically converts it to a dictionary\n",
    "\n",
    "print(\"Loaded Best Parameters:\", best_params)\n"
   ]
  },
  {
   "cell_type": "code",
   "execution_count": 39,
   "metadata": {},
   "outputs": [
    {
     "name": "stdout",
     "output_type": "stream",
     "text": [
      "Epoch 1/50\n",
      "Epoch 1/50 - Train Loss: 0.053642 - Val Loss (simple RMSE, no physics involved): 0.191549\n",
      "Epoch 2/50\n",
      "Epoch 2/50 - Train Loss: 0.025836 - Val Loss (simple RMSE, no physics involved): 0.174012\n",
      "Epoch 3/50\n",
      "Epoch 3/50 - Train Loss: 0.021295 - Val Loss (simple RMSE, no physics involved): 0.158117\n",
      "Epoch 4/50\n",
      "Epoch 4/50 - Train Loss: 0.018058 - Val Loss (simple RMSE, no physics involved): 0.149304\n",
      "Epoch 5/50\n",
      "Epoch 5/50 - Train Loss: 0.015850 - Val Loss (simple RMSE, no physics involved): 0.143405\n",
      "Epoch 6/50\n",
      "Epoch 6/50 - Train Loss: 0.013675 - Val Loss (simple RMSE, no physics involved): 0.146197\n",
      "Epoch 7/50\n",
      "Epoch 7/50 - Train Loss: 0.013666 - Val Loss (simple RMSE, no physics involved): 0.135139\n",
      "Epoch 8/50\n",
      "Epoch 8/50 - Train Loss: 0.013004 - Val Loss (simple RMSE, no physics involved): 0.133463\n",
      "Epoch 9/50\n",
      "Epoch 9/50 - Train Loss: 0.012648 - Val Loss (simple RMSE, no physics involved): 0.132407\n",
      "Epoch 10/50\n",
      "Epoch 10/50 - Train Loss: 0.012630 - Val Loss (simple RMSE, no physics involved): 0.131766\n",
      "Epoch 11/50\n",
      "Epoch 11/50 - Train Loss: 0.012743 - Val Loss (simple RMSE, no physics involved): 0.131159\n",
      "Epoch 12/50\n",
      "Epoch 12/50 - Train Loss: 0.012730 - Val Loss (simple RMSE, no physics involved): 0.133627\n",
      "Epoch 13/50\n",
      "Epoch 13/50 - Train Loss: 0.013103 - Val Loss (simple RMSE, no physics involved): 0.129819\n",
      "Epoch 14/50\n",
      "Epoch 14/50 - Train Loss: 0.012611 - Val Loss (simple RMSE, no physics involved): 0.135702\n",
      "Epoch 15/50\n",
      "Epoch 15/50 - Train Loss: 0.013472 - Val Loss (simple RMSE, no physics involved): 0.133617\n",
      "Epoch 16/50\n",
      "Epoch 16/50 - Train Loss: 0.012562 - Val Loss (simple RMSE, no physics involved): 0.132072\n",
      "Epoch 17/50\n",
      "Epoch 17/50 - Train Loss: 0.012477 - Val Loss (simple RMSE, no physics involved): 0.130482\n",
      "Epoch 18/50\n",
      "Epoch 18/50 - Train Loss: 0.011880 - Val Loss (simple RMSE, no physics involved): 0.130312\n",
      "Epoch 19/50\n",
      "Epoch 19/50 - Train Loss: 0.012096 - Val Loss (simple RMSE, no physics involved): 0.129854\n",
      "Epoch 20/50\n",
      "Epoch 20/50 - Train Loss: 0.012035 - Val Loss (simple RMSE, no physics involved): 0.130371\n",
      "Epoch 21/50\n",
      "Epoch 21/50 - Train Loss: 0.012125 - Val Loss (simple RMSE, no physics involved): 0.129667\n",
      "Epoch 22/50\n",
      "Epoch 22/50 - Train Loss: 0.011682 - Val Loss (simple RMSE, no physics involved): 0.129863\n",
      "Epoch 23/50\n",
      "Epoch 23/50 - Train Loss: 0.012452 - Val Loss (simple RMSE, no physics involved): 0.132981\n",
      "Epoch 24/50\n",
      "Epoch 24/50 - Train Loss: 0.012441 - Val Loss (simple RMSE, no physics involved): 0.133380\n",
      "Epoch 25/50\n",
      "Epoch 25/50 - Train Loss: 0.012413 - Val Loss (simple RMSE, no physics involved): 0.132516\n",
      "Epoch 26/50\n",
      "Epoch 26/50 - Train Loss: 0.012122 - Val Loss (simple RMSE, no physics involved): 0.131676\n",
      "Epoch 27/50\n",
      "Epoch 27/50 - Train Loss: 0.012251 - Val Loss (simple RMSE, no physics involved): 0.132688\n",
      "Epoch 28/50\n",
      "Epoch 28/50 - Train Loss: 0.012261 - Val Loss (simple RMSE, no physics involved): 0.132811\n",
      "Epoch 29/50\n",
      "Epoch 29/50 - Train Loss: 0.012357 - Val Loss (simple RMSE, no physics involved): 0.132471\n",
      "Epoch 30/50\n",
      "Epoch 30/50 - Train Loss: 0.011941 - Val Loss (simple RMSE, no physics involved): 0.131083\n",
      "Epoch 31/50\n",
      "Epoch 31/50 - Train Loss: 0.011943 - Val Loss (simple RMSE, no physics involved): 0.130264\n",
      "Epoch 32/50\n",
      "Epoch 32/50 - Train Loss: 0.011546 - Val Loss (simple RMSE, no physics involved): 0.132954\n",
      "Epoch 33/50\n",
      "Epoch 33/50 - Train Loss: 0.012018 - Val Loss (simple RMSE, no physics involved): 0.131062\n",
      "Epoch 34/50\n",
      "Epoch 34/50 - Train Loss: 0.011562 - Val Loss (simple RMSE, no physics involved): 0.130103\n",
      "Epoch 35/50\n",
      "Epoch 35/50 - Train Loss: 0.012281 - Val Loss (simple RMSE, no physics involved): 0.135325\n",
      "Epoch 36/50\n",
      "Epoch 36/50 - Train Loss: 0.012155 - Val Loss (simple RMSE, no physics involved): 0.130229\n",
      "Epoch 37/50\n",
      "Epoch 37/50 - Train Loss: 0.011647 - Val Loss (simple RMSE, no physics involved): 0.131073\n",
      "Epoch 38/50\n",
      "Epoch 38/50 - Train Loss: 0.011874 - Val Loss (simple RMSE, no physics involved): 0.132284\n",
      "Epoch 39/50\n",
      "Epoch 39/50 - Train Loss: 0.012638 - Val Loss (simple RMSE, no physics involved): 0.131833\n",
      "Epoch 40/50\n",
      "Epoch 40/50 - Train Loss: 0.012325 - Val Loss (simple RMSE, no physics involved): 0.135255\n",
      "Epoch 41/50\n",
      "Epoch 41/50 - Train Loss: 0.012116 - Val Loss (simple RMSE, no physics involved): 0.133711\n",
      "Epoch 42/50\n",
      "Epoch 42/50 - Train Loss: 0.011543 - Val Loss (simple RMSE, no physics involved): 0.129691\n",
      "Epoch 43/50\n",
      "Epoch 43/50 - Train Loss: 0.011690 - Val Loss (simple RMSE, no physics involved): 0.132727\n",
      "Epoch 44/50\n",
      "Epoch 44/50 - Train Loss: 0.011690 - Val Loss (simple RMSE, no physics involved): 0.131352\n",
      "Epoch 45/50\n",
      "Epoch 45/50 - Train Loss: 0.011634 - Val Loss (simple RMSE, no physics involved): 0.131085\n",
      "Epoch 46/50\n",
      "Epoch 46/50 - Train Loss: 0.011580 - Val Loss (simple RMSE, no physics involved): 0.134224\n",
      "Epoch 47/50\n",
      "Epoch 47/50 - Train Loss: 0.011598 - Val Loss (simple RMSE, no physics involved): 0.131572\n",
      "Epoch 48/50\n",
      "Epoch 48/50 - Train Loss: 0.011088 - Val Loss (simple RMSE, no physics involved): 0.133847\n",
      "Epoch 49/50\n",
      "Epoch 49/50 - Train Loss: 0.011609 - Val Loss (simple RMSE, no physics involved): 0.133922\n",
      "Epoch 50/50\n",
      "Epoch 50/50 - Train Loss: 0.011767 - Val Loss (simple RMSE, no physics involved): 0.138802\n",
      "Training time: 17.51122784614563\n",
      "Model saved as best_MLP_no2_LinearShift_MSE_2017.pth in Model folder\n"
     ]
    }
   ],
   "source": [
    "torch.manual_seed(34)\n",
    "# Train the model with the best hyperparameters\n",
    "best_model_baseline = BasicMLP(\n",
    "    N_INPUT_UNITS=train_dataset.__n_features_in__(),\n",
    "    N_HIDDEN_LAYERS=best_params[\"n_hidden_layers\"],\n",
    "    N_HIDDEN_UNITS=best_params[\"n_hidden_units\"],\n",
    "    N_OUTPUT_UNITS=train_dataset.__n_features_out__(),\n",
    "    loss_function=LOSS_FUNC,\n",
    ")\n",
    "\n",
    "# Create train & validation loaders with the best batch size\n",
    "train_loader = DataLoader(train_dataset, batch_size=best_params[\"batch_size\"], shuffle=True)\n",
    "val_loader = DataLoader(val_dataset, batch_size=best_params[\"batch_size\"], shuffle=False)\n",
    "\n",
    "# Train the model\n",
    "_, training_time = best_model_baseline.train_model(train_loader, val_loader, epochs=50, lr=best_params[\"lr\"], weight_decay=best_params[\"weight_decay\"], lambda_phy= best_params[\"lambda_phy\"], device=device)\n",
    "\n",
    "print(f\"Training time: {training_time}\")\n",
    "# Save the trained model\n",
    "torch.save(best_model_baseline.state_dict(), f\"{MODEL_PATH}/{MODEL_PATH_NAME}\")\n",
    "print(f\"Model saved as {MODEL_PATH_NAME} in Model folder\")"
   ]
  },
  {
   "cell_type": "code",
   "execution_count": 40,
   "metadata": {},
   "outputs": [
    {
     "name": "stdout",
     "output_type": "stream",
     "text": [
      "Test MSE Loss: 140.279817\n",
      "Test RMSE Loss: 12.686144\n",
      "Test SMAPE Loss: 34.883498%\n",
      "Total Inference Time: 0.05 seconds\n"
     ]
    }
   ],
   "source": [
    "torch.manual_seed(34)  # Set seed for reproducibility\n",
    "best_model_baseline.load_state_dict(torch.load(f\"{MODEL_PATH}/{MODEL_PATH_NAME}\"))\n",
    "best_model_baseline.eval()\n",
    "\n",
    "# Create the DataLoader for the test dataset\n",
    "test_loader = DataLoader(test_dataset, batch_size=best_params[\"batch_size\"], shuffle=False)\n",
    "\n",
    "# Evaluate the model on the test dataset\n",
    "df_minmax = pd.read_csv(MINMAX_PATH, sep=';')\n",
    "min_value = df_minmax[\"min\"].values\n",
    "max_value = df_minmax[\"max\"].values\n",
    "mse, rmse, smape, inference_time = best_model_baseline.test_model(test_loader, min_value=min_value, max_value=max_value, device=\"cpu\")\n",
    "\n"
   ]
  },
  {
   "cell_type": "code",
   "execution_count": 41,
   "metadata": {},
   "outputs": [
    {
     "name": "stdout",
     "output_type": "stream",
     "text": [
      "Results saved as results_MLP_no2_LinearShift_MSE_2017.csv in Results/metrics folder\n"
     ]
    }
   ],
   "source": [
    "import csv\n",
    "\n",
    "# Define the CSV file path\n",
    "results_csv_path = f\"{RESULTS_PATH}/metrics/{RESULTS_METRICS_FILENAME}\"\n",
    "\n",
    "# Save metrics in a proper CSV format (header + values in one row)\n",
    "with open(results_csv_path, mode=\"w\", newline=\"\") as f:\n",
    "    writer = csv.writer(f)\n",
    "    \n",
    "    # Write header\n",
    "    writer.writerow([\"MSE\", \"RMSE\", \"SMAPE\", \"Inference Time\", \"Training Time\"])\n",
    "    \n",
    "    # Write values\n",
    "    writer.writerow([mse, rmse, smape, inference_time, training_time])\n",
    "\n",
    "print(f\"Results saved as {RESULTS_METRICS_FILENAME} in Results/metrics folder\")"
   ]
  },
  {
   "cell_type": "code",
   "execution_count": 42,
   "metadata": {},
   "outputs": [
    {
     "data": {
      "image/png": "[encoded data removed]",
      "text/plain": [
       "<Figure size 1000x500 with 1 Axes>"
      ]
     },
     "metadata": {},
     "output_type": "display_data"
    }
   ],
   "source": [
    "import torch\n",
    "import matplotlib.pyplot as plt\n",
    "\n",
    "# Ensure the model is in evaluation mode\n",
    "best_model_baseline.eval()\n",
    "\n",
    "y_preds = []\n",
    "y_trues = []\n",
    "\n",
    "# Iterate through the test set and collect predictions & ground truth\n",
    "with torch.no_grad():\n",
    "    for batch in test_loader:\n",
    "        x_test, y_true = batch  # Get input and ground truth\n",
    "        x_test = x_test.to(\"cpu\")  # Ensure data is on CPU if needed\n",
    "\n",
    "        # Get predictions\n",
    "        y_pred = best_model_baseline(x_test)\n",
    "\n",
    "        # Store results\n",
    "        y_preds.append(y_pred.cpu())\n",
    "        y_trues.append(y_true.cpu())\n",
    "\n",
    "# Convert lists to tensors\n",
    "y_preds = torch.cat(y_preds, dim=0).numpy()\n",
    "y_trues = torch.cat(y_trues, dim=0).numpy()\n",
    "\n",
    "# Plot results\n",
    "plt.figure(figsize=(10, 5))\n",
    "plt.plot(y_trues.flatten(), label=\"Ground Truth (NO₂)\", linestyle=\"-\", color=\"blue\")\n",
    "plt.scatter(range(len(y_preds.flatten())), y_preds.flatten(), label=\"Predictions\", color=\"black\", s=10)\n",
    "\n",
    "plt.xlabel(\"Time Step\")\n",
    "plt.ylabel(\"NO₂ Level\")\n",
    "plt.title(\"Predictions vs. Ground Truth\")\n",
    "plt.legend()\n",
    "#save the plot\n",
    "plt.savefig(f\"{RESULTS_PATH}/plots/{PLOT_FILENAME}\")\n",
    "plt.show()\n"
   ]
  }
 ],
 "metadata": {
  "kernelspec": {
   "display_name": "venv",
   "language": "python",
   "name": "python3"
  },
  "language_info": {
   "codemirror_mode": {
    "name": "ipython",
    "version": 3
   },
   "file_extension": ".py",
   "mimetype": "text/x-python",
   "name": "python",
   "nbconvert_exporter": "python",
   "pygments_lexer": "ipython3",
   "version": "3.10.16"
  }
 },
 "nbformat": 4,
 "nbformat_minor": 2
}
