{
 "cells": [
  {
   "cell_type": "markdown",
   "metadata": {},
   "source": [
    "# **PEML MLP 2**\n",
    "### Architecture 2 - PINN\n",
    "With Amsterdam data for transferability"
   ]
  },
  {
   "cell_type": "markdown",
   "metadata": {},
   "source": [
    "## **Running the models using the 'modelling' package**\n",
    "\n",
    "A notebook through which different modelling configurations can be ran, using the ``modelling`` package. It follows the steps of:\n",
    "- preparing packages;\n",
    "- setting \"global\" variables;\n",
    "- getting the data;\n",
    "- defining hyperparameters;\n",
    "- running a Optuna hyperparameters optimisation and/or training a model; and\n",
    "- evaluation.\n",
    "In the modelling package, variations can be made to the models and training functions to experiment. Don't forget to restart the notebook after making changes there.\n",
    "\n",
    "## **IMPORTANT NOTE**: \n",
    "- do preprocessing from ``preprocess.ipynb`` to obtain data in ``data/data_combined``, before starting this notebook\n",
    "- make sure the notebook is under ``src`` directory before running!\n",
    "- change the global variables defined below for the desired years of data, loss function and NN type\n",
    "\n"
   ]
  },
  {
   "cell_type": "code",
   "execution_count": 1,
   "metadata": {},
   "outputs": [
    {
     "name": "stdout",
     "output_type": "stream",
     "text": [
      "Starting script...\n",
      "\n",
      "Running __init__.py for data pipeline...\n",
      "Modelling package initialized\n",
      "\n"
     ]
    }
   ],
   "source": [
    "print(\"Starting script...\")\n",
    "\n",
    "\n",
    "from modelling.MLP import BasicMLP\n",
    "from modelling import *\n",
    "from modelling.physics import *\n",
    "\n",
    "\n",
    "import optuna\n",
    "import threading\n",
    "import os\n",
    "from pathlib import Path\n",
    "import datetime\n",
    "import numpy as np\n",
    "import pandas as pd\n",
    "import torch\n",
    "import torch.nn as nn\n",
    "import torch.optim as optim\n",
    "from torch.utils.data import DataLoader\n",
    "from torch.utils.data import ConcatDataset\n",
    "import pickle"
   ]
  },
  {
   "cell_type": "markdown",
   "metadata": {},
   "source": [
    "Use GPU when available"
   ]
  },
  {
   "cell_type": "code",
   "execution_count": 2,
   "metadata": {},
   "outputs": [
    {
     "name": "stdout",
     "output_type": "stream",
     "text": [
      "Device:  cpu\n"
     ]
    }
   ],
   "source": [
    "use_cuda = torch.cuda.is_available()\n",
    "device = torch.device(\"cuda\" if use_cuda else \"cpu\")\n",
    "print(\"Device: \", device)"
   ]
  },
  {
   "cell_type": "markdown",
   "metadata": {},
   "source": [
    "### **Set \"global\" variables**"
   ]
  },
  {
   "cell_type": "code",
   "execution_count": 3,
   "metadata": {},
   "outputs": [
    {
     "data": {
      "text/plain": [
       "PosixPath('/home/rachel/forecasting_smog_PEML/src')"
      ]
     },
     "execution_count": 3,
     "metadata": {},
     "output_type": "execute_result"
    }
   ],
   "source": [
    "Path.cwd()"
   ]
  },
  {
   "cell_type": "code",
   "execution_count": 4,
   "metadata": {},
   "outputs": [
    {
     "data": {
      "text/plain": [
       "<module 'config' from '/home/rachel/forecasting_smog_PEML/src/config.py'>"
      ]
     },
     "execution_count": 4,
     "metadata": {},
     "output_type": "execute_result"
    }
   ],
   "source": [
    "import importlib\n",
    "import config\n",
    "importlib.reload(config)"
   ]
  },
  {
   "cell_type": "code",
   "execution_count": 5,
   "metadata": {},
   "outputs": [],
   "source": [
    "from config import *"
   ]
  },
  {
   "cell_type": "code",
   "execution_count": 6,
   "metadata": {},
   "outputs": [
    {
     "name": "stdout",
     "output_type": "stream",
     "text": [
      "BASE_DIR:  /home/rachel/forecasting_smog_PEML\n",
      "MODEL_PATH:  /home/rachel/forecasting_smog_PEML/src/results/models\n",
      "Results path:  /home/rachel/forecasting_smog_PEML/src/results\n"
     ]
    },
    {
     "data": {
      "text/plain": [
       "<torch._C.Generator at 0x7fb133eb60b0>"
      ]
     },
     "execution_count": 6,
     "metadata": {},
     "output_type": "execute_result"
    }
   ],
   "source": [
    "HABROK = bool(0)                  # set to True if using HABROK; it will print\n",
    "                                  # all stdout to a .txt file to log progress\n",
    "\n",
    "\n",
    "print(\"BASE_DIR: \", BASE_DIR)\n",
    "print(\"MODEL_PATH: \", MODEL_PATH)\n",
    "print(\"Results path: \", RESULTS_PATH)\n",
    "\n",
    "torch.manual_seed(34)             # set seed for reproducibility\n"
   ]
  },
  {
   "cell_type": "markdown",
   "metadata": {},
   "source": [
    "\n",
    "## MODIFY THESE GLOBAL VARIABLES FOR YOUR MODEL SCENARIO\n",
    "all other variables are defined in config.py\n",
    "\n",
    "LOSS_FUNC: choose from \n",
    "- MSE\n",
    "- LinearShift_MSE\n",
    "- PDE_nmer_const\n",
    "- PDE_nmer_piece\n",
    "- PINN"
   ]
  },
  {
   "cell_type": "code",
   "execution_count": 7,
   "metadata": {},
   "outputs": [],
   "source": [
    "# Change this according to the data you want to use\n",
    "YEARS = [2017, 2018, 2020, 2021, 2022, 2023]\n",
    "TRAIN_YEARS = [2017, 2018, 2020, 2021, 2022]\n",
    "VAL_YEARS = [2021, 2022, 2023]\n",
    "TEST_YEARS = [2021, 2022, 2023]\n",
    "\n",
    "LOSS_FUNC = \"PINN\"\n",
    "NN_TYPE = \"MLP\""
   ]
  },
  {
   "cell_type": "markdown",
   "metadata": {},
   "source": [
    "## Automated Generation of paths and filenames according to data years, loss func, NN type\n",
    "- will be used throughout the whole notebook\n",
    "- check ``config.py`` for global variables defined outside the notebook"
   ]
  },
  {
   "cell_type": "code",
   "execution_count": 8,
   "metadata": {},
   "outputs": [
    {
     "name": "stdout",
     "output_type": "stream",
     "text": [
      "Using all years\n",
      "MINMAX_PATH:  /home/rachel/forecasting_smog_PEML/data/data_combined/Amsterdam/all_years/pollutants_minmax_allyears.csv\n",
      "DATASET_PATH:  /home/rachel/forecasting_smog_PEML/data/data_combined/Amsterdam/all_years\n",
      "MODEL_PATH_NAME:  best_MLP_no2_PINN_allyears.pth\n",
      "RESULTS_METRICS_FILENAME:  results_MLP_no2_PINN_allyears_Amsterdam.csv\n",
      "BESTPARAMS_FILENAME:  best_params_MLP_no2_PINN_allyears.txt\n",
      "PLOT_FILENAME:  plot_MLP_no2_PINN_allyears_Amsterdam.png\n"
     ]
    }
   ],
   "source": [
    "if YEARS == [2017, 2018, 2020, 2021, 2022, 2023]:\n",
    "    years = \"allyears\"\n",
    "    MINMAX_PATH = MINMAX_PATH_ALLYEARS_AMS\n",
    "    DATASET_PATH = DATASET_PATH_ALLYEARS_AMS\n",
    "    \n",
    "    print(\"Using all years\")\n",
    "    \n",
    "elif YEARS == [2017]:\n",
    "    years = \"2017\"\n",
    "    MINMAX_PATH = MINMAX_PATH_2017_AMS\n",
    "    DATASET_PATH = DATASET_PATH_2017_AMS\n",
    "    print(\"Using 2017\")\n",
    "else:\n",
    "    raise ValueError(\"Invalid years selected\")\n",
    "\n",
    "\n",
    "MODEL_PATH_NAME = f'best_{NN_TYPE}_no2_{LOSS_FUNC}_{years}.pth' #using same model trained on Utrecht\n",
    "RESULTS_METRICS_FILENAME = f'results_{NN_TYPE}_no2_{LOSS_FUNC}_{years}_Amsterdam.csv' # metrics saved in different file\n",
    "BESTPARAMS_FILENAME = f'best_params_{NN_TYPE}_no2_{LOSS_FUNC}_{years}.txt' #use same params as Utrecht\n",
    "PLOT_FILENAME = f'plot_{NN_TYPE}_no2_{LOSS_FUNC}_{years}_Amsterdam.png'\n",
    "print(\"MINMAX_PATH: \", MINMAX_PATH)\n",
    "print(\"DATASET_PATH: \", DATASET_PATH)\n",
    "print(\"MODEL_PATH_NAME: \", MODEL_PATH_NAME)\n",
    "print(\"RESULTS_METRICS_FILENAME: \", RESULTS_METRICS_FILENAME)\n",
    "print(\"BESTPARAMS_FILENAME: \", BESTPARAMS_FILENAME)\n",
    "print(\"PLOT_FILENAME: \", PLOT_FILENAME)"
   ]
  },
  {
   "cell_type": "markdown",
   "metadata": {},
   "source": [
    "### **Load in data and create PyTorch *Datasets***"
   ]
  },
  {
   "cell_type": "code",
   "execution_count": 9,
   "metadata": {},
   "outputs": [
    {
     "name": "stdout",
     "output_type": "stream",
     "text": [
      "Imported train_2017_combined_u.csv\n",
      "Imported train_2018_combined_u.csv\n",
      "Imported train_2020_combined_u.csv\n",
      "Imported train_2021_combined_u.csv\n"
     ]
    },
    {
     "name": "stdout",
     "output_type": "stream",
     "text": [
      "Imported train_2022_combined_u.csv\n",
      "Warning: train_2023_combined_u.csv does not exist.\n",
      "Imported train_2017_combined_y.csv\n",
      "Imported train_2018_combined_y.csv\n",
      "Imported train_2020_combined_y.csv\n",
      "Imported train_2021_combined_y.csv\n",
      "Imported train_2022_combined_y.csv\n",
      "Warning: train_2023_combined_y.csv does not exist.\n",
      "Warning: val_2017_combined_u.csv does not exist.\n",
      "Warning: val_2018_combined_u.csv does not exist.\n",
      "Warning: val_2020_combined_u.csv does not exist.\n",
      "Imported val_2021_combined_u.csv\n",
      "Imported val_2022_combined_u.csv\n",
      "Imported val_2023_combined_u.csv\n",
      "Warning: val_2017_combined_y.csv does not exist.\n",
      "Warning: val_2018_combined_y.csv does not exist.\n",
      "Warning: val_2020_combined_y.csv does not exist.\n",
      "Imported val_2021_combined_y.csv\n",
      "Imported val_2022_combined_y.csv\n",
      "Imported val_2023_combined_y.csv\n",
      "Warning: test_2017_combined_u.csv does not exist.\n",
      "Warning: test_2018_combined_u.csv does not exist.\n",
      "Warning: test_2020_combined_u.csv does not exist.\n",
      "Imported test_2021_combined_u.csv\n",
      "Imported test_2022_combined_u.csv\n",
      "Imported test_2023_combined_u.csv\n",
      "Warning: test_2017_combined_y.csv does not exist.\n",
      "Warning: test_2018_combined_y.csv does not exist.\n",
      "Warning: test_2020_combined_y.csv does not exist.\n",
      "Imported test_2021_combined_y.csv\n",
      "Imported test_2022_combined_y.csv\n",
      "Imported test_2023_combined_y.csv\n",
      "Successfully loaded data\n"
     ]
    }
   ],
   "source": [
    "# Load in data and create PyTorch Datasets. To tune\n",
    "# which exact .csv files get extracted, change the\n",
    "# lists in the get_dataframes() definition\n",
    "\n",
    "train_input_frames = get_dataframes('train', 'u', YEARS, DATASET_PATH)\n",
    "train_output_frames = get_dataframes('train', 'y', YEARS, DATASET_PATH)\n",
    "\n",
    "val_input_frames = get_dataframes('val', 'u', YEARS, DATASET_PATH)\n",
    "val_output_frames = get_dataframes('val', 'y', YEARS, DATASET_PATH)\n",
    "\n",
    "test_input_frames = get_dataframes('test', 'u', YEARS, DATASET_PATH)\n",
    "test_output_frames = get_dataframes('test', 'y', YEARS, DATASET_PATH)\n",
    "\n",
    "print(\"Successfully loaded data\")"
   ]
  },
  {
   "cell_type": "code",
   "execution_count": 10,
   "metadata": {},
   "outputs": [
    {
     "data": {
      "text/plain": [
       "[                           DD        FF        FH        FX  NO2_HAARLEM  \\\n",
       " DateTime                                                                   \n",
       " 2017-08-01 00:00:00  0.333333  0.111111  0.058824  0.076923     0.142376   \n",
       " 2017-08-01 01:00:00  0.000000  0.000000  0.058824  0.076923     0.145409   \n",
       " 2017-08-01 02:00:00  0.472222  0.055556  0.058824  0.076923     0.145409   \n",
       " 2017-08-01 03:00:00  0.361111  0.055556  0.058824  0.038462     0.135636   \n",
       " 2017-08-01 04:00:00  0.527778  0.055556  0.058824  0.076923     0.181045   \n",
       " ...                       ...       ...       ...       ...          ...   \n",
       " 2017-12-30 19:00:00  0.694444  0.500000  0.529412  0.500000     0.102359   \n",
       " 2017-12-30 20:00:00  0.694444  0.444444  0.529412  0.500000     0.096799   \n",
       " 2017-12-30 21:00:00  0.694444  0.444444  0.470588  0.461538     0.111879   \n",
       " 2017-12-30 22:00:00  0.694444  0.388889  0.470588  0.461538     0.119377   \n",
       " 2017-12-30 23:00:00  0.638889  0.333333  0.411765  0.423077     0.106655   \n",
       " \n",
       "                      NO2_OUDEMEER         P   SQ         T        TD  \n",
       " DateTime                                                              \n",
       " 2017-08-01 00:00:00      0.245998  0.637006  0.0  0.523936  0.734848  \n",
       " 2017-08-01 01:00:00      0.273799  0.642655  0.0  0.492021  0.734848  \n",
       " 2017-08-01 02:00:00      0.279697  0.638418  0.0  0.489362  0.734848  \n",
       " 2017-08-01 03:00:00      0.219040  0.637006  0.0  0.452128  0.689394  \n",
       " 2017-08-01 04:00:00      0.253580  0.637006  0.0  0.489362  0.738636  \n",
       " ...                           ...       ...  ...       ...       ...  \n",
       " 2017-12-30 19:00:00      0.072452  0.456215  0.0  0.390957  0.522727  \n",
       " 2017-12-30 20:00:00      0.084246  0.461864  0.0  0.372340  0.500000  \n",
       " 2017-12-30 21:00:00      0.114575  0.466102  0.0  0.388298  0.484848  \n",
       " 2017-12-30 22:00:00      0.090143  0.473164  0.0  0.382979  0.477273  \n",
       " 2017-12-30 23:00:00      0.090143  0.470339  0.0  0.380319  0.515152  \n",
       " \n",
       " [3648 rows x 10 columns],\n",
       "                            DD        FF        FH        FX  NO2_HAARLEM  \\\n",
       " DateTime                                                                   \n",
       " 2018-08-01 00:00:00  0.000000  0.000000  0.058824  0.076923     0.215501   \n",
       " 2018-08-01 01:00:00  0.194444  0.055556  0.058824  0.038462     0.199073   \n",
       " 2018-08-01 02:00:00  0.250000  0.055556  0.058824  0.076923     0.206487   \n",
       " 2018-08-01 03:00:00  0.361111  0.055556  0.058824  0.076923     0.237489   \n",
       " 2018-08-01 04:00:00  0.166667  0.055556  0.058824  0.038462     0.259646   \n",
       " ...                       ...       ...       ...       ...          ...   \n",
       " 2018-12-30 19:00:00  0.777778  0.166667  0.176471  0.153846     0.167818   \n",
       " 2018-12-30 20:00:00  0.750000  0.166667  0.176471  0.153846     0.169840   \n",
       " 2018-12-30 21:00:00  0.750000  0.277778  0.235294  0.230769     0.177422   \n",
       " 2018-12-30 22:00:00  0.777778  0.222222  0.235294  0.230769     0.128728   \n",
       " 2018-12-30 23:00:00  0.805556  0.222222  0.235294  0.230769     0.116007   \n",
       " \n",
       "                      NO2_OUDEMEER         P   SQ         T        TD  \n",
       " DateTime                                                              \n",
       " 2018-08-01 00:00:00      0.341196  0.735876  0.0  0.489362  0.742424  \n",
       " 2018-08-01 01:00:00      0.334457  0.737288  0.0  0.484043  0.734848  \n",
       " 2018-08-01 02:00:00      0.296546  0.734463  0.0  0.452128  0.685606  \n",
       " 2018-08-01 03:00:00      0.221567  0.735876  0.0  0.478723  0.727273  \n",
       " 2018-08-01 04:00:00      0.308340  0.737288  0.7  0.497340  0.742424  \n",
       " ...                           ...       ...  ...       ...       ...  \n",
       " 2018-12-30 19:00:00      0.119629  0.896893  0.0  0.356383  0.564394  \n",
       " 2018-12-30 20:00:00      0.162595  0.898305  0.0  0.353723  0.560606  \n",
       " 2018-12-30 21:00:00      0.204718  0.898305  0.0  0.353723  0.556818  \n",
       " 2018-12-30 22:00:00      0.151643  0.896893  0.0  0.359043  0.568182  \n",
       " 2018-12-30 23:00:00      0.122999  0.896893  0.0  0.353723  0.553030  \n",
       " \n",
       " [3648 rows x 10 columns],\n",
       "                            DD        FF        FH        FX  NO2_HAARLEM  \\\n",
       " DateTime                                                                   \n",
       " 2020-08-01 00:00:00  0.388889  0.222222  0.235294  0.230769     0.131003   \n",
       " 2020-08-01 01:00:00  0.611111  0.111111  0.176471  0.230769     0.143302   \n",
       " 2020-08-01 02:00:00  0.694444  0.277778  0.235294  0.269231     0.141281   \n",
       " 2020-08-01 03:00:00  0.638889  0.166667  0.176471  0.269231     0.179107   \n",
       " 2020-08-01 04:00:00  0.638889  0.277778  0.235294  0.269231     0.182056   \n",
       " ...                       ...       ...       ...       ...          ...   \n",
       " 2020-12-30 19:00:00  0.583333  0.277778  0.294118  0.269231     0.133361   \n",
       " 2020-12-30 20:00:00  0.555556  0.222222  0.294118  0.307692     0.113479   \n",
       " 2020-12-30 21:00:00  0.500000  0.166667  0.235294  0.230769     0.195114   \n",
       " 2020-12-30 22:00:00  0.611111  0.277778  0.294118  0.307692     0.139006   \n",
       " 2020-12-30 23:00:00  0.694444  0.111111  0.235294  0.307692     0.229907   \n",
       " \n",
       "                      NO2_OUDEMEER         P   SQ         T        TD  \n",
       " DateTime                                                              \n",
       " 2020-08-01 00:00:00      0.069082  0.600282  0.0  0.704787  0.863636  \n",
       " 2020-08-01 01:00:00      0.090143  0.597458  0.0  0.699468  0.893939  \n",
       " 2020-08-01 02:00:00      0.108677  0.607345  0.0  0.656915  0.867424  \n",
       " 2020-08-01 03:00:00      0.115417  0.615819  0.0  0.638298  0.871212  \n",
       " 2020-08-01 04:00:00      0.091828  0.618644  0.0  0.632979  0.859848  \n",
       " ...                           ...       ...  ...       ...       ...  \n",
       " 2020-12-30 19:00:00      0.107835  0.467514  0.0  0.218085  0.299242  \n",
       " 2020-12-30 20:00:00      0.125527  0.468927  0.0  0.196809  0.291667  \n",
       " 2020-12-30 21:00:00      0.112890  0.468927  0.0  0.202128  0.303030  \n",
       " 2020-12-30 22:00:00      0.193766  0.474576  0.0  0.212766  0.306818  \n",
       " 2020-12-30 23:00:00      0.289806  0.471751  0.0  0.183511  0.276515  \n",
       " \n",
       " [3648 rows x 10 columns],\n",
       "                            DD        FF        FH        FX  NO2_HAARLEM  \\\n",
       " DateTime                                                                   \n",
       " 2021-08-01 00:00:00  0.555556  0.222222  0.176471  0.192308     0.137405   \n",
       " 2021-08-01 01:00:00  0.611111  0.166667  0.235294  0.230769     0.180623   \n",
       " 2021-08-01 02:00:00  0.527778  0.166667  0.176471  0.192308     0.189132   \n",
       " 2021-08-01 03:00:00  0.555556  0.222222  0.176471  0.192308     0.131424   \n",
       " 2021-08-01 04:00:00  0.555556  0.222222  0.235294  0.192308     0.097304   \n",
       " ...                       ...       ...       ...       ...          ...   \n",
       " 2021-11-18 19:00:00  0.694444  0.277778  0.352941  0.307692     0.203117   \n",
       " 2021-11-18 20:00:00  0.666667  0.333333  0.352941  0.346154     0.185257   \n",
       " 2021-11-18 21:00:00  0.666667  0.277778  0.352941  0.346154     0.112805   \n",
       " 2021-11-18 22:00:00  0.666667  0.277778  0.294118  0.269231     0.079612   \n",
       " 2021-11-18 23:00:00  0.694444  0.333333  0.294118  0.307692     0.063016   \n",
       " \n",
       "                      NO2_OUDEMEER         P   SQ         T        TD  \n",
       " DateTime                                                              \n",
       " 2021-08-01 00:00:00      0.199663  0.556497  0.0  0.523936  0.780303  \n",
       " 2021-08-01 01:00:00      0.160067  0.552260  0.0  0.513298  0.765152  \n",
       " 2021-08-01 02:00:00      0.149115  0.549435  0.0  0.507979  0.761364  \n",
       " 2021-08-01 03:00:00      0.122999  0.550847  0.0  0.523936  0.780303  \n",
       " 2021-08-01 04:00:00      0.110362  0.550847  0.0  0.526596  0.791667  \n",
       " ...                           ...       ...  ...       ...       ...  \n",
       " 2021-11-18 19:00:00      0.233361  0.827684  0.0  0.446809  0.632576  \n",
       " 2021-11-18 20:00:00      0.211457  0.829096  0.0  0.446809  0.628788  \n",
       " 2021-11-18 21:00:00      0.187026  0.833333  0.0  0.430851  0.625000  \n",
       " 2021-11-18 22:00:00      0.108677  0.830508  0.0  0.428191  0.625000  \n",
       " 2021-11-18 23:00:00      0.092671  0.830508  0.0  0.436170  0.632576  \n",
       " \n",
       " [2640 rows x 10 columns],\n",
       "                            DD        FF        FH        FX  NO2_HAARLEM  \\\n",
       " DateTime                                                                   \n",
       " 2022-08-01 00:00:00  0.833333  0.166667  0.176471  0.153846     0.043976   \n",
       " 2022-08-01 01:00:00  0.833333  0.111111  0.117647  0.115385     0.035468   \n",
       " 2022-08-01 02:00:00  0.805556  0.055556  0.117647  0.115385     0.038837   \n",
       " 2022-08-01 03:00:00  0.944444  0.111111  0.117647  0.115385     0.050969   \n",
       " 2022-08-01 04:00:00  0.944444  0.166667  0.117647  0.153846     0.067228   \n",
       " ...                       ...       ...       ...       ...          ...   \n",
       " 2022-11-18 19:00:00  0.222222  0.333333  0.294118  0.269231     0.254760   \n",
       " 2022-11-18 20:00:00  0.222222  0.388889  0.352941  0.384615     0.205644   \n",
       " 2022-11-18 21:00:00  0.222222  0.333333  0.411765  0.384615     0.165712   \n",
       " 2022-11-18 22:00:00  0.222222  0.333333  0.352941  0.423077     0.143387   \n",
       " 2022-11-18 23:00:00  0.250000  0.277778  0.294118  0.307692     0.137152   \n",
       " \n",
       "                      NO2_OUDEMEER         P   SQ         T        TD  \n",
       " DateTime                                                              \n",
       " 2022-08-01 00:00:00      0.036226  0.676554  0.0  0.590426  0.890152  \n",
       " 2022-08-01 01:00:00      0.030329  0.676554  0.0  0.585106  0.863636  \n",
       " 2022-08-01 02:00:00      0.032856  0.676554  0.0  0.577128  0.863636  \n",
       " 2022-08-01 03:00:00      0.030329  0.680791  0.0  0.577128  0.863636  \n",
       " 2022-08-01 04:00:00      0.062342  0.686441  0.0  0.585106  0.863636  \n",
       " ...                           ...       ...  ...       ...       ...  \n",
       " 2022-11-18 19:00:00      0.247683  0.524011  0.0  0.319149  0.507576  \n",
       " 2022-11-18 20:00:00      0.149958  0.532486  0.0  0.276596  0.439394  \n",
       " 2022-11-18 21:00:00      0.177759  0.542373  0.0  0.244681  0.401515  \n",
       " 2022-11-18 22:00:00      0.144903  0.552260  0.0  0.226064  0.367424  \n",
       " 2022-11-18 23:00:00      0.123842  0.560734  0.0  0.210106  0.337121  \n",
       " \n",
       " [2640 rows x 10 columns]]"
      ]
     },
     "execution_count": 10,
     "metadata": {},
     "output_type": "execute_result"
    }
   ],
   "source": [
    "train_input_frames"
   ]
  },
  {
   "cell_type": "code",
   "execution_count": 11,
   "metadata": {},
   "outputs": [],
   "source": [
    "train_dataset = TimeSeriesDataset(\n",
    "    train_input_frames,  # list of input training dataframes\n",
    "    train_output_frames, # list of output training dataframes\n",
    "    len(TRAIN_YEARS),                   # number of dataframes put in for both\n",
    "                         # (basically len(train_input_frames) and\n",
    "                         # len(train_output_frames) must be equal)\n",
    "    N_HOURS_U,           # number of hours of input data\n",
    "    N_HOURS_Y,           # number of hours of output data\n",
    "    N_HOURS_STEP,        # number of hours between each input/output pair\n",
    ")\n",
    "val_dataset = TimeSeriesDataset(\n",
    "    val_input_frames,    # etc.\n",
    "    val_output_frames,\n",
    "    len(VAL_YEARS),\n",
    "    N_HOURS_U,\n",
    "    N_HOURS_Y,\n",
    "    N_HOURS_STEP,\n",
    ")\n",
    "test_dataset = TimeSeriesDataset(\n",
    "    test_input_frames,\n",
    "    test_output_frames,\n",
    "    len(TEST_YEARS),\n",
    "    N_HOURS_U,\n",
    "    N_HOURS_Y,\n",
    "    N_HOURS_STEP,\n",
    ")\n",
    "\n",
    "del train_input_frames, train_output_frames\n",
    "del val_input_frames, val_output_frames\n",
    "del test_input_frames, test_output_frames"
   ]
  },
  {
   "cell_type": "code",
   "execution_count": 12,
   "metadata": {},
   "outputs": [
    {
     "data": {
      "text/plain": [
       "[                           DD        FF        FH        FX  NO2_HAARLEM  \\\n",
       " DateTime                                                                   \n",
       " 2017-08-01 00:00:00  0.333333  0.111111  0.058824  0.076923     0.142376   \n",
       " 2017-08-01 01:00:00  0.000000  0.000000  0.058824  0.076923     0.145409   \n",
       " 2017-08-01 02:00:00  0.472222  0.055556  0.058824  0.076923     0.145409   \n",
       " 2017-08-01 03:00:00  0.361111  0.055556  0.058824  0.038462     0.135636   \n",
       " 2017-08-01 04:00:00  0.527778  0.055556  0.058824  0.076923     0.181045   \n",
       " ...                       ...       ...       ...       ...          ...   \n",
       " 2017-12-30 19:00:00  0.694444  0.500000  0.529412  0.500000     0.102359   \n",
       " 2017-12-30 20:00:00  0.694444  0.444444  0.529412  0.500000     0.096799   \n",
       " 2017-12-30 21:00:00  0.694444  0.444444  0.470588  0.461538     0.111879   \n",
       " 2017-12-30 22:00:00  0.694444  0.388889  0.470588  0.461538     0.119377   \n",
       " 2017-12-30 23:00:00  0.638889  0.333333  0.411765  0.423077     0.106655   \n",
       " \n",
       "                      NO2_OUDEMEER         P   SQ         T        TD  \n",
       " DateTime                                                              \n",
       " 2017-08-01 00:00:00      0.245998  0.637006  0.0  0.523936  0.734848  \n",
       " 2017-08-01 01:00:00      0.273799  0.642655  0.0  0.492021  0.734848  \n",
       " 2017-08-01 02:00:00      0.279697  0.638418  0.0  0.489362  0.734848  \n",
       " 2017-08-01 03:00:00      0.219040  0.637006  0.0  0.452128  0.689394  \n",
       " 2017-08-01 04:00:00      0.253580  0.637006  0.0  0.489362  0.738636  \n",
       " ...                           ...       ...  ...       ...       ...  \n",
       " 2017-12-30 19:00:00      0.072452  0.456215  0.0  0.390957  0.522727  \n",
       " 2017-12-30 20:00:00      0.084246  0.461864  0.0  0.372340  0.500000  \n",
       " 2017-12-30 21:00:00      0.114575  0.466102  0.0  0.388298  0.484848  \n",
       " 2017-12-30 22:00:00      0.090143  0.473164  0.0  0.382979  0.477273  \n",
       " 2017-12-30 23:00:00      0.090143  0.470339  0.0  0.380319  0.515152  \n",
       " \n",
       " [3648 rows x 10 columns],\n",
       "                            DD        FF        FH        FX  NO2_HAARLEM  \\\n",
       " DateTime                                                                   \n",
       " 2018-08-01 00:00:00  0.000000  0.000000  0.058824  0.076923     0.215501   \n",
       " 2018-08-01 01:00:00  0.194444  0.055556  0.058824  0.038462     0.199073   \n",
       " 2018-08-01 02:00:00  0.250000  0.055556  0.058824  0.076923     0.206487   \n",
       " 2018-08-01 03:00:00  0.361111  0.055556  0.058824  0.076923     0.237489   \n",
       " 2018-08-01 04:00:00  0.166667  0.055556  0.058824  0.038462     0.259646   \n",
       " ...                       ...       ...       ...       ...          ...   \n",
       " 2018-12-30 19:00:00  0.777778  0.166667  0.176471  0.153846     0.167818   \n",
       " 2018-12-30 20:00:00  0.750000  0.166667  0.176471  0.153846     0.169840   \n",
       " 2018-12-30 21:00:00  0.750000  0.277778  0.235294  0.230769     0.177422   \n",
       " 2018-12-30 22:00:00  0.777778  0.222222  0.235294  0.230769     0.128728   \n",
       " 2018-12-30 23:00:00  0.805556  0.222222  0.235294  0.230769     0.116007   \n",
       " \n",
       "                      NO2_OUDEMEER         P   SQ         T        TD  \n",
       " DateTime                                                              \n",
       " 2018-08-01 00:00:00      0.341196  0.735876  0.0  0.489362  0.742424  \n",
       " 2018-08-01 01:00:00      0.334457  0.737288  0.0  0.484043  0.734848  \n",
       " 2018-08-01 02:00:00      0.296546  0.734463  0.0  0.452128  0.685606  \n",
       " 2018-08-01 03:00:00      0.221567  0.735876  0.0  0.478723  0.727273  \n",
       " 2018-08-01 04:00:00      0.308340  0.737288  0.7  0.497340  0.742424  \n",
       " ...                           ...       ...  ...       ...       ...  \n",
       " 2018-12-30 19:00:00      0.119629  0.896893  0.0  0.356383  0.564394  \n",
       " 2018-12-30 20:00:00      0.162595  0.898305  0.0  0.353723  0.560606  \n",
       " 2018-12-30 21:00:00      0.204718  0.898305  0.0  0.353723  0.556818  \n",
       " 2018-12-30 22:00:00      0.151643  0.896893  0.0  0.359043  0.568182  \n",
       " 2018-12-30 23:00:00      0.122999  0.896893  0.0  0.353723  0.553030  \n",
       " \n",
       " [3648 rows x 10 columns],\n",
       "                            DD        FF        FH        FX  NO2_HAARLEM  \\\n",
       " DateTime                                                                   \n",
       " 2020-08-01 00:00:00  0.388889  0.222222  0.235294  0.230769     0.131003   \n",
       " 2020-08-01 01:00:00  0.611111  0.111111  0.176471  0.230769     0.143302   \n",
       " 2020-08-01 02:00:00  0.694444  0.277778  0.235294  0.269231     0.141281   \n",
       " 2020-08-01 03:00:00  0.638889  0.166667  0.176471  0.269231     0.179107   \n",
       " 2020-08-01 04:00:00  0.638889  0.277778  0.235294  0.269231     0.182056   \n",
       " ...                       ...       ...       ...       ...          ...   \n",
       " 2020-12-30 19:00:00  0.583333  0.277778  0.294118  0.269231     0.133361   \n",
       " 2020-12-30 20:00:00  0.555556  0.222222  0.294118  0.307692     0.113479   \n",
       " 2020-12-30 21:00:00  0.500000  0.166667  0.235294  0.230769     0.195114   \n",
       " 2020-12-30 22:00:00  0.611111  0.277778  0.294118  0.307692     0.139006   \n",
       " 2020-12-30 23:00:00  0.694444  0.111111  0.235294  0.307692     0.229907   \n",
       " \n",
       "                      NO2_OUDEMEER         P   SQ         T        TD  \n",
       " DateTime                                                              \n",
       " 2020-08-01 00:00:00      0.069082  0.600282  0.0  0.704787  0.863636  \n",
       " 2020-08-01 01:00:00      0.090143  0.597458  0.0  0.699468  0.893939  \n",
       " 2020-08-01 02:00:00      0.108677  0.607345  0.0  0.656915  0.867424  \n",
       " 2020-08-01 03:00:00      0.115417  0.615819  0.0  0.638298  0.871212  \n",
       " 2020-08-01 04:00:00      0.091828  0.618644  0.0  0.632979  0.859848  \n",
       " ...                           ...       ...  ...       ...       ...  \n",
       " 2020-12-30 19:00:00      0.107835  0.467514  0.0  0.218085  0.299242  \n",
       " 2020-12-30 20:00:00      0.125527  0.468927  0.0  0.196809  0.291667  \n",
       " 2020-12-30 21:00:00      0.112890  0.468927  0.0  0.202128  0.303030  \n",
       " 2020-12-30 22:00:00      0.193766  0.474576  0.0  0.212766  0.306818  \n",
       " 2020-12-30 23:00:00      0.289806  0.471751  0.0  0.183511  0.276515  \n",
       " \n",
       " [3648 rows x 10 columns],\n",
       "                            DD        FF        FH        FX  NO2_HAARLEM  \\\n",
       " DateTime                                                                   \n",
       " 2021-08-01 00:00:00  0.555556  0.222222  0.176471  0.192308     0.137405   \n",
       " 2021-08-01 01:00:00  0.611111  0.166667  0.235294  0.230769     0.180623   \n",
       " 2021-08-01 02:00:00  0.527778  0.166667  0.176471  0.192308     0.189132   \n",
       " 2021-08-01 03:00:00  0.555556  0.222222  0.176471  0.192308     0.131424   \n",
       " 2021-08-01 04:00:00  0.555556  0.222222  0.235294  0.192308     0.097304   \n",
       " ...                       ...       ...       ...       ...          ...   \n",
       " 2021-11-18 19:00:00  0.694444  0.277778  0.352941  0.307692     0.203117   \n",
       " 2021-11-18 20:00:00  0.666667  0.333333  0.352941  0.346154     0.185257   \n",
       " 2021-11-18 21:00:00  0.666667  0.277778  0.352941  0.346154     0.112805   \n",
       " 2021-11-18 22:00:00  0.666667  0.277778  0.294118  0.269231     0.079612   \n",
       " 2021-11-18 23:00:00  0.694444  0.333333  0.294118  0.307692     0.063016   \n",
       " \n",
       "                      NO2_OUDEMEER         P   SQ         T        TD  \n",
       " DateTime                                                              \n",
       " 2021-08-01 00:00:00      0.199663  0.556497  0.0  0.523936  0.780303  \n",
       " 2021-08-01 01:00:00      0.160067  0.552260  0.0  0.513298  0.765152  \n",
       " 2021-08-01 02:00:00      0.149115  0.549435  0.0  0.507979  0.761364  \n",
       " 2021-08-01 03:00:00      0.122999  0.550847  0.0  0.523936  0.780303  \n",
       " 2021-08-01 04:00:00      0.110362  0.550847  0.0  0.526596  0.791667  \n",
       " ...                           ...       ...  ...       ...       ...  \n",
       " 2021-11-18 19:00:00      0.233361  0.827684  0.0  0.446809  0.632576  \n",
       " 2021-11-18 20:00:00      0.211457  0.829096  0.0  0.446809  0.628788  \n",
       " 2021-11-18 21:00:00      0.187026  0.833333  0.0  0.430851  0.625000  \n",
       " 2021-11-18 22:00:00      0.108677  0.830508  0.0  0.428191  0.625000  \n",
       " 2021-11-18 23:00:00      0.092671  0.830508  0.0  0.436170  0.632576  \n",
       " \n",
       " [2640 rows x 10 columns],\n",
       "                            DD        FF        FH        FX  NO2_HAARLEM  \\\n",
       " DateTime                                                                   \n",
       " 2022-08-01 00:00:00  0.833333  0.166667  0.176471  0.153846     0.043976   \n",
       " 2022-08-01 01:00:00  0.833333  0.111111  0.117647  0.115385     0.035468   \n",
       " 2022-08-01 02:00:00  0.805556  0.055556  0.117647  0.115385     0.038837   \n",
       " 2022-08-01 03:00:00  0.944444  0.111111  0.117647  0.115385     0.050969   \n",
       " 2022-08-01 04:00:00  0.944444  0.166667  0.117647  0.153846     0.067228   \n",
       " ...                       ...       ...       ...       ...          ...   \n",
       " 2022-11-18 19:00:00  0.222222  0.333333  0.294118  0.269231     0.254760   \n",
       " 2022-11-18 20:00:00  0.222222  0.388889  0.352941  0.384615     0.205644   \n",
       " 2022-11-18 21:00:00  0.222222  0.333333  0.411765  0.384615     0.165712   \n",
       " 2022-11-18 22:00:00  0.222222  0.333333  0.352941  0.423077     0.143387   \n",
       " 2022-11-18 23:00:00  0.250000  0.277778  0.294118  0.307692     0.137152   \n",
       " \n",
       "                      NO2_OUDEMEER         P   SQ         T        TD  \n",
       " DateTime                                                              \n",
       " 2022-08-01 00:00:00      0.036226  0.676554  0.0  0.590426  0.890152  \n",
       " 2022-08-01 01:00:00      0.030329  0.676554  0.0  0.585106  0.863636  \n",
       " 2022-08-01 02:00:00      0.032856  0.676554  0.0  0.577128  0.863636  \n",
       " 2022-08-01 03:00:00      0.030329  0.680791  0.0  0.577128  0.863636  \n",
       " 2022-08-01 04:00:00      0.062342  0.686441  0.0  0.585106  0.863636  \n",
       " ...                           ...       ...  ...       ...       ...  \n",
       " 2022-11-18 19:00:00      0.247683  0.524011  0.0  0.319149  0.507576  \n",
       " 2022-11-18 20:00:00      0.149958  0.532486  0.0  0.276596  0.439394  \n",
       " 2022-11-18 21:00:00      0.177759  0.542373  0.0  0.244681  0.401515  \n",
       " 2022-11-18 22:00:00      0.144903  0.552260  0.0  0.226064  0.367424  \n",
       " 2022-11-18 23:00:00      0.123842  0.560734  0.0  0.210106  0.337121  \n",
       " \n",
       " [2640 rows x 10 columns]]"
      ]
     },
     "execution_count": 12,
     "metadata": {},
     "output_type": "execute_result"
    }
   ],
   "source": [
    "train_dataset.u"
   ]
  },
  {
   "cell_type": "code",
   "execution_count": 13,
   "metadata": {},
   "outputs": [
    {
     "data": {
      "text/plain": [
       "[                          NO2\n",
       " DateTime                     \n",
       " 2017-08-01 00:00:00  0.142376\n",
       " 2017-08-01 01:00:00  0.145409\n",
       " 2017-08-01 02:00:00  0.145409\n",
       " 2017-08-01 03:00:00  0.135636\n",
       " 2017-08-01 04:00:00  0.181045\n",
       " ...                       ...\n",
       " 2017-12-30 19:00:00  0.102359\n",
       " 2017-12-30 20:00:00  0.096799\n",
       " 2017-12-30 21:00:00  0.111879\n",
       " 2017-12-30 22:00:00  0.119377\n",
       " 2017-12-30 23:00:00  0.106655\n",
       " \n",
       " [3648 rows x 1 columns],\n",
       "                           NO2\n",
       " DateTime                     \n",
       " 2018-08-01 00:00:00  0.215501\n",
       " 2018-08-01 01:00:00  0.199073\n",
       " 2018-08-01 02:00:00  0.206487\n",
       " 2018-08-01 03:00:00  0.237489\n",
       " 2018-08-01 04:00:00  0.259646\n",
       " ...                       ...\n",
       " 2018-12-30 19:00:00  0.167818\n",
       " 2018-12-30 20:00:00  0.169840\n",
       " 2018-12-30 21:00:00  0.177422\n",
       " 2018-12-30 22:00:00  0.128728\n",
       " 2018-12-30 23:00:00  0.116007\n",
       " \n",
       " [3648 rows x 1 columns],\n",
       "                           NO2\n",
       " DateTime                     \n",
       " 2020-08-01 00:00:00  0.131003\n",
       " 2020-08-01 01:00:00  0.143302\n",
       " 2020-08-01 02:00:00  0.141281\n",
       " 2020-08-01 03:00:00  0.179107\n",
       " 2020-08-01 04:00:00  0.182056\n",
       " ...                       ...\n",
       " 2020-12-30 19:00:00  0.133361\n",
       " 2020-12-30 20:00:00  0.113479\n",
       " 2020-12-30 21:00:00  0.195114\n",
       " 2020-12-30 22:00:00  0.139006\n",
       " 2020-12-30 23:00:00  0.229907\n",
       " \n",
       " [3648 rows x 1 columns],\n",
       "                           NO2\n",
       " DateTime                     \n",
       " 2021-08-01 00:00:00  0.137405\n",
       " 2021-08-01 01:00:00  0.180623\n",
       " 2021-08-01 02:00:00  0.189132\n",
       " 2021-08-01 03:00:00  0.131424\n",
       " 2021-08-01 04:00:00  0.097304\n",
       " ...                       ...\n",
       " 2021-11-18 19:00:00  0.203117\n",
       " 2021-11-18 20:00:00  0.185257\n",
       " 2021-11-18 21:00:00  0.112805\n",
       " 2021-11-18 22:00:00  0.079612\n",
       " 2021-11-18 23:00:00  0.063016\n",
       " \n",
       " [2640 rows x 1 columns],\n",
       "                           NO2\n",
       " DateTime                     \n",
       " 2022-08-01 00:00:00  0.043976\n",
       " 2022-08-01 01:00:00  0.035468\n",
       " 2022-08-01 02:00:00  0.038837\n",
       " 2022-08-01 03:00:00  0.050969\n",
       " 2022-08-01 04:00:00  0.067228\n",
       " ...                       ...\n",
       " 2022-11-18 19:00:00  0.254760\n",
       " 2022-11-18 20:00:00  0.205644\n",
       " 2022-11-18 21:00:00  0.165712\n",
       " 2022-11-18 22:00:00  0.143387\n",
       " 2022-11-18 23:00:00  0.137152\n",
       " \n",
       " [2640 rows x 1 columns]]"
      ]
     },
     "execution_count": 13,
     "metadata": {},
     "output_type": "execute_result"
    }
   ],
   "source": [
    "train_dataset.y"
   ]
  },
  {
   "cell_type": "code",
   "execution_count": 14,
   "metadata": {},
   "outputs": [
    {
     "data": {
      "text/plain": [
       "72"
      ]
     },
     "execution_count": 14,
     "metadata": {},
     "output_type": "execute_result"
    }
   ],
   "source": [
    "len(train_dataset.pairs[0][0])"
   ]
  },
  {
   "cell_type": "code",
   "execution_count": 15,
   "metadata": {},
   "outputs": [
    {
     "data": {
      "text/plain": [
       "tensor([[0.3333, 0.1111, 0.0588, 0.0769, 0.1424, 0.2460, 0.6370, 0.0000, 0.5239,\n",
       "         0.7348],\n",
       "        [0.0000, 0.0000, 0.0588, 0.0769, 0.1454, 0.2738, 0.6427, 0.0000, 0.4920,\n",
       "         0.7348],\n",
       "        [0.4722, 0.0556, 0.0588, 0.0769, 0.1454, 0.2797, 0.6384, 0.0000, 0.4894,\n",
       "         0.7348],\n",
       "        [0.3611, 0.0556, 0.0588, 0.0385, 0.1356, 0.2190, 0.6370, 0.0000, 0.4521,\n",
       "         0.6894],\n",
       "        [0.5278, 0.0556, 0.0588, 0.0769, 0.1810, 0.2536, 0.6370, 0.0000, 0.4894,\n",
       "         0.7386],\n",
       "        [0.5556, 0.1111, 0.1176, 0.1154, 0.2842, 0.2460, 0.6398, 0.0000, 0.5665,\n",
       "         0.7917],\n",
       "        [0.6667, 0.2778, 0.2353, 0.2308, 0.3099, 0.2567, 0.6525, 0.2000, 0.5957,\n",
       "         0.7727],\n",
       "        [0.7222, 0.2222, 0.2353, 0.2308, 0.3334, 0.2673, 0.6525, 0.0000, 0.5984,\n",
       "         0.7652],\n",
       "        [0.6667, 0.2222, 0.2353, 0.2308, 0.2260, 0.2780, 0.6554, 0.0000, 0.6037,\n",
       "         0.7538],\n",
       "        [0.7222, 0.2222, 0.2353, 0.2692, 0.2384, 0.1811, 0.6582, 0.4000, 0.6543,\n",
       "         0.7538],\n",
       "        [0.6944, 0.2222, 0.2353, 0.2692, 0.1765, 0.1508, 0.6596, 0.1000, 0.6410,\n",
       "         0.6856],\n",
       "        [0.7778, 0.2222, 0.2353, 0.2308, 0.1549, 0.1373, 0.6596, 0.0000, 0.6410,\n",
       "         0.7159],\n",
       "        [0.6389, 0.1667, 0.1765, 0.2308, 0.1743, 0.1912, 0.6568, 0.4000, 0.6782,\n",
       "         0.7386],\n",
       "        [0.6111, 0.2222, 0.1765, 0.2308, 0.1902, 0.2039, 0.6554, 0.8000, 0.7021,\n",
       "         0.6402],\n",
       "        [0.7222, 0.1667, 0.1765, 0.2308, 0.1527, 0.2898, 0.6582, 0.8000, 0.6941,\n",
       "         0.7045],\n",
       "        [0.7778, 0.2778, 0.2353, 0.3077, 0.1721, 0.2746, 0.6568, 0.9000, 0.6995,\n",
       "         0.7424],\n",
       "        [0.7778, 0.2222, 0.2941, 0.2692, 0.1851, 0.3218, 0.6596, 0.3000, 0.6702,\n",
       "         0.6705],\n",
       "        [0.7222, 0.2778, 0.2353, 0.2692, 0.2137, 0.3993, 0.6596, 1.0000, 0.6596,\n",
       "         0.5265],\n",
       "        [0.6667, 0.2222, 0.2353, 0.2692, 0.1565, 0.3067, 0.6653, 1.0000, 0.6383,\n",
       "         0.6174],\n",
       "        [0.6111, 0.2222, 0.2353, 0.2308, 0.1810, 0.2738, 0.6695, 0.0000, 0.5878,\n",
       "         0.6061],\n",
       "        [0.5833, 0.1111, 0.1765, 0.1923, 0.2217, 0.2561, 0.6709, 0.0000, 0.5505,\n",
       "         0.6591],\n",
       "        [0.5833, 0.1111, 0.1765, 0.1538, 0.2924, 0.3269, 0.6737, 0.0000, 0.5452,\n",
       "         0.6515],\n",
       "        [0.5000, 0.1111, 0.1176, 0.1154, 0.2436, 0.3041, 0.6737, 0.0000, 0.5293,\n",
       "         0.6553],\n",
       "        [0.5000, 0.1111, 0.1176, 0.0769, 0.2602, 0.3126, 0.6681, 0.0000, 0.5266,\n",
       "         0.6705],\n",
       "        [0.4444, 0.2222, 0.1176, 0.1538, 0.2311, 0.3791, 0.6667, 0.0000, 0.5346,\n",
       "         0.6970],\n",
       "        [0.5556, 0.2222, 0.1765, 0.1923, 0.2968, 0.4271, 0.6681, 0.0000, 0.5612,\n",
       "         0.7197],\n",
       "        [0.6111, 0.2222, 0.2353, 0.2308, 0.2527, 0.4693, 0.6624, 0.0000, 0.5638,\n",
       "         0.7121],\n",
       "        [0.6111, 0.1667, 0.2353, 0.2308, 0.2710, 0.2797, 0.6610, 0.0000, 0.5612,\n",
       "         0.7311],\n",
       "        [0.5833, 0.1667, 0.1765, 0.1923, 0.2669, 0.2772, 0.6653, 0.0000, 0.5612,\n",
       "         0.7462],\n",
       "        [0.6667, 0.2222, 0.2353, 0.2692, 0.2452, 0.2831, 0.6681, 0.0000, 0.5824,\n",
       "         0.7045],\n",
       "        [0.6667, 0.2778, 0.2941, 0.3077, 0.2410, 0.2654, 0.6695, 0.2000, 0.6011,\n",
       "         0.7121],\n",
       "        [0.6667, 0.3333, 0.3529, 0.3462, 0.2182, 0.2081, 0.6751, 0.6000, 0.6410,\n",
       "         0.7462],\n",
       "        [0.6944, 0.3333, 0.3529, 0.3462, 0.1667, 0.1348, 0.6780, 0.7000, 0.6569,\n",
       "         0.7121],\n",
       "        [0.6667, 0.3333, 0.3529, 0.3462, 0.1864, 0.0960, 0.6794, 0.6000, 0.6702,\n",
       "         0.6136],\n",
       "        [0.5556, 0.2778, 0.2941, 0.3077, 0.1587, 0.0826, 0.6794, 0.2000, 0.6569,\n",
       "         0.7348],\n",
       "        [0.5556, 0.2778, 0.2941, 0.3077, 0.1794, 0.1222, 0.6751, 0.2000, 0.6649,\n",
       "         0.6780],\n",
       "        [0.5278, 0.2778, 0.2941, 0.3077, 0.2430, 0.1390, 0.6653, 0.0000, 0.6755,\n",
       "         0.7045],\n",
       "        [0.5000, 0.3333, 0.2941, 0.3462, 0.2223, 0.1457, 0.6624, 0.2000, 0.6755,\n",
       "         0.6061],\n",
       "        [0.4722, 0.3889, 0.3529, 0.3462, 0.1836, 0.0851, 0.6525, 0.0000, 0.6702,\n",
       "         0.6591],\n",
       "        [0.5833, 0.5000, 0.4706, 0.4615, 0.2007, 0.1398, 0.6497, 0.0000, 0.6569,\n",
       "         0.6818],\n",
       "        [0.5833, 0.4444, 0.5294, 0.5385, 0.2192, 0.1095, 0.6483, 0.0000, 0.5745,\n",
       "         0.7424],\n",
       "        [0.5833, 0.3333, 0.3529, 0.4231, 0.2141, 0.1003, 0.6455, 0.0000, 0.5399,\n",
       "         0.7652],\n",
       "        [0.4444, 0.1667, 0.1765, 0.3077, 0.1392, 0.1011, 0.6412, 0.0000, 0.5426,\n",
       "         0.7841],\n",
       "        [0.4444, 0.1667, 0.2353, 0.2692, 0.1520, 0.1407, 0.6384, 0.0000, 0.5293,\n",
       "         0.7538],\n",
       "        [0.4444, 0.3333, 0.2353, 0.2692, 0.1921, 0.1104, 0.6299, 0.0000, 0.5346,\n",
       "         0.7652],\n",
       "        [0.4444, 0.3333, 0.2941, 0.3077, 0.1391, 0.1154, 0.6229, 0.0000, 0.5426,\n",
       "         0.7879],\n",
       "        [0.4444, 0.2778, 0.2941, 0.3462, 0.1448, 0.1356, 0.6130, 0.0000, 0.5532,\n",
       "         0.8068],\n",
       "        [0.5278, 0.2778, 0.2941, 0.3077, 0.1473, 0.1078, 0.6073, 0.0000, 0.5691,\n",
       "         0.8106],\n",
       "        [0.4444, 0.2778, 0.2941, 0.3077, 0.1281, 0.1323, 0.5876, 0.0000, 0.5665,\n",
       "         0.8144],\n",
       "        [0.4444, 0.3333, 0.3529, 0.3462, 0.1263, 0.1213, 0.5749, 0.0000, 0.5638,\n",
       "         0.7992],\n",
       "        [0.4444, 0.2222, 0.2941, 0.3846, 0.1147, 0.0868, 0.5621, 0.0000, 0.5638,\n",
       "         0.8030],\n",
       "        [0.5000, 0.2222, 0.2941, 0.2692, 0.1055, 0.0952, 0.5565, 0.0000, 0.5691,\n",
       "         0.7992],\n",
       "        [0.5278, 0.2222, 0.2353, 0.2692, 0.1324, 0.1095, 0.5551, 0.0000, 0.5665,\n",
       "         0.8144],\n",
       "        [0.5000, 0.2778, 0.2941, 0.3077, 0.1792, 0.1685, 0.5438, 0.0000, 0.5931,\n",
       "         0.8220],\n",
       "        [0.5833, 0.3889, 0.3529, 0.3846, 0.2374, 0.1853, 0.5381, 0.7000, 0.6489,\n",
       "         0.8447],\n",
       "        [0.5833, 0.5000, 0.4706, 0.4615, 0.2677, 0.1474, 0.5410, 0.1000, 0.6090,\n",
       "         0.8485],\n",
       "        [0.6111, 0.4444, 0.4706, 0.5000, 0.2115, 0.1095, 0.5438, 0.1000, 0.6170,\n",
       "         0.8371],\n",
       "        [0.6389, 0.5556, 0.5294, 0.5385, 0.1690, 0.0986, 0.5466, 0.3000, 0.6809,\n",
       "         0.7803],\n",
       "        [0.6389, 0.7778, 0.7647, 0.7308, 0.1104, 0.0783, 0.5523, 0.8000, 0.6649,\n",
       "         0.7083],\n",
       "        [0.6389, 0.7778, 0.8235, 0.8077, 0.1179, 0.0573, 0.5537, 0.8000, 0.6569,\n",
       "         0.6477],\n",
       "        [0.6389, 0.8889, 0.8824, 0.8462, 0.0981, 0.0261, 0.5579, 1.0000, 0.6862,\n",
       "         0.6780],\n",
       "        [0.6667, 0.8333, 0.8235, 0.8077, 0.0767, 0.0329, 0.5607, 0.9000, 0.6702,\n",
       "         0.7197],\n",
       "        [0.6389, 0.8333, 0.8235, 0.8077, 0.1024, 0.0303, 0.5636, 0.3000, 0.6436,\n",
       "         0.7121],\n",
       "        [0.6389, 0.8333, 0.8824, 0.8077, 0.0686, 0.0337, 0.5607, 0.6000, 0.6649,\n",
       "         0.6856],\n",
       "        [0.6389, 0.7222, 0.8824, 0.8077, 0.0797, 0.0278, 0.5650, 0.9000, 0.6516,\n",
       "         0.6477],\n",
       "        [0.6667, 0.7222, 0.7647, 0.7308, 0.0473, 0.0236, 0.5678, 0.8000, 0.6356,\n",
       "         0.6932],\n",
       "        [0.6389, 0.5556, 0.6471, 0.7308, 0.0460, 0.0219, 0.5706, 0.7000, 0.6197,\n",
       "         0.6970],\n",
       "        [0.6389, 0.5556, 0.7059, 0.6538, 0.0428, 0.0303, 0.5720, 0.0000, 0.6011,\n",
       "         0.6932],\n",
       "        [0.6111, 0.4444, 0.5294, 0.5769, 0.0389, 0.0371, 0.5720, 0.0000, 0.5798,\n",
       "         0.6780],\n",
       "        [0.6389, 0.5000, 0.4706, 0.5000, 0.0452, 0.0345, 0.5734, 0.0000, 0.5798,\n",
       "         0.7121],\n",
       "        [0.6389, 0.4444, 0.4706, 0.5000, 0.0406, 0.0421, 0.5692, 0.0000, 0.5798,\n",
       "         0.7424],\n",
       "        [0.6389, 0.4444, 0.4706, 0.4615, 0.0350, 0.0253, 0.5664, 0.0000, 0.5771,\n",
       "         0.7424]])"
      ]
     },
     "execution_count": 15,
     "metadata": {},
     "output_type": "execute_result"
    }
   ],
   "source": [
    "train_dataset.pairs[0][0]"
   ]
  },
  {
   "cell_type": "code",
   "execution_count": 16,
   "metadata": {},
   "outputs": [
    {
     "data": {
      "text/plain": [
       "tensor([[0.1263],\n",
       "        [0.1147],\n",
       "        [0.1055],\n",
       "        [0.1324],\n",
       "        [0.1792],\n",
       "        [0.2374],\n",
       "        [0.2677],\n",
       "        [0.2115],\n",
       "        [0.1690],\n",
       "        [0.1104],\n",
       "        [0.1179],\n",
       "        [0.0981],\n",
       "        [0.0767],\n",
       "        [0.1024],\n",
       "        [0.0686],\n",
       "        [0.0797],\n",
       "        [0.0473],\n",
       "        [0.0460],\n",
       "        [0.0428],\n",
       "        [0.0389],\n",
       "        [0.0452],\n",
       "        [0.0406],\n",
       "        [0.0350],\n",
       "        [0.0478]])"
      ]
     },
     "execution_count": 16,
     "metadata": {},
     "output_type": "execute_result"
    }
   ],
   "source": [
    "train_dataset.pairs[0][1]"
   ]
  },
  {
   "cell_type": "markdown",
   "metadata": {},
   "source": [
    "## Confirmation that the dataset has column indexes the same as those in ``config.py``\n",
    "Indexes are used mainly for the physics calculations, in order to accurately extract the information needed"
   ]
  },
  {
   "cell_type": "code",
   "execution_count": 17,
   "metadata": {},
   "outputs": [
    {
     "name": "stdout",
     "output_type": "stream",
     "text": [
      "No2 Oudemeer idx:  5\n",
      "No2 Haarlem idx:  4\n",
      "wind dir (dd) idx:  0\n",
      "wind speed (fh) idx:  2\n",
      "Column indices are same as config.py\n"
     ]
    }
   ],
   "source": [
    "# Assuming train_dataset.u[0] is a pandas Index object with column names\n",
    "column_names = list(train_dataset.u[0])  # Convert Index to list\n",
    "\n",
    "\n",
    "print(\"No2 Oudemeer idx: \", column_names.index('NO2_OUDEMEER'))\n",
    "print(\"No2 Haarlem idx: \", column_names.index('NO2_HAARLEM'))\n",
    "print(\"wind dir (dd) idx: \", column_names.index('DD'))\n",
    "print(\"wind speed (fh) idx: \", column_names.index('FH'))\n",
    "\n",
    "# check if the indices are the same as whats defined in config.py\n",
    "assert column_names.index('NO2_OUDEMEER')== NO2_OUDEMEER_IDX\n",
    "assert column_names.index('NO2_HAARLEM') == NO2_HAARLEM_IDX\n",
    "assert column_names.index('DD') == WIND_DIR_IDX\n",
    "assert column_names.index('FH') == WIND_SPEED_IDX\n",
    "print(\"Column indices are same as config.py\")\n",
    "\n"
   ]
  },
  {
   "cell_type": "code",
   "execution_count": 18,
   "metadata": {},
   "outputs": [
    {
     "data": {
      "text/plain": [
       "DateTime\n",
       "2017-08-01 00:00:00    0.245998\n",
       "2017-08-01 01:00:00    0.273799\n",
       "2017-08-01 02:00:00    0.279697\n",
       "2017-08-01 03:00:00    0.219040\n",
       "2017-08-01 04:00:00    0.253580\n",
       "                         ...   \n",
       "2017-12-30 19:00:00    0.072452\n",
       "2017-12-30 20:00:00    0.084246\n",
       "2017-12-30 21:00:00    0.114575\n",
       "2017-12-30 22:00:00    0.090143\n",
       "2017-12-30 23:00:00    0.090143\n",
       "Name: NO2_OUDEMEER, Length: 3648, dtype: float64"
      ]
     },
     "execution_count": 18,
     "metadata": {},
     "output_type": "execute_result"
    }
   ],
   "source": [
    "train_dataset.u[0].iloc[:,NO2_TUINDORP_IDX]"
   ]
  },
  {
   "cell_type": "code",
   "execution_count": 19,
   "metadata": {},
   "outputs": [
    {
     "data": {
      "text/plain": [
       "DateTime\n",
       "2017-08-01 00:00:00    0.142376\n",
       "2017-08-01 01:00:00    0.145409\n",
       "2017-08-01 02:00:00    0.145409\n",
       "2017-08-01 03:00:00    0.135636\n",
       "2017-08-01 04:00:00    0.181045\n",
       "                         ...   \n",
       "2017-12-30 19:00:00    0.102359\n",
       "2017-12-30 20:00:00    0.096799\n",
       "2017-12-30 21:00:00    0.111879\n",
       "2017-12-30 22:00:00    0.119377\n",
       "2017-12-30 23:00:00    0.106655\n",
       "Name: NO2_HAARLEM, Length: 3648, dtype: float64"
      ]
     },
     "execution_count": 19,
     "metadata": {},
     "output_type": "execute_result"
    }
   ],
   "source": [
    "train_dataset.u[0].iloc[:,NO2_BREUKELEN_IDX]"
   ]
  },
  {
   "cell_type": "code",
   "execution_count": 20,
   "metadata": {},
   "outputs": [
    {
     "data": {
      "text/plain": [
       "DateTime\n",
       "2017-08-01 00:00:00    0.333333\n",
       "2017-08-01 01:00:00    0.000000\n",
       "2017-08-01 02:00:00    0.472222\n",
       "2017-08-01 03:00:00    0.361111\n",
       "2017-08-01 04:00:00    0.527778\n",
       "                         ...   \n",
       "2017-12-30 19:00:00    0.694444\n",
       "2017-12-30 20:00:00    0.694444\n",
       "2017-12-30 21:00:00    0.694444\n",
       "2017-12-30 22:00:00    0.694444\n",
       "2017-12-30 23:00:00    0.638889\n",
       "Name: DD, Length: 3648, dtype: float64"
      ]
     },
     "execution_count": 20,
     "metadata": {},
     "output_type": "execute_result"
    }
   ],
   "source": [
    "train_dataset.u[0].iloc[:,WIND_DIR_IDX]"
   ]
  },
  {
   "cell_type": "code",
   "execution_count": 21,
   "metadata": {},
   "outputs": [
    {
     "data": {
      "text/plain": [
       "DateTime\n",
       "2017-08-01 00:00:00    0.058824\n",
       "2017-08-01 01:00:00    0.058824\n",
       "2017-08-01 02:00:00    0.058824\n",
       "2017-08-01 03:00:00    0.058824\n",
       "2017-08-01 04:00:00    0.058824\n",
       "                         ...   \n",
       "2017-12-30 19:00:00    0.529412\n",
       "2017-12-30 20:00:00    0.529412\n",
       "2017-12-30 21:00:00    0.470588\n",
       "2017-12-30 22:00:00    0.470588\n",
       "2017-12-30 23:00:00    0.411765\n",
       "Name: FH, Length: 3648, dtype: float64"
      ]
     },
     "execution_count": 21,
     "metadata": {},
     "output_type": "execute_result"
    }
   ],
   "source": [
    "train_dataset.u[0].iloc[:,WIND_SPEED_IDX]"
   ]
  },
  {
   "cell_type": "markdown",
   "metadata": {},
   "source": [
    "## Tuning Hyperparameters with Optuna"
   ]
  },
  {
   "cell_type": "code",
   "execution_count": 22,
   "metadata": {},
   "outputs": [
    {
     "name": "stdout",
     "output_type": "stream",
     "text": [
      "tuning with loss function:  PINN\n",
      "tuning with nn type:  MLP\n"
     ]
    }
   ],
   "source": [
    "print(\"tuning with loss function: \", LOSS_FUNC)\n",
    "print(\"tuning with nn type: \", NN_TYPE)"
   ]
  },
  {
   "cell_type": "code",
   "execution_count": 23,
   "metadata": {},
   "outputs": [],
   "source": [
    "import random\n",
    "def set_seed(seed):\n",
    "    random.seed(seed)\n",
    "    np.random.seed(seed)\n",
    "    torch.manual_seed(seed)\n",
    "    torch.cuda.manual_seed_all(seed)\n",
    "    torch.backends.cudnn.deterministic = True\n",
    "    torch.backends.cudnn.benchmark = False"
   ]
  },
  {
   "cell_type": "markdown",
   "metadata": {},
   "source": [
    "## Save the params to a file\n",
    "Parameters saved in ``src/results/transferability/best_params_MLP_no2_PINN_allyears.txt``"
   ]
  },
  {
   "cell_type": "code",
   "execution_count": 24,
   "metadata": {},
   "outputs": [],
   "source": [
    "import json\n",
    "best_params_file_path = f\"{RESULTS_PATH}/best_params/{BESTPARAMS_FILENAME}\""
   ]
  },
  {
   "cell_type": "markdown",
   "metadata": {},
   "source": [
    "## Read params from file"
   ]
  },
  {
   "cell_type": "code",
   "execution_count": 25,
   "metadata": {},
   "outputs": [
    {
     "name": "stdout",
     "output_type": "stream",
     "text": [
      "Loaded Best Parameters: {'n_hidden_layers': 5, 'n_hidden_units': 110, 'lr': 5.000010089761398e-05, 'weight_decay': 1.2857958559390203e-07, 'lambda_phy': 0.0026498140983581076, 'batch_size': 16}\n"
     ]
    }
   ],
   "source": [
    "with open(best_params_file_path, \"r\") as f:\n",
    "    best_params = json.load(f)  # Automatically converts it to a dictionary\n",
    "\n",
    "print(\"Loaded Best Parameters:\", best_params)\n"
   ]
  },
  {
   "cell_type": "code",
   "execution_count": 26,
   "metadata": {},
   "outputs": [],
   "source": [
    "set_seed(42)\n",
    "# Train the model with the best hyperparameters\n",
    "best_model = BasicMLP(\n",
    "    N_INPUT_UNITS=train_dataset.__n_features_in__(),\n",
    "    N_HIDDEN_LAYERS=best_params[\"n_hidden_layers\"],\n",
    "    N_HIDDEN_UNITS=best_params[\"n_hidden_units\"],\n",
    "    N_OUTPUT_UNITS=train_dataset.__n_features_out__(),\n",
    "    loss_function=LOSS_FUNC,\n",
    ")\n",
    "# Create train & validation loaders with the best batch size\n",
    "train_loader = DataLoader(train_dataset, batch_size=best_params[\"batch_size\"], shuffle=True)\n",
    "val_loader = DataLoader(val_dataset, batch_size=best_params[\"batch_size\"], shuffle=False)\n"
   ]
  },
  {
   "cell_type": "markdown",
   "metadata": {},
   "source": [
    "## Test and Save Results\n",
    "Results saved in ``src/results/transferability/results_MLP_no2_PINN_allyears.csv``"
   ]
  },
  {
   "cell_type": "code",
   "execution_count": 27,
   "metadata": {},
   "outputs": [
    {
     "name": "stdout",
     "output_type": "stream",
     "text": [
      "Test MSE Loss: 85.029214\n",
      "Test RMSE Loss: 8.008382\n",
      "Test SMAPE Loss: 36.464833%\n",
      "Total Inference Time: 0.18 seconds\n"
     ]
    }
   ],
   "source": [
    "best_model.load_state_dict(torch.load(f\"{MODEL_PATH}/{MODEL_PATH_NAME}\", map_location=device))\n",
    "best_model.eval()\n",
    "\n",
    "# Create the DataLoader for the test dataset\n",
    "test_loader = DataLoader(test_dataset, batch_size=best_params[\"batch_size\"], shuffle=False)\n",
    "\n",
    "# Evaluate the model on the test dataset\n",
    "df_minmax = pd.read_csv(MINMAX_PATH, sep=';')\n",
    "min_value = df_minmax[\"min\"].values\n",
    "max_value = df_minmax[\"max\"].values\n",
    "mse, rmse, smape, inference_time = best_model.test_model(test_loader, min_value=min_value, max_value=max_value, device=device)\n",
    "\n"
   ]
  },
  {
   "cell_type": "code",
   "execution_count": 28,
   "metadata": {},
   "outputs": [
    {
     "name": "stdout",
     "output_type": "stream",
     "text": [
      "Results saved as results_MLP_no2_PINN_allyears_Amsterdam.csv in transferability folder\n"
     ]
    }
   ],
   "source": [
    "import csv\n",
    "\n",
    "# Define the CSV file path\n",
    "results_csv_path = f\"{RESULTS_PATH}/transferability/{RESULTS_METRICS_FILENAME}\"\n",
    "\n",
    "# Save metrics in a proper CSV format (header + values in one row)\n",
    "with open(results_csv_path, mode=\"w\", newline=\"\") as f:\n",
    "    writer = csv.writer(f)\n",
    "    \n",
    "    # Write header\n",
    "    writer.writerow([\"MSE\", \"RMSE\", \"SMAPE\", \"Inference Time\"])\n",
    "    \n",
    "    # Write values\n",
    "    writer.writerow([mse, rmse, smape, inference_time])\n",
    "\n",
    "print(f\"Results saved as {RESULTS_METRICS_FILENAME} in transferability folder\")"
   ]
  },
  {
   "cell_type": "markdown",
   "metadata": {},
   "source": [
    "## Plot Model predictions vs True values\n",
    "Plot saved ``src/results/transferability/plot_MLP_no2_PINN_allyears.png``"
   ]
  },
  {
   "cell_type": "code",
   "execution_count": 29,
   "metadata": {},
   "outputs": [
    {
     "data": {
      "image/png": "[encoded data removed]",
      "text/plain": [
       "<Figure size 1500x500 with 1 Axes>"
      ]
     },
     "metadata": {},
     "output_type": "display_data"
    }
   ],
   "source": [
    "import torch \n",
    "import matplotlib.pyplot as plt\n",
    "import pandas as pd\n",
    "import numpy as np\n",
    "\n",
    "# Load min and max values for denormalization\n",
    "df_minmax = pd.read_csv(MINMAX_PATH, sep=';')\n",
    "min_value = torch.tensor(df_minmax[\"min\"].values, dtype=torch.float32)  # shape: (N_OUTPUT_UNITS,)\n",
    "max_value = torch.tensor(df_minmax[\"max\"].values, dtype=torch.float32)  # shape: (N_OUTPUT_UNITS,)\n",
    "\n",
    "# Dynamically detect device\n",
    "device = torch.device(\"cuda\" if torch.cuda.is_available() else \"cpu\")\n",
    "\n",
    "# Ensure model is on the right device and in eval mode\n",
    "best_model.to(device)\n",
    "best_model.eval()\n",
    "\n",
    "y_preds = []\n",
    "y_trues = []\n",
    "\n",
    "# Iterate through the test set and collect predictions & ground truth\n",
    "with torch.no_grad():\n",
    "    for batch in test_loader:\n",
    "        x_test, y_true = batch\n",
    "        x_test = x_test.to(device)\n",
    "        y_true = y_true.to(device)\n",
    "\n",
    "        # Get predictions\n",
    "        y_pred = best_model(x_test)\n",
    "\n",
    "        # Move to CPU and store\n",
    "        y_preds.append(y_pred.cpu())\n",
    "        y_trues.append(y_true.cpu())\n",
    "\n",
    "# Stack batches\n",
    "y_preds = torch.cat(y_preds, dim=0)  # shape: (batch_size, n_hours_y, n_outputs)\n",
    "y_trues = torch.cat(y_trues, dim=0)\n",
    "\n",
    "# Denormalize\n",
    "min_value = min_value.unsqueeze(0).unsqueeze(0)  # shape: (1, 1, n_outputs)\n",
    "max_value = max_value.unsqueeze(0).unsqueeze(0)\n",
    "y_preds_denorm = y_preds * (max_value - min_value) + min_value\n",
    "y_trues_denorm = y_trues * (max_value - min_value) + min_value\n",
    "\n",
    "# Convert to numpy for plotting\n",
    "y_preds_np = y_preds_denorm.numpy()\n",
    "y_trues_np = y_trues_denorm.numpy()\n",
    "\n",
    "# Plot 1 feature/channel (e.g., station 0)\n",
    "feature_idx = 0\n",
    "plt.figure(figsize=(15, 5))\n",
    "plt.plot(y_trues_np[:, :, feature_idx].flatten(), label=\"Ground Truth (NO₂)\", linestyle=\"-\", color=\"blue\")\n",
    "plt.plot(y_preds_np[:, :, feature_idx].flatten(), label=\"Predictions\", linestyle=\"-\", color=\"black\")\n",
    "\n",
    "plt.xlabel(\"Time Step\")\n",
    "plt.ylabel(\"NO₂ Level\")\n",
    "plt.title(f\"Predictions vs. Ground Truth (Denormalized) for Amsterdam with {NN_TYPE} and {LOSS_FUNC}\")\n",
    "plt.legend()\n",
    "plt.tight_layout()\n",
    "# Save the plot\n",
    "plt.savefig(f\"{RESULTS_PATH}/transferability/{PLOT_FILENAME}\")\n",
    "plt.show()\n"
   ]
  }
 ],
 "metadata": {
  "kernelspec": {
   "display_name": "venv",
   "language": "python",
   "name": "python3"
  },
  "language_info": {
   "codemirror_mode": {
    "name": "ipython",
    "version": 3
   },
   "file_extension": ".py",
   "mimetype": "text/x-python",
   "name": "python",
   "nbconvert_exporter": "python",
   "pygments_lexer": "ipython3",
   "version": "3.10.16"
  }
 },
 "nbformat": 4,
 "nbformat_minor": 2
}
