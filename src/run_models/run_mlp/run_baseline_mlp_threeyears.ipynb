{
 "cells": [
  {
   "cell_type": "markdown",
   "metadata": {},
   "source": [
    "# **Baseline Simple MLP with just MSE**\n"
   ]
  },
  {
   "cell_type": "markdown",
   "metadata": {},
   "source": [
    "## **Running the models using the 'modelling' package**\n",
    "\n",
    "A notebook through which different modelling configurations can be ran, using the ``modelling`` package. It follows the steps of:\n",
    "- preparing packages;\n",
    "- setting \"global\" variables;\n",
    "- getting the data;\n",
    "- defining hyperparameters;\n",
    "- running a Optuna hyperparameters optimisation and/or training a model; and\n",
    "- evaluation.\n",
    "In the modelling package, variations can be made to the models and training functions to experiment. Don't forget to restart the notebook after making changes there.\n",
    "\n",
    "## **IMPORTANT NOTE**: \n",
    "- do preprocessing from ``preprocess.ipynb`` to obtain data in ``data/data_combined``, before starting this notebook\n",
    "- make sure the notebook is under ``src`` directory before running!\n",
    "- change the global variables defined below for the desired years of data, loss function and NN type\n",
    "\n"
   ]
  },
  {
   "cell_type": "code",
   "execution_count": 1,
   "metadata": {},
   "outputs": [
    {
     "name": "stdout",
     "output_type": "stream",
     "text": [
      "Starting script...\n",
      "\n",
      "Running __init__.py for data pipeline...\n"
     ]
    },
    {
     "name": "stdout",
     "output_type": "stream",
     "text": [
      "Modelling package initialized\n",
      "\n"
     ]
    }
   ],
   "source": [
    "print(\"Starting script...\")\n",
    "\n",
    "\n",
    "from modelling.MLP import BasicMLP\n",
    "from modelling import *\n",
    "\n",
    "\n",
    "import optuna\n",
    "import threading\n",
    "import os\n",
    "from pathlib import Path\n",
    "import datetime\n",
    "import numpy as np\n",
    "import pandas as pd\n",
    "import torch\n",
    "import torch.nn as nn\n",
    "import torch.optim as optim\n",
    "from torch.utils.data import DataLoader\n",
    "from torch.utils.data import ConcatDataset"
   ]
  },
  {
   "cell_type": "markdown",
   "metadata": {},
   "source": [
    "Use GPU when available"
   ]
  },
  {
   "cell_type": "code",
   "execution_count": 2,
   "metadata": {},
   "outputs": [
    {
     "name": "stdout",
     "output_type": "stream",
     "text": [
      "Device:  cpu\n"
     ]
    }
   ],
   "source": [
    "use_cuda = torch.cuda.is_available()\n",
    "device = torch.device(\"cuda\" if use_cuda else \"cpu\")\n",
    "print(\"Device: \", device)"
   ]
  },
  {
   "cell_type": "markdown",
   "metadata": {},
   "source": [
    "### **Set \"global\" variables**"
   ]
  },
  {
   "cell_type": "code",
   "execution_count": 3,
   "metadata": {},
   "outputs": [
    {
     "data": {
      "text/plain": [
       "PosixPath('/home/rachel/forecasting_smog_PEML/src')"
      ]
     },
     "execution_count": 3,
     "metadata": {},
     "output_type": "execute_result"
    }
   ],
   "source": [
    "Path.cwd()"
   ]
  },
  {
   "cell_type": "code",
   "execution_count": 4,
   "metadata": {},
   "outputs": [
    {
     "data": {
      "text/plain": [
       "<module 'config' from '/home/rachel/forecasting_smog_PEML/src/config.py'>"
      ]
     },
     "execution_count": 4,
     "metadata": {},
     "output_type": "execute_result"
    }
   ],
   "source": [
    "import importlib\n",
    "import config\n",
    "importlib.reload(config)"
   ]
  },
  {
   "cell_type": "code",
   "execution_count": 5,
   "metadata": {},
   "outputs": [],
   "source": [
    "from config import *"
   ]
  },
  {
   "cell_type": "code",
   "execution_count": 6,
   "metadata": {},
   "outputs": [
    {
     "name": "stdout",
     "output_type": "stream",
     "text": [
      "BASE_DIR:  /home/rachel/forecasting_smog_PEML\n",
      "MODEL_PATH:  /home/rachel/forecasting_smog_PEML/src/results/models\n",
      "Results path:  /home/rachel/forecasting_smog_PEML/src/results\n"
     ]
    },
    {
     "data": {
      "text/plain": [
       "<torch._C.Generator at 0x7f332a09a0b0>"
      ]
     },
     "execution_count": 6,
     "metadata": {},
     "output_type": "execute_result"
    }
   ],
   "source": [
    "HABROK = bool(0)                  # set to True if using HABROK; it will print\n",
    "                                  # all stdout to a .txt file to log progress\n",
    "\n",
    "\n",
    "print(\"BASE_DIR: \", BASE_DIR)\n",
    "print(\"MODEL_PATH: \", MODEL_PATH)\n",
    "print(\"Results path: \", RESULTS_PATH)\n",
    "\n",
    "torch.manual_seed(34)             # set seed for reproducibility\n"
   ]
  },
  {
   "cell_type": "markdown",
   "metadata": {},
   "source": [
    "\n",
    "## MODIFY THESE GLOBAL VARIABLES FOR YOUR MODEL SCENARIO\n",
    "all other variables are defined in config.py\n",
    "\n",
    "LOSS_FUNC: choose from \n",
    "- MSE\n",
    "- LinearShift_MSE\n",
    "- PDE_nmer_const\n",
    "- PDE_nmer_piece\n",
    "- PINN"
   ]
  },
  {
   "cell_type": "code",
   "execution_count": 7,
   "metadata": {},
   "outputs": [],
   "source": [
    "# Change this according to the data you want to use\n",
    "YEARS = [2017, 2018, 2020]\n",
    "TRAIN_YEARS = [2017, 2018, 2020]\n",
    "VAL_YEARS = [2017, 2018, 2020]\n",
    "TEST_YEARS = [2017, 2018, 2020]\n",
    "\n",
    "# for loss.py and also naming of file names\n",
    "LOSS_FUNC = \"MSE\" # choose from the above list\n",
    "NN_TYPE = \"MLP\" "
   ]
  },
  {
   "cell_type": "markdown",
   "metadata": {},
   "source": [
    "## Automated Generation of paths and filenames according to data years, loss func, NN type\n",
    "- will be used throughout the whole notebook\n",
    "- check ``config.py`` for global variables defined outside the notebook"
   ]
  },
  {
   "cell_type": "code",
   "execution_count": 8,
   "metadata": {},
   "outputs": [
    {
     "name": "stdout",
     "output_type": "stream",
     "text": [
      "MINMAX_PATH:  /home/rachel/forecasting_smog_PEML/data/data_combined/first_3_years/pollutants_minmax_2017_2018_2020.csv\n",
      "DATASET_PATH:  /home/rachel/forecasting_smog_PEML/data/data_combined/first_3_years\n",
      "MODEL_PATH_NAME:  best_MLP_no2_MSE_first_3_years.pth\n",
      "RESULTS_METRICS_FILENAME:  results_MLP_no2_MSE_first_3_years.csv\n",
      "BESTPARAMS_FILENAME:  best_params_MLP_no2_MSE_first_3_years.txt\n",
      "PLOT_FILENAME:  plot_MLP_no2_MSE_first_3_years.png\n"
     ]
    }
   ],
   "source": [
    "if YEARS == [2017, 2018, 2020, 2021, 2022, 2023]:\n",
    "    years = \"allyears\"\n",
    "    MINMAX_PATH = MINMAX_PATH_ALLYEARS\n",
    "    DATASET_PATH = DATASET_PATH_ALLYEARS\n",
    "    \n",
    "    print(\"Using all years\")\n",
    "    \n",
    "elif YEARS == [2017]:\n",
    "    years = \"2017\"\n",
    "    MINMAX_PATH = MINMAX_PATH_2017\n",
    "    DATASET_PATH = DATASET_PATH_2017\n",
    "    print(\"Using 2017\")\n",
    "elif YEARS == [2017, 2018, 2020]:\n",
    "    years = \"first_3_years\"\n",
    "    MINMAX_PATH = MINMAX_PATH_FIRST3YEARS\n",
    "    DATASET_PATH = DATASET_PATH_FIRST3YEARS\n",
    "else:\n",
    "    raise ValueError(\"Invalid years selected\")\n",
    "\n",
    "\n",
    "MODEL_PATH_NAME = f'best_{NN_TYPE}_no2_{LOSS_FUNC}_{years}.pth'\n",
    "RESULTS_METRICS_FILENAME = f'results_{NN_TYPE}_no2_{LOSS_FUNC}_{years}.csv'\n",
    "BESTPARAMS_FILENAME = f'best_params_{NN_TYPE}_no2_{LOSS_FUNC}_{years}.txt'\n",
    "PLOT_FILENAME = f'plot_{NN_TYPE}_no2_{LOSS_FUNC}_{years}.png'\n",
    "print(\"MINMAX_PATH: \", MINMAX_PATH)\n",
    "print(\"DATASET_PATH: \", DATASET_PATH)\n",
    "print(\"MODEL_PATH_NAME: \", MODEL_PATH_NAME)\n",
    "print(\"RESULTS_METRICS_FILENAME: \", RESULTS_METRICS_FILENAME)\n",
    "print(\"BESTPARAMS_FILENAME: \", BESTPARAMS_FILENAME)\n",
    "print(\"PLOT_FILENAME: \", PLOT_FILENAME)"
   ]
  },
  {
   "cell_type": "markdown",
   "metadata": {},
   "source": [
    "### **Load in data and create PyTorch *Datasets***"
   ]
  },
  {
   "cell_type": "code",
   "execution_count": 9,
   "metadata": {},
   "outputs": [
    {
     "name": "stdout",
     "output_type": "stream",
     "text": [
      "Imported train_2017_combined_u.csv\n",
      "Imported train_2018_combined_u.csv\n",
      "Imported train_2020_combined_u.csv\n",
      "Imported train_2017_combined_y.csv\n",
      "Imported train_2018_combined_y.csv\n",
      "Imported train_2020_combined_y.csv\n",
      "Imported val_2017_combined_u.csv\n",
      "Imported val_2018_combined_u.csv\n",
      "Imported val_2020_combined_u.csv\n",
      "Imported val_2017_combined_y.csv\n",
      "Imported val_2018_combined_y.csv\n",
      "Imported val_2020_combined_y.csv\n",
      "Imported test_2017_combined_u.csv\n",
      "Imported test_2018_combined_u.csv\n",
      "Imported test_2020_combined_u.csv\n",
      "Imported test_2017_combined_y.csv\n",
      "Imported test_2018_combined_y.csv\n",
      "Imported test_2020_combined_y.csv\n",
      "Successfully loaded data\n"
     ]
    }
   ],
   "source": [
    "# Load in data and create PyTorch Datasets. To tune\n",
    "# which exact .csv files get extracted, change the\n",
    "# lists in the get_dataframes() definition\n",
    "\n",
    "train_input_frames = get_dataframes('train', 'u', YEARS, DATASET_PATH)\n",
    "train_output_frames = get_dataframes('train', 'y', YEARS, DATASET_PATH)\n",
    "\n",
    "val_input_frames = get_dataframes('val', 'u', YEARS, DATASET_PATH)\n",
    "val_output_frames = get_dataframes('val', 'y', YEARS, DATASET_PATH)\n",
    "\n",
    "test_input_frames = get_dataframes('test', 'u', YEARS, DATASET_PATH)\n",
    "test_output_frames = get_dataframes('test', 'y', YEARS, DATASET_PATH)\n",
    "\n",
    "print(\"Successfully loaded data\")"
   ]
  },
  {
   "cell_type": "code",
   "execution_count": 10,
   "metadata": {},
   "outputs": [
    {
     "data": {
      "text/plain": [
       "[                           DD        FF   FH        FX  NO2_BREUKELEN  \\\n",
       " DateTime                                                                \n",
       " 2017-08-01 00:00:00  0.166667  0.083333  0.1  0.045455       0.207556   \n",
       " 2017-08-01 01:00:00  0.000000  0.000000  0.1  0.090909       0.140351   \n",
       " 2017-08-01 02:00:00  0.000000  0.000000  0.0  0.045455       0.252483   \n",
       " 2017-08-01 03:00:00  0.277778  0.083333  0.0  0.045455       0.379467   \n",
       " 2017-08-01 04:00:00  0.805556  0.166667  0.1  0.136364       0.426715   \n",
       " ...                       ...       ...  ...       ...            ...   \n",
       " 2017-11-16 19:00:00  0.750000  0.166667  0.3  0.227273       0.536527   \n",
       " 2017-11-16 20:00:00  0.972222  0.250000  0.3  0.409091       0.407593   \n",
       " 2017-11-16 21:00:00  0.888889  0.083333  0.2  0.272727       0.430614   \n",
       " 2017-11-16 22:00:00  0.944444  0.166667  0.1  0.136364       0.418175   \n",
       " 2017-11-16 23:00:00  0.861111  0.083333  0.2  0.136364       0.422167   \n",
       " \n",
       "                      NO2_TUINDORP         P   SQ         T        TD  \n",
       " DateTime                                                              \n",
       " 2017-08-01 00:00:00      0.223383  0.533575  0.0  0.458689  0.675105  \n",
       " 2017-08-01 01:00:00      0.207092  0.539020  0.0  0.467236  0.687764  \n",
       " 2017-08-01 02:00:00      0.157895  0.531760  0.0  0.433048  0.641350  \n",
       " 2017-08-01 03:00:00      0.137659  0.528131  0.0  0.396011  0.590717  \n",
       " 2017-08-01 04:00:00      0.149633  0.528131  0.0  0.421652  0.616034  \n",
       " ...                           ...       ...  ...       ...       ...  \n",
       " 2017-11-16 19:00:00      0.465516  0.693285  0.0  0.333333  0.481013  \n",
       " 2017-11-16 20:00:00      0.455583  0.711434  0.0  0.301994  0.434599  \n",
       " 2017-11-16 21:00:00      0.215446  0.720508  0.0  0.282051  0.409283  \n",
       " 2017-11-16 22:00:00      0.108234  0.724138  0.0  0.262108  0.383966  \n",
       " 2017-11-16 23:00:00      0.191590  0.733212  0.0  0.213675  0.303797  \n",
       " \n",
       " [2592 rows x 10 columns],\n",
       "                            DD        FF   FH        FX  NO2_BREUKELEN  \\\n",
       " DateTime                                                                \n",
       " 2018-08-01 00:00:00  0.166667  0.083333  0.1  0.045455       0.572728   \n",
       " 2018-08-01 01:00:00  0.000000  0.000000  0.0  0.045455       0.490485   \n",
       " 2018-08-01 02:00:00  0.000000  0.000000  0.0  0.045455       0.511928   \n",
       " 2018-08-01 03:00:00  0.055556  0.083333  0.1  0.045455       0.430428   \n",
       " 2018-08-01 04:00:00  0.194444  0.083333  0.1  0.045455       0.387450   \n",
       " ...                       ...       ...  ...       ...            ...   \n",
       " 2018-11-16 19:00:00  0.250000  0.166667  0.2  0.136364       0.291469   \n",
       " 2018-11-16 20:00:00  0.305556  0.250000  0.2  0.181818       0.278010   \n",
       " 2018-11-16 21:00:00  0.305556  0.250000  0.3  0.181818       0.305857   \n",
       " 2018-11-16 22:00:00  0.222222  0.166667  0.2  0.181818       0.311984   \n",
       " 2018-11-16 23:00:00  0.277778  0.250000  0.3  0.227273       0.315882   \n",
       " \n",
       "                      NO2_TUINDORP         P   SQ         T        TD  \n",
       " DateTime                                                              \n",
       " 2018-08-01 00:00:00      0.247192  0.658802  0.0  0.384615  0.565401  \n",
       " 2018-08-01 01:00:00      0.252762  0.662432  0.0  0.376068  0.548523  \n",
       " 2018-08-01 02:00:00      0.217024  0.658802  0.0  0.358974  0.523207  \n",
       " 2018-08-01 03:00:00      0.189177  0.658802  0.0  0.358974  0.523207  \n",
       " 2018-08-01 04:00:00      0.243665  0.660617  0.3  0.393162  0.578059  \n",
       " ...                           ...       ...  ...       ...       ...  \n",
       " 2018-11-16 19:00:00      0.427086  0.805808  0.0  0.119658  0.164557  \n",
       " 2018-11-16 20:00:00      0.417804  0.809437  0.0  0.105413  0.147679  \n",
       " 2018-11-16 21:00:00      0.427643  0.814882  0.0  0.102564  0.139241  \n",
       " 2018-11-16 22:00:00      0.388935  0.818512  0.0  0.096866  0.139241  \n",
       " 2018-11-16 23:00:00      0.390885  0.820327  0.0  0.111111  0.147679  \n",
       " \n",
       " [2592 rows x 10 columns],\n",
       "                            DD        FF   FH        FX  NO2_BREUKELEN  \\\n",
       " DateTime                                                                \n",
       " 2020-08-01 00:00:00  0.527778  0.166667  0.3  0.318182       0.115845   \n",
       " 2020-08-01 01:00:00  0.250000  0.083333  0.2  0.227273       0.173953   \n",
       " 2020-08-01 02:00:00  0.611111  0.166667  0.3  0.409091       0.117702   \n",
       " 2020-08-01 03:00:00  0.750000  0.083333  0.1  0.181818       0.153439   \n",
       " 2020-08-01 04:00:00  0.666667  0.166667  0.2  0.181818       0.236239   \n",
       " ...                       ...       ...  ...       ...            ...   \n",
       " 2020-11-16 19:00:00  0.611111  0.333333  0.3  0.318182       0.219252   \n",
       " 2020-11-16 20:00:00  0.555556  0.250000  0.3  0.272727       0.276525   \n",
       " 2020-11-16 21:00:00  0.555556  0.416667  0.4  0.318182       0.297225   \n",
       " 2020-11-16 22:00:00  0.583333  0.333333  0.4  0.363636       0.197531   \n",
       " 2020-11-16 23:00:00  0.583333  0.416667  0.5  0.454545       0.183793   \n",
       " \n",
       "                      NO2_TUINDORP         P   SQ         T        TD  \n",
       " DateTime                                                              \n",
       " 2020-08-01 00:00:00      0.140722  0.509982  0.0  0.683761  0.721519  \n",
       " 2020-08-01 01:00:00      0.162722  0.477314  0.0  0.612536  0.831224  \n",
       " 2020-08-01 02:00:00      0.172654  0.502722  0.0  0.660969  0.822785  \n",
       " 2020-08-01 03:00:00      0.150283  0.508167  0.0  0.626781  0.835443  \n",
       " 2020-08-01 04:00:00      0.161886  0.509982  0.0  0.615385  0.793249  \n",
       " ...                           ...       ...  ...       ...       ...  \n",
       " 2020-11-16 19:00:00      0.283486  0.613430  0.0  0.299145  0.350211  \n",
       " 2020-11-16 20:00:00      0.199944  0.622505  0.0  0.293447  0.354430  \n",
       " 2020-11-16 21:00:00      0.196417  0.627949  0.0  0.316239  0.362869  \n",
       " 2020-11-16 22:00:00      0.221758  0.622505  0.0  0.319088  0.388186  \n",
       " 2020-11-16 23:00:00      0.172004  0.622505  0.0  0.336182  0.430380  \n",
       " \n",
       " [2592 rows x 10 columns]]"
      ]
     },
     "execution_count": 10,
     "metadata": {},
     "output_type": "execute_result"
    }
   ],
   "source": [
    "train_input_frames"
   ]
  },
  {
   "cell_type": "code",
   "execution_count": 11,
   "metadata": {},
   "outputs": [],
   "source": [
    "train_dataset = TimeSeriesDataset(\n",
    "    train_input_frames,  # list of input training dataframes\n",
    "    train_output_frames, # list of output training dataframes\n",
    "    len(TRAIN_YEARS),                   # number of dataframes put in for both\n",
    "                         # (basically len(train_input_frames) and\n",
    "                         # len(train_output_frames) must be equal)\n",
    "    N_HOURS_U,           # number of hours of input data\n",
    "    N_HOURS_Y,           # number of hours of output data\n",
    "    N_HOURS_STEP,        # number of hours between each input/output pair\n",
    ")\n",
    "val_dataset = TimeSeriesDataset(\n",
    "    val_input_frames,    # etc.\n",
    "    val_output_frames,\n",
    "    len(VAL_YEARS),\n",
    "    N_HOURS_U,\n",
    "    N_HOURS_Y,\n",
    "    N_HOURS_STEP,\n",
    ")\n",
    "test_dataset = TimeSeriesDataset(\n",
    "    test_input_frames,\n",
    "    test_output_frames,\n",
    "    len(TEST_YEARS),\n",
    "    N_HOURS_U,\n",
    "    N_HOURS_Y,\n",
    "    N_HOURS_STEP,\n",
    ")\n",
    "\n",
    "del train_input_frames, train_output_frames\n",
    "del val_input_frames, val_output_frames\n",
    "del test_input_frames, test_output_frames"
   ]
  },
  {
   "cell_type": "code",
   "execution_count": 12,
   "metadata": {},
   "outputs": [
    {
     "data": {
      "text/plain": [
       "[                           DD        FF   FH        FX  NO2_BREUKELEN  \\\n",
       " DateTime                                                                \n",
       " 2017-08-01 00:00:00  0.166667  0.083333  0.1  0.045455       0.207556   \n",
       " 2017-08-01 01:00:00  0.000000  0.000000  0.1  0.090909       0.140351   \n",
       " 2017-08-01 02:00:00  0.000000  0.000000  0.0  0.045455       0.252483   \n",
       " 2017-08-01 03:00:00  0.277778  0.083333  0.0  0.045455       0.379467   \n",
       " 2017-08-01 04:00:00  0.805556  0.166667  0.1  0.136364       0.426715   \n",
       " ...                       ...       ...  ...       ...            ...   \n",
       " 2017-11-16 19:00:00  0.750000  0.166667  0.3  0.227273       0.536527   \n",
       " 2017-11-16 20:00:00  0.972222  0.250000  0.3  0.409091       0.407593   \n",
       " 2017-11-16 21:00:00  0.888889  0.083333  0.2  0.272727       0.430614   \n",
       " 2017-11-16 22:00:00  0.944444  0.166667  0.1  0.136364       0.418175   \n",
       " 2017-11-16 23:00:00  0.861111  0.083333  0.2  0.136364       0.422167   \n",
       " \n",
       "                      NO2_TUINDORP         P   SQ         T        TD  \n",
       " DateTime                                                              \n",
       " 2017-08-01 00:00:00      0.223383  0.533575  0.0  0.458689  0.675105  \n",
       " 2017-08-01 01:00:00      0.207092  0.539020  0.0  0.467236  0.687764  \n",
       " 2017-08-01 02:00:00      0.157895  0.531760  0.0  0.433048  0.641350  \n",
       " 2017-08-01 03:00:00      0.137659  0.528131  0.0  0.396011  0.590717  \n",
       " 2017-08-01 04:00:00      0.149633  0.528131  0.0  0.421652  0.616034  \n",
       " ...                           ...       ...  ...       ...       ...  \n",
       " 2017-11-16 19:00:00      0.465516  0.693285  0.0  0.333333  0.481013  \n",
       " 2017-11-16 20:00:00      0.455583  0.711434  0.0  0.301994  0.434599  \n",
       " 2017-11-16 21:00:00      0.215446  0.720508  0.0  0.282051  0.409283  \n",
       " 2017-11-16 22:00:00      0.108234  0.724138  0.0  0.262108  0.383966  \n",
       " 2017-11-16 23:00:00      0.191590  0.733212  0.0  0.213675  0.303797  \n",
       " \n",
       " [2592 rows x 10 columns],\n",
       "                            DD        FF   FH        FX  NO2_BREUKELEN  \\\n",
       " DateTime                                                                \n",
       " 2018-08-01 00:00:00  0.166667  0.083333  0.1  0.045455       0.572728   \n",
       " 2018-08-01 01:00:00  0.000000  0.000000  0.0  0.045455       0.490485   \n",
       " 2018-08-01 02:00:00  0.000000  0.000000  0.0  0.045455       0.511928   \n",
       " 2018-08-01 03:00:00  0.055556  0.083333  0.1  0.045455       0.430428   \n",
       " 2018-08-01 04:00:00  0.194444  0.083333  0.1  0.045455       0.387450   \n",
       " ...                       ...       ...  ...       ...            ...   \n",
       " 2018-11-16 19:00:00  0.250000  0.166667  0.2  0.136364       0.291469   \n",
       " 2018-11-16 20:00:00  0.305556  0.250000  0.2  0.181818       0.278010   \n",
       " 2018-11-16 21:00:00  0.305556  0.250000  0.3  0.181818       0.305857   \n",
       " 2018-11-16 22:00:00  0.222222  0.166667  0.2  0.181818       0.311984   \n",
       " 2018-11-16 23:00:00  0.277778  0.250000  0.3  0.227273       0.315882   \n",
       " \n",
       "                      NO2_TUINDORP         P   SQ         T        TD  \n",
       " DateTime                                                              \n",
       " 2018-08-01 00:00:00      0.247192  0.658802  0.0  0.384615  0.565401  \n",
       " 2018-08-01 01:00:00      0.252762  0.662432  0.0  0.376068  0.548523  \n",
       " 2018-08-01 02:00:00      0.217024  0.658802  0.0  0.358974  0.523207  \n",
       " 2018-08-01 03:00:00      0.189177  0.658802  0.0  0.358974  0.523207  \n",
       " 2018-08-01 04:00:00      0.243665  0.660617  0.3  0.393162  0.578059  \n",
       " ...                           ...       ...  ...       ...       ...  \n",
       " 2018-11-16 19:00:00      0.427086  0.805808  0.0  0.119658  0.164557  \n",
       " 2018-11-16 20:00:00      0.417804  0.809437  0.0  0.105413  0.147679  \n",
       " 2018-11-16 21:00:00      0.427643  0.814882  0.0  0.102564  0.139241  \n",
       " 2018-11-16 22:00:00      0.388935  0.818512  0.0  0.096866  0.139241  \n",
       " 2018-11-16 23:00:00      0.390885  0.820327  0.0  0.111111  0.147679  \n",
       " \n",
       " [2592 rows x 10 columns],\n",
       "                            DD        FF   FH        FX  NO2_BREUKELEN  \\\n",
       " DateTime                                                                \n",
       " 2020-08-01 00:00:00  0.527778  0.166667  0.3  0.318182       0.115845   \n",
       " 2020-08-01 01:00:00  0.250000  0.083333  0.2  0.227273       0.173953   \n",
       " 2020-08-01 02:00:00  0.611111  0.166667  0.3  0.409091       0.117702   \n",
       " 2020-08-01 03:00:00  0.750000  0.083333  0.1  0.181818       0.153439   \n",
       " 2020-08-01 04:00:00  0.666667  0.166667  0.2  0.181818       0.236239   \n",
       " ...                       ...       ...  ...       ...            ...   \n",
       " 2020-11-16 19:00:00  0.611111  0.333333  0.3  0.318182       0.219252   \n",
       " 2020-11-16 20:00:00  0.555556  0.250000  0.3  0.272727       0.276525   \n",
       " 2020-11-16 21:00:00  0.555556  0.416667  0.4  0.318182       0.297225   \n",
       " 2020-11-16 22:00:00  0.583333  0.333333  0.4  0.363636       0.197531   \n",
       " 2020-11-16 23:00:00  0.583333  0.416667  0.5  0.454545       0.183793   \n",
       " \n",
       "                      NO2_TUINDORP         P   SQ         T        TD  \n",
       " DateTime                                                              \n",
       " 2020-08-01 00:00:00      0.140722  0.509982  0.0  0.683761  0.721519  \n",
       " 2020-08-01 01:00:00      0.162722  0.477314  0.0  0.612536  0.831224  \n",
       " 2020-08-01 02:00:00      0.172654  0.502722  0.0  0.660969  0.822785  \n",
       " 2020-08-01 03:00:00      0.150283  0.508167  0.0  0.626781  0.835443  \n",
       " 2020-08-01 04:00:00      0.161886  0.509982  0.0  0.615385  0.793249  \n",
       " ...                           ...       ...  ...       ...       ...  \n",
       " 2020-11-16 19:00:00      0.283486  0.613430  0.0  0.299145  0.350211  \n",
       " 2020-11-16 20:00:00      0.199944  0.622505  0.0  0.293447  0.354430  \n",
       " 2020-11-16 21:00:00      0.196417  0.627949  0.0  0.316239  0.362869  \n",
       " 2020-11-16 22:00:00      0.221758  0.622505  0.0  0.319088  0.388186  \n",
       " 2020-11-16 23:00:00      0.172004  0.622505  0.0  0.336182  0.430380  \n",
       " \n",
       " [2592 rows x 10 columns]]"
      ]
     },
     "execution_count": 12,
     "metadata": {},
     "output_type": "execute_result"
    }
   ],
   "source": [
    "train_dataset.u"
   ]
  },
  {
   "cell_type": "code",
   "execution_count": 13,
   "metadata": {},
   "outputs": [
    {
     "data": {
      "text/plain": [
       "[                          NO2\n",
       " DateTime                     \n",
       " 2017-08-01 00:00:00  0.207556\n",
       " 2017-08-01 01:00:00  0.140351\n",
       " 2017-08-01 02:00:00  0.252483\n",
       " 2017-08-01 03:00:00  0.379467\n",
       " 2017-08-01 04:00:00  0.426715\n",
       " ...                       ...\n",
       " 2017-11-16 19:00:00  0.536527\n",
       " 2017-11-16 20:00:00  0.407593\n",
       " 2017-11-16 21:00:00  0.430614\n",
       " 2017-11-16 22:00:00  0.418175\n",
       " 2017-11-16 23:00:00  0.422167\n",
       " \n",
       " [2592 rows x 1 columns],\n",
       "                           NO2\n",
       " DateTime                     \n",
       " 2018-08-01 00:00:00  0.572728\n",
       " 2018-08-01 01:00:00  0.490485\n",
       " 2018-08-01 02:00:00  0.511928\n",
       " 2018-08-01 03:00:00  0.430428\n",
       " 2018-08-01 04:00:00  0.387450\n",
       " ...                       ...\n",
       " 2018-11-16 19:00:00  0.291469\n",
       " 2018-11-16 20:00:00  0.278010\n",
       " 2018-11-16 21:00:00  0.305857\n",
       " 2018-11-16 22:00:00  0.311984\n",
       " 2018-11-16 23:00:00  0.315882\n",
       " \n",
       " [2592 rows x 1 columns],\n",
       "                           NO2\n",
       " DateTime                     \n",
       " 2020-08-01 00:00:00  0.115845\n",
       " 2020-08-01 01:00:00  0.173953\n",
       " 2020-08-01 02:00:00  0.117702\n",
       " 2020-08-01 03:00:00  0.153439\n",
       " 2020-08-01 04:00:00  0.236239\n",
       " ...                       ...\n",
       " 2020-11-16 19:00:00  0.219252\n",
       " 2020-11-16 20:00:00  0.276525\n",
       " 2020-11-16 21:00:00  0.297225\n",
       " 2020-11-16 22:00:00  0.197531\n",
       " 2020-11-16 23:00:00  0.183793\n",
       " \n",
       " [2592 rows x 1 columns]]"
      ]
     },
     "execution_count": 13,
     "metadata": {},
     "output_type": "execute_result"
    }
   ],
   "source": [
    "train_dataset.y"
   ]
  },
  {
   "cell_type": "code",
   "execution_count": 14,
   "metadata": {},
   "outputs": [
    {
     "data": {
      "text/plain": [
       "72"
      ]
     },
     "execution_count": 14,
     "metadata": {},
     "output_type": "execute_result"
    }
   ],
   "source": [
    "len(train_dataset.pairs[0][0])"
   ]
  },
  {
   "cell_type": "code",
   "execution_count": 15,
   "metadata": {},
   "outputs": [
    {
     "data": {
      "text/plain": [
       "tensor([[0.1667, 0.0833, 0.1000, 0.0455, 0.2076, 0.2234, 0.5336, 0.0000, 0.4587,\n",
       "         0.6751],\n",
       "        [0.0000, 0.0000, 0.1000, 0.0909, 0.1404, 0.2071, 0.5390, 0.0000, 0.4672,\n",
       "         0.6878],\n",
       "        [0.0000, 0.0000, 0.0000, 0.0455, 0.2525, 0.1579, 0.5318, 0.0000, 0.4330,\n",
       "         0.6414],\n",
       "        [0.2778, 0.0833, 0.0000, 0.0455, 0.3795, 0.1377, 0.5281, 0.0000, 0.3960,\n",
       "         0.5907],\n",
       "        [0.8056, 0.1667, 0.1000, 0.1364, 0.4267, 0.1496, 0.5281, 0.0000, 0.4217,\n",
       "         0.6160],\n",
       "        [0.0000, 0.0000, 0.1000, 0.1364, 0.4310, 0.2847, 0.5372, 0.3000, 0.5299,\n",
       "         0.7046],\n",
       "        [0.7222, 0.0833, 0.1000, 0.0909, 0.3823, 0.4730, 0.5535, 0.0000, 0.5499,\n",
       "         0.6751],\n",
       "        [0.7500, 0.0833, 0.1000, 0.1364, 0.3783, 0.4766, 0.5554, 0.0000, 0.5556,\n",
       "         0.6540],\n",
       "        [0.7222, 0.1667, 0.2000, 0.1364, 0.3354, 0.4598, 0.5572, 0.0000, 0.5755,\n",
       "         0.6118],\n",
       "        [0.7500, 0.1667, 0.2000, 0.2273, 0.3959, 0.3985, 0.5590, 0.3000, 0.6097,\n",
       "         0.5738],\n",
       "        [0.6111, 0.1667, 0.2000, 0.1818, 0.3266, 0.2842, 0.5626, 0.0000, 0.6125,\n",
       "         0.5612],\n",
       "        [0.6111, 0.1667, 0.2000, 0.1818, 0.2639, 0.3142, 0.5644, 0.0000, 0.6097,\n",
       "         0.5527],\n",
       "        [0.6528, 0.0833, 0.2000, 0.1364, 0.3375, 0.3289, 0.5626, 0.2000, 0.6667,\n",
       "         0.5992],\n",
       "        [0.6944, 0.1667, 0.2000, 0.1364, 0.2600, 0.2748, 0.5608, 0.2000, 0.6724,\n",
       "         0.4557],\n",
       "        [0.7222, 0.1667, 0.2000, 0.2273, 0.3125, 0.2102, 0.5590, 0.4000, 0.6610,\n",
       "         0.4726],\n",
       "        [0.6111, 0.1667, 0.2000, 0.1818, 0.3502, 0.2083, 0.5608, 0.1000, 0.6524,\n",
       "         0.5570],\n",
       "        [0.6944, 0.1667, 0.2000, 0.2273, 0.3312, 0.2607, 0.5626, 0.7000, 0.6581,\n",
       "         0.5485],\n",
       "        [0.5833, 0.1667, 0.2000, 0.1818, 0.2937, 0.2275, 0.5608, 0.2000, 0.6211,\n",
       "         0.5992],\n",
       "        [0.7222, 0.1667, 0.2000, 0.1818, 0.3748, 0.2019, 0.5699, 0.2000, 0.5954,\n",
       "         0.6456],\n",
       "        [0.6944, 0.0833, 0.1000, 0.1364, 0.3481, 0.2589, 0.5808, 0.0000, 0.5071,\n",
       "         0.6624],\n",
       "        [0.4167, 0.0833, 0.1000, 0.0909, 0.4018, 0.3520, 0.5808, 0.0000, 0.4501,\n",
       "         0.6456],\n",
       "        [0.4722, 0.0833, 0.1000, 0.0455, 0.4651, 0.4237, 0.5862, 0.0000, 0.4444,\n",
       "         0.6498],\n",
       "        [0.4722, 0.0833, 0.1000, 0.0909, 0.5232, 0.5091, 0.5808, 0.0000, 0.4330,\n",
       "         0.6371],\n",
       "        [0.5000, 0.0833, 0.1000, 0.1364, 0.5465, 0.5216, 0.5771, 0.0000, 0.4302,\n",
       "         0.6245],\n",
       "        [0.0000, 0.0000, 0.1000, 0.0909, 0.4333, 0.4872, 0.5808, 0.0000, 0.4274,\n",
       "         0.6329],\n",
       "        [0.4444, 0.0833, 0.1000, 0.0909, 0.3848, 0.4529, 0.5753, 0.0000, 0.4530,\n",
       "         0.6456],\n",
       "        [0.4167, 0.1667, 0.1000, 0.0909, 0.2990, 0.2914, 0.5699, 0.0000, 0.4501,\n",
       "         0.6414],\n",
       "        [0.3889, 0.0833, 0.2000, 0.1364, 0.3332, 0.2590, 0.5681, 0.0000, 0.4672,\n",
       "         0.6414],\n",
       "        [0.5000, 0.0833, 0.1000, 0.0909, 0.3998, 0.3676, 0.5699, 0.0000, 0.4729,\n",
       "         0.6582],\n",
       "        [0.5833, 0.1667, 0.2000, 0.1818, 0.5275, 0.4276, 0.5789, 0.0000, 0.5185,\n",
       "         0.6582],\n",
       "        [0.6389, 0.1667, 0.2000, 0.2273, 0.4581, 0.4524, 0.5789, 0.0000, 0.5413,\n",
       "         0.6498],\n",
       "        [0.6667, 0.3333, 0.3000, 0.2727, 0.4007, 0.3724, 0.5862, 0.0000, 0.5613,\n",
       "         0.6118],\n",
       "        [0.6667, 0.3333, 0.4000, 0.3182, 0.3140, 0.3054, 0.5935, 0.1000, 0.5812,\n",
       "         0.6118],\n",
       "        [0.6389, 0.2500, 0.3000, 0.3636, 0.2963, 0.2396, 0.5935, 0.1000, 0.6040,\n",
       "         0.6245],\n",
       "        [0.5556, 0.3333, 0.4000, 0.2727, 0.3106, 0.2232, 0.5989, 0.3000, 0.6239,\n",
       "         0.5865],\n",
       "        [0.5833, 0.3333, 0.4000, 0.3182, 0.3101, 0.1998, 0.5898, 0.2000, 0.6353,\n",
       "         0.5359],\n",
       "        [0.5556, 0.2500, 0.3000, 0.2727, 0.3055, 0.1685, 0.5753, 0.1000, 0.6496,\n",
       "         0.5021],\n",
       "        [0.5000, 0.3333, 0.4000, 0.2727, 0.3454, 0.1859, 0.5735, 0.0000, 0.6439,\n",
       "         0.5190],\n",
       "        [0.5000, 0.4167, 0.4000, 0.3636, 0.3333, 0.2230, 0.5572, 0.0000, 0.6496,\n",
       "         0.5781],\n",
       "        [0.5833, 0.4167, 0.4000, 0.4545, 0.3390, 0.2631, 0.5554, 0.0000, 0.6211,\n",
       "         0.5443],\n",
       "        [0.5833, 0.3333, 0.7000, 0.5455, 0.3920, 0.2489, 0.5662, 0.0000, 0.5071,\n",
       "         0.6329],\n",
       "        [0.5556, 0.1667, 0.3000, 0.3182, 0.2634, 0.1817, 0.5572, 0.0000, 0.4786,\n",
       "         0.6582],\n",
       "        [0.4861, 0.0833, 0.1000, 0.1818, 0.4256, 0.2076, 0.5481, 0.0000, 0.4729,\n",
       "         0.6835],\n",
       "        [0.4167, 0.1667, 0.2000, 0.1818, 0.3067, 0.2242, 0.5354, 0.0000, 0.4729,\n",
       "         0.6751],\n",
       "        [0.3889, 0.1667, 0.2000, 0.1818, 0.1685, 0.2864, 0.5372, 0.0000, 0.4758,\n",
       "         0.6793],\n",
       "        [0.4444, 0.2500, 0.2000, 0.1818, 0.2038, 0.2611, 0.5281, 0.0000, 0.4957,\n",
       "         0.7089],\n",
       "        [0.5000, 0.2500, 0.3000, 0.2727, 0.1856, 0.1938, 0.5154, 0.0000, 0.5100,\n",
       "         0.7215],\n",
       "        [0.5000, 0.1667, 0.2000, 0.2273, 0.1620, 0.1562, 0.5009, 0.0000, 0.5128,\n",
       "         0.7215],\n",
       "        [0.4444, 0.2500, 0.3000, 0.2727, 0.1565, 0.1464, 0.4864, 0.0000, 0.5100,\n",
       "         0.7257],\n",
       "        [0.4722, 0.3333, 0.3000, 0.3182, 0.1842, 0.1294, 0.4701, 0.0000, 0.5128,\n",
       "         0.7257],\n",
       "        [0.5000, 0.3333, 0.4000, 0.3182, 0.1443, 0.1229, 0.4483, 0.0000, 0.5214,\n",
       "         0.7089],\n",
       "        [0.4722, 0.1667, 0.3000, 0.2727, 0.1457, 0.1151, 0.4392, 0.0000, 0.5128,\n",
       "         0.7089],\n",
       "        [0.4722, 0.1667, 0.2000, 0.1818, 0.2406, 0.1671, 0.4301, 0.0000, 0.5100,\n",
       "         0.7173],\n",
       "        [0.5556, 0.3333, 0.3000, 0.3182, 0.4900, 0.2594, 0.4283, 0.0000, 0.5584,\n",
       "         0.7468],\n",
       "        [0.5833, 0.4167, 0.4000, 0.4091, 0.4313, 0.3105, 0.4192, 0.5000, 0.5954,\n",
       "         0.7426],\n",
       "        [0.5833, 0.5000, 0.5000, 0.4545, 0.3199, 0.2780, 0.4174, 0.0000, 0.5869,\n",
       "         0.7595],\n",
       "        [0.5833, 0.5000, 0.5000, 0.4545, 0.2520, 0.2400, 0.4211, 0.0000, 0.5670,\n",
       "         0.7890],\n",
       "        [0.6389, 0.4167, 0.6000, 0.5455, 0.1827, 0.2261, 0.4319, 0.0000, 0.5242,\n",
       "         0.6920],\n",
       "        [0.6389, 0.5833, 0.7000, 0.5909, 0.1643, 0.1386, 0.4338, 0.6000, 0.6040,\n",
       "         0.6329],\n",
       "        [0.6667, 0.7500, 0.8000, 0.6818, 0.1446, 0.1052, 0.4374, 0.7000, 0.6382,\n",
       "         0.5992],\n",
       "        [0.6667, 0.6667, 0.7000, 0.6818, 0.1315, 0.0675, 0.4410, 0.8000, 0.6553,\n",
       "         0.5612],\n",
       "        [0.6667, 0.7500, 0.9000, 0.8182, 0.0821, 0.0755, 0.4410, 1.0000, 0.6724,\n",
       "         0.5654],\n",
       "        [0.6944, 0.6667, 0.8000, 0.7273, 0.1171, 0.0664, 0.4483, 0.4000, 0.6325,\n",
       "         0.5949],\n",
       "        [0.6667, 0.6667, 0.7000, 0.6364, 0.1264, 0.0860, 0.4446, 0.5000, 0.6524,\n",
       "         0.5949],\n",
       "        [0.6667, 0.5833, 0.8000, 0.6818, 0.1217, 0.1027, 0.4519, 1.0000, 0.6382,\n",
       "         0.6456],\n",
       "        [0.6389, 0.7500, 0.8000, 0.7727, 0.1050, 0.1016, 0.4574, 0.5000, 0.6040,\n",
       "         0.4937],\n",
       "        [0.6667, 0.5833, 0.9000, 0.8182, 0.1010, 0.0756, 0.4628, 0.3000, 0.5897,\n",
       "         0.5232],\n",
       "        [0.6389, 0.8333, 0.8000, 0.8636, 0.0851, 0.0645, 0.4646, 0.0000, 0.5812,\n",
       "         0.5274],\n",
       "        [0.6667, 0.7500, 0.8000, 0.7727, 0.0860, 0.0611, 0.4628, 0.0000, 0.5613,\n",
       "         0.5359],\n",
       "        [0.6667, 0.5833, 0.7000, 0.6818, 0.1145, 0.0562, 0.4628, 0.0000, 0.5385,\n",
       "         0.5612],\n",
       "        [0.6389, 0.3333, 0.5000, 0.5455, 0.0873, 0.0476, 0.4592, 0.0000, 0.5214,\n",
       "         0.5781],\n",
       "        [0.6111, 0.4167, 0.4000, 0.4091, 0.0643, 0.0473, 0.4537, 0.0000, 0.5071,\n",
       "         0.5865]])"
      ]
     },
     "execution_count": 15,
     "metadata": {},
     "output_type": "execute_result"
    }
   ],
   "source": [
    "train_dataset.pairs[0][0]"
   ]
  },
  {
   "cell_type": "code",
   "execution_count": 16,
   "metadata": {},
   "outputs": [
    {
     "data": {
      "text/plain": [
       "tensor([[0.1842],\n",
       "        [0.1443],\n",
       "        [0.1457],\n",
       "        [0.2406],\n",
       "        [0.4900],\n",
       "        [0.4313],\n",
       "        [0.3199],\n",
       "        [0.2520],\n",
       "        [0.1827],\n",
       "        [0.1643],\n",
       "        [0.1446],\n",
       "        [0.1315],\n",
       "        [0.0821],\n",
       "        [0.1171],\n",
       "        [0.1264],\n",
       "        [0.1217],\n",
       "        [0.1050],\n",
       "        [0.1010],\n",
       "        [0.0851],\n",
       "        [0.0860],\n",
       "        [0.1145],\n",
       "        [0.0873],\n",
       "        [0.0643],\n",
       "        [0.1017]])"
      ]
     },
     "execution_count": 16,
     "metadata": {},
     "output_type": "execute_result"
    }
   ],
   "source": [
    "train_dataset.pairs[0][1]"
   ]
  },
  {
   "cell_type": "markdown",
   "metadata": {},
   "source": [
    "## Confirmation that the dataset has column indexes the same as those in ``config.py``\n",
    "Indexes are used mainly for the physics calculations, in order to accurately extract the information needed"
   ]
  },
  {
   "cell_type": "code",
   "execution_count": 17,
   "metadata": {},
   "outputs": [
    {
     "name": "stdout",
     "output_type": "stream",
     "text": [
      "No2 tuindorp idx:  5\n",
      "No2 breukelen idx:  4\n",
      "wind dir (dd) idx:  0\n",
      "wind speed (fh) idx:  2\n",
      "Column indices are same as config.py\n"
     ]
    }
   ],
   "source": [
    "# Assuming train_dataset.u[0] is a pandas Index object with column names\n",
    "column_names = list(train_dataset.u[0])  # Convert Index to list\n",
    "\n",
    "\n",
    "print(\"No2 tuindorp idx: \", column_names.index('NO2_TUINDORP'))\n",
    "print(\"No2 breukelen idx: \", column_names.index('NO2_BREUKELEN'))\n",
    "print(\"wind dir (dd) idx: \", column_names.index('DD'))\n",
    "print(\"wind speed (fh) idx: \", column_names.index('FH'))\n",
    "\n",
    "# check if the indices are the same as whats defined in config.py\n",
    "assert column_names.index('NO2_TUINDORP')== NO2_TUINDORP_IDX\n",
    "assert column_names.index('NO2_BREUKELEN') == NO2_BREUKELEN_IDX\n",
    "assert column_names.index('DD') == WIND_DIR_IDX\n",
    "assert column_names.index('FH') == WIND_SPEED_IDX\n",
    "print(\"Column indices are same as config.py\")\n",
    "\n"
   ]
  },
  {
   "cell_type": "code",
   "execution_count": 18,
   "metadata": {},
   "outputs": [
    {
     "data": {
      "text/plain": [
       "DateTime\n",
       "2017-08-01 00:00:00    0.223383\n",
       "2017-08-01 01:00:00    0.207092\n",
       "2017-08-01 02:00:00    0.157895\n",
       "2017-08-01 03:00:00    0.137659\n",
       "2017-08-01 04:00:00    0.149633\n",
       "                         ...   \n",
       "2017-11-16 19:00:00    0.465516\n",
       "2017-11-16 20:00:00    0.455583\n",
       "2017-11-16 21:00:00    0.215446\n",
       "2017-11-16 22:00:00    0.108234\n",
       "2017-11-16 23:00:00    0.191590\n",
       "Name: NO2_TUINDORP, Length: 2592, dtype: float64"
      ]
     },
     "execution_count": 18,
     "metadata": {},
     "output_type": "execute_result"
    }
   ],
   "source": [
    "train_dataset.u[0].iloc[:,NO2_TUINDORP_IDX]"
   ]
  },
  {
   "cell_type": "code",
   "execution_count": 19,
   "metadata": {},
   "outputs": [
    {
     "data": {
      "text/plain": [
       "DateTime\n",
       "2017-08-01 00:00:00    0.207556\n",
       "2017-08-01 01:00:00    0.140351\n",
       "2017-08-01 02:00:00    0.252483\n",
       "2017-08-01 03:00:00    0.379467\n",
       "2017-08-01 04:00:00    0.426715\n",
       "                         ...   \n",
       "2017-11-16 19:00:00    0.536527\n",
       "2017-11-16 20:00:00    0.407593\n",
       "2017-11-16 21:00:00    0.430614\n",
       "2017-11-16 22:00:00    0.418175\n",
       "2017-11-16 23:00:00    0.422167\n",
       "Name: NO2_BREUKELEN, Length: 2592, dtype: float64"
      ]
     },
     "execution_count": 19,
     "metadata": {},
     "output_type": "execute_result"
    }
   ],
   "source": [
    "train_dataset.u[0].iloc[:,NO2_BREUKELEN_IDX]"
   ]
  },
  {
   "cell_type": "code",
   "execution_count": 20,
   "metadata": {},
   "outputs": [
    {
     "data": {
      "text/plain": [
       "DateTime\n",
       "2017-08-01 00:00:00    0.166667\n",
       "2017-08-01 01:00:00    0.000000\n",
       "2017-08-01 02:00:00    0.000000\n",
       "2017-08-01 03:00:00    0.277778\n",
       "2017-08-01 04:00:00    0.805556\n",
       "                         ...   \n",
       "2017-11-16 19:00:00    0.750000\n",
       "2017-11-16 20:00:00    0.972222\n",
       "2017-11-16 21:00:00    0.888889\n",
       "2017-11-16 22:00:00    0.944444\n",
       "2017-11-16 23:00:00    0.861111\n",
       "Name: DD, Length: 2592, dtype: float64"
      ]
     },
     "execution_count": 20,
     "metadata": {},
     "output_type": "execute_result"
    }
   ],
   "source": [
    "train_dataset.u[0].iloc[:,WIND_DIR_IDX]"
   ]
  },
  {
   "cell_type": "code",
   "execution_count": 21,
   "metadata": {},
   "outputs": [
    {
     "data": {
      "text/plain": [
       "DateTime\n",
       "2017-08-01 00:00:00    0.1\n",
       "2017-08-01 01:00:00    0.1\n",
       "2017-08-01 02:00:00    0.0\n",
       "2017-08-01 03:00:00    0.0\n",
       "2017-08-01 04:00:00    0.1\n",
       "                      ... \n",
       "2017-11-16 19:00:00    0.3\n",
       "2017-11-16 20:00:00    0.3\n",
       "2017-11-16 21:00:00    0.2\n",
       "2017-11-16 22:00:00    0.1\n",
       "2017-11-16 23:00:00    0.2\n",
       "Name: FH, Length: 2592, dtype: float64"
      ]
     },
     "execution_count": 21,
     "metadata": {},
     "output_type": "execute_result"
    }
   ],
   "source": [
    "train_dataset.u[0].iloc[:,WIND_SPEED_IDX]"
   ]
  },
  {
   "cell_type": "code",
   "execution_count": 22,
   "metadata": {},
   "outputs": [],
   "source": [
    "import random\n",
    "def set_seed(seed):\n",
    "    random.seed(seed)\n",
    "    np.random.seed(seed)\n",
    "    torch.manual_seed(seed)\n",
    "    torch.cuda.manual_seed_all(seed)\n",
    "    torch.backends.cudnn.deterministic = True\n",
    "    torch.backends.cudnn.benchmark = False"
   ]
  },
  {
   "cell_type": "markdown",
   "metadata": {},
   "source": [
    "## Tuning Hyperparameters with Optuna"
   ]
  },
  {
   "cell_type": "code",
   "execution_count": null,
   "metadata": {},
   "outputs": [],
   "source": [
    "def objective(trial):\n",
    "    set_seed(42)\n",
    "    # Define hyperparameters to search over\n",
    "    n_hidden_layers = trial.suggest_int(\"n_hidden_layers\", 1, 5)\n",
    "    n_hidden_units = trial.suggest_int(\"n_hidden_units\", 32, 256)\n",
    "    lr = trial.suggest_loguniform(\"lr\", 1e-6, 1e-4)\n",
    "    weight_decay = trial.suggest_loguniform(\"weight_decay\", 1e-8, 1e-3)\n",
    "    batch_size = trial.suggest_categorical(\"batch_size\", [8, 16, 32, 64])  # Match the original hp['batch_sz']\n",
    "\n",
    "    # Create train & validation loaders (following the original code)\n",
    "    train_loader = DataLoader(train_dataset, batch_size=batch_size, shuffle=True)\n",
    "    val_loader = DataLoader(val_dataset, batch_size=batch_size, shuffle=False)\n",
    "\n",
    "    # Initialize MLP model\n",
    "    model = BasicMLP(\n",
    "        N_INPUT_UNITS=train_dataset.__n_features_in__(),\n",
    "        N_HIDDEN_LAYERS=n_hidden_layers,\n",
    "        N_HIDDEN_UNITS=n_hidden_units,\n",
    "        N_OUTPUT_UNITS=train_dataset.__n_features_out__(),\n",
    "        loss_function=LOSS_FUNC,\n",
    "    )\n",
    "\n",
    "    # Train and return validation loss\n",
    "    val_loss, _, _, _ = model.train_model(train_loader, val_loader, epochs=50, lr=lr, weight_decay=weight_decay, device=device, trial = trial)\n",
    "    \n",
    "    return val_loss\n",
    "\n",
    "\n",
    "# Run Optuna optimization\n",
    "study = optuna.create_study(direction=\"minimize\", \n",
    "                            study_name=\"mlp_hyperparameter_optimization_baseline_allyears_setseed2\", \n",
    "                            storage=\"sqlite:///mlp_hyperparameter_optimization.db\", \n",
    "                            load_if_exists=True,\n",
    "                            pruner=optuna.pruners.HyperbandPruner(),\n",
    ")\n",
    "\n",
    "study.optimize(objective, n_trials=100)\n",
    "\n",
    "# Print best hyperparameters\n",
    "best_params = study.best_params\n",
    "print(\"Best Hyperparameters:\", best_params)"
   ]
  },
  {
   "cell_type": "code",
   "execution_count": 24,
   "metadata": {},
   "outputs": [
    {
     "name": "stdout",
     "output_type": "stream",
     "text": [
      "Best Hyperparameters for MLP MSE allyears: {'n_hidden_layers': 4, 'n_hidden_units': 191, 'lr': 0.0002099693529342787, 'weight_decay': 3.4334611075297167e-07, 'batch_size': 8}\n"
     ]
    }
   ],
   "source": [
    "print(f\"Best Hyperparameters for {NN_TYPE} {LOSS_FUNC} {years}:\", best_params)"
   ]
  },
  {
   "cell_type": "code",
   "execution_count": 25,
   "metadata": {},
   "outputs": [],
   "source": [
    "import json\n",
    "file_path = f\"{RESULTS_PATH}/best_params/{BESTPARAMS_FILENAME}\""
   ]
  },
  {
   "cell_type": "markdown",
   "metadata": {},
   "source": [
    "## Save the params to a file\n",
    "Parameters saved in ``src/results/best_params/best_params_MLP_no2_MSE_allyears.txt``"
   ]
  },
  {
   "cell_type": "code",
   "execution_count": null,
   "metadata": {},
   "outputs": [
    {
     "name": "stdout",
     "output_type": "stream",
     "text": [
      "Best Hyperparameters saved to /home/rachel/forecasting_smog_PEML/src/results/best_params/best_params_MLP_no2_MSE_allyears.txt\n"
     ]
    }
   ],
   "source": [
    "\n",
    "import json\n",
    "with open(file_path, \"w\") as f:\n",
    "    json.dump(best_params, f, indent=4)  # Pretty format for readability\n",
    "\n",
    "print(f\"Best Hyperparameters saved to {file_path}\")\n",
    "\n",
    "\n"
   ]
  },
  {
   "cell_type": "markdown",
   "metadata": {},
   "source": [
    "## Read params from file"
   ]
  },
  {
   "cell_type": "code",
   "execution_count": null,
   "metadata": {},
   "outputs": [],
   "source": [
    "\n",
    "with open(file_path, \"r\") as f:\n",
    "    best_params = json.load(f)  # Automatically converts it to a dictionary\n",
    "\n",
    "print(\"Loaded Best Parameters:\", best_params)"
   ]
  },
  {
   "cell_type": "code",
   "execution_count": 23,
   "metadata": {},
   "outputs": [],
   "source": [
    "# best params for all years MLP no2 mse\n",
    "best_params = {\n",
    "    \"n_hidden_layers\": 2,\n",
    "    \"n_hidden_units\": 256,\n",
    "    \"lr\": 8.394595694372765e-05,\n",
    "    \"weight_decay\": 3.300707449214965e-07,\n",
    "    \"batch_size\": 16\n",
    "}"
   ]
  },
  {
   "cell_type": "markdown",
   "metadata": {},
   "source": [
    "## Training and Saving Model\n",
    "Model saved in ``src/results/models/best_MLP_no2_MSE_allyears.pth``"
   ]
  },
  {
   "cell_type": "code",
   "execution_count": 24,
   "metadata": {},
   "outputs": [
    {
     "name": "stderr",
     "output_type": "stream",
     "text": [
      "/home/rachel/forecasting_smog_PEML/venv/lib/python3.10/site-packages/torch/optim/lr_scheduler.py:62: UserWarning: The verbose parameter is deprecated. Please use get_last_lr() to access the learning rate.\n",
      "  warnings.warn(\n"
     ]
    },
    {
     "name": "stdout",
     "output_type": "stream",
     "text": [
      "Epoch 1/50\n",
      "Epoch 1/50 - Train Loss: 0.042081 - Val Loss: 0.027147\n",
      "Epoch 2/50\n",
      "Epoch 2/50 - Train Loss: 0.020180 - Val Loss: 0.019126\n",
      "Epoch 3/50\n",
      "Epoch 3/50 - Train Loss: 0.016518 - Val Loss: 0.017327\n",
      "Epoch 4/50\n",
      "Epoch 4/50 - Train Loss: 0.013370 - Val Loss: 0.013829\n",
      "Epoch 5/50\n",
      "Epoch 5/50 - Train Loss: 0.010986 - Val Loss: 0.011773\n",
      "Epoch 6/50\n",
      "Epoch 6/50 - Train Loss: 0.009706 - Val Loss: 0.010587\n",
      "Epoch 7/50\n",
      "Epoch 7/50 - Train Loss: 0.009135 - Val Loss: 0.009799\n",
      "Epoch 8/50\n",
      "Epoch 8/50 - Train Loss: 0.008646 - Val Loss: 0.009178\n",
      "Epoch 9/50\n",
      "Epoch 9/50 - Train Loss: 0.008644 - Val Loss: 0.008810\n",
      "Epoch 10/50\n",
      "Epoch 10/50 - Train Loss: 0.008319 - Val Loss: 0.008606\n",
      "Epoch 11/50\n",
      "Epoch 11/50 - Train Loss: 0.008188 - Val Loss: 0.008377\n",
      "Epoch 12/50\n",
      "Epoch 12/50 - Train Loss: 0.008082 - Val Loss: 0.008271\n",
      "Epoch 13/50\n",
      "Epoch 13/50 - Train Loss: 0.008030 - Val Loss: 0.008193\n",
      "Epoch 14/50\n",
      "Epoch 14/50 - Train Loss: 0.007984 - Val Loss: 0.008109\n",
      "Epoch 15/50\n",
      "Epoch 15/50 - Train Loss: 0.007937 - Val Loss: 0.008121\n",
      "Epoch 16/50\n",
      "Epoch 16/50 - Train Loss: 0.007904 - Val Loss: 0.008026\n",
      "Epoch 17/50\n",
      "Epoch 17/50 - Train Loss: 0.007797 - Val Loss: 0.008041\n",
      "Epoch 18/50\n",
      "Epoch 18/50 - Train Loss: 0.007909 - Val Loss: 0.007941\n",
      "Epoch 19/50\n",
      "Epoch 19/50 - Train Loss: 0.007773 - Val Loss: 0.007970\n",
      "Epoch 20/50\n",
      "Epoch 20/50 - Train Loss: 0.007752 - Val Loss: 0.008026\n",
      "Epoch 21/50\n",
      "Epoch 21/50 - Train Loss: 0.007764 - Val Loss: 0.007928\n",
      "Epoch 22/50\n",
      "Epoch 22/50 - Train Loss: 0.007787 - Val Loss: 0.007926\n",
      "Epoch 23/50\n",
      "Epoch 23/50 - Train Loss: 0.007749 - Val Loss: 0.008045\n",
      "Epoch 24/50\n",
      "Epoch 24/50 - Train Loss: 0.007720 - Val Loss: 0.007932\n",
      "Epoch 25/50\n",
      "Epoch 25/50 - Train Loss: 0.007728 - Val Loss: 0.007903\n",
      "Epoch 26/50\n",
      "Epoch 26/50 - Train Loss: 0.007644 - Val Loss: 0.007943\n",
      "Epoch 27/50\n",
      "Epoch 27/50 - Train Loss: 0.007765 - Val Loss: 0.007871\n",
      "Epoch 28/50\n",
      "Epoch 28/50 - Train Loss: 0.007790 - Val Loss: 0.007922\n",
      "Epoch 29/50\n",
      "Epoch 29/50 - Train Loss: 0.007694 - Val Loss: 0.008029\n",
      "Epoch 30/50\n",
      "Epoch 30/50 - Train Loss: 0.007641 - Val Loss: 0.007935\n",
      "Epoch 31/50\n",
      "Epoch 31/50 - Train Loss: 0.007637 - Val Loss: 0.007851\n",
      "Epoch 32/50\n",
      "Epoch 32/50 - Train Loss: 0.007597 - Val Loss: 0.007915\n",
      "Epoch 33/50\n",
      "Epoch 33/50 - Train Loss: 0.007578 - Val Loss: 0.007887\n",
      "Epoch 34/50\n",
      "Epoch 34/50 - Train Loss: 0.007593 - Val Loss: 0.007831\n",
      "Epoch 35/50\n",
      "Epoch 35/50 - Train Loss: 0.007598 - Val Loss: 0.007861\n",
      "Epoch 36/50\n",
      "Epoch 36/50 - Train Loss: 0.007615 - Val Loss: 0.007906\n",
      "Epoch 37/50\n",
      "Epoch 37/50 - Train Loss: 0.007568 - Val Loss: 0.007826\n",
      "Epoch 38/50\n",
      "Epoch 38/50 - Train Loss: 0.007561 - Val Loss: 0.007874\n",
      "Epoch 39/50\n",
      "Epoch 39/50 - Train Loss: 0.007530 - Val Loss: 0.007850\n",
      "Epoch 40/50\n",
      "Epoch 40/50 - Train Loss: 0.007609 - Val Loss: 0.007881\n",
      "Epoch 41/50\n",
      "Epoch 41/50 - Train Loss: 0.007473 - Val Loss: 0.007862\n",
      "Epoch 42/50\n",
      "Epoch 42/50 - Train Loss: 0.007572 - Val Loss: 0.007851\n",
      "Epoch 43/50\n",
      "Early stopping triggered after 43 epochs\n",
      "Training time: 37.085946559906006\n"
     ]
    }
   ],
   "source": [
    "set_seed(42)\n",
    "# Train the model with the best hyperparameters\n",
    "best_model_baseline = BasicMLP(\n",
    "    N_INPUT_UNITS=train_dataset.__n_features_in__(),\n",
    "    N_HIDDEN_LAYERS=best_params[\"n_hidden_layers\"],\n",
    "    N_HIDDEN_UNITS=best_params[\"n_hidden_units\"],\n",
    "    N_OUTPUT_UNITS=train_dataset.__n_features_out__(),\n",
    "    loss_function=\"MSE\",\n",
    ")\n",
    "\n",
    "# Create train & validation loaders with the best batch size\n",
    "train_loader = DataLoader(train_dataset, batch_size=best_params[\"batch_size\"], shuffle=True)\n",
    "val_loader = DataLoader(val_dataset, batch_size=best_params[\"batch_size\"], shuffle=False)\n",
    "\n",
    "# Train the model\n",
    "_, training_time, train_losses, val_losses = best_model_baseline.train_model(train_loader, val_loader, epochs=50, lr=best_params[\"lr\"], weight_decay=best_params[\"weight_decay\"], device=device)\n",
    "\n",
    "print(f\"Training time: {training_time}\")\n",
    "# Save the trained model\n",
    "# torch.save(best_model_baseline.state_dict(), f\"{MODEL_PATH}/{MODEL_PATH_NAME}\")\n",
    "# print(f\"Model saved as {MODEL_PATH_NAME} in Model folder\")"
   ]
  },
  {
   "cell_type": "markdown",
   "metadata": {},
   "source": [
    "## Plot Train-Val\n",
    "Plot saved in ``src/results/trainval_plots/trainval_plot_MLP_no2_MSE_allyears.png``\n"
   ]
  },
  {
   "cell_type": "code",
   "execution_count": 25,
   "metadata": {},
   "outputs": [
    {
     "data": {
      "image/png": "[encoded data removed]",
      "text/plain": [
       "<Figure size 1000x600 with 1 Axes>"
      ]
     },
     "metadata": {},
     "output_type": "display_data"
    }
   ],
   "source": [
    "import matplotlib.pyplot as plt\n",
    "\n",
    "epochs = range(1, len(train_losses) + 1)\n",
    "plt.figure(figsize=(10, 6))\n",
    "plt.plot(epochs, train_losses, label=\"Train Loss\")\n",
    "plt.plot(epochs, val_losses, label=\"Validation Loss\")\n",
    "plt.xlabel(\"Epoch\")\n",
    "plt.ylabel(\"Loss (RMSE)\")\n",
    "plt.title(f\"Training and Validation Loss Over Epochs for {NN_TYPE} with {LOSS_FUNC}\")\n",
    "plt.legend()\n",
    "plt.grid(True)\n",
    "plt.tight_layout()\n",
    "# plt.savefig(f\"{RESULTS_PATH}/trainval_plots/trainval_{PLOT_FILENAME}\")\n",
    "plt.show()\n"
   ]
  },
  {
   "cell_type": "markdown",
   "metadata": {},
   "source": [
    "## Test and Save Results\n",
    "Results saved in ``src/results/metrics/results_MLP_no2_MSE_allyears.csv``"
   ]
  },
  {
   "cell_type": "code",
   "execution_count": 27,
   "metadata": {},
   "outputs": [
    {
     "name": "stdout",
     "output_type": "stream",
     "text": [
      "Test MSE Loss: 81.808898\n",
      "Test RMSE Loss: 10.329637\n",
      "Test SMAPE Loss: 25.958519%\n",
      "Total Inference Time: 0.13 seconds\n",
      "Training time:  37.085946559906006\n"
     ]
    }
   ],
   "source": [
    "# best_model_baseline.load_state_dict(torch.load(f\"{MODEL_PATH}/{MODEL_PATH_NAME}\"))\n",
    "best_model_baseline.eval()\n",
    "\n",
    "# Create the DataLoader for the test dataset\n",
    "test_loader = DataLoader(test_dataset, batch_size=best_params[\"batch_size\"], shuffle=False)\n",
    "\n",
    "# Evaluate the model on the test dataset\n",
    "df_minmax = pd.read_csv(MINMAX_PATH, sep=';')\n",
    "min_value = df_minmax[\"min\"].values\n",
    "max_value = df_minmax[\"max\"].values\n",
    "mse, rmse, smape, inference_time = best_model_baseline.test_model(test_loader, min_value=min_value, max_value=max_value, device=\"cpu\")\n",
    "print('Training time: ', training_time)\n"
   ]
  },
  {
   "cell_type": "code",
   "execution_count": 33,
   "metadata": {},
   "outputs": [
    {
     "name": "stdout",
     "output_type": "stream",
     "text": [
      "Results saved as results_MLP_no2_MSE_allyears.csv in Results/metrics folder\n"
     ]
    }
   ],
   "source": [
    "import csv\n",
    "\n",
    "# Define the CSV file path\n",
    "results_csv_path = f\"{RESULTS_PATH}/metrics/{RESULTS_METRICS_FILENAME}\"\n",
    "\n",
    "# Save metrics in a proper CSV format (header + values in one row)\n",
    "with open(results_csv_path, mode=\"w\", newline=\"\") as f:\n",
    "    writer = csv.writer(f)\n",
    "    \n",
    "    # Write header\n",
    "    writer.writerow([\"MSE\", \"RMSE\", \"SMAPE\", \"Inference Time\", \"Training Time\"])\n",
    "    \n",
    "    # Write values\n",
    "    writer.writerow([mse, rmse, smape, inference_time, training_time])\n",
    "\n",
    "print(f\"Results saved as {RESULTS_METRICS_FILENAME} in Results/metrics folder\")"
   ]
  },
  {
   "cell_type": "markdown",
   "metadata": {},
   "source": [
    "## Plot Model predictions vs True values\n",
    "Plot saved ``src/results/plots/plot_MLP_no2_MSE_allyears.png``"
   ]
  },
  {
   "cell_type": "code",
   "execution_count": null,
   "metadata": {},
   "outputs": [],
   "source": [
    "import torch\n",
    "import matplotlib.pyplot as plt\n",
    "\n",
    "# Dynamically detect device\n",
    "device = torch.device(\"cuda\" if torch.cuda.is_available() else \"cpu\")\n",
    "\n",
    "# Ensure model is on the right device and in eval mode\n",
    "best_model_baseline.to(device)\n",
    "best_model_baseline.eval()\n",
    "\n",
    "y_preds = []\n",
    "y_trues = []\n",
    "\n",
    "# Iterate through the test set and collect predictions & ground truth\n",
    "with torch.no_grad():\n",
    "    for batch in test_loader:\n",
    "        x_test, y_true = batch\n",
    "        x_test = x_test.to(device)\n",
    "        y_true = y_true.to(device)\n",
    "\n",
    "        # Get predictions\n",
    "        y_pred = best_model_baseline(x_test)\n",
    "\n",
    "        # Store results (move to CPU for plotting)\n",
    "        y_preds.append(y_pred.cpu())\n",
    "        y_trues.append(y_true.cpu())\n",
    "\n",
    "# Convert lists to numpy arrays\n",
    "y_preds = torch.cat(y_preds, dim=0).numpy()\n",
    "y_trues = torch.cat(y_trues, dim=0).numpy()\n",
    "\n",
    "# Plot results\n",
    "plt.figure(figsize=(10, 5))\n",
    "plt.plot(y_trues.flatten(), label=\"Ground Truth (NO₂)\", linestyle=\"-\", color=\"blue\")\n",
    "plt.scatter(range(len(y_preds.flatten())), y_preds.flatten(), label=\"Predictions\", color=\"black\", s=10)\n",
    "\n",
    "plt.xlabel(\"Time Step\")\n",
    "plt.ylabel(\"NO₂ Level\")\n",
    "plt.title(\"Predictions vs. Ground Truth\")\n",
    "plt.legend()\n",
    "\n",
    "# Save and show plot\n",
    "plt.savefig(f\"{RESULTS_PATH}/plots/{PLOT_FILENAME}\")\n",
    "plt.show()\n"
   ]
  }
 ],
 "metadata": {
  "kernelspec": {
   "display_name": "venv",
   "language": "python",
   "name": "python3"
  },
  "language_info": {
   "codemirror_mode": {
    "name": "ipython",
    "version": 3
   },
   "file_extension": ".py",
   "mimetype": "text/x-python",
   "name": "python",
   "nbconvert_exporter": "python",
   "pygments_lexer": "ipython3",
   "version": "3.10.16"
  }
 },
 "nbformat": 4,
 "nbformat_minor": 2
}
