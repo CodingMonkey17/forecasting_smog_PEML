{
 "cells": [
  {
   "cell_type": "markdown",
   "metadata": {},
   "source": [
    "##### **Collect data from KNMI using knmy package**"
   ]
  },
  {
   "cell_type": "markdown",
   "metadata": {},
   "source": [
    "Update: did not use this in the end, but downloaded it manually from https://www.daggegevens.knmi.nl/klimatologie/uurgegevens"
   ]
  },
  {
   "cell_type": "code",
   "execution_count": null,
   "metadata": {},
   "outputs": [],
   "source": [
    "from knmy import knmy\n",
    "from datetime import datetime"
   ]
  },
  {
   "cell_type": "code",
   "execution_count": null,
   "metadata": {},
   "outputs": [],
   "source": [
    "# KNMY GitHub: https://github.com/barthoekstra/knmy/tree/master\n",
    "# KNMY Documentation: https://knmy.readthedocs.io/en/latest/\n",
    "\n",
    "\n",
    "SM = 7  # Starting month\n",
    "SD = 1  # Starting day\n",
    "EM = 12  # Ending month\n",
    "ED = 30 # Ending day\n",
    "\n",
    "# Groningen stations\n",
    "Lauwersoog = 277\n",
    "Eelde = 280\n",
    "NieuwBeerta = 286\n",
    "\n",
    "# Utrecht statios(s)\n",
    "DeBilt = 260\n",
    "\n",
    "req_stations = [DeBilt]\n",
    "# req_variables = ['WIND', 'TEMP', 'SUNR', 'PRCP']\n",
    "req_variables = ['ALL']\n",
    "city = 'Utrecht'"
   ]
  },
  {
   "cell_type": "markdown",
   "metadata": {},
   "source": [
    "##### **2016**"
   ]
  },
  {
   "cell_type": "code",
   "execution_count": null,
   "metadata": {},
   "outputs": [],
   "source": [
    "s_moment = datetime(2016, SM, SD, 0)\n",
    "e_moment = datetime(2016, EM, ED, 23)\n",
    "\n",
    "disclaimer, stations, variables, data = knmy.get_knmi_data(type = 'hourly',\n",
    "                                                           stations = req_stations,\n",
    "                                                           variables = req_variables,\n",
    "                                                           start = s_moment,\n",
    "                                                           end   = e_moment,\n",
    "                                                           inseason = False,\n",
    "                                                           parse = True)"
   ]
  },
  {
   "cell_type": "code",
   "execution_count": null,
   "metadata": {},
   "outputs": [],
   "source": [
    "print(data.shape)\n",
    "data.to_csv(f\"../data/data_raw/2016_meteo_{city}.csv\", index = True, sep = ';', decimal = '.', encoding = 'utf-8')"
   ]
  },
  {
   "cell_type": "markdown",
   "metadata": {},
   "source": [
    "##### **2017**"
   ]
  },
  {
   "cell_type": "code",
   "execution_count": null,
   "metadata": {},
   "outputs": [],
   "source": [
    "s_moment = datetime(2017, SM, SD, 0)\n",
    "e_moment = datetime(2017, EM, ED, 23)\n",
    "\n",
    "disclaimer, stations, variables, data = knmy.get_knmi_data(type = 'hourly',\n",
    "                                                           stations = req_stations,\n",
    "                                                           variables = req_variables,\n",
    "                                                           start = s_moment,\n",
    "                                                           end   = e_moment,\n",
    "                                                           inseason = False,\n",
    "                                                           parse = True)"
   ]
  },
  {
   "cell_type": "code",
   "execution_count": null,
   "metadata": {},
   "outputs": [],
   "source": [
    "print(variables)"
   ]
  },
  {
   "cell_type": "code",
   "execution_count": null,
   "metadata": {},
   "outputs": [],
   "source": [
    "print(data)"
   ]
  },
  {
   "cell_type": "code",
   "execution_count": null,
   "metadata": {},
   "outputs": [],
   "source": [
    "print(data.shape)\n",
    "data.to_csv(f\"../data/data_raw/2017_meteo_{city}.csv\", index = True, sep = ';', decimal = '.', encoding = 'utf-8')"
   ]
  },
  {
   "cell_type": "markdown",
   "metadata": {},
   "source": [
    "##### **2018**"
   ]
  },
  {
   "cell_type": "code",
   "execution_count": null,
   "metadata": {},
   "outputs": [],
   "source": [
    "s_moment = datetime(2018, SM, SD, 0)\n",
    "e_moment = datetime(2018, EM, ED, 23)\n",
    "\n",
    "disclaimer, stations, variables, data = knmy.get_knmi_data(type = 'hourly',\n",
    "                                                           stations = req_stations,\n",
    "                                                           variables = req_variables,\n",
    "                                                           start = s_moment,\n",
    "                                                           end   = e_moment,\n",
    "                                                           inseason = False,\n",
    "                                                           parse = True)"
   ]
  },
  {
   "cell_type": "code",
   "execution_count": null,
   "metadata": {},
   "outputs": [],
   "source": [
    "print(data.shape)\n",
    "data.to_csv(f\"../data/data_raw/2018_meteo_{city}.csv\", index = True, sep = ';', decimal = '.', encoding = 'utf-8')"
   ]
  },
  {
   "cell_type": "markdown",
   "metadata": {},
   "source": [
    "##### **2019**"
   ]
  },
  {
   "cell_type": "code",
   "execution_count": null,
   "metadata": {},
   "outputs": [],
   "source": [
    "s_moment = datetime(2019, SM, SD, 0)\n",
    "e_moment = datetime(2019, EM, ED, 23)\n",
    "\n",
    "disclaimer, stations, variables, data = knmy.get_knmi_data(type = 'hourly',\n",
    "                                                           stations = req_stations,\n",
    "                                                           variables = req_variables,\n",
    "                                                           start = s_moment,\n",
    "                                                           end   = e_moment,\n",
    "                                                           inseason = False,\n",
    "                                                           parse = True)"
   ]
  },
  {
   "cell_type": "code",
   "execution_count": null,
   "metadata": {},
   "outputs": [],
   "source": [
    "print(data.shape)\n",
    "data.to_csv(f\"../data/data_raw/2019_meteo_{city}.csv\", index = True, sep = ';', decimal = '.', encoding = 'utf-8')"
   ]
  },
  {
   "cell_type": "markdown",
   "metadata": {},
   "source": [
    "##### **2020**"
   ]
  },
  {
   "cell_type": "code",
   "execution_count": null,
   "metadata": {},
   "outputs": [],
   "source": [
    "s_moment = datetime(2020, SM, SD, 0)\n",
    "e_moment = datetime(2020, EM, ED, 23) # Schrikkeljaar\n",
    "\n",
    "disclaimer, stations, variables, data = knmy.get_knmi_data(type = 'hourly',\n",
    "                                                           stations = req_stations,\n",
    "                                                           variables = req_variables,\n",
    "                                                           start = s_moment,\n",
    "                                                           end   = e_moment,\n",
    "                                                           inseason = False,\n",
    "                                                           parse = True)"
   ]
  },
  {
   "cell_type": "code",
   "execution_count": null,
   "metadata": {},
   "outputs": [],
   "source": [
    "print(data.shape)\n",
    "data.to_csv(f\"../data/data_raw/2020_meteo_{city}.csv\", index = True, sep = ';', decimal = '.', encoding = 'utf-8')"
   ]
  },
  {
   "cell_type": "markdown",
   "metadata": {},
   "source": [
    "##### **2021**"
   ]
  },
  {
   "cell_type": "code",
   "execution_count": null,
   "metadata": {},
   "outputs": [],
   "source": [
    "s_moment = datetime(2021, SM, SD, 0)\n",
    "e_moment = datetime(2021, EM, ED, 23)\n",
    "\n",
    "disclaimer, stations, variables, data = knmy.get_knmi_data(type = 'hourly',\n",
    "                                                           stations = req_stations,\n",
    "                                                           variables = req_variables,\n",
    "                                                           start = s_moment,\n",
    "                                                           end   = e_moment,\n",
    "                                                           inseason = False,\n",
    "                                                           parse = True)"
   ]
  },
  {
   "cell_type": "code",
   "execution_count": null,
   "metadata": {},
   "outputs": [],
   "source": [
    "print(data.shape)\n",
    "data.to_csv(f\"../data/data_raw/2021_meteo_{city}.csv\", index = True, sep = ';', decimal = '.', encoding = 'utf-8')"
   ]
  },
  {
   "cell_type": "markdown",
   "metadata": {},
   "source": [
    "##### **2022**"
   ]
  },
  {
   "cell_type": "code",
   "execution_count": null,
   "metadata": {},
   "outputs": [],
   "source": [
    "s_moment = datetime(2022, SM, SD, 0)\n",
    "e_moment = datetime(2022, EM, ED, 23)\n",
    "\n",
    "disclaimer, stations, variables, data = knmy.get_knmi_data(type = 'hourly',\n",
    "                                                           stations = req_stations,\n",
    "                                                           variables = req_variables,\n",
    "                                                           start = s_moment,\n",
    "                                                           end   = e_moment,\n",
    "                                                           inseason = False,\n",
    "                                                           parse = True)"
   ]
  },
  {
   "cell_type": "code",
   "execution_count": null,
   "metadata": {},
   "outputs": [],
   "source": [
    "print(data.shape)\n",
    "data.to_csv(f\"../data/data_raw/2022_meteo_{city}.csv\", index = True, sep = ';', decimal = '.', encoding = 'utf-8')"
   ]
  },
  {
   "cell_type": "markdown",
   "metadata": {},
   "source": [
    "##### **2023**"
   ]
  },
  {
   "cell_type": "markdown",
   "metadata": {},
   "source": [
    "Imported manually via: https://www.daggegevens.knmi.nl/klimatologie/uurgegevens, see other file"
   ]
  },
  {
   "cell_type": "code",
   "execution_count": null,
   "metadata": {},
   "outputs": [],
   "source": [
    "# s_moment = datetime(2023, SM, SD, 0)\n",
    "# e_moment = datetime(2023, EM, ED, 23)\n",
    "\n",
    "# disclaimer, stations, variables, data = knmy.get_knmi_data(type = 'hourly',\n",
    "#                                                            stations = req_stations,\n",
    "#                                                            variables = req_variables,\n",
    "#                                                            start = s_moment,\n",
    "#                                                            end   = e_moment,\n",
    "#                                                            inseason = False,\n",
    "#                                                            parse = True)"
   ]
  },
  {
   "cell_type": "code",
   "execution_count": null,
   "metadata": {},
   "outputs": [],
   "source": []
  },
  {
   "cell_type": "code",
   "execution_count": null,
   "metadata": {},
   "outputs": [],
   "source": [
    "# print(data.shape)\n",
    "# data.to_csv(f\"../data/data_raw/2022_meteo_{city}.csv\", index = True, sep = ';', decimal = '.', encoding = 'utf-8')"
   ]
  }
 ],
 "metadata": {
  "kernelspec": {
   "display_name": "Python 3",
   "language": "python",
   "name": "python3"
  },
  "language_info": {
   "codemirror_mode": {
    "name": "ipython",
    "version": 3
   },
   "file_extension": ".py",
   "mimetype": "text/x-python",
   "name": "python",
   "nbconvert_exporter": "python",
   "pygments_lexer": "ipython3",
   "version": "3.9.13"
  }
 },
 "nbformat": 4,
 "nbformat_minor": 2
}
