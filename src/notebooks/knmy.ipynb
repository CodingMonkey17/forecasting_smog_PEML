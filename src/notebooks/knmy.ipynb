{
 "cells": [
  {
   "cell_type": "markdown",
   "metadata": {},
   "source": [
    "##### **Collect data from KNMI using knmy package**"
   ]
  },
  {
   "cell_type": "markdown",
   "metadata": {},
   "source": [
    "Previously not used from the codebse, but now I am using this to download the data manually from the KNMI website, due to certain updates of the datasets"
   ]
  },
  {
   "cell_type": "code",
   "execution_count": 5,
   "metadata": {},
   "outputs": [],
   "source": [
    "from knmy_updated import knmy\n",
    "from datetime import datetime"
   ]
  },
  {
   "cell_type": "code",
   "execution_count": 8,
   "metadata": {},
   "outputs": [],
   "source": [
    "# KNMY GitHub: https://github.com/barthoekstra/knmy/tree/master\n",
    "# KNMY Documentation: https://knmy.readthedocs.io/en/latest/\n",
    "\n",
    "\n",
    "SM = 7  # Starting month\n",
    "SD = 1  # Starting day\n",
    "EM = 12  # Ending month\n",
    "ED = 30 # Ending day\n",
    "\n",
    "# Groningen stations\n",
    "Lauwersoog = 277\n",
    "Eelde = 280\n",
    "NieuwBeerta = 286\n",
    "\n",
    "# Utrecht statios(s)\n",
    "DeBilt = 260\n",
    "\n",
    "req_stations = [DeBilt]\n",
    "# req_variables = ['WIND', 'TEMP', 'SUNR', 'PRCP']\n",
    "req_variables = ['ALL']\n",
    "cities = {\n",
    "    'Utrecht': [DeBilt],\n",
    "}"
   ]
  },
  {
   "cell_type": "code",
   "execution_count": 9,
   "metadata": {},
   "outputs": [
    {
     "name": "stdout",
     "output_type": "stream",
     "text": [
      "Processing Utrecht...\n",
      "Saved Utrecht data with shape (4416, 25) of year 2016\n",
      "Processing Utrecht...\n",
      "Saved Utrecht data with shape (4416, 25) of year 2017\n",
      "Processing Utrecht...\n",
      "Saved Utrecht data with shape (4416, 25) of year 2018\n",
      "Processing Utrecht...\n",
      "Saved Utrecht data with shape (4416, 25) of year 2019\n",
      "Processing Utrecht...\n",
      "Saved Utrecht data with shape (4416, 25) of year 2020\n",
      "Processing Utrecht...\n",
      "Saved Utrecht data with shape (4416, 25) of year 2021\n",
      "Processing Utrecht...\n",
      "Saved Utrecht data with shape (4416, 25) of year 2022\n",
      "Processing Utrecht...\n",
      "Saved Utrecht data with shape (4416, 25) of year 2023\n"
     ]
    }
   ],
   "source": [
    "\n",
    "import time\n",
    "from requests.exceptions import HTTPError\n",
    "\n",
    "years = [2016, 2017, 2018, 2019, 2020, 2021, 2022, 2023]\n",
    "\n",
    "# Define all variable groups we want\n",
    "req_variables = ['WIND', 'TEMP', 'SUNR', 'PRCP', 'PRES', 'VICL', 'MSTR']\n",
    "\n",
    "def fetch_with_retry(year, city, stations, max_retries=3):\n",
    "    for attempt in range(max_retries):\n",
    "        try:\n",
    "            s_moment = datetime(year, SM, SD, 0)\n",
    "            e_moment = datetime(year, EM, ED, 23)\n",
    "            \n",
    "            # Fetch data\n",
    "            disclaimer, stations, variables, data = knmy.get_knmi_data(\n",
    "                type='hourly',\n",
    "                stations=stations,\n",
    "                start=s_moment,\n",
    "                # variables=req_variables,\n",
    "                end=e_moment,\n",
    "                inseason=False,\n",
    "                parse=True\n",
    "            )\n",
    "            \n",
    "            return data\n",
    "            \n",
    "        except HTTPError as e:\n",
    "            if attempt == max_retries - 1:  # Last attempt\n",
    "                print(f\"Failed to fetch data for {city} {year} after {max_retries} attempts: {e}\")\n",
    "                raise\n",
    "            print(f\"Attempt {attempt + 1} failed, retrying after delay...\")\n",
    "            time.sleep(5 * (attempt + 1))  # Increasing delay between retries\n",
    "            \n",
    "for year in years:\n",
    "    for city, stations in cities.items():\n",
    "        print(f\"Processing {city}...\")\n",
    "        try:\n",
    "            data = fetch_with_retry(year, city, stations)\n",
    "            \n",
    "            # Handle duplicate columns and save\n",
    "            data = data.loc[:, ~data.columns.duplicated()]\n",
    "            data.to_csv(\n",
    "                f\"../../data/data_raw/{year}_meteo_{city}.csv\", \n",
    "                index=True, \n",
    "                sep=';', \n",
    "                decimal='.', \n",
    "                encoding='utf-8'\n",
    "            )\n",
    "            print(f\"Saved {city} data with shape {data.shape} of year {year}\")\n",
    "            \n",
    "            # Add delay between cities\n",
    "            time.sleep(2)\n",
    "            \n",
    "        except Exception as e:\n",
    "            print(f\"Error processing {city} for {year}: {str(e)}\")\n",
    "            continue\n",
    "        \n",
    "        # Add delay between years\n",
    "        time.sleep(1)\n"
   ]
  },
  {
   "cell_type": "markdown",
   "metadata": {},
   "source": [
    "##### **2016**"
   ]
  },
  {
   "cell_type": "code",
   "execution_count": null,
   "metadata": {},
   "outputs": [],
   "source": [
    "s_moment = datetime(2016, SM, SD, 0)\n",
    "e_moment = datetime(2016, EM, ED, 23)\n",
    "\n",
    "disclaimer, stations, variables, data = knmy.get_knmi_data(type = 'hourly',\n",
    "                                                           stations = req_stations,\n",
    "                                                           variables = req_variables,\n",
    "                                                           start = s_moment,\n",
    "                                                           end   = e_moment,\n",
    "                                                           inseason = False,\n",
    "                                                           parse = True)"
   ]
  },
  {
   "cell_type": "code",
   "execution_count": null,
   "metadata": {},
   "outputs": [],
   "source": [
    "print(data.shape)\n",
    "data.to_csv(f\"../data/data_raw/2016_meteo_{city}.csv\", index = True, sep = ';', decimal = '.', encoding = 'utf-8')"
   ]
  },
  {
   "cell_type": "markdown",
   "metadata": {},
   "source": [
    "##### **2017**"
   ]
  },
  {
   "cell_type": "code",
   "execution_count": null,
   "metadata": {},
   "outputs": [],
   "source": [
    "s_moment = datetime(2017, SM, SD, 0)\n",
    "e_moment = datetime(2017, EM, ED, 23)\n",
    "\n",
    "disclaimer, stations, variables, data = knmy.get_knmi_data(type = 'hourly',\n",
    "                                                           stations = req_stations,\n",
    "                                                           variables = req_variables,\n",
    "                                                           start = s_moment,\n",
    "                                                           end   = e_moment,\n",
    "                                                           inseason = False,\n",
    "                                                           parse = True)"
   ]
  },
  {
   "cell_type": "code",
   "execution_count": null,
   "metadata": {},
   "outputs": [],
   "source": [
    "print(variables)"
   ]
  },
  {
   "cell_type": "code",
   "execution_count": null,
   "metadata": {},
   "outputs": [],
   "source": [
    "print(data)"
   ]
  },
  {
   "cell_type": "code",
   "execution_count": null,
   "metadata": {},
   "outputs": [],
   "source": [
    "print(data.shape)\n",
    "data.to_csv(f\"../data/data_raw/2017_meteo_{city}.csv\", index = True, sep = ';', decimal = '.', encoding = 'utf-8')"
   ]
  },
  {
   "cell_type": "markdown",
   "metadata": {},
   "source": [
    "##### **2018**"
   ]
  },
  {
   "cell_type": "code",
   "execution_count": null,
   "metadata": {},
   "outputs": [],
   "source": [
    "s_moment = datetime(2018, SM, SD, 0)\n",
    "e_moment = datetime(2018, EM, ED, 23)\n",
    "\n",
    "disclaimer, stations, variables, data = knmy.get_knmi_data(type = 'hourly',\n",
    "                                                           stations = req_stations,\n",
    "                                                           variables = req_variables,\n",
    "                                                           start = s_moment,\n",
    "                                                           end   = e_moment,\n",
    "                                                           inseason = False,\n",
    "                                                           parse = True)"
   ]
  },
  {
   "cell_type": "code",
   "execution_count": null,
   "metadata": {},
   "outputs": [],
   "source": [
    "print(data.shape)\n",
    "data.to_csv(f\"../data/data_raw/2018_meteo_{city}.csv\", index = True, sep = ';', decimal = '.', encoding = 'utf-8')"
   ]
  },
  {
   "cell_type": "markdown",
   "metadata": {},
   "source": [
    "##### **2019**"
   ]
  },
  {
   "cell_type": "code",
   "execution_count": null,
   "metadata": {},
   "outputs": [],
   "source": [
    "s_moment = datetime(2019, SM, SD, 0)\n",
    "e_moment = datetime(2019, EM, ED, 23)\n",
    "\n",
    "disclaimer, stations, variables, data = knmy.get_knmi_data(type = 'hourly',\n",
    "                                                           stations = req_stations,\n",
    "                                                           variables = req_variables,\n",
    "                                                           start = s_moment,\n",
    "                                                           end   = e_moment,\n",
    "                                                           inseason = False,\n",
    "                                                           parse = True)"
   ]
  },
  {
   "cell_type": "code",
   "execution_count": null,
   "metadata": {},
   "outputs": [],
   "source": [
    "print(data.shape)\n",
    "data.to_csv(f\"../data/data_raw/2019_meteo_{city}.csv\", index = True, sep = ';', decimal = '.', encoding = 'utf-8')"
   ]
  },
  {
   "cell_type": "markdown",
   "metadata": {},
   "source": [
    "##### **2020**"
   ]
  },
  {
   "cell_type": "code",
   "execution_count": null,
   "metadata": {},
   "outputs": [],
   "source": [
    "s_moment = datetime(2020, SM, SD, 0)\n",
    "e_moment = datetime(2020, EM, ED, 23) # Schrikkeljaar\n",
    "\n",
    "disclaimer, stations, variables, data = knmy.get_knmi_data(type = 'hourly',\n",
    "                                                           stations = req_stations,\n",
    "                                                           variables = req_variables,\n",
    "                                                           start = s_moment,\n",
    "                                                           end   = e_moment,\n",
    "                                                           inseason = False,\n",
    "                                                           parse = True)"
   ]
  },
  {
   "cell_type": "code",
   "execution_count": null,
   "metadata": {},
   "outputs": [],
   "source": [
    "print(data.shape)\n",
    "data.to_csv(f\"../data/data_raw/2020_meteo_{city}.csv\", index = True, sep = ';', decimal = '.', encoding = 'utf-8')"
   ]
  },
  {
   "cell_type": "markdown",
   "metadata": {},
   "source": [
    "##### **2021**"
   ]
  },
  {
   "cell_type": "code",
   "execution_count": null,
   "metadata": {},
   "outputs": [],
   "source": [
    "s_moment = datetime(2021, SM, SD, 0)\n",
    "e_moment = datetime(2021, EM, ED, 23)\n",
    "\n",
    "disclaimer, stations, variables, data = knmy.get_knmi_data(type = 'hourly',\n",
    "                                                           stations = req_stations,\n",
    "                                                           variables = req_variables,\n",
    "                                                           start = s_moment,\n",
    "                                                           end   = e_moment,\n",
    "                                                           inseason = False,\n",
    "                                                           parse = True)"
   ]
  },
  {
   "cell_type": "code",
   "execution_count": null,
   "metadata": {},
   "outputs": [],
   "source": [
    "print(data.shape)\n",
    "data.to_csv(f\"../data/data_raw/2021_meteo_{city}.csv\", index = True, sep = ';', decimal = '.', encoding = 'utf-8')"
   ]
  },
  {
   "cell_type": "markdown",
   "metadata": {},
   "source": [
    "##### **2022**"
   ]
  },
  {
   "cell_type": "code",
   "execution_count": null,
   "metadata": {},
   "outputs": [],
   "source": [
    "s_moment = datetime(2022, SM, SD, 0)\n",
    "e_moment = datetime(2022, EM, ED, 23)\n",
    "\n",
    "disclaimer, stations, variables, data = knmy.get_knmi_data(type = 'hourly',\n",
    "                                                           stations = req_stations,\n",
    "                                                           variables = req_variables,\n",
    "                                                           start = s_moment,\n",
    "                                                           end   = e_moment,\n",
    "                                                           inseason = False,\n",
    "                                                           parse = True)"
   ]
  },
  {
   "cell_type": "code",
   "execution_count": null,
   "metadata": {},
   "outputs": [],
   "source": [
    "print(data.shape)\n",
    "data.to_csv(f\"../data/data_raw/2022_meteo_{city}.csv\", index = True, sep = ';', decimal = '.', encoding = 'utf-8')"
   ]
  },
  {
   "cell_type": "markdown",
   "metadata": {},
   "source": [
    "##### **2023**"
   ]
  },
  {
   "cell_type": "markdown",
   "metadata": {},
   "source": [
    "Imported manually via: https://www.daggegevens.knmi.nl/klimatologie/uurgegevens, see other file"
   ]
  },
  {
   "cell_type": "code",
   "execution_count": null,
   "metadata": {},
   "outputs": [],
   "source": [
    "# s_moment = datetime(2023, SM, SD, 0)\n",
    "# e_moment = datetime(2023, EM, ED, 23)\n",
    "\n",
    "# disclaimer, stations, variables, data = knmy.get_knmi_data(type = 'hourly',\n",
    "#                                                            stations = req_stations,\n",
    "#                                                            variables = req_variables,\n",
    "#                                                            start = s_moment,\n",
    "#                                                            end   = e_moment,\n",
    "#                                                            inseason = False,\n",
    "#                                                            parse = True)"
   ]
  },
  {
   "cell_type": "code",
   "execution_count": null,
   "metadata": {},
   "outputs": [],
   "source": []
  },
  {
   "cell_type": "code",
   "execution_count": null,
   "metadata": {},
   "outputs": [],
   "source": [
    "# print(data.shape)\n",
    "# data.to_csv(f\"../data/data_raw/2022_meteo_{city}.csv\", index = True, sep = ';', decimal = '.', encoding = 'utf-8')"
   ]
  }
 ],
 "metadata": {
  "kernelspec": {
   "display_name": "venv",
   "language": "python",
   "name": "python3"
  },
  "language_info": {
   "codemirror_mode": {
    "name": "ipython",
    "version": 3
   },
   "file_extension": ".py",
   "mimetype": "text/x-python",
   "name": "python",
   "nbconvert_exporter": "python",
   "pygments_lexer": "ipython3",
   "version": "3.10.15"
  }
 },
 "nbformat": 4,
 "nbformat_minor": 2
}
