{
 "cells": [
  {
   "cell_type": "markdown",
   "metadata": {},
   "source": [
    "# **Preprocessing**\n",
    "\n",
    "In preprocessing the data, the following steps are taken:\n",
    "\n",
    "> * Prepare packages and setup  \n",
    "> * Load in the data  \n",
    "> * Tidy the data and store metadata  \n",
    "> * Inspect data with various metrics  \n",
    "> * Inspect data with visualisations \n",
    "> * Select locations\n",
    "> * Select timeframe\n",
    "> * Feature engineering\n",
    "> * Perform train-validation-test-split  \n",
    "> * Normalisation  \n",
    "> * Create big combined normalised dataframe"
   ]
  },
  {
   "cell_type": "markdown",
   "metadata": {},
   "source": [
    "#### **Prepare packages and setup**"
   ]
  },
  {
   "cell_type": "code",
   "execution_count": 1,
   "metadata": {},
   "outputs": [
    {
     "name": "stdout",
     "output_type": "stream",
     "text": [
      "\n",
      "Running __init__.py for data pipeline\n",
      "Pipeline initialized\n",
      "\n"
     ]
    }
   ],
   "source": [
    "from pipeline import read_meteo_csv_from_data_raw\n",
    "from pipeline import read_four_contaminants\n",
    "from pipeline import get_metadata\n",
    "from pipeline import tidy_raw_contaminant_data\n",
    "from pipeline import tidy_raw_meteo_data\n",
    "from pipeline import print_sensor_metrics_min_mean_max_entries\n",
    "from pipeline import subset_sensors\n",
    "from pipeline import perform_data_split\n",
    "from pipeline import perform_data_split_without_train\n",
    "from pipeline import print_split_ratios"
   ]
  },
  {
   "cell_type": "code",
   "execution_count": 2,
   "metadata": {},
   "outputs": [],
   "source": [
    "import os\n",
    "import sys\n",
    "import numpy as np\n",
    "import pandas as pd\n",
    "import matplotlib as mpl\n",
    "import matplotlib.pyplot as plt\n",
    "import seaborn as sns\n",
    "\n",
    "mpl.rcParams['figure.figsize'] = (6, 2) # landscape plots"
   ]
  },
  {
   "cell_type": "markdown",
   "metadata": {},
   "source": [
    "\"Global\" variables (we're still in a notebook)"
   ]
  },
  {
   "cell_type": "code",
   "execution_count": 3,
   "metadata": {},
   "outputs": [],
   "source": [
    "DEVICE = 'tinus'                        # for working directory compatibility\n",
    "\n",
    "# =============================================================================\n",
    "\n",
    "SUBSET_MONTHS = bool(1)                 # If true, only the months specified in the list below will be\n",
    "                                        # used for the training, validation and testing set\n",
    "START_MON = '08'                        # starting month for the data\n",
    "END_MON = '12'                          # ending month for the data\n",
    "\n",
    "# ============================================================================+\n",
    "\n",
    "# Sensor locations in the case of Utrecht area:\n",
    "DE_BILT = 'S260'                        # starting (and only used) location for meteorological data\n",
    "TUINDORP = 'NL10636'                    # starting location for contamination data\n",
    "BREUKELEN = 'NL10641'                   # 'goal' location for contamination data\n",
    "\n",
    "# =============================================================================\n",
    "\n",
    "# At multiple locations, a sys.exit() can be used to halt the script"
   ]
  },
  {
   "cell_type": "markdown",
   "metadata": {},
   "source": [
    "#### **Load in the data**"
   ]
  },
  {
   "cell_type": "code",
   "execution_count": 4,
   "metadata": {},
   "outputs": [],
   "source": [
    "path = r\"c:\\Users\\vwold\\Documents\\Bachelor\\thesis\\bsc_thesis\\preprocessing\"\n",
    "device = 'tinus'\n",
    "\n",
    "contaminants = ['PM25', 'PM10', 'O3', 'NO2']\n",
    "\n",
    "df_PM25_2016_raw, df_PM10_2016_raw, df_O3_2016_raw, df_NO2_2016_raw = \\\n",
    "    read_four_contaminants(2016, contaminants, path, device)\n",
    "df_PM25_2017_raw, df_PM10_2017_raw, df_O3_2017_raw, df_NO2_2017_raw = \\\n",
    "    read_four_contaminants(2017, contaminants, path, device)\n",
    "df_PM25_2018_raw, df_PM10_2018_raw, df_O3_2018_raw, df_NO2_2018_raw = \\\n",
    "    read_four_contaminants(2018, contaminants, path, device)\n",
    "df_PM25_2019_raw, df_PM10_2019_raw, df_O3_2019_raw, df_NO2_2019_raw = \\\n",
    "    read_four_contaminants(2019, contaminants, path, device)\n",
    "df_PM25_2020_raw, df_PM10_2020_raw, df_O3_2020_raw, df_NO2_2020_raw = \\\n",
    "    read_four_contaminants(2020, contaminants, path, device)\n",
    "df_PM25_2021_raw, df_PM10_2021_raw, df_O3_2021_raw, df_NO2_2021_raw = \\\n",
    "    read_four_contaminants(2021, contaminants, path, device)\n",
    "df_PM25_2022_raw, df_PM10_2022_raw, df_O3_2022_raw, df_NO2_2022_raw = \\\n",
    "    read_four_contaminants(2022, contaminants, path, device)\n",
    "df_PM25_2023_raw, df_PM10_2023_raw, df_O3_2023_raw, df_NO2_2023_raw = \\\n",
    "    read_four_contaminants(2023, contaminants, path, device)"
   ]
  },
  {
   "cell_type": "code",
   "execution_count": 5,
   "metadata": {},
   "outputs": [],
   "source": [
    "df_meteo_2016_raw = read_meteo_csv_from_data_raw(2016, path, device)\n",
    "df_meteo_2017_raw = read_meteo_csv_from_data_raw(2017, path, device)\n",
    "df_meteo_2018_raw = read_meteo_csv_from_data_raw(2018, path, device)\n",
    "df_meteo_2019_raw = read_meteo_csv_from_data_raw(2019, path, device)\n",
    "df_meteo_2020_raw = read_meteo_csv_from_data_raw(2020, path, device)\n",
    "df_meteo_2021_raw = read_meteo_csv_from_data_raw(2021, path, device)\n",
    "df_meteo_2022_raw = read_meteo_csv_from_data_raw(2022, path, device)\n",
    "df_meteo_2023_raw = read_meteo_csv_from_data_raw(2023, path, device)"
   ]
  },
  {
   "cell_type": "code",
   "execution_count": 6,
   "metadata": {},
   "outputs": [
    {
     "name": "stdout",
     "output_type": "stream",
     "text": [
      "   # STN  YYYYMMDD     HH     DD     FH     FF     FX      T   T10N     TD  \\\n",
      "0    260  20220102      1    200     50     50     80    113           101   \n",
      "\n",
      "   ...     VV      N      U     WW     IX      M      R      S     O      Y  \n",
      "0  ...     65      8     91     61      7      0      1      0     0      0  \n",
      "\n",
      "[1 rows x 25 columns]\n",
      "   # STN  YYYYMMDD     HH     DD     FH     FF     FX      T   T10N     TD  \\\n",
      "0    260  20230102      1    180     40     30     70    114           101   \n",
      "\n",
      "   ...     VV      N      U     WW     IX      M      R      S     O      Y  \n",
      "0  ...     65      8     91             5      0      0      0     0      0  \n",
      "\n",
      "[1 rows x 25 columns]\n"
     ]
    }
   ],
   "source": [
    "# print(df_meteo_2016_raw.head(1))\n",
    "# print(df_meteo_2017_raw.head(1))\n",
    "# print(df_meteo_2018_raw.head(1))\n",
    "# print(df_meteo_2019_raw.head(1))\n",
    "# print(df_meteo_2020_raw.head(1))\n",
    "# print(df_meteo_2021_raw.head(1))\n",
    "print(df_meteo_2022_raw.head(1))\n",
    "print(df_meteo_2023_raw.head(1))"
   ]
  },
  {
   "cell_type": "markdown",
   "metadata": {},
   "source": [
    "#### **Tidy the data and store metadata**\n",
    "\n",
    "First, tidy the contaminant data"
   ]
  },
  {
   "cell_type": "code",
   "execution_count": 7,
   "metadata": {},
   "outputs": [],
   "source": [
    "PM25_2016_meta = get_metadata(df_PM25_2016_raw)\n",
    "PM10_2016_meta = get_metadata(df_PM10_2016_raw)\n",
    "O3_2016_meta   = get_metadata(df_O3_2016_raw)\n",
    "NO2_2016_meta  = get_metadata(df_NO2_2016_raw)\n",
    "PM25_2017_meta = get_metadata(df_PM25_2017_raw)\n",
    "PM10_2017_meta = get_metadata(df_PM10_2017_raw)\n",
    "O3_2017_meta   = get_metadata(df_O3_2017_raw)\n",
    "NO2_2017_meta  = get_metadata(df_NO2_2017_raw)\n",
    "PM25_2018_meta = get_metadata(df_PM25_2018_raw)\n",
    "PM10_2018_meta = get_metadata(df_PM10_2018_raw)\n",
    "O3_2018_meta   = get_metadata(df_O3_2018_raw)\n",
    "NO2_2018_meta  = get_metadata(df_NO2_2018_raw)\n",
    "PM25_2019_meta = get_metadata(df_PM25_2019_raw)\n",
    "PM10_2019_meta = get_metadata(df_PM10_2019_raw)\n",
    "O3_2019_meta   = get_metadata(df_O3_2019_raw)\n",
    "NO2_2019_meta  = get_metadata(df_NO2_2019_raw)\n",
    "PM25_2020_meta = get_metadata(df_PM25_2020_raw)\n",
    "PM10_2020_meta = get_metadata(df_PM10_2020_raw)\n",
    "O3_2020_meta   = get_metadata(df_O3_2020_raw)\n",
    "NO2_2020_meta  = get_metadata(df_NO2_2020_raw)\n",
    "PM25_2021_meta = get_metadata(df_PM25_2021_raw)\n",
    "PM10_2021_meta = get_metadata(df_PM10_2021_raw)\n",
    "O3_2021_meta   = get_metadata(df_O3_2021_raw)\n",
    "NO2_2021_meta  = get_metadata(df_NO2_2021_raw)\n",
    "PM25_2022_meta = get_metadata(df_PM25_2022_raw)\n",
    "PM10_2022_meta = get_metadata(df_PM10_2022_raw)\n",
    "O3_2022_meta   = get_metadata(df_O3_2022_raw)\n",
    "NO2_2022_meta  = get_metadata(df_NO2_2022_raw)\n",
    "PM25_2023_meta = get_metadata(df_PM25_2023_raw)\n",
    "PM10_2023_meta = get_metadata(df_PM10_2023_raw)\n",
    "O3_2023_meta   = get_metadata(df_O3_2023_raw)\n",
    "NO2_2023_meta  = get_metadata(df_NO2_2023_raw)\n",
    "\n",
    "df_PM25_2016_tidy = tidy_raw_contaminant_data(df_PM25_2016_raw, '2016', SUBSET_MONTHS, START_MON, END_MON)\n",
    "df_PM10_2016_tidy = tidy_raw_contaminant_data(df_PM10_2016_raw, '2016', SUBSET_MONTHS, START_MON, END_MON)\n",
    "df_O3_2016_tidy   = tidy_raw_contaminant_data(df_O3_2016_raw, '2016', SUBSET_MONTHS, START_MON, END_MON)\n",
    "df_NO2_2016_tidy  = tidy_raw_contaminant_data(df_NO2_2016_raw, '2016', SUBSET_MONTHS, START_MON, END_MON)\n",
    "df_PM25_2017_tidy = tidy_raw_contaminant_data(df_PM25_2017_raw, '2017', SUBSET_MONTHS, START_MON, END_MON)\n",
    "df_PM10_2017_tidy = tidy_raw_contaminant_data(df_PM10_2017_raw, '2017', SUBSET_MONTHS, START_MON, END_MON)\n",
    "df_O3_2017_tidy   = tidy_raw_contaminant_data(df_O3_2017_raw, '2017', SUBSET_MONTHS, START_MON, END_MON)\n",
    "df_NO2_2017_tidy  = tidy_raw_contaminant_data(df_NO2_2017_raw, '2017', SUBSET_MONTHS, START_MON, END_MON)\n",
    "df_PM25_2018_tidy = tidy_raw_contaminant_data(df_PM25_2018_raw, '2018', SUBSET_MONTHS, START_MON, END_MON)\n",
    "df_PM10_2018_tidy = tidy_raw_contaminant_data(df_PM10_2018_raw, '2018', SUBSET_MONTHS, START_MON, END_MON)\n",
    "df_O3_2018_tidy   = tidy_raw_contaminant_data(df_O3_2018_raw, '2018', SUBSET_MONTHS, START_MON, END_MON)\n",
    "df_NO2_2018_tidy  = tidy_raw_contaminant_data(df_NO2_2018_raw, '2018', SUBSET_MONTHS, START_MON, END_MON)\n",
    "df_PM25_2019_tidy = tidy_raw_contaminant_data(df_PM25_2019_raw, '2019', SUBSET_MONTHS, START_MON, END_MON)\n",
    "df_PM10_2019_tidy = tidy_raw_contaminant_data(df_PM10_2019_raw, '2019', SUBSET_MONTHS, START_MON, END_MON)\n",
    "df_O3_2019_tidy   = tidy_raw_contaminant_data(df_O3_2019_raw, '2019', SUBSET_MONTHS, START_MON, END_MON)\n",
    "df_NO2_2019_tidy  = tidy_raw_contaminant_data(df_NO2_2019_raw, '2019', SUBSET_MONTHS, START_MON, END_MON)\n",
    "df_PM25_2020_tidy = tidy_raw_contaminant_data(df_PM25_2020_raw, '2020', SUBSET_MONTHS, START_MON, END_MON)\n",
    "df_PM10_2020_tidy = tidy_raw_contaminant_data(df_PM10_2020_raw, '2020', SUBSET_MONTHS, START_MON, END_MON)\n",
    "df_O3_2020_tidy   = tidy_raw_contaminant_data(df_O3_2020_raw, '2020', SUBSET_MONTHS, START_MON, END_MON)\n",
    "df_NO2_2020_tidy  = tidy_raw_contaminant_data(df_NO2_2020_raw, '2020', SUBSET_MONTHS, START_MON, END_MON)\n",
    "df_PM25_2021_tidy = tidy_raw_contaminant_data(df_PM25_2021_raw, '2021', SUBSET_MONTHS, START_MON, END_MON)\n",
    "df_PM10_2021_tidy = tidy_raw_contaminant_data(df_PM10_2021_raw, '2021', SUBSET_MONTHS, START_MON, END_MON)\n",
    "df_O3_2021_tidy   = tidy_raw_contaminant_data(df_O3_2021_raw, '2021', SUBSET_MONTHS, START_MON, END_MON)\n",
    "df_NO2_2021_tidy  = tidy_raw_contaminant_data(df_NO2_2021_raw, '2021', SUBSET_MONTHS, START_MON, END_MON)\n",
    "df_PM25_2022_tidy = tidy_raw_contaminant_data(df_PM25_2022_raw, '2022', SUBSET_MONTHS, START_MON, END_MON)\n",
    "df_PM10_2022_tidy = tidy_raw_contaminant_data(df_PM10_2022_raw, '2022', SUBSET_MONTHS, START_MON, END_MON)\n",
    "df_O3_2022_tidy   = tidy_raw_contaminant_data(df_O3_2022_raw, '2022', SUBSET_MONTHS, START_MON, END_MON)\n",
    "df_NO2_2022_tidy  = tidy_raw_contaminant_data(df_NO2_2022_raw, '2022', SUBSET_MONTHS, START_MON, END_MON)\n",
    "df_PM25_2023_tidy = tidy_raw_contaminant_data(df_PM25_2023_raw, '2023', SUBSET_MONTHS, START_MON, END_MON)\n",
    "df_PM10_2023_tidy = tidy_raw_contaminant_data(df_PM10_2023_raw, '2023', SUBSET_MONTHS, START_MON, END_MON)\n",
    "df_O3_2023_tidy   = tidy_raw_contaminant_data(df_O3_2023_raw, '2023', SUBSET_MONTHS, START_MON, END_MON)\n",
    "df_NO2_2023_tidy  = tidy_raw_contaminant_data(df_NO2_2023_raw, '2023', SUBSET_MONTHS, START_MON, END_MON)"
   ]
  },
  {
   "cell_type": "code",
   "execution_count": 8,
   "metadata": {},
   "outputs": [
    {
     "name": "stdout",
     "output_type": "stream",
     "text": [
      "(3648, 54)\n",
      "(3648, 78)\n",
      "(3648, 48)\n",
      "(3648, 82)\n",
      "(3648, 52)\n",
      "(3648, 77)\n",
      "(3648, 47)\n",
      "(3648, 81)\n",
      "(3648, 48)\n",
      "(3648, 75)\n",
      "(3648, 45)\n",
      "(3648, 79)\n",
      "(3648, 52)\n",
      "(3648, 76)\n",
      "(3648, 45)\n",
      "(3648, 79)\n",
      "(3648, 51)\n",
      "(3648, 76)\n",
      "(3648, 43)\n",
      "(3648, 79)\n",
      "(3648, 53)\n",
      "(3648, 72)\n",
      "(3648, 45)\n",
      "(3648, 76)\n"
     ]
    }
   ],
   "source": [
    "# print(df_PM25_2016_tidy.shape)\n",
    "# print(df_PM10_2016_tidy.shape)\n",
    "# print(df_O3_2016_tidy.shape)\n",
    "# print(df_NO2_2016_tidy.shape)\n",
    "print(df_PM25_2017_tidy.shape)\n",
    "print(df_PM10_2017_tidy.shape)\n",
    "print(df_O3_2017_tidy.shape)\n",
    "print(df_NO2_2017_tidy.shape)\n",
    "print(df_PM25_2018_tidy.shape)\n",
    "print(df_PM10_2018_tidy.shape)\n",
    "print(df_O3_2018_tidy.shape)\n",
    "print(df_NO2_2018_tidy.shape)\n",
    "# print(df_PM25_2019_tidy.shape)\n",
    "# print(df_PM10_2019_tidy.shape)\n",
    "# print(df_O3_2019_tidy.shape)\n",
    "# print(df_NO2_2019_tidy.shape)\n",
    "print(df_PM25_2020_tidy.shape)\n",
    "print(df_PM10_2020_tidy.shape)\n",
    "print(df_O3_2020_tidy.shape)\n",
    "print(df_NO2_2020_tidy.shape)\n",
    "print(df_PM25_2021_tidy.shape)\n",
    "print(df_PM10_2021_tidy.shape)\n",
    "print(df_O3_2021_tidy.shape)\n",
    "print(df_NO2_2021_tidy.shape)\n",
    "print(df_PM25_2022_tidy.shape)\n",
    "print(df_PM10_2022_tidy.shape)\n",
    "print(df_O3_2022_tidy.shape)\n",
    "print(df_NO2_2022_tidy.shape)\n",
    "print(df_PM25_2023_tidy.shape)\n",
    "print(df_PM10_2023_tidy.shape)\n",
    "print(df_O3_2023_tidy.shape)\n",
    "print(df_NO2_2023_tidy.shape)"
   ]
  },
  {
   "cell_type": "markdown",
   "metadata": {},
   "source": [
    "Second, tidy the meteorological data"
   ]
  },
  {
   "cell_type": "code",
   "execution_count": 9,
   "metadata": {},
   "outputs": [],
   "source": [
    "only_DeBilt = True                      # True: only De Bilt is used\n",
    "\n",
    "# df_temp_2016_tidy = tidy_raw_meteo_data(df_meteo_2016_raw, 'T', only_DeBilt, SUBSET_MONTHS, START_MON, END_MON)\n",
    "# df_dewP_2016_tidy = tidy_raw_meteo_data(df_meteo_2016_raw, 'TD', only_DeBilt, SUBSET_MONTHS, START_MON, END_MON)\n",
    "# df_WD_2016_tidy   = tidy_raw_meteo_data(df_meteo_2016_raw, 'DD', only_DeBilt, SUBSET_MONTHS, START_MON, END_MON)\n",
    "# df_Wvh_2016_tidy  = tidy_raw_meteo_data(df_meteo_2016_raw, 'FH', only_DeBilt, SUBSET_MONTHS, START_MON, END_MON)\n",
    "# df_Wmax_2016_tidy = tidy_raw_meteo_data(df_meteo_2016_raw, 'FX', only_DeBilt, SUBSET_MONTHS, START_MON, END_MON)\n",
    "# df_preT_2016_tidy = tidy_raw_meteo_data(df_meteo_2016_raw, 'DR', only_DeBilt, SUBSET_MONTHS, START_MON, END_MON)\n",
    "# df_preS_2016_tidy = tidy_raw_meteo_data(df_meteo_2016_raw, 'RH', only_DeBilt, SUBSET_MONTHS, START_MON, END_MON)\n",
    "# df_SQ_2016_tidy   = tidy_raw_meteo_data(df_meteo_2016_raw, 'SQ', only_DeBilt, SUBSET_MONTHS, START_MON, END_MON)\n",
    "# df_Q_2016_tidy    = tidy_raw_meteo_data(df_meteo_2016_raw, 'Q', only_DeBilt, SUBSET_MONTHS, START_MON, END_MON)\n",
    "\n",
    "df_temp_2017_tidy = tidy_raw_meteo_data(df_meteo_2017_raw, 'T', only_DeBilt, '2017', SUBSET_MONTHS, START_MON, END_MON)\n",
    "df_dewP_2017_tidy = tidy_raw_meteo_data(df_meteo_2017_raw, 'TD', only_DeBilt, '2017', SUBSET_MONTHS, START_MON, END_MON)\n",
    "df_WD_2017_tidy   = tidy_raw_meteo_data(df_meteo_2017_raw, 'DD', only_DeBilt, '2017', SUBSET_MONTHS, START_MON, END_MON)\n",
    "df_Wvh_2017_tidy  = tidy_raw_meteo_data(df_meteo_2017_raw, 'FH', only_DeBilt, '2017', SUBSET_MONTHS, START_MON, END_MON)\n",
    "df_Wmax_2017_tidy = tidy_raw_meteo_data(df_meteo_2017_raw, 'FX', only_DeBilt, '2017', SUBSET_MONTHS, START_MON, END_MON)\n",
    "df_preT_2017_tidy = tidy_raw_meteo_data(df_meteo_2017_raw, 'DR', only_DeBilt, '2017', SUBSET_MONTHS, START_MON, END_MON)\n",
    "df_P_2017_tidy    = tidy_raw_meteo_data(df_meteo_2017_raw, 'P', only_DeBilt, '2017', SUBSET_MONTHS, START_MON, END_MON)\n",
    "df_preS_2017_tidy = tidy_raw_meteo_data(df_meteo_2017_raw, 'RH', only_DeBilt, '2017', SUBSET_MONTHS, START_MON, END_MON)\n",
    "df_SQ_2017_tidy   = tidy_raw_meteo_data(df_meteo_2017_raw, 'SQ', only_DeBilt, '2017', SUBSET_MONTHS, START_MON, END_MON)\n",
    "df_Q_2017_tidy    = tidy_raw_meteo_data(df_meteo_2017_raw, 'Q', only_DeBilt, '2017', SUBSET_MONTHS, START_MON, END_MON)\n",
    "\n",
    "df_temp_2018_tidy = tidy_raw_meteo_data(df_meteo_2018_raw, 'T', only_DeBilt, '2018', SUBSET_MONTHS, START_MON, END_MON)\n",
    "df_dewP_2018_tidy = tidy_raw_meteo_data(df_meteo_2018_raw, 'TD', only_DeBilt, '2018', SUBSET_MONTHS, START_MON, END_MON)\n",
    "df_WD_2018_tidy   = tidy_raw_meteo_data(df_meteo_2018_raw, 'DD', only_DeBilt, '2018', SUBSET_MONTHS, START_MON, END_MON)\n",
    "df_Wvh_2018_tidy  = tidy_raw_meteo_data(df_meteo_2018_raw, 'FH', only_DeBilt, '2018', SUBSET_MONTHS, START_MON, END_MON)\n",
    "df_Wmax_2018_tidy = tidy_raw_meteo_data(df_meteo_2018_raw, 'FX', only_DeBilt, '2018', SUBSET_MONTHS, START_MON, END_MON)\n",
    "df_preT_2018_tidy = tidy_raw_meteo_data(df_meteo_2018_raw, 'DR', only_DeBilt, '2018', SUBSET_MONTHS, START_MON, END_MON)\n",
    "df_P_2018_tidy    = tidy_raw_meteo_data(df_meteo_2018_raw, 'P', only_DeBilt, '2018', SUBSET_MONTHS, START_MON, END_MON)\n",
    "df_preS_2018_tidy = tidy_raw_meteo_data(df_meteo_2018_raw, 'RH', only_DeBilt, '2018', SUBSET_MONTHS, START_MON, END_MON)\n",
    "df_SQ_2018_tidy   = tidy_raw_meteo_data(df_meteo_2018_raw, 'SQ', only_DeBilt, '2018', SUBSET_MONTHS, START_MON, END_MON)\n",
    "df_Q_2018_tidy    = tidy_raw_meteo_data(df_meteo_2018_raw, 'Q', only_DeBilt, '2018', SUBSET_MONTHS, START_MON, END_MON)\n",
    "\n",
    "# df_temp_2019_tidy = tidy_raw_meteo_data(df_meteo_2019_raw, 'T', only_DeBilt, '2019', SUBSET_MONTHS, START_MON, END_MON)\n",
    "# df_dewP_2019_tidy = tidy_raw_meteo_data(df_meteo_2019_raw, 'TD', only_DeBilt, '2019', SUBSET_MONTHS, START_MON, END_MON)\n",
    "# df_WD_2019_tidy   = tidy_raw_meteo_data(df_meteo_2019_raw, 'DD', only_DeBilt, '2019', SUBSET_MONTHS, START_MON, END_MON)\n",
    "# df_Wvh_2019_tidy  = tidy_raw_meteo_data(df_meteo_2019_raw, 'FH', only_DeBilt, '2019', SUBSET_MONTHS, START_MON, END_MON)\n",
    "# df_Wmax_2019_tidy = tidy_raw_meteo_data(df_meteo_2019_raw, 'FX', only_DeBilt, '2019', SUBSET_MONTHS, START_MON, END_MON)\n",
    "# df_preT_2019_tidy = tidy_raw_meteo_data(df_meteo_2019_raw, 'DR', only_DeBilt, '2019', SUBSET_MONTHS, START_MON, END_MON)\n",
    "# df_P_2019_tidy    = tidy_raw_meteo_data(df_meteo_2019_raw, 'P', only_DeBilt, '2019', SUBSET_MONTHS, START_MON, END_MON)\n",
    "# df_preS_2019_tidy = tidy_raw_meteo_data(df_meteo_2019_raw, 'RH', only_DeBilt, '2019', SUBSET_MONTHS, START_MON, END_MON)\n",
    "# df_SQ_2019_tidy   = tidy_raw_meteo_data(df_meteo_2019_raw, 'SQ', only_DeBilt, '2019', SUBSET_MONTHS, START_MON, END_MON)\n",
    "# df_Q_2019_tidy    = tidy_raw_meteo_data(df_meteo_2019_raw, 'Q', only_DeBilt, '2019', SUBSET_MONTHS, START_MON, END_MON)\n",
    "\n",
    "df_temp_2020_tidy = tidy_raw_meteo_data(df_meteo_2020_raw, 'T', only_DeBilt, '2020', SUBSET_MONTHS, START_MON, END_MON)\n",
    "df_dewP_2020_tidy = tidy_raw_meteo_data(df_meteo_2020_raw, 'TD', only_DeBilt, '2020', SUBSET_MONTHS, START_MON, END_MON)\n",
    "df_WD_2020_tidy   = tidy_raw_meteo_data(df_meteo_2020_raw, 'DD', only_DeBilt, '2020', SUBSET_MONTHS, START_MON, END_MON)\n",
    "df_Wvh_2020_tidy  = tidy_raw_meteo_data(df_meteo_2020_raw, 'FH', only_DeBilt, '2020', SUBSET_MONTHS, START_MON, END_MON)\n",
    "df_Wmax_2020_tidy = tidy_raw_meteo_data(df_meteo_2020_raw, 'FX', only_DeBilt, '2020', SUBSET_MONTHS, START_MON, END_MON)\n",
    "df_preT_2020_tidy = tidy_raw_meteo_data(df_meteo_2020_raw, 'DR', only_DeBilt, '2020', SUBSET_MONTHS, START_MON, END_MON)\n",
    "df_P_2020_tidy    = tidy_raw_meteo_data(df_meteo_2020_raw, 'P', only_DeBilt, '2020', SUBSET_MONTHS, START_MON, END_MON)\n",
    "df_preS_2020_tidy = tidy_raw_meteo_data(df_meteo_2020_raw, 'RH', only_DeBilt, '2020', SUBSET_MONTHS, START_MON, END_MON)\n",
    "df_SQ_2020_tidy   = tidy_raw_meteo_data(df_meteo_2020_raw, 'SQ', only_DeBilt, '2020', SUBSET_MONTHS, START_MON, END_MON)\n",
    "df_Q_2020_tidy    = tidy_raw_meteo_data(df_meteo_2020_raw, 'Q', only_DeBilt, '2020', SUBSET_MONTHS, START_MON, END_MON)\n",
    "\n",
    "df_temp_2021_tidy = tidy_raw_meteo_data(df_meteo_2021_raw, 'T', only_DeBilt, '2021', SUBSET_MONTHS, START_MON, END_MON)\n",
    "df_dewP_2021_tidy = tidy_raw_meteo_data(df_meteo_2021_raw, 'TD', only_DeBilt, '2021', SUBSET_MONTHS, START_MON, END_MON)\n",
    "df_WD_2021_tidy   = tidy_raw_meteo_data(df_meteo_2021_raw, 'DD', only_DeBilt, '2021', SUBSET_MONTHS, START_MON, END_MON)\n",
    "df_Wvh_2021_tidy  = tidy_raw_meteo_data(df_meteo_2021_raw, 'FH', only_DeBilt, '2021', SUBSET_MONTHS, START_MON, END_MON)\n",
    "df_Wmax_2021_tidy = tidy_raw_meteo_data(df_meteo_2021_raw, 'FX', only_DeBilt, '2021', SUBSET_MONTHS, START_MON, END_MON)\n",
    "df_preT_2021_tidy = tidy_raw_meteo_data(df_meteo_2021_raw, 'DR', only_DeBilt, '2021', SUBSET_MONTHS, START_MON, END_MON)\n",
    "df_P_2021_tidy    = tidy_raw_meteo_data(df_meteo_2021_raw, 'P', only_DeBilt, '2021', SUBSET_MONTHS, START_MON, END_MON)\n",
    "df_preS_2021_tidy = tidy_raw_meteo_data(df_meteo_2021_raw, 'RH', only_DeBilt, '2021', SUBSET_MONTHS, START_MON, END_MON)\n",
    "df_SQ_2021_tidy   = tidy_raw_meteo_data(df_meteo_2021_raw, 'SQ', only_DeBilt, '2021', SUBSET_MONTHS, START_MON, END_MON)\n",
    "df_Q_2021_tidy    = tidy_raw_meteo_data(df_meteo_2021_raw, 'Q', only_DeBilt, '2021', SUBSET_MONTHS, START_MON, END_MON)\n",
    "\n",
    "df_temp_2022_tidy = tidy_raw_meteo_data(df_meteo_2022_raw, 'T', only_DeBilt, '2022', SUBSET_MONTHS, START_MON, END_MON)\n",
    "df_dewP_2022_tidy = tidy_raw_meteo_data(df_meteo_2022_raw, 'TD', only_DeBilt, '2022', SUBSET_MONTHS, START_MON, END_MON)\n",
    "df_WD_2022_tidy   = tidy_raw_meteo_data(df_meteo_2022_raw, 'DD', only_DeBilt, '2022', SUBSET_MONTHS, START_MON, END_MON)\n",
    "df_Wvh_2022_tidy  = tidy_raw_meteo_data(df_meteo_2022_raw, 'FH', only_DeBilt, '2022', SUBSET_MONTHS, START_MON, END_MON)\n",
    "df_Wmax_2022_tidy = tidy_raw_meteo_data(df_meteo_2022_raw, 'FX', only_DeBilt, '2022', SUBSET_MONTHS, START_MON, END_MON)\n",
    "df_preT_2022_tidy = tidy_raw_meteo_data(df_meteo_2022_raw, 'DR', only_DeBilt, '2022', SUBSET_MONTHS, START_MON, END_MON)\n",
    "df_P_2022_tidy    = tidy_raw_meteo_data(df_meteo_2022_raw, 'P', only_DeBilt, '2022', SUBSET_MONTHS, START_MON, END_MON)\n",
    "df_preS_2022_tidy = tidy_raw_meteo_data(df_meteo_2022_raw, 'RH', only_DeBilt, '2022', SUBSET_MONTHS, START_MON, END_MON)\n",
    "df_SQ_2022_tidy   = tidy_raw_meteo_data(df_meteo_2022_raw, 'SQ', only_DeBilt, '2022', SUBSET_MONTHS, START_MON, END_MON)\n",
    "df_Q_2022_tidy    = tidy_raw_meteo_data(df_meteo_2022_raw, 'Q', only_DeBilt, '2022', SUBSET_MONTHS, START_MON, END_MON)\n",
    "\n",
    "df_temp_2023_tidy = tidy_raw_meteo_data(df_meteo_2023_raw, 'T', only_DeBilt, '2023', SUBSET_MONTHS, START_MON, END_MON)\n",
    "df_dewP_2023_tidy = tidy_raw_meteo_data(df_meteo_2023_raw, 'TD', only_DeBilt, '2023', SUBSET_MONTHS, START_MON, END_MON)\n",
    "df_WD_2023_tidy   = tidy_raw_meteo_data(df_meteo_2023_raw, 'DD', only_DeBilt, '2023', SUBSET_MONTHS, START_MON, END_MON)\n",
    "df_Wvh_2023_tidy  = tidy_raw_meteo_data(df_meteo_2023_raw, 'FH', only_DeBilt, '2023', SUBSET_MONTHS, START_MON, END_MON)\n",
    "df_Wmax_2023_tidy = tidy_raw_meteo_data(df_meteo_2023_raw, 'FX', only_DeBilt, '2023', SUBSET_MONTHS, START_MON, END_MON)\n",
    "df_preT_2023_tidy = tidy_raw_meteo_data(df_meteo_2023_raw, 'DR', only_DeBilt, '2023', SUBSET_MONTHS, START_MON, END_MON)\n",
    "df_P_2023_tidy    = tidy_raw_meteo_data(df_meteo_2023_raw, 'P', only_DeBilt, '2023', SUBSET_MONTHS, START_MON, END_MON)\n",
    "df_preS_2023_tidy = tidy_raw_meteo_data(df_meteo_2023_raw, 'RH', only_DeBilt, '2023', SUBSET_MONTHS, START_MON, END_MON)\n",
    "df_SQ_2023_tidy   = tidy_raw_meteo_data(df_meteo_2023_raw, 'SQ', only_DeBilt, '2023', SUBSET_MONTHS, START_MON, END_MON)\n",
    "df_Q_2023_tidy    = tidy_raw_meteo_data(df_meteo_2023_raw, 'Q', only_DeBilt, '2023', SUBSET_MONTHS, START_MON, END_MON)"
   ]
  },
  {
   "cell_type": "code",
   "execution_count": 10,
   "metadata": {},
   "outputs": [
    {
     "name": "stdout",
     "output_type": "stream",
     "text": [
      "                      S260\n",
      "DateTime                  \n",
      "2022-08-01 00:00:00  260.0\n",
      "2022-08-01 01:00:00  250.0\n",
      "                      S260\n",
      "DateTime                  \n",
      "2022-12-30 22:00:00  220.0\n",
      "2022-12-30 23:00:00  220.0\n",
      "                       S260\n",
      "DateTime                   \n",
      "2023-08-01 00:00:00  9978.0\n",
      "2023-08-01 01:00:00  9977.0\n"
     ]
    }
   ],
   "source": [
    "print(df_WD_2022_tidy.head(2))\n",
    "print(df_WD_2022_tidy.tail(2))\n",
    "print(df_P_2023_tidy.head(2))"
   ]
  },
  {
   "cell_type": "code",
   "execution_count": 11,
   "metadata": {},
   "outputs": [
    {
     "name": "stdout",
     "output_type": "stream",
     "text": [
      "(3648, 1)\n",
      "(3648, 1)\n",
      "(3648, 1)\n",
      "(3648, 1)\n",
      "(3648, 1)\n",
      "(3648, 1)\n",
      "(3648, 1)\n",
      "(3648, 1)\n",
      "(3648, 1)\n",
      "(3648, 1)\n",
      "(3648, 1)\n",
      "(3648, 1)\n",
      "(3648, 1)\n",
      "(3648, 1)\n",
      "(3648, 1)\n",
      "(3648, 1)\n",
      "(3648, 1)\n",
      "(3648, 1)\n",
      "(3648, 1)\n",
      "(3648, 1)\n"
     ]
    }
   ],
   "source": [
    "print(df_temp_2017_tidy.shape)\n",
    "print(df_dewP_2017_tidy.shape)\n",
    "print(df_WD_2017_tidy.shape)\n",
    "print(df_Wvh_2017_tidy.shape)\n",
    "print(df_Wmax_2017_tidy.shape)\n",
    "print(df_preT_2017_tidy.shape)\n",
    "print(df_P_2017_tidy.shape)\n",
    "print(df_preS_2017_tidy.shape)\n",
    "print(df_SQ_2017_tidy.shape)\n",
    "print(df_Q_2017_tidy.shape)\n",
    "\n",
    "# print(df_temp_2019_tidy.shape)\n",
    "# print(df_dewP_2019_tidy.shape)\n",
    "# print(df_WD_2019_tidy.shape)\n",
    "# print(df_Wvh_2019_tidy.shape)\n",
    "# print(df_Wmax_2019_tidy.shape)\n",
    "# print(df_preT_2019_tidy.shape)\n",
    "# print(df_P_2019_tidy.shape)\n",
    "# print(df_preS_2019_tidy.shape)\n",
    "# print(df_SQ_2019_tidy.shape)\n",
    "# print(df_Q_2019_tidy.shape)\n",
    "\n",
    "print(df_temp_2023_tidy.shape)\n",
    "print(df_dewP_2023_tidy.shape)\n",
    "print(df_WD_2023_tidy.shape)\n",
    "print(df_Wvh_2023_tidy.shape)\n",
    "print(df_Wmax_2023_tidy.shape)\n",
    "print(df_preT_2023_tidy.shape)\n",
    "print(df_P_2023_tidy.shape)\n",
    "print(df_preS_2023_tidy.shape)\n",
    "print(df_SQ_2023_tidy.shape)\n",
    "print(df_Q_2023_tidy.shape)"
   ]
  },
  {
   "cell_type": "markdown",
   "metadata": {},
   "source": [
    "#### **Inspect data with various metrics**\n",
    "\n",
    "min, mean, max of day, month, year"
   ]
  },
  {
   "cell_type": "markdown",
   "metadata": {},
   "source": [
    "Print some metrics"
   ]
  },
  {
   "cell_type": "code",
   "execution_count": 12,
   "metadata": {},
   "outputs": [
    {
     "name": "stdout",
     "output_type": "stream",
     "text": [
      "[min, mean, max] for sensor NL10636 measuring PM2.5 µg/m³:\n",
      "[-4.9060, 10.2346, 68.8520] with n = 3648\n",
      "\n",
      "[min, mean, max] for sensor NL10636 measuring PM2.5 µg/m³:\n",
      "[-3.0850, 10.9594, 79.7110] with n = 3648\n",
      "\n",
      "[min, mean, max] for sensor NL10636 measuring PM2.5 µg/m³:\n",
      "[-3.9810, 11.3348, 51.7420] with n = 3648\n",
      "\n",
      "[min, mean, max] for sensor NL10636 measuring PM2.5 µg/m³:\n",
      "[-4.5280, 11.4408, 47.4490] with n = 3648\n",
      "\n"
     ]
    }
   ],
   "source": [
    "# print_sensor_metrics_min_mean_max_entries(df_PM25_2016_tidy, TUINDORP, PM25_2016_meta)\n",
    "# print_sensor_metrics_min_mean_max_entries(df_PM25_2017_tidy, TUINDORP, PM25_2017_meta)\n",
    "# print_sensor_metrics_min_mean_max_entries(df_PM25_2018_tidy, TUINDORP, PM25_2018_meta)\n",
    "print_sensor_metrics_min_mean_max_entries(df_PM25_2019_tidy, TUINDORP, PM25_2019_meta)\n",
    "print_sensor_metrics_min_mean_max_entries(df_PM25_2020_tidy, TUINDORP, PM25_2020_meta)\n",
    "print_sensor_metrics_min_mean_max_entries(df_PM25_2021_tidy, TUINDORP, PM25_2021_meta)\n",
    "print_sensor_metrics_min_mean_max_entries(df_PM25_2022_tidy, TUINDORP, PM25_2022_meta)"
   ]
  },
  {
   "cell_type": "code",
   "execution_count": 13,
   "metadata": {},
   "outputs": [
    {
     "name": "stdout",
     "output_type": "stream",
     "text": [
      "[min, mean, max] for sensor NL10636 measuring PM10 µg/m³:\n",
      "[-16.0500, 16.1904, 78.6700] with n = 3648\n",
      "\n",
      "[min, mean, max] for sensor NL10636 measuring PM10 µg/m³:\n",
      "[-17.3300, 15.3067, 77.3900] with n = 3648\n",
      "\n",
      "[min, mean, max] for sensor NL10636 measuring PM10 µg/m³:\n",
      "[-18.6100, 15.1793, 62.0300] with n = 3648\n",
      "\n",
      "[min, mean, max] for sensor NL10636 measuring PM10 µg/m³:\n",
      "[-16.0500, 16.5242, 76.1100] with n = 3648\n",
      "\n"
     ]
    }
   ],
   "source": [
    "# print_sensor_metrics_min_mean_max_entries(df_PM10_2016_tidy, TUINDORP, PM10_2016_meta)\n",
    "# print_sensor_metrics_min_mean_max_entries(df_PM10_2017_tidy, TUINDORP, PM10_2017_meta)\n",
    "# print_sensor_metrics_min_mean_max_entries(df_PM10_2018_tidy, TUINDORP, PM10_2018_meta)\n",
    "print_sensor_metrics_min_mean_max_entries(df_PM10_2019_tidy, TUINDORP, PM10_2019_meta)\n",
    "print_sensor_metrics_min_mean_max_entries(df_PM10_2020_tidy, TUINDORP, PM10_2020_meta)\n",
    "print_sensor_metrics_min_mean_max_entries(df_PM10_2021_tidy, TUINDORP, PM10_2021_meta)\n",
    "print_sensor_metrics_min_mean_max_entries(df_PM10_2022_tidy, TUINDORP, PM10_2022_meta)"
   ]
  },
  {
   "cell_type": "code",
   "execution_count": 14,
   "metadata": {},
   "outputs": [
    {
     "name": "stdout",
     "output_type": "stream",
     "text": [
      "[min, mean, max] for sensor NL10636 measuring O3 µg/m³:\n",
      "[-0.6400, 33.6383, 181.3600] with n = 3648\n",
      "\n",
      "[min, mean, max] for sensor NL10636 measuring O3 µg/m³:\n",
      "[-2.2200, 36.2891, 180.5100] with n = 3648\n",
      "\n",
      "[min, mean, max] for sensor NL10636 measuring O3 µg/m³:\n",
      "[-2.1900, 32.4378, 117.9700] with n = 3648\n",
      "\n",
      "[min, mean, max] for sensor NL10636 measuring O3 µg/m³:\n",
      "[-1.0800, 35.9515, 156.5800] with n = 3648\n",
      "\n"
     ]
    }
   ],
   "source": [
    "# print_sensor_metrics_min_mean_max_entries(df_O3_2016_tidy, TUINDORP, O3_2016_meta)\n",
    "# print_sensor_metrics_min_mean_max_entries(df_O3_2017_tidy, TUINDORP, O3_2017_meta)\n",
    "# print_sensor_metrics_min_mean_max_entries(df_O3_2018_tidy, TUINDORP, O3_2018_meta)\n",
    "print_sensor_metrics_min_mean_max_entries(df_O3_2019_tidy, TUINDORP, O3_2019_meta)\n",
    "print_sensor_metrics_min_mean_max_entries(df_O3_2020_tidy, TUINDORP, O3_2020_meta)\n",
    "print_sensor_metrics_min_mean_max_entries(df_O3_2021_tidy, TUINDORP, O3_2021_meta)\n",
    "print_sensor_metrics_min_mean_max_entries(df_O3_2022_tidy, TUINDORP, O3_2022_meta)"
   ]
  },
  {
   "cell_type": "code",
   "execution_count": 15,
   "metadata": {},
   "outputs": [
    {
     "name": "stdout",
     "output_type": "stream",
     "text": [
      "[min, mean, max] for sensor NL10636 measuring NO2 µg/m³:\n",
      "[1.4000, 24.4823, 81.9700] with n = 3648\n",
      "\n",
      "[min, mean, max] for sensor NL10636 measuring NO2 µg/m³:\n",
      "[1.1700, 22.2372, 93.9500] with n = 3648\n",
      "\n",
      "[min, mean, max] for sensor NL10636 measuring NO2 µg/m³:\n",
      "[1.2800, 21.5570, 66.8900] with n = 3648\n",
      "\n",
      "[min, mean, max] for sensor NL10636 measuring NO2 µg/m³:\n",
      "[0.7600, 20.4677, 74.5700] with n = 3648\n",
      "\n"
     ]
    }
   ],
   "source": [
    "# print_sensor_metrics_min_mean_max_entries(df_NO2_2016_tidy, TUINDORP, NO2_2016_meta)\n",
    "# print_sensor_metrics_min_mean_max_entries(df_NO2_2017_tidy, TUINDORP, NO2_2017_meta)\n",
    "# print_sensor_metrics_min_mean_max_entries(df_NO2_2018_tidy, TUINDORP, NO2_2018_meta)\n",
    "print_sensor_metrics_min_mean_max_entries(df_NO2_2019_tidy, TUINDORP, NO2_2019_meta)\n",
    "print_sensor_metrics_min_mean_max_entries(df_NO2_2020_tidy, TUINDORP, NO2_2020_meta)\n",
    "print_sensor_metrics_min_mean_max_entries(df_NO2_2021_tidy, TUINDORP, NO2_2021_meta)\n",
    "print_sensor_metrics_min_mean_max_entries(df_NO2_2022_tidy, TUINDORP, NO2_2022_meta)"
   ]
  },
  {
   "cell_type": "markdown",
   "metadata": {},
   "source": [
    "Free up memory"
   ]
  },
  {
   "cell_type": "code",
   "execution_count": 16,
   "metadata": {},
   "outputs": [],
   "source": [
    "del df_PM25_2016_raw, df_PM10_2016_raw, df_O3_2016_raw, df_NO2_2016_raw\n",
    "del df_PM25_2017_raw, df_PM10_2017_raw, df_O3_2017_raw, df_NO2_2017_raw\n",
    "del df_PM25_2018_raw, df_PM10_2018_raw, df_O3_2018_raw, df_NO2_2018_raw\n",
    "del df_PM25_2019_raw, df_PM10_2019_raw, df_O3_2019_raw, df_NO2_2019_raw\n",
    "del df_PM25_2020_raw, df_PM10_2020_raw, df_O3_2020_raw, df_NO2_2020_raw\n",
    "del df_PM25_2021_raw, df_PM10_2021_raw, df_O3_2021_raw, df_NO2_2021_raw\n",
    "del df_PM25_2022_raw, df_PM10_2022_raw, df_O3_2022_raw, df_NO2_2022_raw\n",
    "del df_PM25_2023_raw, df_PM10_2023_raw, df_O3_2023_raw, df_NO2_2023_raw\n",
    "del df_meteo_2016_raw\n",
    "del df_meteo_2017_raw\n",
    "del df_meteo_2018_raw\n",
    "del df_meteo_2019_raw\n",
    "del df_meteo_2020_raw\n",
    "del df_meteo_2021_raw\n",
    "del df_meteo_2022_raw\n",
    "del df_meteo_2023_raw"
   ]
  },
  {
   "cell_type": "markdown",
   "metadata": {},
   "source": [
    "#### **Inspect data with visualisations**"
   ]
  },
  {
   "cell_type": "markdown",
   "metadata": {},
   "source": [
    "#### **Select locations**\n",
    "\n",
    "Here, we'll select the locations we want to use. The I/O-task can be either 0-dimensional, or 1-dimensional.  \n",
    "\n",
    "EDIT: The project is continued with a one-dimensional set-up, but some code might still be accustomed to both possible set-ups."
   ]
  },
  {
   "cell_type": "code",
   "execution_count": 17,
   "metadata": {},
   "outputs": [],
   "source": [
    "sensors_1D = [TUINDORP, BREUKELEN]\n",
    "\n",
    "df_PM25_2017_tidy_subset_1D = subset_sensors(df_PM25_2017_tidy, sensors_1D)\n",
    "df_PM10_2017_tidy_subset_1D = subset_sensors(df_PM10_2017_tidy, sensors_1D)\n",
    "df_O3_2017_tidy_subset_1D = subset_sensors(df_O3_2017_tidy, sensors_1D)\n",
    "df_NO2_2017_tidy_subset_1D = subset_sensors(df_NO2_2017_tidy, sensors_1D)\n",
    "df_PM25_2018_tidy_subset_1D = subset_sensors(df_PM25_2018_tidy, sensors_1D)\n",
    "df_PM10_2018_tidy_subset_1D = subset_sensors(df_PM10_2018_tidy, sensors_1D)\n",
    "df_O3_2018_tidy_subset_1D = subset_sensors(df_O3_2018_tidy, sensors_1D)\n",
    "df_NO2_2018_tidy_subset_1D = subset_sensors(df_NO2_2018_tidy, sensors_1D)\n",
    "df_PM25_2020_tidy_subset_1D = subset_sensors(df_PM25_2020_tidy, sensors_1D)\n",
    "df_PM10_2020_tidy_subset_1D = subset_sensors(df_PM10_2020_tidy, sensors_1D)\n",
    "df_O3_2020_tidy_subset_1D = subset_sensors(df_O3_2020_tidy, sensors_1D)\n",
    "df_NO2_2020_tidy_subset_1D = subset_sensors(df_NO2_2020_tidy, sensors_1D)\n",
    "df_PM25_2021_tidy_subset_1D = subset_sensors(df_PM25_2021_tidy, sensors_1D)\n",
    "df_PM10_2021_tidy_subset_1D = subset_sensors(df_PM10_2021_tidy, sensors_1D)\n",
    "df_O3_2021_tidy_subset_1D = subset_sensors(df_O3_2021_tidy, sensors_1D)\n",
    "df_NO2_2021_tidy_subset_1D = subset_sensors(df_NO2_2021_tidy, sensors_1D)\n",
    "df_PM25_2022_tidy_subset_1D = subset_sensors(df_PM25_2022_tidy, sensors_1D)\n",
    "df_PM10_2022_tidy_subset_1D = subset_sensors(df_PM10_2022_tidy, sensors_1D)\n",
    "df_O3_2022_tidy_subset_1D = subset_sensors(df_O3_2022_tidy, sensors_1D)\n",
    "df_NO2_2022_tidy_subset_1D = subset_sensors(df_NO2_2022_tidy, sensors_1D)\n",
    "df_PM25_2023_tidy_subset_1D = subset_sensors(df_PM25_2023_tidy, sensors_1D)\n",
    "df_PM10_2023_tidy_subset_1D = subset_sensors(df_PM10_2023_tidy, sensors_1D)\n",
    "df_O3_2023_tidy_subset_1D = subset_sensors(df_O3_2023_tidy, sensors_1D)\n",
    "df_NO2_2023_tidy_subset_1D = subset_sensors(df_NO2_2023_tidy, sensors_1D)\n",
    "\n",
    "del df_PM25_2017_tidy, df_PM10_2017_tidy, df_O3_2017_tidy, df_NO2_2017_tidy\n",
    "del df_PM25_2018_tidy, df_PM10_2018_tidy, df_O3_2018_tidy, df_NO2_2018_tidy\n",
    "del df_PM25_2020_tidy, df_PM10_2020_tidy, df_O3_2020_tidy, df_NO2_2020_tidy\n",
    "del df_PM25_2021_tidy, df_PM10_2021_tidy, df_O3_2021_tidy, df_NO2_2021_tidy\n",
    "del df_PM25_2022_tidy, df_PM10_2022_tidy, df_O3_2022_tidy, df_NO2_2022_tidy\n",
    "del df_PM25_2023_tidy, df_PM10_2023_tidy, df_O3_2023_tidy, df_NO2_2023_tidy"
   ]
  },
  {
   "cell_type": "markdown",
   "metadata": {},
   "source": [
    "#### **Select timeframe**"
   ]
  },
  {
   "cell_type": "markdown",
   "metadata": {},
   "source": [
    "Check the shapes before plotting"
   ]
  },
  {
   "cell_type": "code",
   "execution_count": 18,
   "metadata": {},
   "outputs": [
    {
     "name": "stdout",
     "output_type": "stream",
     "text": [
      "(3648, 2) (3648, 2) (3648, 2) (3648, 2)\n",
      "(3648, 2) (3648, 2) (3648, 2) (3648, 2)\n",
      "(3648, 2) (3648, 2) (3648, 2) (3648, 2)\n",
      "(3648, 2) (3648, 2) (3648, 2) (3648, 2)\n",
      "(3648, 2) (3648, 2) (3648, 2) (3648, 2)\n"
     ]
    }
   ],
   "source": [
    "# print(df_NO2_2016_tidy_subset_1D.shape, df_O3_2016_tidy_subset_1D.shape,\n",
    "#       df_PM25_2016_tidy_subset_1D.shape, df_PM10_2016_tidy_subset_1D.shape)\n",
    "print(df_NO2_2017_tidy_subset_1D.shape, df_O3_2017_tidy_subset_1D.shape,\n",
    "        df_PM25_2017_tidy_subset_1D.shape, df_PM10_2017_tidy_subset_1D.shape)\n",
    "print(df_NO2_2018_tidy_subset_1D.shape, df_O3_2018_tidy_subset_1D.shape,\n",
    "        df_PM25_2018_tidy_subset_1D.shape, df_PM10_2018_tidy_subset_1D.shape)\n",
    "# print(df_NO2_2019_tidy_subset_1D.shape, df_O3_2019_tidy_subset_1D.shape,\n",
    "#         df_PM25_2019_tidy_subset_1D.shape, df_PM10_2019_tidy_subset_1D.shape)\n",
    "print(df_NO2_2020_tidy_subset_1D.shape, df_O3_2020_tidy_subset_1D.shape,\n",
    "        df_PM25_2020_tidy_subset_1D.shape, df_PM10_2020_tidy_subset_1D.shape)\n",
    "print(df_NO2_2021_tidy_subset_1D.shape, df_O3_2021_tidy_subset_1D.shape,\n",
    "        df_PM25_2021_tidy_subset_1D.shape, df_PM10_2021_tidy_subset_1D.shape)\n",
    "print(df_NO2_2022_tidy_subset_1D.shape, df_O3_2022_tidy_subset_1D.shape,\n",
    "        df_PM25_2022_tidy_subset_1D.shape, df_PM10_2022_tidy_subset_1D.shape)\n",
    "\n",
    "# # Add dummy column for missing cols\n",
    "# df_O3_2016_tidy_subset_1D[TUINDORP] = np.nan\n",
    "# df_O3_2019_tidy_subset_1D[TUINDORP] = np.nan"
   ]
  },
  {
   "cell_type": "markdown",
   "metadata": {},
   "source": [
    "#### **Feature Engineering**"
   ]
  },
  {
   "cell_type": "markdown",
   "metadata": {},
   "source": [
    "See the paper (README.md) for an analysis of the correlation plots created by the functions above."
   ]
  },
  {
   "cell_type": "markdown",
   "metadata": {},
   "source": [
    "#### **Perform train-validation-test-split**"
   ]
  },
  {
   "cell_type": "markdown",
   "metadata": {},
   "source": [
    "With these two variables, the size of the validation and testing set is set (in days):"
   ]
  },
  {
   "cell_type": "code",
   "execution_count": 19,
   "metadata": {},
   "outputs": [],
   "source": [
    "days_vali = 21\n",
    "days_test = 21\n",
    "\n",
    "days_vali_final_yrs = 63\n",
    "days_test_final_yrs = 63"
   ]
  },
  {
   "cell_type": "markdown",
   "metadata": {},
   "source": [
    "Train-test-split is performed. Each component is split separately. In the case of a one-dimensional prediction task, additional contaminant data is split as well. (All data remains segregate for now for proper normalisation later.)"
   ]
  },
  {
   "cell_type": "markdown",
   "metadata": {},
   "source": [
    "For the final version we'll consider the data mentioned above, this is the splitting code:"
   ]
  },
  {
   "cell_type": "code",
   "execution_count": 20,
   "metadata": {},
   "outputs": [],
   "source": [
    "df_PM25_2017_train_1D = df_PM25_2017_tidy_subset_1D.copy()\n",
    "df_PM10_2017_train_1D = df_PM10_2017_tidy_subset_1D.copy()\n",
    "df_NO2_2017_train_1D  = df_NO2_2017_tidy_subset_1D.copy()\n",
    "df_O3_2017_train_1D   = df_O3_2017_tidy_subset_1D.copy()\n",
    "df_temp_2017_train = df_temp_2017_tidy.copy()\n",
    "df_dewP_2017_train = df_dewP_2017_tidy.copy()\n",
    "df_WD_2017_train   = df_WD_2017_tidy.copy()\n",
    "df_Wvh_2017_train  = df_Wvh_2017_tidy.copy()\n",
    "df_P_2017_train    = df_P_2017_tidy.copy()\n",
    "df_SQ_2017_train   = df_SQ_2017_tidy.copy()\n",
    "\n",
    "df_PM25_2018_train_1D = df_PM25_2018_tidy_subset_1D.copy()\n",
    "df_PM10_2018_train_1D = df_PM10_2018_tidy_subset_1D.copy()\n",
    "df_NO2_2018_train_1D  = df_NO2_2018_tidy_subset_1D.copy()\n",
    "df_O3_2018_train_1D   = df_O3_2018_tidy_subset_1D.copy()\n",
    "df_temp_2018_train = df_temp_2018_tidy.copy()\n",
    "df_dewP_2018_train = df_dewP_2018_tidy.copy()\n",
    "df_WD_2018_train   = df_WD_2018_tidy.copy()\n",
    "df_Wvh_2018_train  = df_Wvh_2018_tidy.copy()\n",
    "df_P_2018_train    = df_P_2018_tidy.copy()\n",
    "df_SQ_2018_train   = df_SQ_2018_tidy.copy()\n",
    "\n",
    "df_PM25_2020_train_1D = df_PM25_2020_tidy_subset_1D.copy()\n",
    "df_PM10_2020_train_1D = df_PM10_2020_tidy_subset_1D.copy()\n",
    "df_NO2_2020_train_1D  = df_NO2_2020_tidy_subset_1D.copy()\n",
    "df_O3_2020_train_1D   = df_O3_2020_tidy_subset_1D.copy()\n",
    "df_temp_2020_train = df_temp_2020_tidy.copy()\n",
    "df_dewP_2020_train = df_dewP_2020_tidy.copy()\n",
    "df_WD_2020_train   = df_WD_2020_tidy.copy()\n",
    "df_Wvh_2020_train  = df_Wvh_2020_tidy.copy()\n",
    "df_P_2020_train    = df_P_2020_tidy.copy()\n",
    "df_SQ_2020_train   = df_SQ_2020_tidy.copy()\n",
    "\n",
    "df_PM25_2021_train_1D, df_PM25_2021_val_1D, df_PM25_2021_test_1D = \\\n",
    "    perform_data_split(df_PM25_2021_tidy_subset_1D, days_vali, days_test)\n",
    "df_PM10_2021_train_1D, df_PM10_2021_val_1D, df_PM10_2021_test_1D = \\\n",
    "    perform_data_split(df_PM10_2021_tidy_subset_1D, days_vali, days_test)\n",
    "df_NO2_2021_train_1D,  df_NO2_2021_val_1D,  df_NO2_2021_test_1D  = \\\n",
    "    perform_data_split(df_NO2_2021_tidy_subset_1D, days_vali, days_test)\n",
    "df_O3_2021_train_1D,   df_O3_2021_val_1D,   df_O3_2021_test_1D   = \\\n",
    "    perform_data_split(df_O3_2021_tidy_subset_1D, days_vali, days_test)\n",
    "df_temp_2021_train, df_temp_2021_val, df_temp_2021_test = \\\n",
    "    perform_data_split(df_temp_2021_tidy, days_vali, days_test)\n",
    "df_dewP_2021_train, df_dewP_2021_val, df_dewP_2021_test = \\\n",
    "    perform_data_split(df_dewP_2021_tidy, days_vali, days_test)\n",
    "df_WD_2021_train,   df_WD_2021_val,   df_WD_2021_test   = \\\n",
    "    perform_data_split(df_WD_2021_tidy, days_vali, days_test)\n",
    "df_Wvh_2021_train,  df_Wvh_2021_val,  df_Wvh_2021_test  = \\\n",
    "    perform_data_split(df_Wvh_2021_tidy, days_vali, days_test)\n",
    "df_P_2021_train,    df_P_2021_val,    df_P_2021_test    = \\\n",
    "    perform_data_split(df_P_2021_tidy, days_vali, days_test)\n",
    "df_SQ_2021_train,   df_SQ_2021_val,   df_SQ_2021_test   = \\\n",
    "    perform_data_split(df_SQ_2021_tidy, days_vali, days_test)\n",
    "\n",
    "df_PM25_2022_train_1D, df_PM25_2022_val_1D, df_PM25_2022_test_1D = \\\n",
    "    perform_data_split(df_PM25_2022_tidy_subset_1D, days_vali, days_test)\n",
    "df_PM10_2022_train_1D, df_PM10_2022_val_1D, df_PM10_2022_test_1D = \\\n",
    "    perform_data_split(df_PM10_2022_tidy_subset_1D, days_vali, days_test)\n",
    "df_NO2_2022_train_1D,  df_NO2_2022_val_1D,  df_NO2_2022_test_1D  = \\\n",
    "    perform_data_split(df_NO2_2022_tidy_subset_1D, days_vali, days_test)\n",
    "df_O3_2022_train_1D,   df_O3_2022_val_1D,   df_O3_2022_test_1D   = \\\n",
    "    perform_data_split(df_O3_2022_tidy_subset_1D, days_vali, days_test)\n",
    "df_temp_2022_train, df_temp_2022_val, df_temp_2022_test = \\\n",
    "    perform_data_split(df_temp_2022_tidy, days_vali, days_test)\n",
    "df_dewP_2022_train, df_dewP_2022_val, df_dewP_2022_test = \\\n",
    "    perform_data_split(df_dewP_2022_tidy, days_vali, days_test)\n",
    "df_WD_2022_train,   df_WD_2022_val,   df_WD_2022_test   = \\\n",
    "    perform_data_split(df_WD_2022_tidy, days_vali, days_test)\n",
    "df_Wvh_2022_train,  df_Wvh_2022_val,  df_Wvh_2022_test  = \\\n",
    "    perform_data_split(df_Wvh_2022_tidy, days_vali, days_test)\n",
    "df_P_2022_train,    df_P_2022_val,    df_P_2022_test    = \\\n",
    "    perform_data_split(df_P_2022_tidy, days_vali, days_test)\n",
    "df_SQ_2022_train,   df_SQ_2022_val,   df_SQ_2022_test   = \\\n",
    "    perform_data_split(df_SQ_2022_tidy, days_vali, days_test)\n",
    "\n",
    "df_PM25_2023_val_1D, df_PM25_2023_test_1D = \\\n",
    "    perform_data_split_without_train(df_PM25_2023_tidy_subset_1D, days_vali_final_yrs, days_test_final_yrs)\n",
    "df_PM10_2023_val_1D, df_PM10_2023_test_1D = \\\n",
    "    perform_data_split_without_train(df_PM10_2023_tidy_subset_1D, days_vali_final_yrs, days_test_final_yrs)\n",
    "df_NO2_2023_val_1D,  df_NO2_2023_test_1D  = \\\n",
    "    perform_data_split_without_train(df_NO2_2023_tidy_subset_1D, days_vali_final_yrs, days_test_final_yrs)\n",
    "df_O3_2023_val_1D,   df_O3_2023_test_1D   = \\\n",
    "    perform_data_split_without_train(df_O3_2023_tidy_subset_1D, days_vali_final_yrs, days_test_final_yrs)\n",
    "df_temp_2023_val,    df_temp_2023_test = \\\n",
    "    perform_data_split_without_train(df_temp_2023_tidy, days_vali_final_yrs, days_test_final_yrs)\n",
    "df_dewP_2023_val,    df_dewP_2023_test = \\\n",
    "    perform_data_split_without_train(df_dewP_2023_tidy, days_vali_final_yrs, days_test_final_yrs)\n",
    "df_WD_2023_val,      df_WD_2023_test   = \\\n",
    "    perform_data_split_without_train(df_WD_2023_tidy, days_vali_final_yrs, days_test_final_yrs)\n",
    "df_Wvh_2023_val,     df_Wvh_2023_test  = \\\n",
    "    perform_data_split_without_train(df_Wvh_2023_tidy, days_vali_final_yrs, days_test_final_yrs)\n",
    "df_P_2023_val,       df_P_2023_test    = \\\n",
    "    perform_data_split_without_train(df_P_2023_tidy, days_vali_final_yrs, days_test_final_yrs)\n",
    "df_SQ_2023_val,      df_SQ_2023_test   = \\\n",
    "    perform_data_split_without_train(df_SQ_2023_tidy, days_vali_final_yrs, days_test_final_yrs)"
   ]
  },
  {
   "cell_type": "code",
   "execution_count": 21,
   "metadata": {},
   "outputs": [
    {
     "name": "stdout",
     "output_type": "stream",
     "text": [
      "[train/validation/test] %-ratio for ... data is: [76.3/11.9/11.9]\n"
     ]
    }
   ],
   "source": [
    "print_split_ratios([df_PM25_2017_train_1D,\n",
    "                    df_PM25_2018_train_1D,\n",
    "                    df_PM25_2020_train_1D,\n",
    "                    df_PM25_2021_train_1D,\n",
    "                    df_PM25_2022_train_1D],\n",
    "                    pd.concat([df_PM25_2021_val_1D,\n",
    "                               df_PM25_2022_val_1D,\n",
    "                               df_PM25_2023_val_1D]),\n",
    "                    pd.concat([df_PM25_2021_test_1D,\n",
    "                               df_PM25_2022_test_1D,\n",
    "                               df_PM25_2023_test_1D]),\n",
    "                    '...')"
   ]
  },
  {
   "cell_type": "code",
   "execution_count": 22,
   "metadata": {},
   "outputs": [
    {
     "name": "stdout",
     "output_type": "stream",
     "text": [
      "                           NL10636  NL10641\n",
      "DateTime                                   \n",
      "2023-08-01 00:00:00+01:00    5.375    4.039\n",
      "2023-08-01 01:00:00+01:00    2.671    1.385\n",
      "2023-08-01 02:00:00+01:00    1.961    3.169\n",
      "2023-08-01 03:00:00+01:00    5.459    5.223\n",
      "2023-08-01 04:00:00+01:00    4.351    3.192\n",
      "                           NL10636  NL10641\n",
      "DateTime                                   \n",
      "2023-10-02 19:00:00+01:00   17.344   16.471\n",
      "2023-10-02 20:00:00+01:00   16.618   21.538\n",
      "2023-10-02 21:00:00+01:00   16.834   17.990\n",
      "2023-10-02 22:00:00+01:00   23.821   19.960\n",
      "2023-10-02 23:00:00+01:00   19.333   23.772\n",
      "                           NL10636  NL10641\n",
      "DateTime                                   \n",
      "2023-10-03 00:00:00+01:00   23.047   18.706\n",
      "2023-10-03 01:00:00+01:00   21.724   21.822\n",
      "2023-10-03 02:00:00+01:00   19.029   22.283\n",
      "2023-10-03 03:00:00+01:00   18.000   14.864\n",
      "2023-10-03 04:00:00+01:00   10.372    7.017\n",
      "                           NL10636  NL10641\n",
      "DateTime                                   \n",
      "2023-12-04 19:00:00+01:00    9.943   14.345\n",
      "2023-12-04 20:00:00+01:00   12.826   13.522\n",
      "2023-12-04 21:00:00+01:00   15.932   12.355\n",
      "2023-12-04 22:00:00+01:00   13.620   18.549\n",
      "2023-12-04 23:00:00+01:00   12.238   16.824\n"
     ]
    }
   ],
   "source": [
    "print(df_PM25_2023_val_1D.head())\n",
    "print(df_PM25_2023_val_1D.tail())\n",
    "print(df_PM25_2023_test_1D.head())\n",
    "print(df_PM25_2023_test_1D.tail())"
   ]
  },
  {
   "cell_type": "code",
   "execution_count": 23,
   "metadata": {},
   "outputs": [
    {
     "ename": "SystemExit",
     "evalue": "",
     "output_type": "error",
     "traceback": [
      "An exception has occurred, use %tb to see the full traceback.\n",
      "\u001b[1;31mSystemExit\u001b[0m\n"
     ]
    },
    {
     "name": "stderr",
     "output_type": "stream",
     "text": [
      "C:\\Users\\vwold\\AppData\\Local\\Packages\\PythonSoftwareFoundation.Python.3.9_qbz5n2kfra8p0\\LocalCache\\local-packages\\Python39\\site-packages\\IPython\\core\\interactiveshell.py:3516: UserWarning: To exit: use 'exit', 'quit', or Ctrl-D.\n",
      "  warn(\"To exit: use 'exit', 'quit', or Ctrl-D.\", stacklevel=1)\n"
     ]
    }
   ],
   "source": [
    "sys.exit()"
   ]
  },
  {
   "cell_type": "markdown",
   "metadata": {},
   "source": [
    "#### **Normalisation**\n",
    "\n",
    "Linear scaling: $x' = (x - x_{min}) / (x_{max} - x_{min})$"
   ]
  },
  {
   "cell_type": "code",
   "execution_count": 49,
   "metadata": {},
   "outputs": [],
   "source": [
    "def get_df_minimum(df):\n",
    "    \"\"\"Returns minimum of entire dataframe\"\"\"\n",
    "    return np.min(df.min())             \n",
    "\n",
    "\n",
    "def get_df_maximum(df):\n",
    "    \"\"\"Returns maximum of entire dataframe\"\"\"\n",
    "    return np.max(df.max())\n",
    "\n",
    "\n",
    "def calc_combined_min_max_params(dfs: list):\n",
    "    \"\"\"\"Returns min and max of two dataframes combined\"\"\"\n",
    "    min = np.min([get_df_minimum(df) for df in dfs])\n",
    "    max = np.max([get_df_maximum(df) for df in dfs])\n",
    "    return min, max\n",
    "\n",
    "\n",
    "def normalise_linear(df, min, max):\n",
    "    \"\"\"Performs linear scaling (minmax) on dataframe\"\"\"\n",
    "    return (df - min) / (max - min)\n",
    "\n",
    "\n",
    "def normalise_linear_inv(df_norm, min, max):\n",
    "    \"\"\"Performs inverse linear scaling (minmax) on dataframe\"\"\"\n",
    "    return df_norm * (max - min) + min"
   ]
  },
  {
   "cell_type": "markdown",
   "metadata": {},
   "source": [
    "Normalise each component/contaminant separately"
   ]
  },
  {
   "cell_type": "code",
   "execution_count": 50,
   "metadata": {},
   "outputs": [
    {
     "name": "stdout",
     "output_type": "stream",
     "text": [
      "         min      max\n",
      "NO2   -0.280  107.450\n",
      "O3    -2.220  180.510\n",
      "PM10 -19.890  379.470\n",
      "PM25  -4.934   79.711\n"
     ]
    }
   ],
   "source": [
    "PM25_min_train, PM25_max_train = calc_combined_min_max_params([\n",
    "                                                            df_PM25_2017_train_1D,\n",
    "                                                            df_PM25_2018_train_1D,\n",
    "                                                            df_PM25_2020_train_1D,\n",
    "                                                            df_PM25_2021_train_1D,\n",
    "                                                            df_PM25_2022_train_1D,\n",
    "                                                            ])\n",
    "PM10_min_train, PM10_max_train = calc_combined_min_max_params([\n",
    "                                                            df_PM10_2017_train_1D,\n",
    "                                                            df_PM10_2018_train_1D,\n",
    "                                                            df_PM10_2020_train_1D,\n",
    "                                                            df_PM10_2021_train_1D,\n",
    "                                                            df_PM10_2022_train_1D,\n",
    "                                                            ])\n",
    "O3_min_train,   O3_max_train   = calc_combined_min_max_params([\n",
    "                                                            df_O3_2017_train_1D,\n",
    "                                                            df_O3_2018_train_1D,\n",
    "                                                            df_O3_2020_train_1D,\n",
    "                                                            df_O3_2021_train_1D,\n",
    "                                                            df_O3_2022_train_1D,\n",
    "                                                            ])\n",
    "NO2_min_train,  NO2_max_train  = calc_combined_min_max_params([\n",
    "                                                            df_NO2_2017_train_1D,\n",
    "                                                            df_NO2_2018_train_1D,\n",
    "                                                            df_NO2_2020_train_1D,\n",
    "                                                            df_NO2_2021_train_1D,\n",
    "                                                            df_NO2_2022_train_1D,\n",
    "                                                            ])\n",
    "temp_min_train, temp_max_train = calc_combined_min_max_params([\n",
    "                                                            df_temp_2017_train,\n",
    "                                                            df_temp_2018_train,\n",
    "                                                            df_temp_2020_train,\n",
    "                                                            df_temp_2021_train,\n",
    "                                                            df_temp_2022_train,\n",
    "                                                            ])\n",
    "dewP_min_train, dewP_max_train = calc_combined_min_max_params([\n",
    "                                                            df_dewP_2017_train,\n",
    "                                                            df_dewP_2018_train,\n",
    "                                                            df_dewP_2020_train,\n",
    "                                                            df_dewP_2021_train,\n",
    "                                                            df_dewP_2022_train,\n",
    "                                                            ])\n",
    "WD_min_train,   WD_max_train   = calc_combined_min_max_params([\n",
    "                                                            df_WD_2017_train,\n",
    "                                                            df_WD_2018_train,\n",
    "                                                            df_WD_2020_train,\n",
    "                                                            df_WD_2021_train,\n",
    "                                                            df_WD_2022_train,\n",
    "                                                            ])\n",
    "Wvh_min_train,  Wvh_max_train  = calc_combined_min_max_params([\n",
    "                                                            df_Wvh_2017_train,\n",
    "                                                            df_Wvh_2018_train,\n",
    "                                                            df_Wvh_2020_train,\n",
    "                                                            df_Wvh_2021_train,\n",
    "                                                            df_Wvh_2022_train,\n",
    "                                                            ])\n",
    "P_min_train,    P_max_train    = calc_combined_min_max_params([\n",
    "                                                            df_P_2017_train,\n",
    "                                                            df_P_2018_train,\n",
    "                                                            df_P_2020_train,\n",
    "                                                            df_P_2021_train,\n",
    "                                                            df_P_2022_train,\n",
    "                                                            ])\n",
    "SQ_min_train,   SQ_max_train   = calc_combined_min_max_params([\n",
    "                                                            df_SQ_2017_train,\n",
    "                                                            df_SQ_2018_train,\n",
    "                                                            df_SQ_2020_train,\n",
    "                                                            df_SQ_2021_train,\n",
    "                                                            df_SQ_2022_train,\n",
    "                                                            ])\n",
    "\n",
    "df_minmax = pd.DataFrame({'NO2':  [NO2_min_train, NO2_max_train],\n",
    "                          'O3':   [O3_min_train, O3_max_train],\n",
    "                          'PM10': [PM10_min_train, PM10_max_train],\n",
    "                          'PM25': [PM25_min_train, PM25_max_train]},\n",
    "                          index = ['min', 'max']).T\n",
    "print(df_minmax)\n",
    "df_minmax.to_csv(f\"../data/dataset_final/contaminant_minmax.csv\", \n",
    "                 index = True, sep = ';', decimal = '.', encoding = 'utf-8')"
   ]
  },
  {
   "cell_type": "code",
   "execution_count": 51,
   "metadata": {},
   "outputs": [],
   "source": [
    "df_NO2_2017_train_norm_1D = normalise_linear(df_NO2_2017_train_1D, NO2_min_train, NO2_max_train)\n",
    "df_NO2_2018_train_norm_1D = normalise_linear(df_NO2_2018_train_1D, NO2_min_train, NO2_max_train)\n",
    "df_NO2_2020_train_norm_1D = normalise_linear(df_NO2_2020_train_1D, NO2_min_train, NO2_max_train)\n",
    "df_NO2_2021_train_norm_1D = normalise_linear(df_NO2_2021_train_1D, NO2_min_train, NO2_max_train)\n",
    "df_NO2_2021_val_norm_1D = normalise_linear(df_NO2_2021_val_1D, NO2_min_train, NO2_max_train)\n",
    "df_NO2_2021_test_norm_1D = normalise_linear(df_NO2_2021_test_1D, NO2_min_train, NO2_max_train)\n",
    "df_NO2_2022_train_norm_1D = normalise_linear(df_NO2_2022_train_1D, NO2_min_train, NO2_max_train)\n",
    "df_NO2_val_2022_norm_1D = normalise_linear(df_NO2_2022_val_1D, NO2_min_train, NO2_max_train)\n",
    "df_NO2_test_2022_norm_1D = normalise_linear(df_NO2_2022_test_1D, NO2_min_train, NO2_max_train)\n",
    "df_NO2_val_2023_norm_1D = normalise_linear(df_NO2_2023_val_1D, NO2_min_train, NO2_max_train)\n",
    "df_NO2_test_2023_norm_1D = normalise_linear(df_NO2_2023_test_1D, NO2_min_train, NO2_max_train)\n",
    "\n",
    "df_O3_2017_train_norm_1D = normalise_linear(df_O3_2017_train_1D, O3_min_train, O3_max_train)\n",
    "df_O3_2018_train_norm_1D = normalise_linear(df_O3_2018_train_1D, O3_min_train, O3_max_train)\n",
    "df_O3_2020_train_norm_1D = normalise_linear(df_O3_2020_train_1D, O3_min_train, O3_max_train)\n",
    "df_O3_2021_train_norm_1D = normalise_linear(df_O3_2021_train_1D, O3_min_train, O3_max_train)\n",
    "df_O3_2021_val_norm_1D = normalise_linear(df_O3_2021_val_1D, O3_min_train, O3_max_train)\n",
    "df_O3_2021_test_norm_1D = normalise_linear(df_O3_2021_test_1D, O3_min_train, O3_max_train)\n",
    "df_O3_2022_train_norm_1D = normalise_linear(df_O3_2022_train_1D, O3_min_train, O3_max_train)\n",
    "df_O3_val_2022_norm_1D = normalise_linear(df_O3_2022_val_1D, O3_min_train, O3_max_train)\n",
    "df_O3_test_2022_norm_1D = normalise_linear(df_O3_2022_test_1D, O3_min_train, O3_max_train)\n",
    "df_O3_val_2023_norm_1D = normalise_linear(df_O3_2023_val_1D, O3_min_train, O3_max_train)\n",
    "df_O3_test_2023_norm_1D = normalise_linear(df_O3_2023_test_1D, O3_min_train, O3_max_train)\n",
    "\n",
    "df_PM10_2017_train_norm_1D = normalise_linear(df_PM10_2017_train_1D, PM10_min_train, PM10_max_train)\n",
    "df_PM10_2018_train_norm_1D = normalise_linear(df_PM10_2018_train_1D, PM10_min_train, PM10_max_train)\n",
    "df_PM10_2020_train_norm_1D = normalise_linear(df_PM10_2020_train_1D, PM10_min_train, PM10_max_train)\n",
    "df_PM10_2021_train_norm_1D = normalise_linear(df_PM10_2021_train_1D, PM10_min_train, PM10_max_train)\n",
    "df_PM10_2021_val_norm_1D = normalise_linear(df_PM10_2021_val_1D, PM10_min_train, PM10_max_train)\n",
    "df_PM10_2021_test_norm_1D = normalise_linear(df_PM10_2021_test_1D, PM10_min_train, PM10_max_train)\n",
    "df_PM10_2022_train_norm_1D = normalise_linear(df_PM10_2022_train_1D, PM10_min_train, PM10_max_train)\n",
    "df_PM10_val_2022_norm_1D = normalise_linear(df_PM10_2022_val_1D, PM10_min_train, PM10_max_train)\n",
    "df_PM10_test_2022_norm_1D = normalise_linear(df_PM10_2022_test_1D, PM10_min_train, PM10_max_train)\n",
    "df_PM10_val_2023_norm_1D = normalise_linear(df_PM10_2023_val_1D, PM10_min_train, PM10_max_train)\n",
    "df_PM10_test_2023_norm_1D = normalise_linear(df_PM10_2023_test_1D, PM10_min_train, PM10_max_train)\n",
    "\n",
    "df_PM25_2017_train_norm_1D = normalise_linear(df_PM25_2017_train_1D, PM25_min_train, PM25_max_train)\n",
    "df_PM25_2018_train_norm_1D = normalise_linear(df_PM25_2018_train_1D, PM25_min_train, PM25_max_train)\n",
    "df_PM25_2020_train_norm_1D = normalise_linear(df_PM25_2020_train_1D, PM25_min_train, PM25_max_train)\n",
    "df_PM25_2021_train_norm_1D = normalise_linear(df_PM25_2021_train_1D, PM25_min_train, PM25_max_train)\n",
    "df_PM25_2021_val_norm_1D = normalise_linear(df_PM25_2021_val_1D, PM25_min_train, PM25_max_train)\n",
    "df_PM25_2021_test_norm_1D = normalise_linear(df_PM25_2021_test_1D, PM25_min_train, PM25_max_train)\n",
    "df_PM25_2022_train_norm_1D = normalise_linear(df_PM25_2022_train_1D, PM25_min_train, PM25_max_train)\n",
    "df_PM25_val_2022_norm_1D = normalise_linear(df_PM25_2022_val_1D, PM25_min_train, PM25_max_train)\n",
    "df_PM25_test_2022_norm_1D = normalise_linear(df_PM25_2022_test_1D, PM25_min_train, PM25_max_train)\n",
    "df_PM25_val_2023_norm_1D = normalise_linear(df_PM25_2023_val_1D, PM25_min_train, PM25_max_train)\n",
    "df_PM25_test_2023_norm_1D = normalise_linear(df_PM25_2023_test_1D, PM25_min_train, PM25_max_train)\n",
    "\n",
    "df_temp_2017_train_norm = normalise_linear(df_temp_2017_train, temp_min_train, temp_max_train)\n",
    "df_temp_2018_train_norm = normalise_linear(df_temp_2018_train, temp_min_train, temp_max_train)\n",
    "df_temp_2020_train_norm = normalise_linear(df_temp_2020_train, temp_min_train, temp_max_train)\n",
    "df_temp_2021_train_norm = normalise_linear(df_temp_2021_train, temp_min_train, temp_max_train)\n",
    "df_temp_2021_val_norm = normalise_linear(df_temp_2021_val, temp_min_train, temp_max_train)\n",
    "df_temp_2021_test_norm = normalise_linear(df_temp_2021_test, temp_min_train, temp_max_train)\n",
    "df_temp_2022_train_norm = normalise_linear(df_temp_2022_train, temp_min_train, temp_max_train)\n",
    "df_temp_val_2022_norm = normalise_linear(df_temp_2022_val, temp_min_train, temp_max_train)\n",
    "df_temp_test_2022_norm = normalise_linear(df_temp_2022_test, temp_min_train, temp_max_train)\n",
    "df_temp_val_2023_norm = normalise_linear(df_temp_2023_val, temp_min_train, temp_max_train)\n",
    "df_temp_test_2023_norm = normalise_linear(df_temp_2023_test, temp_min_train, temp_max_train)\n",
    "\n",
    "df_dewP_2017_train_norm = normalise_linear(df_dewP_2017_train, dewP_min_train, dewP_max_train)\n",
    "df_dewP_2018_train_norm = normalise_linear(df_dewP_2018_train, dewP_min_train, dewP_max_train)\n",
    "df_dewP_2020_train_norm = normalise_linear(df_dewP_2020_train, dewP_min_train, dewP_max_train)\n",
    "df_dewP_2021_train_norm = normalise_linear(df_dewP_2021_train, dewP_min_train, dewP_max_train)\n",
    "df_dewP_2021_val_norm = normalise_linear(df_dewP_2021_val, dewP_min_train, dewP_max_train)\n",
    "df_dewP_2021_test_norm = normalise_linear(df_dewP_2021_test, dewP_min_train, dewP_max_train)\n",
    "df_dewP_2022_train_norm = normalise_linear(df_dewP_2022_train, dewP_min_train, dewP_max_train)\n",
    "df_dewP_val_2022_norm = normalise_linear(df_dewP_2022_val, dewP_min_train, dewP_max_train)\n",
    "df_dewP_test_2022_norm = normalise_linear(df_dewP_2022_test, dewP_min_train, dewP_max_train)\n",
    "df_dewP_val_2023_norm = normalise_linear(df_dewP_2023_val, dewP_min_train, dewP_max_train)\n",
    "df_dewP_test_2023_norm = normalise_linear(df_dewP_2023_test, dewP_min_train, dewP_max_train)\n",
    "\n",
    "df_WD_2017_train_norm = normalise_linear(df_WD_2017_train, WD_min_train, WD_max_train)\n",
    "df_WD_2018_train_norm = normalise_linear(df_WD_2018_train, WD_min_train, WD_max_train)\n",
    "df_WD_2020_train_norm = normalise_linear(df_WD_2020_train, WD_min_train, WD_max_train)\n",
    "df_WD_2021_train_norm = normalise_linear(df_WD_2021_train, WD_min_train, WD_max_train)\n",
    "df_WD_2021_val_norm = normalise_linear(df_WD_2021_val, WD_min_train, WD_max_train)\n",
    "df_WD_2021_test_norm = normalise_linear(df_WD_2021_test, WD_min_train, WD_max_train)\n",
    "df_WD_2022_train_norm = normalise_linear(df_WD_2022_train, WD_min_train, WD_max_train)\n",
    "df_WD_val_2022_norm = normalise_linear(df_WD_2022_val, WD_min_train, WD_max_train)\n",
    "df_WD_test_2022_norm = normalise_linear(df_WD_2022_test, WD_min_train, WD_max_train)\n",
    "df_WD_val_2023_norm = normalise_linear(df_WD_2023_val, WD_min_train, WD_max_train)\n",
    "df_WD_test_2023_norm = normalise_linear(df_WD_2023_test, WD_min_train, WD_max_train)\n",
    "\n",
    "df_Wvh_2017_train_norm = normalise_linear(df_Wvh_2017_train, Wvh_min_train, Wvh_max_train)\n",
    "df_Wvh_2018_train_norm = normalise_linear(df_Wvh_2018_train, Wvh_min_train, Wvh_max_train)\n",
    "df_Wvh_2020_train_norm = normalise_linear(df_Wvh_2020_train, Wvh_min_train, Wvh_max_train)\n",
    "df_Wvh_2021_train_norm = normalise_linear(df_Wvh_2021_train, Wvh_min_train, Wvh_max_train)\n",
    "df_Wvh_2021_val_norm = normalise_linear(df_Wvh_2021_val, Wvh_min_train, Wvh_max_train)\n",
    "df_Wvh_2021_test_norm = normalise_linear(df_Wvh_2021_test, Wvh_min_train, Wvh_max_train)\n",
    "df_Wvh_2022_train_norm = normalise_linear(df_Wvh_2022_train, Wvh_min_train, Wvh_max_train)\n",
    "df_Wvh_val_2022_norm = normalise_linear(df_Wvh_2022_val, Wvh_min_train, Wvh_max_train)\n",
    "df_Wvh_test_2022_norm = normalise_linear(df_Wvh_2022_test, Wvh_min_train, Wvh_max_train)\n",
    "df_Wvh_val_2023_norm = normalise_linear(df_Wvh_2023_val, Wvh_min_train, Wvh_max_train)\n",
    "df_Wvh_test_2023_norm = normalise_linear(df_Wvh_2023_test, Wvh_min_train, Wvh_max_train)\n",
    "\n",
    "df_P_2017_train_norm = normalise_linear(df_P_2017_train, P_min_train, P_max_train)\n",
    "df_P_2018_train_norm = normalise_linear(df_P_2018_train, P_min_train, P_max_train)\n",
    "df_P_2020_train_norm = normalise_linear(df_P_2020_train, P_min_train, P_max_train)\n",
    "df_P_2021_train_norm = normalise_linear(df_P_2021_train, P_min_train, P_max_train)\n",
    "df_P_2021_val_norm = normalise_linear(df_P_2021_val, P_min_train, P_max_train)\n",
    "df_P_2021_test_norm = normalise_linear(df_P_2021_test, P_min_train, P_max_train)\n",
    "df_P_2022_train_norm = normalise_linear(df_P_2022_train, P_min_train, P_max_train)\n",
    "df_P_val_2022_norm = normalise_linear(df_P_2022_val, P_min_train, P_max_train)\n",
    "df_P_test_2022_norm = normalise_linear(df_P_2022_test, P_min_train, P_max_train)\n",
    "df_P_val_2023_norm = normalise_linear(df_P_2023_val, P_min_train, P_max_train)\n",
    "df_P_test_2023_norm = normalise_linear(df_P_2023_test, P_min_train, P_max_train)\n",
    "\n",
    "df_SQ_2017_train_norm = normalise_linear(df_SQ_2017_train, SQ_min_train, SQ_max_train)\n",
    "df_SQ_2018_train_norm = normalise_linear(df_SQ_2018_train, SQ_min_train, SQ_max_train)\n",
    "df_SQ_2020_train_norm = normalise_linear(df_SQ_2020_train, SQ_min_train, SQ_max_train)\n",
    "df_SQ_2021_train_norm = normalise_linear(df_SQ_2021_train, SQ_min_train, SQ_max_train)\n",
    "df_SQ_2021_val_norm = normalise_linear(df_SQ_2021_val, SQ_min_train, SQ_max_train)\n",
    "df_SQ_2021_test_norm = normalise_linear(df_SQ_2021_test, SQ_min_train, SQ_max_train)\n",
    "df_SQ_2022_train_norm = normalise_linear(df_SQ_2022_train, SQ_min_train, SQ_max_train)\n",
    "df_SQ_val_2022_norm = normalise_linear(df_SQ_2022_val, SQ_min_train, SQ_max_train)\n",
    "df_SQ_test_2022_norm = normalise_linear(df_SQ_2022_test, SQ_min_train, SQ_max_train)\n",
    "df_SQ_val_2023_norm = normalise_linear(df_SQ_2023_val, SQ_min_train, SQ_max_train)\n",
    "df_SQ_test_2023_norm = normalise_linear(df_SQ_2023_test, SQ_min_train, SQ_max_train)"
   ]
  },
  {
   "cell_type": "markdown",
   "metadata": {},
   "source": [
    "Plot distributions"
   ]
  },
  {
   "cell_type": "code",
   "execution_count": 52,
   "metadata": {},
   "outputs": [],
   "source": [
    "def plot_distributions_KDE(data, title):\n",
    "    \"\"\"Plots the distribution of a sensor's measurements\"\"\"\n",
    "    set_style()\n",
    "    \n",
    "    if isinstance(data, pd.Series):      # distinguish between Series and DataFrame\n",
    "        sns.kdeplot(data)\n",
    "    else:\n",
    "        for column in data.columns:\n",
    "            sns.kdeplot(data, x = column)\n",
    "\n",
    "    plt.xlim(right = 1)\n",
    "    plt.ylim(top = 10)\n",
    "    plt.title(f\"Measurement distributions - {title}\")\n",
    "    plt.xlabel('Measurement value')\n",
    "    plt.show()\n",
    "\n",
    "\n",
    "def plot_multiple_distributions(data: list, title, metadata):\n",
    "    \"\"\"Plots the distribution of sensors' measurements\"\"\"\n",
    "    set_style()\n",
    "    \n",
    "    # if isinstance(data1, pd.Series):    # distinguish between Series and DataFrame\n",
    "    #     sns.kdeplot(data1, label = '1')\n",
    "    #     sns.kdeplot(data2, label = '2')\n",
    "    #     sns.kdeplot(data3, label = '3')\n",
    "    # else:\n",
    "        # for column in data1.columns:\n",
    "        #     sns.kdeplot(data1, x = column, label = '1')\n",
    "        # for column in data2.columns:\n",
    "        #     sns.kdeplot(data2, x = column, label = '2')\n",
    "        # for column in data3.columns:\n",
    "        #     sns.kdeplot(data3, x = column, label = '3')\n",
    "    for idx, df in enumerate(data):\n",
    "        for column in df.columns:\n",
    "            sns.kdeplot(df, x = column, label = idx + 1)\n",
    "\n",
    "    plt.xlim(right = 1)\n",
    "    plt.ylim(top = 10)\n",
    "    plt.title(f\"Measurement dist.s for {metadata['comp']} - {title}\")\n",
    "    plt.xlabel('Measurement value')\n",
    "    plt.legend()\n",
    "    plt.show()"
   ]
  },
  {
   "cell_type": "markdown",
   "metadata": {},
   "source": [
    "#### **Create big combined normalised dataframe**"
   ]
  },
  {
   "cell_type": "code",
   "execution_count": 53,
   "metadata": {},
   "outputs": [],
   "source": [
    "def concat_frames_vertically(dfs, keys):           # https://pandas.pydata.org/docs/user_guide/cookbook.html\n",
    "    \"\"\"\n",
    "    Concatenates a list of dataframes into one dataframe with a MultiIndex,\n",
    "    where the first level is the key and the second level is the original index.\n",
    "    The values get unionized over the columns, and the index is sorted by date.\n",
    "    \"\"\"\n",
    "    frames = [df.rename(columns = {df.columns[0] : 'Groningen'}) for df in dfs]\n",
    "    \n",
    "    return pd.concat(objs = frames, \n",
    "                     axis = 0,          # concat over row axis while unionizing column-axis\n",
    "                     join = 'outer',    # create MultiIndex, rename MultiIndex, then sort on date\n",
    "                     keys = keys).rename_axis(['Component', 'DateTime']).sort_index(level = 'DateTime')"
   ]
  },
  {
   "cell_type": "code",
   "execution_count": 54,
   "metadata": {},
   "outputs": [],
   "source": [
    "def plot_tails(data, title):            # https://seaborn.pydata.org/generated/seaborn.violinplot.html\n",
    "    \"\"\"Plots violin plot of a sensor's different component measurements\"\"\"\n",
    "    set_style()\n",
    "\n",
    "    if isinstance(data, pd.Series):     # interpret as Series\n",
    "        df = pd.DataFrame(data).reset_index()\n",
    "        df.columns = (['Component', 'DateTime', 'Value'])\n",
    "        sns.violinplot(data = df, x = 'Component', y = 'Value', hue = 'Component', legend = False)\n",
    "    else:\n",
    "        df = data.reset_index()         # interpret as DataFrame\n",
    "        df.columns = (['Component', 'DateTime', 'Value'])\n",
    "        sns.violinplot(data = df, x = 'Component', y = 'Value', hue = 'Component', legend = False)\n",
    "\n",
    "    plt.title(title)\n",
    "    plt.ylim(top = 1.0)\n",
    "    plt.xlabel('Component')\n",
    "    plt.ylabel('Normalised value')\n",
    "    plt.show()   "
   ]
  },
  {
   "cell_type": "code",
   "execution_count": 55,
   "metadata": {},
   "outputs": [],
   "source": [
    "keys = ['PM25', 'PM10', 'O3', 'NO2',\n",
    "        'temp', 'dewP', 'WD', 'Wvh', 'p', 'SQ']\n",
    "\n",
    "# Create input dataframes (u)\n",
    "frames_train_2017_1D_u = [df_PM25_2017_train_norm_1D.loc[:, [TUINDORP]],\n",
    "                              df_PM10_2017_train_norm_1D.loc[:, [TUINDORP]],\n",
    "                              df_O3_2017_train_norm_1D.loc[:, [TUINDORP]],\n",
    "                              df_NO2_2017_train_norm_1D.loc[:, [TUINDORP]],\n",
    "                              df_temp_2017_train_norm,\n",
    "                              df_dewP_2017_train_norm,\n",
    "                              df_WD_2017_train_norm,\n",
    "                              df_Wvh_2017_train_norm,\n",
    "                              df_P_2017_train_norm,\n",
    "                              df_SQ_2017_train_norm]\n",
    "frames_train_2018_1D_u = [df_PM25_2018_train_norm_1D.loc[:, [TUINDORP]],\n",
    "                              df_PM10_2018_train_norm_1D.loc[:, [TUINDORP]],\n",
    "                              df_O3_2018_train_norm_1D.loc[:, [TUINDORP]],\n",
    "                              df_NO2_2018_train_norm_1D.loc[:, [TUINDORP]],\n",
    "                              df_temp_2018_train_norm,\n",
    "                              df_dewP_2018_train_norm,\n",
    "                              df_WD_2018_train_norm,\n",
    "                              df_Wvh_2018_train_norm,\n",
    "                              df_P_2018_train_norm,\n",
    "                              df_SQ_2018_train_norm]\n",
    "frames_train_2020_1D_u = [df_PM25_2020_train_norm_1D.loc[:, [TUINDORP]],\n",
    "                              df_PM10_2020_train_norm_1D.loc[:, [TUINDORP]],\n",
    "                              df_O3_2020_train_norm_1D.loc[:, [TUINDORP]],\n",
    "                              df_NO2_2020_train_norm_1D.loc[:, [TUINDORP]],\n",
    "                              df_temp_2020_train_norm,\n",
    "                              df_dewP_2020_train_norm,\n",
    "                              df_WD_2020_train_norm,\n",
    "                              df_Wvh_2020_train_norm,\n",
    "                              df_P_2020_train_norm,\n",
    "                              df_SQ_2020_train_norm]\n",
    "frames_train_2021_1D_u = [df_PM25_2021_train_norm_1D.loc[:, [TUINDORP]],\n",
    "                              df_PM10_2021_train_norm_1D.loc[:, [TUINDORP]],\n",
    "                              df_O3_2021_train_norm_1D.loc[:, [TUINDORP]],\n",
    "                              df_NO2_2021_train_norm_1D.loc[:, [TUINDORP]],\n",
    "                              df_temp_2021_train_norm,\n",
    "                              df_dewP_2021_train_norm,\n",
    "                              df_WD_2021_train_norm,\n",
    "                              df_Wvh_2021_train_norm,\n",
    "                              df_P_2021_train_norm,\n",
    "                              df_SQ_2021_train_norm]\n",
    "frames_val_2021_1D_u = [df_PM25_2021_val_norm_1D.loc[:, [TUINDORP]],\n",
    "                            df_PM10_2021_val_norm_1D.loc[:, [TUINDORP]],\n",
    "                            df_O3_2021_val_norm_1D.loc[:, [TUINDORP]],\n",
    "                            df_NO2_2021_val_norm_1D.loc[:, [TUINDORP]],\n",
    "                            df_temp_2021_val_norm,\n",
    "                            df_dewP_2021_val_norm,\n",
    "                            df_WD_2021_val_norm,\n",
    "                            df_Wvh_2021_val_norm,\n",
    "                            df_P_2021_val_norm,\n",
    "                            df_SQ_2021_val_norm]\n",
    "frames_test_2021_1D_u = [df_PM25_2021_test_norm_1D.loc[:, [TUINDORP]],\n",
    "                             df_PM10_2021_test_norm_1D.loc[:, [TUINDORP]],\n",
    "                             df_O3_2021_test_norm_1D.loc[:, [TUINDORP]],\n",
    "                             df_NO2_2021_test_norm_1D.loc[:, [TUINDORP]],\n",
    "                             df_temp_2021_test_norm,\n",
    "                             df_dewP_2021_test_norm,\n",
    "                             df_WD_2021_test_norm,\n",
    "                             df_Wvh_2021_test_norm,\n",
    "                             df_P_2021_test_norm,\n",
    "                             df_SQ_2021_test_norm]\n",
    "frames_train_2022_1D_u = [df_PM25_2022_train_norm_1D.loc[:, [TUINDORP]],\n",
    "                              df_PM10_2022_train_norm_1D.loc[:, [TUINDORP]],\n",
    "                              df_O3_2022_train_norm_1D.loc[:, [TUINDORP]],\n",
    "                              df_NO2_2022_train_norm_1D.loc[:, [TUINDORP]],\n",
    "                              df_temp_2022_train_norm,\n",
    "                              df_dewP_2022_train_norm,\n",
    "                              df_WD_2022_train_norm,\n",
    "                              df_Wvh_2022_train_norm,\n",
    "                              df_P_2022_train_norm,\n",
    "                              df_SQ_2022_train_norm]\n",
    "frames_val_2022_1D_u = [df_PM25_val_2022_norm_1D.loc[:, [TUINDORP]],\n",
    "                            df_PM10_val_2022_norm_1D.loc[:, [TUINDORP]],\n",
    "                            df_O3_val_2022_norm_1D.loc[:, [TUINDORP]],\n",
    "                            df_NO2_val_2022_norm_1D.loc[:, [TUINDORP]],\n",
    "                            df_temp_val_2022_norm,\n",
    "                            df_dewP_val_2022_norm,\n",
    "                            df_WD_val_2022_norm,\n",
    "                            df_Wvh_val_2022_norm,\n",
    "                            df_P_val_2022_norm,\n",
    "                            df_SQ_val_2022_norm]\n",
    "frames_val_2023_1D_u = [df_PM25_val_2023_norm_1D.loc[:, [TUINDORP]],\n",
    "                            df_PM10_val_2023_norm_1D.loc[:, [TUINDORP]],\n",
    "                            df_O3_val_2023_norm_1D.loc[:, [TUINDORP]],\n",
    "                            df_NO2_val_2023_norm_1D.loc[:, [TUINDORP]],\n",
    "                            df_temp_val_2023_norm,\n",
    "                            df_dewP_val_2023_norm,\n",
    "                            df_WD_val_2023_norm,\n",
    "                            df_Wvh_val_2023_norm,\n",
    "                            df_P_val_2023_norm,\n",
    "                            df_SQ_val_2023_norm]\n",
    "frames_test_2022_1D_u = [df_PM25_test_2022_norm_1D.loc[:, [TUINDORP]],\n",
    "                             df_PM10_test_2022_norm_1D.loc[:, [TUINDORP]],\n",
    "                             df_O3_test_2022_norm_1D.loc[:, [TUINDORP]],\n",
    "                             df_NO2_test_2022_norm_1D.loc[:, [TUINDORP]],\n",
    "                             df_temp_test_2022_norm,\n",
    "                             df_dewP_test_2022_norm,\n",
    "                             df_WD_test_2022_norm,\n",
    "                             df_Wvh_test_2022_norm,\n",
    "                             df_P_test_2022_norm,\n",
    "                             df_SQ_test_2022_norm]\n",
    "frames_test_2023_1D_u = [df_PM25_test_2023_norm_1D.loc[:, [TUINDORP]],\n",
    "                             df_PM10_test_2023_norm_1D.loc[:, [TUINDORP]],\n",
    "                             df_O3_test_2023_norm_1D.loc[:, [TUINDORP]],\n",
    "                             df_NO2_test_2023_norm_1D.loc[:, [TUINDORP]],\n",
    "                             df_temp_test_2023_norm,\n",
    "                             df_dewP_test_2023_norm,\n",
    "                             df_WD_test_2023_norm,\n",
    "                             df_Wvh_test_2023_norm,\n",
    "                             df_P_test_2023_norm,\n",
    "                             df_SQ_test_2023_norm]"
   ]
  },
  {
   "cell_type": "code",
   "execution_count": 56,
   "metadata": {},
   "outputs": [],
   "source": [
    "frames_train_2017_1D_y = [df_PM25_2017_train_norm_1D.loc[:, [BREUKELEN]],\n",
    "                              df_PM10_2017_train_norm_1D.loc[:, [BREUKELEN]],\n",
    "                              df_O3_2017_train_norm_1D.loc[:, [BREUKELEN]],\n",
    "                              df_NO2_2017_train_norm_1D.loc[:, [BREUKELEN]]]\n",
    "frames_train_2018_1D_y = [df_PM25_2018_train_norm_1D.loc[:, [BREUKELEN]],\n",
    "                              df_PM10_2018_train_norm_1D.loc[:, [BREUKELEN]],\n",
    "                              df_O3_2018_train_norm_1D.loc[:, [BREUKELEN]],\n",
    "                              df_NO2_2018_train_norm_1D.loc[:, [BREUKELEN]]]\n",
    "frames_train_2020_1D_y = [df_PM25_2020_train_norm_1D.loc[:, [BREUKELEN]],\n",
    "                              df_PM10_2020_train_norm_1D.loc[:, [BREUKELEN]],\n",
    "                              df_O3_2020_train_norm_1D.loc[:, [BREUKELEN]],\n",
    "                              df_NO2_2020_train_norm_1D.loc[:, [BREUKELEN]]]\n",
    "frames_train_2021_1D_y = [df_PM25_2021_train_norm_1D.loc[:, [BREUKELEN]],\n",
    "                              df_PM10_2021_train_norm_1D.loc[:, [BREUKELEN]],\n",
    "                              df_O3_2021_train_norm_1D.loc[:, [BREUKELEN]],\n",
    "                              df_NO2_2021_train_norm_1D.loc[:, [BREUKELEN]]]\n",
    "frames_val_2021_1D_y = [df_PM25_2021_val_norm_1D.loc[:, [BREUKELEN]],\n",
    "                            df_PM10_2021_val_norm_1D.loc[:, [BREUKELEN]],\n",
    "                            df_O3_2021_val_norm_1D.loc[:, [BREUKELEN]],\n",
    "                            df_NO2_2021_val_norm_1D.loc[:, [BREUKELEN]]]\n",
    "frames_test_2021_1D_y = [df_PM25_2021_test_norm_1D.loc[:, [BREUKELEN]],\n",
    "                             df_PM10_2021_test_norm_1D.loc[:, [BREUKELEN]],\n",
    "                             df_O3_2021_test_norm_1D.loc[:, [BREUKELEN]],\n",
    "                             df_NO2_2021_test_norm_1D.loc[:, [BREUKELEN]]]\n",
    "frames_train_2022_1D_y = [df_PM25_2022_train_norm_1D.loc[:, [BREUKELEN]],\n",
    "                              df_PM10_2022_train_norm_1D.loc[:, [BREUKELEN]],\n",
    "                              df_O3_2022_train_norm_1D.loc[:, [BREUKELEN]],\n",
    "                              df_NO2_2022_train_norm_1D.loc[:, [BREUKELEN]]]\n",
    "frames_val_2022_1D_y = [df_PM25_val_2022_norm_1D.loc[:, [BREUKELEN]],\n",
    "                            df_PM10_val_2022_norm_1D.loc[:, [BREUKELEN]],\n",
    "                            df_O3_val_2022_norm_1D.loc[:, [BREUKELEN]],\n",
    "                            df_NO2_val_2022_norm_1D.loc[:, [BREUKELEN]]]\n",
    "frames_val_2023_1D_y = [df_PM25_val_2023_norm_1D.loc[:, [BREUKELEN]],\n",
    "                            df_PM10_val_2023_norm_1D.loc[:, [BREUKELEN]],\n",
    "                            df_O3_val_2023_norm_1D.loc[:, [BREUKELEN]],\n",
    "                            df_NO2_val_2023_norm_1D.loc[:, [BREUKELEN]]]\n",
    "frames_test_2022_1D_y = [df_PM25_test_2022_norm_1D.loc[:, [BREUKELEN]],\n",
    "                            df_PM10_test_2022_norm_1D.loc[:, [BREUKELEN]],\n",
    "                            df_O3_test_2022_norm_1D.loc[:, [BREUKELEN]],\n",
    "                            df_NO2_test_2022_norm_1D.loc[:, [BREUKELEN]]]\n",
    "frames_test_2023_1D_y = [df_PM25_test_2023_norm_1D.loc[:, [BREUKELEN]],\n",
    "                            df_PM10_test_2023_norm_1D.loc[:, [BREUKELEN]],\n",
    "                            df_O3_test_2023_norm_1D.loc[:, [BREUKELEN]],\n",
    "                            df_NO2_test_2023_norm_1D.loc[:, [BREUKELEN]]]"
   ]
  },
  {
   "cell_type": "markdown",
   "metadata": {},
   "source": [
    "The sampling of the dataset is done in the model files, not here."
   ]
  },
  {
   "cell_type": "code",
   "execution_count": 57,
   "metadata": {},
   "outputs": [],
   "source": [
    "def make_manual_dict_of_dfs(dfs, components):\n",
    "    \"\"\"\n",
    "    Creates a dictionary of dataframes with the components as keys.\n",
    "    Important:\n",
    "    It assumes they are in the same order as the components list!\n",
    "    \"\"\"\n",
    "    return dict(zip(components, dfs))\n",
    "\n",
    "\n",
    "def sort_dict_of_dfs(dfs_dict, components_sorted):\n",
    "    \"\"\"Sorts a dictionary of dataframes by the given components list\"\"\"\n",
    "    return [dfs_dict[name] for name in components_sorted]\n",
    "\n",
    "\n",
    "def print_dict_of_dfs(dfs):\n",
    "    \"\"\"Prints a dictionary of dataframes in a concise manner\"\"\"\n",
    "    for key, df in dfs.items():\n",
    "        print(key)\n",
    "        print(df.head(2))\n",
    "\n",
    "\n",
    "def print_dfs_sorted(dfs):\n",
    "    \"\"\"Prints a list of dataframes in a concise manner\"\"\"\n",
    "    for df in dfs:\n",
    "        print(df.head(2))\n",
    "\n",
    "\n",
    "def concat_frames_horizontally(dfs, components):\n",
    "    \"\"\"\n",
    "    Concatenates a list of dataframes into one dataframe where:\n",
    "    - the x-axis (axis = 1) is the DateTime index;\n",
    "    - the y-axis (axis = 0) is the component axis.\n",
    "    With this approach, the diagrams cannot be automatically sorted.\n",
    "    Hence, this is done manually through the following sorting order:\n",
    "    NO2, O3, PM10, PM25, Q, SQ, WD, Wmax, Wvh, dewP, temp.\n",
    "\n",
    "    The following steps are taken:\n",
    "    1. Create a dictionary of dataframes with the components as keys;\n",
    "    2. Sort the components list alphabetically;\n",
    "    3. Sort the dictionary by the components list;\n",
    "    4. Concatenate the sorted dataframes;\n",
    "    5. Drop the old column names (i.e. sensor names).\n",
    "    \"\"\"\n",
    "    dfs_dict = make_manual_dict_of_dfs(dfs, components)\n",
    "    components_sorted = sorted(components)\n",
    "    dfs_sorted = sort_dict_of_dfs(dfs_dict, components_sorted)\n",
    "    \n",
    "    df = pd.concat(objs = dfs_sorted, \n",
    "                   axis = 1,            # concat over column axis    \n",
    "                   keys = components_sorted).sort_index(level = 'DateTime')\n",
    "    df.columns = df.columns.droplevel(1)\n",
    "    return df"
   ]
  },
  {
   "cell_type": "code",
   "execution_count": 58,
   "metadata": {},
   "outputs": [],
   "source": [
    "input_keys = ['PM25', 'PM10', 'O3', 'NO2',\n",
    "              'temp', 'dewP', 'WD', 'Wvh', 'p', 'SQ']\n",
    "target_keys = ['PM25', 'PM10', 'O3', 'NO2']"
   ]
  },
  {
   "cell_type": "code",
   "execution_count": 59,
   "metadata": {},
   "outputs": [
    {
     "name": "stdout",
     "output_type": "stream",
     "text": [
      "['NO2', 'O3', 'PM10', 'PM25', 'SQ', 'WD', 'Wvh', 'dewP', 'p', 'temp']\n",
      "['NO2', 'O3', 'PM10', 'PM25']\n"
     ]
    }
   ],
   "source": [
    "print(sorted(input_keys))\n",
    "print(sorted(target_keys))"
   ]
  },
  {
   "cell_type": "code",
   "execution_count": 60,
   "metadata": {},
   "outputs": [
    {
     "name": "stdout",
     "output_type": "stream",
     "text": [
      "UTC+01:00\n",
      "UTC+01:00\n",
      "UTC+01:00\n",
      "UTC+01:00\n",
      "None\n",
      "None\n",
      "None\n",
      "None\n",
      "None\n",
      "None\n"
     ]
    }
   ],
   "source": [
    "for df in frames_val_2023_1D_u:\n",
    "    print(df.index.tz)"
   ]
  },
  {
   "cell_type": "markdown",
   "metadata": {},
   "source": [
    "The 2023 data seemed to have a different kind of DateTime index, namely one that was timezone-aware instead of timezone-naive. Hence, we delete the timezone information here for uniformity."
   ]
  },
  {
   "cell_type": "code",
   "execution_count": 61,
   "metadata": {},
   "outputs": [],
   "source": [
    "for df in frames_val_2023_1D_u:\n",
    "    df.index = df.index.tz_localize(None)\n",
    "for df in frames_test_2023_1D_u:\n",
    "    df.index = df.index.tz_localize(None)"
   ]
  },
  {
   "cell_type": "code",
   "execution_count": 62,
   "metadata": {},
   "outputs": [
    {
     "name": "stdout",
     "output_type": "stream",
     "text": [
      "(3648, 10)\n",
      "(504, 10)\n",
      "(504, 10)\n",
      "(3648, 4)\n",
      "(504, 4)\n",
      "(504, 4)\n"
     ]
    }
   ],
   "source": [
    "df_train_2017_horizontal_u = concat_frames_horizontally(frames_train_2017_1D_u, input_keys)\n",
    "df_train_2018_horizontal_u = concat_frames_horizontally(frames_train_2018_1D_u, input_keys)\n",
    "df_train_2020_horizontal_u = concat_frames_horizontally(frames_train_2020_1D_u, input_keys)\n",
    "df_train_2021_horizontal_u = concat_frames_horizontally(frames_train_2021_1D_u, input_keys)\n",
    "df_val_2021_horizontal_u = concat_frames_horizontally(frames_val_2021_1D_u, input_keys)\n",
    "df_test_2021_horizontal_u = concat_frames_horizontally(frames_test_2021_1D_u, input_keys)\n",
    "df_train_2022_horizontal_u = concat_frames_horizontally(frames_train_2022_1D_u, input_keys)\n",
    "df_val_2022_horizontal_u = concat_frames_horizontally(frames_val_2022_1D_u, input_keys)\n",
    "df_val_2023_horizontal_u = concat_frames_horizontally(frames_val_2023_1D_u, input_keys)\n",
    "df_test_2022_horizontal_u = concat_frames_horizontally(frames_test_2022_1D_u, input_keys)\n",
    "df_test_2023_horizontal_u = concat_frames_horizontally(frames_test_2023_1D_u, input_keys)\n",
    "\n",
    "df_train_2017_horizontal_y = concat_frames_horizontally(frames_train_2017_1D_y, target_keys)\n",
    "df_train_2018_horizontal_y = concat_frames_horizontally(frames_train_2018_1D_y, target_keys)\n",
    "df_train_2020_horizontal_y = concat_frames_horizontally(frames_train_2020_1D_y, target_keys)\n",
    "df_train_2021_horizontal_y = concat_frames_horizontally(frames_train_2021_1D_y, target_keys)\n",
    "df_val_2021_horizontal_y = concat_frames_horizontally(frames_val_2021_1D_y, target_keys)\n",
    "df_test_2021_horizontal_y = concat_frames_horizontally(frames_test_2021_1D_y, target_keys)\n",
    "df_train_2022_horizontal_y = concat_frames_horizontally(frames_train_2022_1D_y, target_keys)\n",
    "df_val_2022_horizontal_y = concat_frames_horizontally(frames_val_2022_1D_y, target_keys)\n",
    "df_val_2023_horizontal_y = concat_frames_horizontally(frames_val_2023_1D_y, target_keys)\n",
    "df_test_2022_horizontal_y = concat_frames_horizontally(frames_test_2022_1D_y, target_keys)\n",
    "df_test_2023_horizontal_y = concat_frames_horizontally(frames_test_2023_1D_y, target_keys)\n",
    "\n",
    "# print(df_train_2017_horizontal_u.shape)\n",
    "# print(df_train_2018_horizontal_u.shape)\n",
    "# print(df_train_2019_horizontal_u.shape)\n",
    "print(df_train_2020_horizontal_u.shape)\n",
    "# print(df_train_2021_horizontal_u.shape)\n",
    "# print(df_train_2022_horizontal_u.shape)\n",
    "print(df_val_2022_horizontal_u.shape)\n",
    "print(df_test_2022_horizontal_u.shape)\n",
    "# print(df_train_2017_horizontal_y.shape)\n",
    "# print(df_train_2018_horizontal_y.shape)\n",
    "# print(df_train_2019_horizontal_y.shape)\n",
    "print(df_train_2020_horizontal_y.shape)\n",
    "# print(df_train_2021_horizontal_y.shape)\n",
    "# print(df_train_2022_horizontal_y.shape)\n",
    "print(df_val_2022_horizontal_y.shape)\n",
    "print(df_test_2022_horizontal_y.shape)"
   ]
  },
  {
   "cell_type": "markdown",
   "metadata": {},
   "source": [
    "Save the dataframes to data_combined/ folder. The windowing will be performed by a PyTorch Dataset class in the model notebooks."
   ]
  },
  {
   "cell_type": "code",
   "execution_count": 63,
   "metadata": {},
   "outputs": [],
   "source": [
    "df_train_2017_horizontal_u.to_csv(\"../data/data_combined/train_2017_combined_u.csv\", index = True, sep = ';', decimal = '.', encoding = 'utf-8')\n",
    "df_train_2018_horizontal_u.to_csv(\"../data/data_combined/train_2018_combined_u.csv\", index = True, sep = ';', decimal = '.', encoding = 'utf-8')\n",
    "df_train_2020_horizontal_u.to_csv(\"../data/data_combined/train_2020_combined_u.csv\", index = True, sep = ';', decimal = '.', encoding = 'utf-8')\n",
    "df_train_2021_horizontal_u.to_csv(\"../data/data_combined/train_2021_combined_u.csv\", index = True, sep = ';', decimal = '.', encoding = 'utf-8')\n",
    "df_val_2021_horizontal_u.to_csv(\"../data/data_combined/val_2021_combined_u.csv\", index = True, sep = ';', decimal = '.', encoding = 'utf-8')\n",
    "df_test_2021_horizontal_u.to_csv(\"../data/data_combined/test_2021_combined_u.csv\", index = True, sep = ';', decimal = '.', encoding = 'utf-8')\n",
    "df_train_2022_horizontal_u.to_csv(\"../data/data_combined/train_2022_combined_u.csv\", index = True, sep = ';', decimal = '.', encoding = 'utf-8')\n",
    "df_val_2022_horizontal_u.to_csv(\"../data/data_combined/val_2022_combined_u.csv\", index = True, sep = ';', decimal = '.', encoding = 'utf-8')\n",
    "df_val_2023_horizontal_u.to_csv(\"../data/data_combined/val_2023_combined_u.csv\", index = True, sep = ';', decimal = '.', encoding = 'utf-8')\n",
    "df_test_2022_horizontal_u.to_csv(\"../data/data_combined/test_2022_combined_u.csv\", index = True, sep = ';', decimal = '.', encoding = 'utf-8')\n",
    "df_test_2023_horizontal_u.to_csv(\"../data/data_combined/test_2023_combined_u.csv\", index = True, sep = ';', decimal = '.', encoding = 'utf-8')\n",
    "\n",
    "df_train_2017_horizontal_y.to_csv(\"../data/data_combined/train_2017_combined_y.csv\", index = True, sep = ';', decimal = '.', encoding = 'utf-8')\n",
    "df_train_2018_horizontal_y.to_csv(\"../data/data_combined/train_2018_combined_y.csv\", index = True, sep = ';', decimal = '.', encoding = 'utf-8')\n",
    "df_train_2020_horizontal_y.to_csv(\"../data/data_combined/train_2020_combined_y.csv\", index = True, sep = ';', decimal = '.', encoding = 'utf-8')\n",
    "df_train_2021_horizontal_y.to_csv(\"../data/data_combined/train_2021_combined_y.csv\", index = True, sep = ';', decimal = '.', encoding = 'utf-8')\n",
    "df_val_2021_horizontal_y.to_csv(\"../data/data_combined/val_2021_combined_y.csv\", index = True, sep = ';', decimal = '.', encoding = 'utf-8')\n",
    "df_test_2021_horizontal_y.to_csv(\"../data/data_combined/test_2021_combined_y.csv\", index = True, sep = ';', decimal = '.', encoding = 'utf-8')\n",
    "df_train_2022_horizontal_y.to_csv(\"../data/data_combined/train_2022_combined_y.csv\", index = True, sep = ';', decimal = '.', encoding = 'utf-8')\n",
    "df_val_2022_horizontal_y.to_csv(\"../data/data_combined/val_2022_combined_y.csv\", index = True, sep = ';', decimal = '.', encoding = 'utf-8')\n",
    "df_val_2023_horizontal_y.to_csv(\"../data/data_combined/val_2023_combined_y.csv\", index = True, sep = ';', decimal = '.', encoding = 'utf-8')\n",
    "df_test_2022_horizontal_y.to_csv(\"../data/data_combined/test_2022_combined_y.csv\", index = True, sep = ';', decimal = '.', encoding = 'utf-8')\n",
    "df_test_2023_horizontal_y.to_csv(\"../data/data_combined/test_2023_combined_y.csv\", index = True, sep = ';', decimal = '.', encoding = 'utf-8')"
   ]
  },
  {
   "cell_type": "code",
   "execution_count": 64,
   "metadata": {},
   "outputs": [],
   "source": [
    "def plot_distributions_KDE(data, title):\n",
    "    \"\"\"Plots the distribution of a sensor's measurements\"\"\"\n",
    "    set_style()\n",
    "    \n",
    "    if isinstance(data, pd.Series):      # distinguish between Series and DataFrame\n",
    "        sns.kdeplot(data, label = data.name)\n",
    "    else:\n",
    "        for column in data.columns:\n",
    "            sns.kdeplot(data, x = column, label = column)\n",
    "\n",
    "    plt.xlim(left = -0.1, right = 1)\n",
    "    plt.ylim(top = 10)\n",
    "    plt.title(f\"Measurement distributions - {title}\")\n",
    "    plt.xlabel('Measurement value')\n",
    "    plt.legend()\n",
    "    plt.show()"
   ]
  },
  {
   "cell_type": "code",
   "execution_count": 65,
   "metadata": {},
   "outputs": [
    {
     "data": {
      "image/png": "[encoded data removed]",
      "text/plain": [
       "<Figure size 600x200 with 1 Axes>"
      ]
     },
     "metadata": {},
     "output_type": "display_data"
    },
    {
     "data": {
      "image/png": "[encoded data removed]",
      "text/plain": [
       "<Figure size 600x200 with 1 Axes>"
      ]
     },
     "metadata": {},
     "output_type": "display_data"
    },
    {
     "data": {
      "image/png": "[encoded data removed]",
      "text/plain": [
       "<Figure size 600x200 with 1 Axes>"
      ]
     },
     "metadata": {},
     "output_type": "display_data"
    }
   ],
   "source": [
    "df_training_y_combined = pd.concat([\n",
    "    df_train_2017_horizontal_y,\n",
    "    df_train_2018_horizontal_y,\n",
    "    df_train_2020_horizontal_y,\n",
    "    df_train_2021_horizontal_y,\n",
    "    df_train_2022_horizontal_y\n",
    "])\n",
    "df_val_y_combined = pd.concat([\n",
    "    df_val_2021_horizontal_y,\n",
    "    df_val_2022_horizontal_y,\n",
    "    df_val_2023_horizontal_y\n",
    "])\n",
    "df_test_y_combined = pd.concat([\n",
    "    df_test_2021_horizontal_y,\n",
    "    df_test_2022_horizontal_y,\n",
    "    df_test_2023_horizontal_y\n",
    "])\n",
    "\n",
    "plot_distributions_KDE(df_training_y_combined, 'training data - y')\n",
    "plot_distributions_KDE(df_val_y_combined, 'validation data - y')\n",
    "plot_distributions_KDE(df_test_y_combined, 'test data - y')"
   ]
  }
 ],
 "metadata": {
  "kernelspec": {
   "display_name": "Python 3",
   "language": "python",
   "name": "python3"
  },
  "language_info": {
   "codemirror_mode": {
    "name": "ipython",
    "version": 3
   },
   "file_extension": ".py",
   "mimetype": "text/x-python",
   "name": "python",
   "nbconvert_exporter": "python",
   "pygments_lexer": "ipython3",
   "version": "3.9.13"
  }
 },
 "nbformat": 4,
 "nbformat_minor": 2
}
