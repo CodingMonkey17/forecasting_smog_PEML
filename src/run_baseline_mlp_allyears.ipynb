{
 "cells": [
  {
   "cell_type": "markdown",
   "metadata": {},
   "source": [
    "# **Baseline Simple MLP with just MSE**\n",
    "# All years data\n"
   ]
  },
  {
   "cell_type": "markdown",
   "metadata": {},
   "source": [
    "## **Running the models using the 'modelling' package**\n",
    "\n",
    "A notebook through which different modelling configurations can be ran, using the ``modelling`` package. It follows the steps of:\n",
    "- preparing packages;\n",
    "- setting \"global\" variables;\n",
    "- getting the data;\n",
    "- defining hyperparameters;\n",
    "- running a grid search and/or training a model; and\n",
    "- evaluation.\n",
    "In the modelling package, variations can be made to the models and training functions to experiment. Don't forget to restart the notebook after making changes there.\n",
    "\n"
   ]
  },
  {
   "cell_type": "markdown",
   "metadata": {},
   "source": [
    "For loading models, go to the ``src/results/models``:\n",
    "- Baseline NO2 2017 with MLP and MSE loss: ``best_mlp_no2_baseline_2017.pth``\n"
   ]
  },
  {
   "cell_type": "code",
   "execution_count": 1,
   "metadata": {},
   "outputs": [
    {
     "name": "stdout",
     "output_type": "stream",
     "text": [
      "Starting script...\n",
      "\n",
      "Running __init__.py for data pipeline...\n",
      "Modelling package initialized\n",
      "\n"
     ]
    }
   ],
   "source": [
    "print(\"Starting script...\")\n",
    "\n",
    "\n",
    "from modelling.MLP import BasicMLP\n",
    "from modelling import *\n",
    "\n",
    "\n",
    "import optuna\n",
    "import threading\n",
    "import os\n",
    "from pathlib import Path\n",
    "import datetime\n",
    "import numpy as np\n",
    "import pandas as pd\n",
    "import torch\n",
    "import torch.nn as nn\n",
    "import torch.optim as optim\n",
    "from torch.utils.data import DataLoader\n",
    "from torch.utils.data import ConcatDataset"
   ]
  },
  {
   "cell_type": "markdown",
   "metadata": {},
   "source": [
    "Use GPU when available"
   ]
  },
  {
   "cell_type": "code",
   "execution_count": 2,
   "metadata": {},
   "outputs": [
    {
     "name": "stdout",
     "output_type": "stream",
     "text": [
      "Device:  cpu\n"
     ]
    }
   ],
   "source": [
    "use_cuda = torch.cuda.is_available()\n",
    "device = torch.device(\"cuda\" if use_cuda else \"cpu\")\n",
    "print(\"Device: \", device)"
   ]
  },
  {
   "cell_type": "markdown",
   "metadata": {},
   "source": [
    "### **Set \"global\" variables**"
   ]
  },
  {
   "cell_type": "code",
   "execution_count": 3,
   "metadata": {},
   "outputs": [
    {
     "data": {
      "text/plain": [
       "PosixPath('/home/rachel/forecasting_smog_PEML/src')"
      ]
     },
     "execution_count": 3,
     "metadata": {},
     "output_type": "execute_result"
    }
   ],
   "source": [
    "Path.cwd()"
   ]
  },
  {
   "cell_type": "code",
   "execution_count": 4,
   "metadata": {},
   "outputs": [
    {
     "data": {
      "text/plain": [
       "<module 'config' from '/home/rachel/forecasting_smog_PEML/src/config.py'>"
      ]
     },
     "execution_count": 4,
     "metadata": {},
     "output_type": "execute_result"
    }
   ],
   "source": [
    "import importlib\n",
    "import config\n",
    "importlib.reload(config)"
   ]
  },
  {
   "cell_type": "code",
   "execution_count": 5,
   "metadata": {},
   "outputs": [],
   "source": [
    "from config import *"
   ]
  },
  {
   "cell_type": "code",
   "execution_count": 6,
   "metadata": {},
   "outputs": [
    {
     "name": "stdout",
     "output_type": "stream",
     "text": [
      "BASE_DIR:  /home/rachel/forecasting_smog_PEML\n",
      "MODEL_PATH:  /home/rachel/forecasting_smog_PEML/src/results/models\n",
      "Results path:  /home/rachel/forecasting_smog_PEML/src/results\n"
     ]
    },
    {
     "data": {
      "text/plain": [
       "<torch._C.Generator at 0x7f6669d71fb0>"
      ]
     },
     "execution_count": 6,
     "metadata": {},
     "output_type": "execute_result"
    }
   ],
   "source": [
    "HABROK = bool(0)                  # set to True if using HABROK; it will print\n",
    "                                  # all stdout to a .txt file to log progress\n",
    "\n",
    "\n",
    "print(\"BASE_DIR: \", BASE_DIR)\n",
    "print(\"MODEL_PATH: \", MODEL_PATH)\n",
    "print(\"Results path: \", RESULTS_PATH)\n",
    "\n",
    "torch.manual_seed(34)             # set seed for reproducibility\n"
   ]
  },
  {
   "cell_type": "markdown",
   "metadata": {},
   "source": [
    "\n",
    "## MODIFY THESE GLOBAL VARIABLES FOR YOUR MODEL SCENARIO\n",
    "## all other variables are defined in config.py"
   ]
  },
  {
   "cell_type": "code",
   "execution_count": 7,
   "metadata": {},
   "outputs": [
    {
     "data": {
      "text/plain": [
       "<torch._C.Generator at 0x7f6669d71fb0>"
      ]
     },
     "execution_count": 7,
     "metadata": {},
     "output_type": "execute_result"
    }
   ],
   "source": [
    "# Change this according to the data you want to use\n",
    "YEARS = [2017, 2018, 2020, 2021, 2022, 2023]\n",
    "TRAIN_YEARS = [2017, 2018, 2020, 2021, 2022]\n",
    "VAL_YEARS = [2021, 2022, 2023]\n",
    "TEST_YEARS = [2021, 2022, 2023]\n",
    "\n",
    "# for loss.py and also naming of file names\n",
    "LOSS_FUNC = \"MSE\" # choose from \"MSE\"; \"Physics_Linear_MSE\"; \"Physics_PDE_numerical_constant\"; \"Physics_PDE_numerical_piecewise\"\n",
    "NN_TYPE = \"MLP\" # choose from \"MLP\", \"RNN\", \"LSTM\", \"GRU\"\n",
    "torch.random.manual_seed(34)"
   ]
  },
  {
   "cell_type": "code",
   "execution_count": 8,
   "metadata": {},
   "outputs": [
    {
     "name": "stdout",
     "output_type": "stream",
     "text": [
      "Using all years\n",
      "MINMAX_PATH:  /home/rachel/forecasting_smog_PEML/data/data_combined/all_years/pollutants_minmax_allyears.csv\n",
      "DATASET_PATH:  /home/rachel/forecasting_smog_PEML/data/data_combined/all_years\n",
      "MODEL_PATH_NAME:  best_MLP_no2_MSE_allyears.pth\n",
      "RESULTS_METRICS_FILENAME:  results_MLP_no2_MSE_allyears.csv\n",
      "BESTPARAMS_FILENAME:  best_params_MLP_no2_MSE_allyears.txt\n",
      "PLOT_FILENAME:  plot_MLP_no2_MSE_allyears.png\n"
     ]
    }
   ],
   "source": [
    "if YEARS == [2017, 2018, 2020, 2021, 2022, 2023]:\n",
    "    years = \"allyears\"\n",
    "    MINMAX_PATH = MINMAX_PATH_ALLYEARS\n",
    "    DATASET_PATH = DATASET_PATH_ALLYEARS\n",
    "    \n",
    "    print(\"Using all years\")\n",
    "    \n",
    "elif YEARS == [2017]:\n",
    "    years = \"2017\"\n",
    "    MINMAX_PATH = MINMAX_PATH_2017\n",
    "    DATASET_PATH = DATASET_PATH_2017\n",
    "    print(\"Using 2017\")\n",
    "else:\n",
    "    raise ValueError(\"Invalid years selected\")\n",
    "\n",
    "\n",
    "MODEL_PATH_NAME = f'best_{NN_TYPE}_no2_{LOSS_FUNC}_{years}.pth'\n",
    "RESULTS_METRICS_FILENAME = f'results_{NN_TYPE}_no2_{LOSS_FUNC}_{years}.csv'\n",
    "BESTPARAMS_FILENAME = f'best_params_{NN_TYPE}_no2_{LOSS_FUNC}_{years}.txt'\n",
    "PLOT_FILENAME = f'plot_{NN_TYPE}_no2_{LOSS_FUNC}_{years}.png'\n",
    "print(\"MINMAX_PATH: \", MINMAX_PATH)\n",
    "print(\"DATASET_PATH: \", DATASET_PATH)\n",
    "print(\"MODEL_PATH_NAME: \", MODEL_PATH_NAME)\n",
    "print(\"RESULTS_METRICS_FILENAME: \", RESULTS_METRICS_FILENAME)\n",
    "print(\"BESTPARAMS_FILENAME: \", BESTPARAMS_FILENAME)\n",
    "print(\"PLOT_FILENAME: \", PLOT_FILENAME)"
   ]
  },
  {
   "cell_type": "markdown",
   "metadata": {},
   "source": [
    "### **Load in data and create PyTorch *Datasets***"
   ]
  },
  {
   "cell_type": "code",
   "execution_count": 9,
   "metadata": {},
   "outputs": [
    {
     "name": "stdout",
     "output_type": "stream",
     "text": [
      "Imported train_2017_combined_u.csv\n"
     ]
    },
    {
     "name": "stdout",
     "output_type": "stream",
     "text": [
      "Imported train_2018_combined_u.csv\n",
      "Imported train_2020_combined_u.csv\n",
      "Imported train_2021_combined_u.csv\n",
      "Imported train_2022_combined_u.csv\n",
      "Warning: train_2023_combined_u.csv does not exist.\n",
      "Imported train_2017_combined_y.csv\n",
      "Imported train_2018_combined_y.csv\n",
      "Imported train_2020_combined_y.csv\n",
      "Imported train_2021_combined_y.csv\n",
      "Imported train_2022_combined_y.csv\n",
      "Warning: train_2023_combined_y.csv does not exist.\n",
      "Warning: val_2017_combined_u.csv does not exist.\n",
      "Warning: val_2018_combined_u.csv does not exist.\n",
      "Warning: val_2020_combined_u.csv does not exist.\n",
      "Imported val_2021_combined_u.csv\n",
      "Imported val_2022_combined_u.csv\n",
      "Imported val_2023_combined_u.csv\n",
      "Warning: val_2017_combined_y.csv does not exist.\n",
      "Warning: val_2018_combined_y.csv does not exist.\n",
      "Warning: val_2020_combined_y.csv does not exist.\n",
      "Imported val_2021_combined_y.csv\n",
      "Imported val_2022_combined_y.csv\n",
      "Imported val_2023_combined_y.csv\n",
      "Warning: test_2017_combined_u.csv does not exist.\n",
      "Warning: test_2018_combined_u.csv does not exist.\n",
      "Warning: test_2020_combined_u.csv does not exist.\n",
      "Imported test_2021_combined_u.csv\n",
      "Imported test_2022_combined_u.csv\n",
      "Imported test_2023_combined_u.csv\n",
      "Warning: test_2017_combined_y.csv does not exist.\n",
      "Warning: test_2018_combined_y.csv does not exist.\n",
      "Warning: test_2020_combined_y.csv does not exist.\n",
      "Imported test_2021_combined_y.csv\n",
      "Imported test_2022_combined_y.csv\n",
      "Imported test_2023_combined_y.csv\n",
      "Successfully loaded data\n"
     ]
    }
   ],
   "source": [
    "# Load in data and create PyTorch Datasets. To tune\n",
    "# which exact .csv files get extracted, change the\n",
    "# lists in the get_dataframes() definition\n",
    "\n",
    "train_input_frames = get_dataframes('train', 'u', YEARS, DATASET_PATH)\n",
    "train_output_frames = get_dataframes('train', 'y', YEARS, DATASET_PATH)\n",
    "\n",
    "val_input_frames = get_dataframes('val', 'u', YEARS, DATASET_PATH)\n",
    "val_output_frames = get_dataframes('val', 'y', YEARS, DATASET_PATH)\n",
    "\n",
    "test_input_frames = get_dataframes('test', 'u', YEARS, DATASET_PATH)\n",
    "test_output_frames = get_dataframes('test', 'y', YEARS, DATASET_PATH)\n",
    "\n",
    "print(\"Successfully loaded data\")"
   ]
  },
  {
   "cell_type": "code",
   "execution_count": 10,
   "metadata": {},
   "outputs": [
    {
     "data": {
      "text/plain": [
       "[                           DD        FF        FH        FX  NO2_BREUKELEN  \\\n",
       " DateTime                                                                     \n",
       " 2017-08-01 00:00:00  0.166667  0.083333  0.083333  0.043478       0.207556   \n",
       " 2017-08-01 01:00:00  0.000000  0.000000  0.083333  0.086957       0.140351   \n",
       " 2017-08-01 02:00:00  0.000000  0.000000  0.000000  0.043478       0.252483   \n",
       " 2017-08-01 03:00:00  0.277778  0.083333  0.000000  0.043478       0.379467   \n",
       " 2017-08-01 04:00:00  0.805556  0.166667  0.083333  0.130435       0.426715   \n",
       " ...                       ...       ...       ...       ...            ...   \n",
       " 2017-12-30 19:00:00  0.694444  0.416667  0.416667  0.478261       0.201615   \n",
       " 2017-12-30 20:00:00  0.694444  0.416667  0.333333  0.434783       0.217859   \n",
       " 2017-12-30 21:00:00  0.666667  0.333333  0.416667  0.434783       0.221480   \n",
       " 2017-12-30 22:00:00  0.694444  0.250000  0.250000  0.304348       0.209505   \n",
       " 2017-12-30 23:00:00  0.666667  0.416667  0.250000  0.304348       0.240787   \n",
       " \n",
       "                      NO2_TUINDORP         P   SQ         T        TD  \n",
       " DateTime                                                              \n",
       " 2017-08-01 00:00:00      0.223383  0.634943  0.0  0.497354  0.723022  \n",
       " 2017-08-01 01:00:00      0.207092  0.639205  0.0  0.505291  0.733813  \n",
       " 2017-08-01 02:00:00      0.157895  0.633523  0.0  0.473545  0.694245  \n",
       " 2017-08-01 03:00:00      0.137659  0.630682  0.0  0.439153  0.651079  \n",
       " 2017-08-01 04:00:00      0.149633  0.630682  0.0  0.462963  0.672662  \n",
       " ...                           ...       ...  ...       ...       ...  \n",
       " 2017-12-30 19:00:00      0.168848  0.457386  0.0  0.396825  0.507194  \n",
       " 2017-12-30 20:00:00      0.140072  0.471591  0.0  0.388889  0.496403  \n",
       " 2017-12-30 21:00:00      0.191033  0.473011  0.0  0.375661  0.503597  \n",
       " 2017-12-30 22:00:00      0.147406  0.475852  0.0  0.370370  0.492806  \n",
       " 2017-12-30 23:00:00      0.158823  0.477273  0.0  0.373016  0.489209  \n",
       " \n",
       " [3648 rows x 10 columns],\n",
       "                            DD        FF        FH        FX  NO2_BREUKELEN  \\\n",
       " DateTime                                                                     \n",
       " 2018-08-01 00:00:00  0.166667  0.083333  0.083333  0.043478       0.572728   \n",
       " 2018-08-01 01:00:00  0.000000  0.000000  0.000000  0.043478       0.490485   \n",
       " 2018-08-01 02:00:00  0.000000  0.000000  0.000000  0.043478       0.511928   \n",
       " 2018-08-01 03:00:00  0.055556  0.083333  0.083333  0.043478       0.430428   \n",
       " 2018-08-01 04:00:00  0.194444  0.083333  0.083333  0.043478       0.387450   \n",
       " ...                       ...       ...       ...       ...            ...   \n",
       " 2018-12-30 19:00:00  0.750000  0.166667  0.166667  0.173913       0.273554   \n",
       " 2018-12-30 20:00:00  0.750000  0.250000  0.166667  0.217391       0.245336   \n",
       " 2018-12-30 21:00:00  0.777778  0.250000  0.250000  0.217391       0.189548   \n",
       " 2018-12-30 22:00:00  0.805556  0.250000  0.166667  0.260870       0.169312   \n",
       " 2018-12-30 23:00:00  0.777778  0.166667  0.166667  0.217391       0.124478   \n",
       " \n",
       "                      NO2_TUINDORP         P   SQ         T        TD  \n",
       " DateTime                                                              \n",
       " 2018-08-01 00:00:00      0.247192  0.732955  0.0  0.428571  0.629496  \n",
       " 2018-08-01 01:00:00      0.252762  0.735795  0.0  0.420635  0.615108  \n",
       " 2018-08-01 02:00:00      0.217024  0.732955  0.0  0.404762  0.593525  \n",
       " 2018-08-01 03:00:00      0.189177  0.732955  0.0  0.404762  0.593525  \n",
       " 2018-08-01 04:00:00      0.243665  0.734375  0.3  0.436508  0.640288  \n",
       " ...                           ...       ...  ...       ...       ...  \n",
       " 2018-12-30 19:00:00      0.255825  0.897727  0.0  0.346561  0.521583  \n",
       " 2018-12-30 20:00:00      0.263993  0.893466  0.0  0.349206  0.525180  \n",
       " 2018-12-30 21:00:00      0.199944  0.893466  0.0  0.349206  0.525180  \n",
       " 2018-12-30 22:00:00      0.178038  0.896307  0.0  0.351852  0.528777  \n",
       " 2018-12-30 23:00:00      0.145456  0.897727  0.0  0.354497  0.532374  \n",
       " \n",
       " [3648 rows x 10 columns],\n",
       "                            DD        FF        FH        FX  NO2_BREUKELEN  \\\n",
       " DateTime                                                                     \n",
       " 2020-08-01 00:00:00  0.527778  0.166667  0.250000  0.304348       0.115845   \n",
       " 2020-08-01 01:00:00  0.250000  0.083333  0.166667  0.217391       0.173953   \n",
       " 2020-08-01 02:00:00  0.611111  0.166667  0.250000  0.391304       0.117702   \n",
       " 2020-08-01 03:00:00  0.750000  0.083333  0.083333  0.173913       0.153439   \n",
       " 2020-08-01 04:00:00  0.666667  0.166667  0.166667  0.173913       0.236239   \n",
       " ...                       ...       ...       ...       ...            ...   \n",
       " 2020-12-30 19:00:00  0.583333  0.250000  0.333333  0.304348       0.207649   \n",
       " 2020-12-30 20:00:00  0.583333  0.333333  0.250000  0.260870       0.238838   \n",
       " 2020-12-30 21:00:00  0.555556  0.250000  0.250000  0.260870       0.231133   \n",
       " 2020-12-30 22:00:00  0.555556  0.333333  0.333333  0.260870       0.287107   \n",
       " 2020-12-30 23:00:00  0.583333  0.166667  0.250000  0.304348       0.299638   \n",
       " \n",
       "                      NO2_TUINDORP         P   SQ         T        TD  \n",
       " DateTime                                                              \n",
       " 2020-08-01 00:00:00      0.140722  0.616477  0.0  0.706349  0.762590  \n",
       " 2020-08-01 01:00:00      0.162722  0.590909  0.0  0.640212  0.856115  \n",
       " 2020-08-01 02:00:00      0.172654  0.610795  0.0  0.685185  0.848921  \n",
       " 2020-08-01 03:00:00      0.150283  0.615057  0.0  0.653439  0.859712  \n",
       " 2020-08-01 04:00:00      0.161886  0.616477  0.0  0.642857  0.823741  \n",
       " ...                           ...       ...  ...       ...       ...  \n",
       " 2020-12-30 19:00:00      0.227513  0.473011  0.0  0.203704  0.280576  \n",
       " 2020-12-30 20:00:00      0.231505  0.473011  0.0  0.206349  0.280576  \n",
       " 2020-12-30 21:00:00      0.271048  0.475852  0.0  0.198413  0.266187  \n",
       " 2020-12-30 22:00:00      0.285157  0.474432  0.0  0.195767  0.266187  \n",
       " 2020-12-30 23:00:00      0.263715  0.474432  0.0  0.187831  0.284173  \n",
       " \n",
       " [3648 rows x 10 columns],\n",
       "                            DD        FF        FH        FX  NO2_BREUKELEN  \\\n",
       " DateTime                                                                     \n",
       " 2021-08-01 00:00:00  0.583333  0.250000  0.166667  0.173913       0.235310   \n",
       " 2021-08-01 01:00:00  0.611111  0.166667  0.166667  0.173913       0.171540   \n",
       " 2021-08-01 02:00:00  0.583333  0.250000  0.250000  0.217391       0.143971   \n",
       " 2021-08-01 03:00:00  0.611111  0.166667  0.250000  0.217391       0.130883   \n",
       " 2021-08-01 04:00:00  0.611111  0.250000  0.250000  0.217391       0.130511   \n",
       " ...                       ...       ...       ...       ...            ...   \n",
       " 2021-11-18 19:00:00  0.666667  0.333333  0.333333  0.304348       0.299452   \n",
       " 2021-11-18 20:00:00  0.638889  0.250000  0.250000  0.260870       0.288870   \n",
       " 2021-11-18 21:00:00  0.611111  0.333333  0.250000  0.304348       0.284693   \n",
       " 2021-11-18 22:00:00  0.611111  0.333333  0.250000  0.260870       0.297317   \n",
       " 2021-11-18 23:00:00  0.611111  0.333333  0.250000  0.260870       0.264086   \n",
       " \n",
       "                      NO2_TUINDORP         P   SQ         T        TD  \n",
       " DateTime                                                              \n",
       " 2021-08-01 00:00:00      0.152975  0.559659  0.0  0.492063  0.712230  \n",
       " 2021-08-01 01:00:00      0.134689  0.555398  0.0  0.492063  0.712230  \n",
       " 2021-08-01 02:00:00      0.121786  0.553977  0.0  0.500000  0.712230  \n",
       " 2021-08-01 03:00:00      0.111482  0.553977  0.0  0.497354  0.712230  \n",
       " 2021-08-01 04:00:00      0.104335  0.555398  0.0  0.497354  0.708633  \n",
       " ...                           ...       ...  ...       ...       ...  \n",
       " 2021-11-18 19:00:00      0.339738  0.829545  0.0  0.404762  0.550360  \n",
       " 2021-11-18 20:00:00      0.286828  0.838068  0.0  0.402116  0.557554  \n",
       " 2021-11-18 21:00:00      0.288221  0.836648  0.0  0.407407  0.564748  \n",
       " 2021-11-18 22:00:00      0.283672  0.833807  0.0  0.399471  0.564748  \n",
       " 2021-11-18 23:00:00      0.249977  0.833807  0.0  0.410053  0.568345  \n",
       " \n",
       " [2640 rows x 10 columns],\n",
       "                            DD        FF        FH        FX  NO2_BREUKELEN  \\\n",
       " DateTime                                                                     \n",
       " 2022-08-01 00:00:00  0.722222  0.166667  0.166667  0.130435       0.088833   \n",
       " 2022-08-01 01:00:00  0.694444  0.166667  0.166667  0.217391       0.083821   \n",
       " 2022-08-01 02:00:00  0.777778  0.083333  0.166667  0.173913       0.078344   \n",
       " 2022-08-01 03:00:00  0.861111  0.083333  0.166667  0.173913       0.096166   \n",
       " 2022-08-01 04:00:00  0.916667  0.166667  0.166667  0.130435       0.138959   \n",
       " ...                       ...       ...       ...       ...            ...   \n",
       " 2022-11-18 19:00:00  0.222222  0.333333  0.333333  0.304348       0.138773   \n",
       " 2022-11-18 20:00:00  0.222222  0.416667  0.416667  0.391304       0.188156   \n",
       " 2022-11-18 21:00:00  0.222222  0.416667  0.416667  0.391304       0.177574   \n",
       " 2022-11-18 22:00:00  0.222222  0.416667  0.416667  0.391304       0.160679   \n",
       " 2022-11-18 23:00:00  0.222222  0.333333  0.333333  0.347826       0.155481   \n",
       " \n",
       "                      NO2_TUINDORP         P   SQ         T        TD  \n",
       " DateTime                                                              \n",
       " 2022-08-01 00:00:00      0.051239  0.673295  0.0  0.584656  0.812950  \n",
       " 2022-08-01 01:00:00      0.052910  0.671875  0.0  0.584656  0.812950  \n",
       " 2022-08-01 02:00:00      0.052724  0.671875  0.0  0.574074  0.812950  \n",
       " 2022-08-01 03:00:00      0.061821  0.674716  0.0  0.566138  0.802158  \n",
       " 2022-08-01 04:00:00      0.098023  0.680398  0.0  0.568783  0.809353  \n",
       " ...                           ...       ...  ...       ...       ...  \n",
       " 2022-11-18 19:00:00      0.333519  0.521307  0.0  0.304233  0.449640  \n",
       " 2022-11-18 20:00:00      0.269470  0.531250  0.0  0.264550  0.395683  \n",
       " 2022-11-18 21:00:00      0.177666  0.539773  0.0  0.230159  0.345324  \n",
       " 2022-11-18 22:00:00      0.165135  0.546875  0.0  0.208995  0.309353  \n",
       " 2022-11-18 23:00:00      0.153625  0.555398  0.0  0.203704  0.294964  \n",
       " \n",
       " [2640 rows x 10 columns]]"
      ]
     },
     "execution_count": 10,
     "metadata": {},
     "output_type": "execute_result"
    }
   ],
   "source": [
    "train_input_frames"
   ]
  },
  {
   "cell_type": "code",
   "execution_count": 11,
   "metadata": {},
   "outputs": [],
   "source": [
    "train_dataset = TimeSeriesDataset(\n",
    "    train_input_frames,  # list of input training dataframes\n",
    "    train_output_frames, # list of output training dataframes\n",
    "    len(TRAIN_YEARS),                   # number of dataframes put in for both\n",
    "                         # (basically len(train_input_frames) and\n",
    "                         # len(train_output_frames) must be equal)\n",
    "    N_HOURS_U,           # number of hours of input data\n",
    "    N_HOURS_Y,           # number of hours of output data\n",
    "    N_HOURS_STEP,        # number of hours between each input/output pair\n",
    ")\n",
    "val_dataset = TimeSeriesDataset(\n",
    "    val_input_frames,    # etc.\n",
    "    val_output_frames,\n",
    "    len(VAL_YEARS),\n",
    "    N_HOURS_U,\n",
    "    N_HOURS_Y,\n",
    "    N_HOURS_STEP,\n",
    ")\n",
    "test_dataset = TimeSeriesDataset(\n",
    "    test_input_frames,\n",
    "    test_output_frames,\n",
    "    len(TEST_YEARS),\n",
    "    N_HOURS_U,\n",
    "    N_HOURS_Y,\n",
    "    N_HOURS_STEP,\n",
    ")\n",
    "\n",
    "del train_input_frames, train_output_frames\n",
    "del val_input_frames, val_output_frames\n",
    "del test_input_frames, test_output_frames"
   ]
  },
  {
   "cell_type": "code",
   "execution_count": 12,
   "metadata": {},
   "outputs": [
    {
     "data": {
      "text/plain": [
       "[                           DD        FF        FH        FX  NO2_BREUKELEN  \\\n",
       " DateTime                                                                     \n",
       " 2017-08-01 00:00:00  0.166667  0.083333  0.083333  0.043478       0.207556   \n",
       " 2017-08-01 01:00:00  0.000000  0.000000  0.083333  0.086957       0.140351   \n",
       " 2017-08-01 02:00:00  0.000000  0.000000  0.000000  0.043478       0.252483   \n",
       " 2017-08-01 03:00:00  0.277778  0.083333  0.000000  0.043478       0.379467   \n",
       " 2017-08-01 04:00:00  0.805556  0.166667  0.083333  0.130435       0.426715   \n",
       " ...                       ...       ...       ...       ...            ...   \n",
       " 2017-12-30 19:00:00  0.694444  0.416667  0.416667  0.478261       0.201615   \n",
       " 2017-12-30 20:00:00  0.694444  0.416667  0.333333  0.434783       0.217859   \n",
       " 2017-12-30 21:00:00  0.666667  0.333333  0.416667  0.434783       0.221480   \n",
       " 2017-12-30 22:00:00  0.694444  0.250000  0.250000  0.304348       0.209505   \n",
       " 2017-12-30 23:00:00  0.666667  0.416667  0.250000  0.304348       0.240787   \n",
       " \n",
       "                      NO2_TUINDORP         P   SQ         T        TD  \n",
       " DateTime                                                              \n",
       " 2017-08-01 00:00:00      0.223383  0.634943  0.0  0.497354  0.723022  \n",
       " 2017-08-01 01:00:00      0.207092  0.639205  0.0  0.505291  0.733813  \n",
       " 2017-08-01 02:00:00      0.157895  0.633523  0.0  0.473545  0.694245  \n",
       " 2017-08-01 03:00:00      0.137659  0.630682  0.0  0.439153  0.651079  \n",
       " 2017-08-01 04:00:00      0.149633  0.630682  0.0  0.462963  0.672662  \n",
       " ...                           ...       ...  ...       ...       ...  \n",
       " 2017-12-30 19:00:00      0.168848  0.457386  0.0  0.396825  0.507194  \n",
       " 2017-12-30 20:00:00      0.140072  0.471591  0.0  0.388889  0.496403  \n",
       " 2017-12-30 21:00:00      0.191033  0.473011  0.0  0.375661  0.503597  \n",
       " 2017-12-30 22:00:00      0.147406  0.475852  0.0  0.370370  0.492806  \n",
       " 2017-12-30 23:00:00      0.158823  0.477273  0.0  0.373016  0.489209  \n",
       " \n",
       " [3648 rows x 10 columns],\n",
       "                            DD        FF        FH        FX  NO2_BREUKELEN  \\\n",
       " DateTime                                                                     \n",
       " 2018-08-01 00:00:00  0.166667  0.083333  0.083333  0.043478       0.572728   \n",
       " 2018-08-01 01:00:00  0.000000  0.000000  0.000000  0.043478       0.490485   \n",
       " 2018-08-01 02:00:00  0.000000  0.000000  0.000000  0.043478       0.511928   \n",
       " 2018-08-01 03:00:00  0.055556  0.083333  0.083333  0.043478       0.430428   \n",
       " 2018-08-01 04:00:00  0.194444  0.083333  0.083333  0.043478       0.387450   \n",
       " ...                       ...       ...       ...       ...            ...   \n",
       " 2018-12-30 19:00:00  0.750000  0.166667  0.166667  0.173913       0.273554   \n",
       " 2018-12-30 20:00:00  0.750000  0.250000  0.166667  0.217391       0.245336   \n",
       " 2018-12-30 21:00:00  0.777778  0.250000  0.250000  0.217391       0.189548   \n",
       " 2018-12-30 22:00:00  0.805556  0.250000  0.166667  0.260870       0.169312   \n",
       " 2018-12-30 23:00:00  0.777778  0.166667  0.166667  0.217391       0.124478   \n",
       " \n",
       "                      NO2_TUINDORP         P   SQ         T        TD  \n",
       " DateTime                                                              \n",
       " 2018-08-01 00:00:00      0.247192  0.732955  0.0  0.428571  0.629496  \n",
       " 2018-08-01 01:00:00      0.252762  0.735795  0.0  0.420635  0.615108  \n",
       " 2018-08-01 02:00:00      0.217024  0.732955  0.0  0.404762  0.593525  \n",
       " 2018-08-01 03:00:00      0.189177  0.732955  0.0  0.404762  0.593525  \n",
       " 2018-08-01 04:00:00      0.243665  0.734375  0.3  0.436508  0.640288  \n",
       " ...                           ...       ...  ...       ...       ...  \n",
       " 2018-12-30 19:00:00      0.255825  0.897727  0.0  0.346561  0.521583  \n",
       " 2018-12-30 20:00:00      0.263993  0.893466  0.0  0.349206  0.525180  \n",
       " 2018-12-30 21:00:00      0.199944  0.893466  0.0  0.349206  0.525180  \n",
       " 2018-12-30 22:00:00      0.178038  0.896307  0.0  0.351852  0.528777  \n",
       " 2018-12-30 23:00:00      0.145456  0.897727  0.0  0.354497  0.532374  \n",
       " \n",
       " [3648 rows x 10 columns],\n",
       "                            DD        FF        FH        FX  NO2_BREUKELEN  \\\n",
       " DateTime                                                                     \n",
       " 2020-08-01 00:00:00  0.527778  0.166667  0.250000  0.304348       0.115845   \n",
       " 2020-08-01 01:00:00  0.250000  0.083333  0.166667  0.217391       0.173953   \n",
       " 2020-08-01 02:00:00  0.611111  0.166667  0.250000  0.391304       0.117702   \n",
       " 2020-08-01 03:00:00  0.750000  0.083333  0.083333  0.173913       0.153439   \n",
       " 2020-08-01 04:00:00  0.666667  0.166667  0.166667  0.173913       0.236239   \n",
       " ...                       ...       ...       ...       ...            ...   \n",
       " 2020-12-30 19:00:00  0.583333  0.250000  0.333333  0.304348       0.207649   \n",
       " 2020-12-30 20:00:00  0.583333  0.333333  0.250000  0.260870       0.238838   \n",
       " 2020-12-30 21:00:00  0.555556  0.250000  0.250000  0.260870       0.231133   \n",
       " 2020-12-30 22:00:00  0.555556  0.333333  0.333333  0.260870       0.287107   \n",
       " 2020-12-30 23:00:00  0.583333  0.166667  0.250000  0.304348       0.299638   \n",
       " \n",
       "                      NO2_TUINDORP         P   SQ         T        TD  \n",
       " DateTime                                                              \n",
       " 2020-08-01 00:00:00      0.140722  0.616477  0.0  0.706349  0.762590  \n",
       " 2020-08-01 01:00:00      0.162722  0.590909  0.0  0.640212  0.856115  \n",
       " 2020-08-01 02:00:00      0.172654  0.610795  0.0  0.685185  0.848921  \n",
       " 2020-08-01 03:00:00      0.150283  0.615057  0.0  0.653439  0.859712  \n",
       " 2020-08-01 04:00:00      0.161886  0.616477  0.0  0.642857  0.823741  \n",
       " ...                           ...       ...  ...       ...       ...  \n",
       " 2020-12-30 19:00:00      0.227513  0.473011  0.0  0.203704  0.280576  \n",
       " 2020-12-30 20:00:00      0.231505  0.473011  0.0  0.206349  0.280576  \n",
       " 2020-12-30 21:00:00      0.271048  0.475852  0.0  0.198413  0.266187  \n",
       " 2020-12-30 22:00:00      0.285157  0.474432  0.0  0.195767  0.266187  \n",
       " 2020-12-30 23:00:00      0.263715  0.474432  0.0  0.187831  0.284173  \n",
       " \n",
       " [3648 rows x 10 columns],\n",
       "                            DD        FF        FH        FX  NO2_BREUKELEN  \\\n",
       " DateTime                                                                     \n",
       " 2021-08-01 00:00:00  0.583333  0.250000  0.166667  0.173913       0.235310   \n",
       " 2021-08-01 01:00:00  0.611111  0.166667  0.166667  0.173913       0.171540   \n",
       " 2021-08-01 02:00:00  0.583333  0.250000  0.250000  0.217391       0.143971   \n",
       " 2021-08-01 03:00:00  0.611111  0.166667  0.250000  0.217391       0.130883   \n",
       " 2021-08-01 04:00:00  0.611111  0.250000  0.250000  0.217391       0.130511   \n",
       " ...                       ...       ...       ...       ...            ...   \n",
       " 2021-11-18 19:00:00  0.666667  0.333333  0.333333  0.304348       0.299452   \n",
       " 2021-11-18 20:00:00  0.638889  0.250000  0.250000  0.260870       0.288870   \n",
       " 2021-11-18 21:00:00  0.611111  0.333333  0.250000  0.304348       0.284693   \n",
       " 2021-11-18 22:00:00  0.611111  0.333333  0.250000  0.260870       0.297317   \n",
       " 2021-11-18 23:00:00  0.611111  0.333333  0.250000  0.260870       0.264086   \n",
       " \n",
       "                      NO2_TUINDORP         P   SQ         T        TD  \n",
       " DateTime                                                              \n",
       " 2021-08-01 00:00:00      0.152975  0.559659  0.0  0.492063  0.712230  \n",
       " 2021-08-01 01:00:00      0.134689  0.555398  0.0  0.492063  0.712230  \n",
       " 2021-08-01 02:00:00      0.121786  0.553977  0.0  0.500000  0.712230  \n",
       " 2021-08-01 03:00:00      0.111482  0.553977  0.0  0.497354  0.712230  \n",
       " 2021-08-01 04:00:00      0.104335  0.555398  0.0  0.497354  0.708633  \n",
       " ...                           ...       ...  ...       ...       ...  \n",
       " 2021-11-18 19:00:00      0.339738  0.829545  0.0  0.404762  0.550360  \n",
       " 2021-11-18 20:00:00      0.286828  0.838068  0.0  0.402116  0.557554  \n",
       " 2021-11-18 21:00:00      0.288221  0.836648  0.0  0.407407  0.564748  \n",
       " 2021-11-18 22:00:00      0.283672  0.833807  0.0  0.399471  0.564748  \n",
       " 2021-11-18 23:00:00      0.249977  0.833807  0.0  0.410053  0.568345  \n",
       " \n",
       " [2640 rows x 10 columns],\n",
       "                            DD        FF        FH        FX  NO2_BREUKELEN  \\\n",
       " DateTime                                                                     \n",
       " 2022-08-01 00:00:00  0.722222  0.166667  0.166667  0.130435       0.088833   \n",
       " 2022-08-01 01:00:00  0.694444  0.166667  0.166667  0.217391       0.083821   \n",
       " 2022-08-01 02:00:00  0.777778  0.083333  0.166667  0.173913       0.078344   \n",
       " 2022-08-01 03:00:00  0.861111  0.083333  0.166667  0.173913       0.096166   \n",
       " 2022-08-01 04:00:00  0.916667  0.166667  0.166667  0.130435       0.138959   \n",
       " ...                       ...       ...       ...       ...            ...   \n",
       " 2022-11-18 19:00:00  0.222222  0.333333  0.333333  0.304348       0.138773   \n",
       " 2022-11-18 20:00:00  0.222222  0.416667  0.416667  0.391304       0.188156   \n",
       " 2022-11-18 21:00:00  0.222222  0.416667  0.416667  0.391304       0.177574   \n",
       " 2022-11-18 22:00:00  0.222222  0.416667  0.416667  0.391304       0.160679   \n",
       " 2022-11-18 23:00:00  0.222222  0.333333  0.333333  0.347826       0.155481   \n",
       " \n",
       "                      NO2_TUINDORP         P   SQ         T        TD  \n",
       " DateTime                                                              \n",
       " 2022-08-01 00:00:00      0.051239  0.673295  0.0  0.584656  0.812950  \n",
       " 2022-08-01 01:00:00      0.052910  0.671875  0.0  0.584656  0.812950  \n",
       " 2022-08-01 02:00:00      0.052724  0.671875  0.0  0.574074  0.812950  \n",
       " 2022-08-01 03:00:00      0.061821  0.674716  0.0  0.566138  0.802158  \n",
       " 2022-08-01 04:00:00      0.098023  0.680398  0.0  0.568783  0.809353  \n",
       " ...                           ...       ...  ...       ...       ...  \n",
       " 2022-11-18 19:00:00      0.333519  0.521307  0.0  0.304233  0.449640  \n",
       " 2022-11-18 20:00:00      0.269470  0.531250  0.0  0.264550  0.395683  \n",
       " 2022-11-18 21:00:00      0.177666  0.539773  0.0  0.230159  0.345324  \n",
       " 2022-11-18 22:00:00      0.165135  0.546875  0.0  0.208995  0.309353  \n",
       " 2022-11-18 23:00:00      0.153625  0.555398  0.0  0.203704  0.294964  \n",
       " \n",
       " [2640 rows x 10 columns]]"
      ]
     },
     "execution_count": 12,
     "metadata": {},
     "output_type": "execute_result"
    }
   ],
   "source": [
    "train_dataset.u"
   ]
  },
  {
   "cell_type": "code",
   "execution_count": 13,
   "metadata": {},
   "outputs": [
    {
     "data": {
      "text/plain": [
       "[                          NO2\n",
       " DateTime                     \n",
       " 2017-08-01 00:00:00  0.207556\n",
       " 2017-08-01 01:00:00  0.140351\n",
       " 2017-08-01 02:00:00  0.252483\n",
       " 2017-08-01 03:00:00  0.379467\n",
       " 2017-08-01 04:00:00  0.426715\n",
       " ...                       ...\n",
       " 2017-12-30 19:00:00  0.201615\n",
       " 2017-12-30 20:00:00  0.217859\n",
       " 2017-12-30 21:00:00  0.221480\n",
       " 2017-12-30 22:00:00  0.209505\n",
       " 2017-12-30 23:00:00  0.240787\n",
       " \n",
       " [3648 rows x 1 columns],\n",
       "                           NO2\n",
       " DateTime                     \n",
       " 2018-08-01 00:00:00  0.572728\n",
       " 2018-08-01 01:00:00  0.490485\n",
       " 2018-08-01 02:00:00  0.511928\n",
       " 2018-08-01 03:00:00  0.430428\n",
       " 2018-08-01 04:00:00  0.387450\n",
       " ...                       ...\n",
       " 2018-12-30 19:00:00  0.273554\n",
       " 2018-12-30 20:00:00  0.245336\n",
       " 2018-12-30 21:00:00  0.189548\n",
       " 2018-12-30 22:00:00  0.169312\n",
       " 2018-12-30 23:00:00  0.124478\n",
       " \n",
       " [3648 rows x 1 columns],\n",
       "                           NO2\n",
       " DateTime                     \n",
       " 2020-08-01 00:00:00  0.115845\n",
       " 2020-08-01 01:00:00  0.173953\n",
       " 2020-08-01 02:00:00  0.117702\n",
       " 2020-08-01 03:00:00  0.153439\n",
       " 2020-08-01 04:00:00  0.236239\n",
       " ...                       ...\n",
       " 2020-12-30 19:00:00  0.207649\n",
       " 2020-12-30 20:00:00  0.238838\n",
       " 2020-12-30 21:00:00  0.231133\n",
       " 2020-12-30 22:00:00  0.287107\n",
       " 2020-12-30 23:00:00  0.299638\n",
       " \n",
       " [3648 rows x 1 columns],\n",
       "                           NO2\n",
       " DateTime                     \n",
       " 2021-08-01 00:00:00  0.235310\n",
       " 2021-08-01 01:00:00  0.171540\n",
       " 2021-08-01 02:00:00  0.143971\n",
       " 2021-08-01 03:00:00  0.130883\n",
       " 2021-08-01 04:00:00  0.130511\n",
       " ...                       ...\n",
       " 2021-11-18 19:00:00  0.299452\n",
       " 2021-11-18 20:00:00  0.288870\n",
       " 2021-11-18 21:00:00  0.284693\n",
       " 2021-11-18 22:00:00  0.297317\n",
       " 2021-11-18 23:00:00  0.264086\n",
       " \n",
       " [2640 rows x 1 columns],\n",
       "                           NO2\n",
       " DateTime                     \n",
       " 2022-08-01 00:00:00  0.088833\n",
       " 2022-08-01 01:00:00  0.083821\n",
       " 2022-08-01 02:00:00  0.078344\n",
       " 2022-08-01 03:00:00  0.096166\n",
       " 2022-08-01 04:00:00  0.138959\n",
       " ...                       ...\n",
       " 2022-11-18 19:00:00  0.138773\n",
       " 2022-11-18 20:00:00  0.188156\n",
       " 2022-11-18 21:00:00  0.177574\n",
       " 2022-11-18 22:00:00  0.160679\n",
       " 2022-11-18 23:00:00  0.155481\n",
       " \n",
       " [2640 rows x 1 columns]]"
      ]
     },
     "execution_count": 13,
     "metadata": {},
     "output_type": "execute_result"
    }
   ],
   "source": [
    "train_dataset.y"
   ]
  },
  {
   "cell_type": "code",
   "execution_count": 14,
   "metadata": {},
   "outputs": [
    {
     "data": {
      "text/plain": [
       "72"
      ]
     },
     "execution_count": 14,
     "metadata": {},
     "output_type": "execute_result"
    }
   ],
   "source": [
    "len(train_dataset.pairs[0][0])"
   ]
  },
  {
   "cell_type": "code",
   "execution_count": 15,
   "metadata": {},
   "outputs": [
    {
     "data": {
      "text/plain": [
       "tensor([[0.1667, 0.0833, 0.0833, 0.0435, 0.2076, 0.2234, 0.6349, 0.0000, 0.4974,\n",
       "         0.7230],\n",
       "        [0.0000, 0.0000, 0.0833, 0.0870, 0.1404, 0.2071, 0.6392, 0.0000, 0.5053,\n",
       "         0.7338],\n",
       "        [0.0000, 0.0000, 0.0000, 0.0435, 0.2525, 0.1579, 0.6335, 0.0000, 0.4735,\n",
       "         0.6942],\n",
       "        [0.2778, 0.0833, 0.0000, 0.0435, 0.3795, 0.1377, 0.6307, 0.0000, 0.4392,\n",
       "         0.6511],\n",
       "        [0.8056, 0.1667, 0.0833, 0.1304, 0.4267, 0.1496, 0.6307, 0.0000, 0.4630,\n",
       "         0.6727],\n",
       "        [0.0000, 0.0000, 0.0833, 0.1304, 0.4310, 0.2847, 0.6378, 0.3000, 0.5635,\n",
       "         0.7482],\n",
       "        [0.7222, 0.0833, 0.0833, 0.0870, 0.3823, 0.4730, 0.6506, 0.0000, 0.5820,\n",
       "         0.7230],\n",
       "        [0.7500, 0.0833, 0.0833, 0.1304, 0.3783, 0.4766, 0.6520, 0.0000, 0.5873,\n",
       "         0.7050],\n",
       "        [0.7222, 0.1667, 0.1667, 0.1304, 0.3354, 0.4598, 0.6534, 0.0000, 0.6058,\n",
       "         0.6691],\n",
       "        [0.7500, 0.1667, 0.1667, 0.2174, 0.3959, 0.3985, 0.6548, 0.3000, 0.6376,\n",
       "         0.6367],\n",
       "        [0.6111, 0.1667, 0.1667, 0.1739, 0.3266, 0.2842, 0.6577, 0.0000, 0.6402,\n",
       "         0.6259],\n",
       "        [0.6111, 0.1667, 0.1667, 0.1739, 0.2639, 0.3142, 0.6591, 0.0000, 0.6376,\n",
       "         0.6187],\n",
       "        [0.6528, 0.0833, 0.1667, 0.1304, 0.3375, 0.3289, 0.6577, 0.2000, 0.6905,\n",
       "         0.6583],\n",
       "        [0.6944, 0.1667, 0.1667, 0.1304, 0.2600, 0.2748, 0.6562, 0.2000, 0.6958,\n",
       "         0.5360],\n",
       "        [0.7222, 0.1667, 0.1667, 0.2174, 0.3125, 0.2102, 0.6548, 0.4000, 0.6852,\n",
       "         0.5504],\n",
       "        [0.6111, 0.1667, 0.1667, 0.1739, 0.3502, 0.2083, 0.6562, 0.1000, 0.6772,\n",
       "         0.6223],\n",
       "        [0.6944, 0.1667, 0.1667, 0.2174, 0.3312, 0.2607, 0.6577, 0.7000, 0.6825,\n",
       "         0.6151],\n",
       "        [0.5833, 0.1667, 0.1667, 0.1739, 0.2937, 0.2275, 0.6562, 0.2000, 0.6481,\n",
       "         0.6583],\n",
       "        [0.7222, 0.1667, 0.1667, 0.1739, 0.3748, 0.2019, 0.6634, 0.2000, 0.6243,\n",
       "         0.6978],\n",
       "        [0.6944, 0.0833, 0.0833, 0.1304, 0.3481, 0.2589, 0.6719, 0.0000, 0.5423,\n",
       "         0.7122],\n",
       "        [0.4167, 0.0833, 0.0833, 0.0870, 0.4018, 0.3520, 0.6719, 0.0000, 0.4894,\n",
       "         0.6978],\n",
       "        [0.4722, 0.0833, 0.0833, 0.0435, 0.4651, 0.4237, 0.6761, 0.0000, 0.4841,\n",
       "         0.7014],\n",
       "        [0.4722, 0.0833, 0.0833, 0.0870, 0.5232, 0.5091, 0.6719, 0.0000, 0.4735,\n",
       "         0.6906],\n",
       "        [0.5000, 0.0833, 0.0833, 0.1304, 0.5465, 0.5216, 0.6690, 0.0000, 0.4709,\n",
       "         0.6799],\n",
       "        [0.0000, 0.0000, 0.0833, 0.0870, 0.4333, 0.4872, 0.6719, 0.0000, 0.4683,\n",
       "         0.6871],\n",
       "        [0.4444, 0.0833, 0.0833, 0.0870, 0.3848, 0.4529, 0.6676, 0.0000, 0.4921,\n",
       "         0.6978],\n",
       "        [0.4167, 0.1667, 0.0833, 0.0870, 0.2990, 0.2914, 0.6634, 0.0000, 0.4894,\n",
       "         0.6942],\n",
       "        [0.3889, 0.0833, 0.1667, 0.1304, 0.3332, 0.2590, 0.6619, 0.0000, 0.5053,\n",
       "         0.6942],\n",
       "        [0.5000, 0.0833, 0.0833, 0.0870, 0.3998, 0.3676, 0.6634, 0.0000, 0.5106,\n",
       "         0.7086],\n",
       "        [0.5833, 0.1667, 0.1667, 0.1739, 0.5275, 0.4276, 0.6705, 0.0000, 0.5529,\n",
       "         0.7086],\n",
       "        [0.6389, 0.1667, 0.1667, 0.2174, 0.4581, 0.4524, 0.6705, 0.0000, 0.5741,\n",
       "         0.7014],\n",
       "        [0.6667, 0.3333, 0.2500, 0.2609, 0.4007, 0.3724, 0.6761, 0.0000, 0.5926,\n",
       "         0.6691],\n",
       "        [0.6667, 0.3333, 0.3333, 0.3043, 0.3140, 0.3054, 0.6818, 0.1000, 0.6111,\n",
       "         0.6691],\n",
       "        [0.6389, 0.2500, 0.2500, 0.3478, 0.2963, 0.2396, 0.6818, 0.1000, 0.6323,\n",
       "         0.6799],\n",
       "        [0.5556, 0.3333, 0.3333, 0.2609, 0.3106, 0.2232, 0.6861, 0.3000, 0.6508,\n",
       "         0.6475],\n",
       "        [0.5833, 0.3333, 0.3333, 0.3043, 0.3101, 0.1998, 0.6790, 0.2000, 0.6614,\n",
       "         0.6043],\n",
       "        [0.5556, 0.2500, 0.2500, 0.2609, 0.3055, 0.1685, 0.6676, 0.1000, 0.6746,\n",
       "         0.5755],\n",
       "        [0.5000, 0.3333, 0.3333, 0.2609, 0.3454, 0.1859, 0.6662, 0.0000, 0.6693,\n",
       "         0.5899],\n",
       "        [0.5000, 0.4167, 0.3333, 0.3478, 0.3333, 0.2230, 0.6534, 0.0000, 0.6746,\n",
       "         0.6403],\n",
       "        [0.5833, 0.4167, 0.3333, 0.4348, 0.3390, 0.2631, 0.6520, 0.0000, 0.6481,\n",
       "         0.6115],\n",
       "        [0.5833, 0.3333, 0.5833, 0.5217, 0.3920, 0.2489, 0.6605, 0.0000, 0.5423,\n",
       "         0.6871],\n",
       "        [0.5556, 0.1667, 0.2500, 0.3043, 0.2634, 0.1817, 0.6534, 0.0000, 0.5159,\n",
       "         0.7086],\n",
       "        [0.4861, 0.0833, 0.0833, 0.1739, 0.4256, 0.2076, 0.6463, 0.0000, 0.5106,\n",
       "         0.7302],\n",
       "        [0.4167, 0.1667, 0.1667, 0.1739, 0.3067, 0.2242, 0.6364, 0.0000, 0.5106,\n",
       "         0.7230],\n",
       "        [0.3889, 0.1667, 0.1667, 0.1739, 0.1685, 0.2864, 0.6378, 0.0000, 0.5132,\n",
       "         0.7266],\n",
       "        [0.4444, 0.2500, 0.1667, 0.1739, 0.2038, 0.2611, 0.6307, 0.0000, 0.5317,\n",
       "         0.7518],\n",
       "        [0.5000, 0.2500, 0.2500, 0.2609, 0.1856, 0.1938, 0.6207, 0.0000, 0.5450,\n",
       "         0.7626],\n",
       "        [0.5000, 0.1667, 0.1667, 0.2174, 0.1620, 0.1562, 0.6094, 0.0000, 0.5476,\n",
       "         0.7626],\n",
       "        [0.4444, 0.2500, 0.2500, 0.2609, 0.1565, 0.1464, 0.5980, 0.0000, 0.5450,\n",
       "         0.7662],\n",
       "        [0.4722, 0.3333, 0.2500, 0.3043, 0.1842, 0.1294, 0.5852, 0.0000, 0.5476,\n",
       "         0.7662],\n",
       "        [0.5000, 0.3333, 0.3333, 0.3043, 0.1443, 0.1229, 0.5682, 0.0000, 0.5556,\n",
       "         0.7518],\n",
       "        [0.4722, 0.1667, 0.2500, 0.2609, 0.1457, 0.1151, 0.5611, 0.0000, 0.5476,\n",
       "         0.7518],\n",
       "        [0.4722, 0.1667, 0.1667, 0.1739, 0.2406, 0.1671, 0.5540, 0.0000, 0.5450,\n",
       "         0.7590],\n",
       "        [0.5556, 0.3333, 0.2500, 0.3043, 0.4900, 0.2594, 0.5526, 0.0000, 0.5899,\n",
       "         0.7842],\n",
       "        [0.5833, 0.4167, 0.3333, 0.3913, 0.4313, 0.3105, 0.5455, 0.5000, 0.6243,\n",
       "         0.7806],\n",
       "        [0.5833, 0.5000, 0.4167, 0.4348, 0.3199, 0.2780, 0.5440, 0.0000, 0.6164,\n",
       "         0.7950],\n",
       "        [0.5833, 0.5000, 0.4167, 0.4348, 0.2520, 0.2400, 0.5469, 0.0000, 0.5979,\n",
       "         0.8201],\n",
       "        [0.6389, 0.4167, 0.5000, 0.5217, 0.1827, 0.2261, 0.5554, 0.0000, 0.5582,\n",
       "         0.7374],\n",
       "        [0.6389, 0.5833, 0.5833, 0.5652, 0.1643, 0.1386, 0.5568, 0.6000, 0.6323,\n",
       "         0.6871],\n",
       "        [0.6667, 0.7500, 0.6667, 0.6522, 0.1446, 0.1052, 0.5597, 0.7000, 0.6640,\n",
       "         0.6583],\n",
       "        [0.6667, 0.6667, 0.5833, 0.6522, 0.1315, 0.0675, 0.5625, 0.8000, 0.6799,\n",
       "         0.6259],\n",
       "        [0.6667, 0.7500, 0.7500, 0.7826, 0.0821, 0.0755, 0.5625, 1.0000, 0.6958,\n",
       "         0.6295],\n",
       "        [0.6944, 0.6667, 0.6667, 0.6957, 0.1171, 0.0664, 0.5682, 0.4000, 0.6587,\n",
       "         0.6547],\n",
       "        [0.6667, 0.6667, 0.5833, 0.6087, 0.1264, 0.0860, 0.5653, 0.5000, 0.6772,\n",
       "         0.6547],\n",
       "        [0.6667, 0.5833, 0.6667, 0.6522, 0.1217, 0.1027, 0.5710, 1.0000, 0.6640,\n",
       "         0.6978],\n",
       "        [0.6389, 0.7500, 0.6667, 0.7391, 0.1050, 0.1016, 0.5753, 0.5000, 0.6323,\n",
       "         0.5683],\n",
       "        [0.6667, 0.5833, 0.7500, 0.7826, 0.1010, 0.0756, 0.5795, 0.3000, 0.6190,\n",
       "         0.5935],\n",
       "        [0.6389, 0.8333, 0.6667, 0.8261, 0.0851, 0.0645, 0.5810, 0.0000, 0.6111,\n",
       "         0.5971],\n",
       "        [0.6667, 0.7500, 0.6667, 0.7391, 0.0860, 0.0611, 0.5795, 0.0000, 0.5926,\n",
       "         0.6043],\n",
       "        [0.6667, 0.5833, 0.5833, 0.6522, 0.1145, 0.0562, 0.5795, 0.0000, 0.5714,\n",
       "         0.6259],\n",
       "        [0.6389, 0.3333, 0.4167, 0.5217, 0.0873, 0.0476, 0.5767, 0.0000, 0.5556,\n",
       "         0.6403],\n",
       "        [0.6111, 0.4167, 0.3333, 0.3913, 0.0643, 0.0473, 0.5724, 0.0000, 0.5423,\n",
       "         0.6475]])"
      ]
     },
     "execution_count": 15,
     "metadata": {},
     "output_type": "execute_result"
    }
   ],
   "source": [
    "train_dataset.pairs[0][0]"
   ]
  },
  {
   "cell_type": "code",
   "execution_count": 16,
   "metadata": {},
   "outputs": [
    {
     "data": {
      "text/plain": [
       "tensor([[0.1842],\n",
       "        [0.1443],\n",
       "        [0.1457],\n",
       "        [0.2406],\n",
       "        [0.4900],\n",
       "        [0.4313],\n",
       "        [0.3199],\n",
       "        [0.2520],\n",
       "        [0.1827],\n",
       "        [0.1643],\n",
       "        [0.1446],\n",
       "        [0.1315],\n",
       "        [0.0821],\n",
       "        [0.1171],\n",
       "        [0.1264],\n",
       "        [0.1217],\n",
       "        [0.1050],\n",
       "        [0.1010],\n",
       "        [0.0851],\n",
       "        [0.0860],\n",
       "        [0.1145],\n",
       "        [0.0873],\n",
       "        [0.0643],\n",
       "        [0.1017]])"
      ]
     },
     "execution_count": 16,
     "metadata": {},
     "output_type": "execute_result"
    }
   ],
   "source": [
    "train_dataset.pairs[0][1]"
   ]
  },
  {
   "cell_type": "code",
   "execution_count": 17,
   "metadata": {},
   "outputs": [
    {
     "name": "stdout",
     "output_type": "stream",
     "text": [
      "No2 tuindorp idx:  5\n",
      "No2 breukelen idx:  4\n",
      "wind dir (dd) idx:  0\n",
      "wind speed (fh) idx:  2\n",
      "Column indices are same as config.py\n"
     ]
    }
   ],
   "source": [
    "# Assuming train_dataset.u[0] is a pandas Index object with column names\n",
    "column_names = list(train_dataset.u[0])  # Convert Index to list\n",
    "\n",
    "\n",
    "print(\"No2 tuindorp idx: \", column_names.index('NO2_TUINDORP'))\n",
    "print(\"No2 breukelen idx: \", column_names.index('NO2_BREUKELEN'))\n",
    "print(\"wind dir (dd) idx: \", column_names.index('DD'))\n",
    "print(\"wind speed (fh) idx: \", column_names.index('FH'))\n",
    "\n",
    "# check if the indices are the same as whats defined in config.py\n",
    "assert column_names.index('NO2_TUINDORP')== NO2_TUINDORP_IDX\n",
    "assert column_names.index('NO2_BREUKELEN') == NO2_BREUKELEN_IDX\n",
    "assert column_names.index('DD') == WIND_DIR_IDX\n",
    "assert column_names.index('FH') == WIND_SPEED_IDX\n",
    "print(\"Column indices are same as config.py\")\n",
    "\n"
   ]
  },
  {
   "cell_type": "code",
   "execution_count": 18,
   "metadata": {},
   "outputs": [
    {
     "data": {
      "text/plain": [
       "DateTime\n",
       "2017-08-01 00:00:00    0.223383\n",
       "2017-08-01 01:00:00    0.207092\n",
       "2017-08-01 02:00:00    0.157895\n",
       "2017-08-01 03:00:00    0.137659\n",
       "2017-08-01 04:00:00    0.149633\n",
       "                         ...   \n",
       "2017-12-30 19:00:00    0.168848\n",
       "2017-12-30 20:00:00    0.140072\n",
       "2017-12-30 21:00:00    0.191033\n",
       "2017-12-30 22:00:00    0.147406\n",
       "2017-12-30 23:00:00    0.158823\n",
       "Name: NO2_TUINDORP, Length: 3648, dtype: float64"
      ]
     },
     "execution_count": 18,
     "metadata": {},
     "output_type": "execute_result"
    }
   ],
   "source": [
    "train_dataset.u[0].iloc[:,NO2_TUINDORP_IDX]"
   ]
  },
  {
   "cell_type": "code",
   "execution_count": 19,
   "metadata": {},
   "outputs": [
    {
     "data": {
      "text/plain": [
       "DateTime\n",
       "2017-08-01 00:00:00    0.207556\n",
       "2017-08-01 01:00:00    0.140351\n",
       "2017-08-01 02:00:00    0.252483\n",
       "2017-08-01 03:00:00    0.379467\n",
       "2017-08-01 04:00:00    0.426715\n",
       "                         ...   \n",
       "2017-12-30 19:00:00    0.201615\n",
       "2017-12-30 20:00:00    0.217859\n",
       "2017-12-30 21:00:00    0.221480\n",
       "2017-12-30 22:00:00    0.209505\n",
       "2017-12-30 23:00:00    0.240787\n",
       "Name: NO2_BREUKELEN, Length: 3648, dtype: float64"
      ]
     },
     "execution_count": 19,
     "metadata": {},
     "output_type": "execute_result"
    }
   ],
   "source": [
    "train_dataset.u[0].iloc[:,NO2_BREUKELEN_IDX]"
   ]
  },
  {
   "cell_type": "code",
   "execution_count": 20,
   "metadata": {},
   "outputs": [
    {
     "data": {
      "text/plain": [
       "DateTime\n",
       "2017-08-01 00:00:00    0.166667\n",
       "2017-08-01 01:00:00    0.000000\n",
       "2017-08-01 02:00:00    0.000000\n",
       "2017-08-01 03:00:00    0.277778\n",
       "2017-08-01 04:00:00    0.805556\n",
       "                         ...   \n",
       "2017-12-30 19:00:00    0.694444\n",
       "2017-12-30 20:00:00    0.694444\n",
       "2017-12-30 21:00:00    0.666667\n",
       "2017-12-30 22:00:00    0.694444\n",
       "2017-12-30 23:00:00    0.666667\n",
       "Name: DD, Length: 3648, dtype: float64"
      ]
     },
     "execution_count": 20,
     "metadata": {},
     "output_type": "execute_result"
    }
   ],
   "source": [
    "train_dataset.u[0].iloc[:,WIND_DIR_IDX]"
   ]
  },
  {
   "cell_type": "code",
   "execution_count": 21,
   "metadata": {},
   "outputs": [
    {
     "data": {
      "text/plain": [
       "DateTime\n",
       "2017-08-01 00:00:00    0.083333\n",
       "2017-08-01 01:00:00    0.083333\n",
       "2017-08-01 02:00:00    0.000000\n",
       "2017-08-01 03:00:00    0.000000\n",
       "2017-08-01 04:00:00    0.083333\n",
       "                         ...   \n",
       "2017-12-30 19:00:00    0.416667\n",
       "2017-12-30 20:00:00    0.333333\n",
       "2017-12-30 21:00:00    0.416667\n",
       "2017-12-30 22:00:00    0.250000\n",
       "2017-12-30 23:00:00    0.250000\n",
       "Name: FH, Length: 3648, dtype: float64"
      ]
     },
     "execution_count": 21,
     "metadata": {},
     "output_type": "execute_result"
    }
   ],
   "source": [
    "train_dataset.u[0].iloc[:,WIND_SPEED_IDX]"
   ]
  },
  {
   "cell_type": "markdown",
   "metadata": {},
   "source": [
    "## Simple MSE Loss function"
   ]
  },
  {
   "cell_type": "code",
   "execution_count": null,
   "metadata": {},
   "outputs": [],
   "source": [
    "def objective(trial):\n",
    "    # Define hyperparameters to search over\n",
    "    n_hidden_layers = trial.suggest_int(\"n_hidden_layers\", 1, 5)\n",
    "    n_hidden_units = trial.suggest_int(\"n_hidden_units\", 32, 256)\n",
    "    lr = trial.suggest_loguniform(\"lr\", 1e-5, 1e-2)\n",
    "    weight_decay = trial.suggest_loguniform(\"weight_decay\", 1e-8, 1e-3)\n",
    "    batch_size = trial.suggest_categorical(\"batch_size\", [8, 16, 32, 64])  # Match the original hp['batch_sz']\n",
    "\n",
    "    # Create train & validation loaders (following the original code)\n",
    "    train_loader = DataLoader(train_dataset, batch_size=batch_size, shuffle=True)\n",
    "    val_loader = DataLoader(val_dataset, batch_size=batch_size, shuffle=False)\n",
    "\n",
    "    # Initialize MLP model\n",
    "    model = BasicMLP(\n",
    "        N_INPUT_UNITS=train_dataset.__n_features_in__(),\n",
    "        N_HIDDEN_LAYERS=n_hidden_layers,\n",
    "        N_HIDDEN_UNITS=n_hidden_units,\n",
    "        N_OUTPUT_UNITS=train_dataset.__n_features_out__(),\n",
    "        loss_function=LOSS_FUNC,\n",
    "    )\n",
    "\n",
    "    # Train and return validation loss\n",
    "    val_loss, _ = model.train_model(train_loader, val_loader, epochs=50, lr=lr, weight_decay=weight_decay, device=device)\n",
    "    \n",
    "    return val_loss\n",
    "\n",
    "\n",
    "# Run Optuna optimization\n",
    "study = optuna.create_study(direction=\"minimize\", study_name=\"mlp_hyperparameter_optimization_baseline_allyears\", storage=\"sqlite:///mlp_hyperparameter_optimization.db\", load_if_exists=True)\n",
    "\n",
    "study.optimize(objective, n_trials=100)\n",
    "\n",
    "# Print best hyperparameters\n",
    "best_params = study.best_params\n",
    "print(\"Best Hyperparameters:\", best_params)"
   ]
  },
  {
   "cell_type": "code",
   "execution_count": 23,
   "metadata": {},
   "outputs": [],
   "source": [
    "# Interrupted tuning since it was taking too long (at 50 trials)\n",
    "# Copied best params directly from the .db file on optuna dashboard\n",
    "best_params = {'n_hidden_layers': 4, 'n_hidden_units': 191, 'lr': 0.0002099693529342787, 'weight_decay': 3.4334611075297167e-07, 'batch_size': 8}"
   ]
  },
  {
   "cell_type": "code",
   "execution_count": 24,
   "metadata": {},
   "outputs": [
    {
     "name": "stdout",
     "output_type": "stream",
     "text": [
      "Best Hyperparameters for MLP MSE allyears: {'n_hidden_layers': 4, 'n_hidden_units': 191, 'lr': 0.0002099693529342787, 'weight_decay': 3.4334611075297167e-07, 'batch_size': 8}\n"
     ]
    }
   ],
   "source": [
    "print(f\"Best Hyperparameters for {NN_TYPE} {LOSS_FUNC} {years}:\", best_params)"
   ]
  },
  {
   "cell_type": "markdown",
   "metadata": {},
   "source": [
    "### Save the params to a file"
   ]
  },
  {
   "cell_type": "code",
   "execution_count": null,
   "metadata": {},
   "outputs": [],
   "source": [
    "\n",
    "import json\n",
    "\n",
    "file_path = f\"{RESULTS_PATH}/best_params/{BESTPARAMS_FILENAME}\"\n",
    "\n",
    "with open(file_path, \"w\") as f:\n",
    "    json.dump(best_params, f, indent=4)  # Pretty format for readability\n",
    "\n",
    "print(f\"Best Hyperparameters saved to {file_path}\")\n",
    "\n",
    "\n"
   ]
  },
  {
   "cell_type": "markdown",
   "metadata": {},
   "source": [
    "### Read params from file"
   ]
  },
  {
   "cell_type": "code",
   "execution_count": null,
   "metadata": {},
   "outputs": [],
   "source": [
    "\n",
    "with open(file_path, \"r\") as f:\n",
    "    best_params = json.load(f)  # Automatically converts it to a dictionary\n",
    "\n",
    "print(\"Loaded Best Parameters:\", best_params)"
   ]
  },
  {
   "cell_type": "code",
   "execution_count": 25,
   "metadata": {},
   "outputs": [
    {
     "name": "stdout",
     "output_type": "stream",
     "text": [
      "Best Hyperparameters saved to file /home/rachel/forecasting_smog_PEML/src/results/best_params/best_params_MLP_no2_MSE_allyears.txt\n"
     ]
    }
   ],
   "source": [
    "# save best params to a file\n",
    "with open(f'{RESULTS_PATH}/best_params/{BESTPARAMS_FILENAME}', 'w') as f:\n",
    "    for key in best_params.keys():\n",
    "        f.write(\"%s: %s\\n\" % (key, best_params[key]))\n",
    "print(f\"Best Hyperparameters saved to file {RESULTS_PATH}/best_params/{BESTPARAMS_FILENAME}\")"
   ]
  },
  {
   "cell_type": "code",
   "execution_count": 27,
   "metadata": {},
   "outputs": [
    {
     "name": "stdout",
     "output_type": "stream",
     "text": [
      "Epoch 1/50\n",
      "Epoch 1/50 - Train Loss: 0.025931 - Val Loss (simple RMSE, no physics involved): 0.091189\n",
      "Epoch 2/50\n",
      "Epoch 2/50 - Train Loss: 0.008366 - Val Loss (simple RMSE, no physics involved): 0.068853\n",
      "Epoch 3/50\n",
      "Epoch 3/50 - Train Loss: 0.007393 - Val Loss (simple RMSE, no physics involved): 0.069202\n",
      "Epoch 4/50\n",
      "Epoch 4/50 - Train Loss: 0.007283 - Val Loss (simple RMSE, no physics involved): 0.073100\n",
      "Epoch 5/50\n",
      "Epoch 5/50 - Train Loss: 0.007205 - Val Loss (simple RMSE, no physics involved): 0.072101\n",
      "Epoch 6/50\n",
      "Epoch 6/50 - Train Loss: 0.007277 - Val Loss (simple RMSE, no physics involved): 0.069022\n",
      "Epoch 7/50\n",
      "Epoch 7/50 - Train Loss: 0.007064 - Val Loss (simple RMSE, no physics involved): 0.067482\n",
      "Epoch 8/50\n",
      "Epoch 8/50 - Train Loss: 0.006969 - Val Loss (simple RMSE, no physics involved): 0.075144\n",
      "Epoch 9/50\n",
      "Epoch 9/50 - Train Loss: 0.007103 - Val Loss (simple RMSE, no physics involved): 0.074466\n",
      "Epoch 10/50\n",
      "Epoch 10/50 - Train Loss: 0.007041 - Val Loss (simple RMSE, no physics involved): 0.068376\n",
      "Epoch 11/50\n",
      "Epoch 11/50 - Train Loss: 0.006917 - Val Loss (simple RMSE, no physics involved): 0.071912\n",
      "Epoch 12/50\n",
      "Epoch 12/50 - Train Loss: 0.006956 - Val Loss (simple RMSE, no physics involved): 0.065560\n",
      "Epoch 13/50\n",
      "Epoch 13/50 - Train Loss: 0.006922 - Val Loss (simple RMSE, no physics involved): 0.067427\n",
      "Epoch 14/50\n",
      "Epoch 14/50 - Train Loss: 0.006914 - Val Loss (simple RMSE, no physics involved): 0.065257\n",
      "Epoch 15/50\n",
      "Epoch 15/50 - Train Loss: 0.006870 - Val Loss (simple RMSE, no physics involved): 0.067122\n",
      "Epoch 16/50\n",
      "Epoch 16/50 - Train Loss: 0.006860 - Val Loss (simple RMSE, no physics involved): 0.065147\n",
      "Epoch 17/50\n",
      "Epoch 17/50 - Train Loss: 0.006891 - Val Loss (simple RMSE, no physics involved): 0.064906\n",
      "Epoch 18/50\n",
      "Epoch 18/50 - Train Loss: 0.006828 - Val Loss (simple RMSE, no physics involved): 0.064850\n",
      "Epoch 19/50\n",
      "Epoch 19/50 - Train Loss: 0.006881 - Val Loss (simple RMSE, no physics involved): 0.065354\n",
      "Epoch 20/50\n",
      "Epoch 20/50 - Train Loss: 0.006889 - Val Loss (simple RMSE, no physics involved): 0.069510\n",
      "Epoch 21/50\n",
      "Epoch 21/50 - Train Loss: 0.006851 - Val Loss (simple RMSE, no physics involved): 0.065802\n",
      "Epoch 22/50\n",
      "Epoch 22/50 - Train Loss: 0.006877 - Val Loss (simple RMSE, no physics involved): 0.065916\n",
      "Epoch 23/50\n",
      "Epoch 23/50 - Train Loss: 0.006793 - Val Loss (simple RMSE, no physics involved): 0.070304\n",
      "Epoch 24/50\n",
      "Epoch 24/50 - Train Loss: 0.006763 - Val Loss (simple RMSE, no physics involved): 0.065249\n",
      "Epoch 25/50\n",
      "Epoch 25/50 - Train Loss: 0.006775 - Val Loss (simple RMSE, no physics involved): 0.065995\n",
      "Epoch 26/50\n",
      "Epoch 26/50 - Train Loss: 0.006719 - Val Loss (simple RMSE, no physics involved): 0.066051\n",
      "Epoch 27/50\n",
      "Epoch 27/50 - Train Loss: 0.006716 - Val Loss (simple RMSE, no physics involved): 0.068841\n",
      "Epoch 28/50\n",
      "Epoch 28/50 - Train Loss: 0.006844 - Val Loss (simple RMSE, no physics involved): 0.076697\n",
      "Epoch 29/50\n",
      "Epoch 29/50 - Train Loss: 0.006782 - Val Loss (simple RMSE, no physics involved): 0.068179\n",
      "Epoch 30/50\n",
      "Epoch 30/50 - Train Loss: 0.006759 - Val Loss (simple RMSE, no physics involved): 0.066117\n",
      "Epoch 31/50\n",
      "Epoch 31/50 - Train Loss: 0.006802 - Val Loss (simple RMSE, no physics involved): 0.066606\n",
      "Epoch 32/50\n",
      "Epoch 32/50 - Train Loss: 0.006674 - Val Loss (simple RMSE, no physics involved): 0.067859\n",
      "Epoch 33/50\n",
      "Epoch 33/50 - Train Loss: 0.006647 - Val Loss (simple RMSE, no physics involved): 0.067024\n",
      "Epoch 34/50\n",
      "Epoch 34/50 - Train Loss: 0.006675 - Val Loss (simple RMSE, no physics involved): 0.064955\n",
      "Epoch 35/50\n",
      "Epoch 35/50 - Train Loss: 0.006696 - Val Loss (simple RMSE, no physics involved): 0.067496\n",
      "Epoch 36/50\n",
      "Epoch 36/50 - Train Loss: 0.006627 - Val Loss (simple RMSE, no physics involved): 0.068143\n",
      "Epoch 37/50\n",
      "Epoch 37/50 - Train Loss: 0.006663 - Val Loss (simple RMSE, no physics involved): 0.067380\n",
      "Epoch 38/50\n",
      "Epoch 38/50 - Train Loss: 0.006633 - Val Loss (simple RMSE, no physics involved): 0.066331\n",
      "Epoch 39/50\n",
      "Epoch 39/50 - Train Loss: 0.006696 - Val Loss (simple RMSE, no physics involved): 0.069500\n",
      "Epoch 40/50\n",
      "Epoch 40/50 - Train Loss: 0.006653 - Val Loss (simple RMSE, no physics involved): 0.066527\n",
      "Epoch 41/50\n",
      "Epoch 41/50 - Train Loss: 0.006665 - Val Loss (simple RMSE, no physics involved): 0.067259\n",
      "Epoch 42/50\n",
      "Epoch 42/50 - Train Loss: 0.006606 - Val Loss (simple RMSE, no physics involved): 0.066966\n",
      "Epoch 43/50\n",
      "Epoch 43/50 - Train Loss: 0.006659 - Val Loss (simple RMSE, no physics involved): 0.065461\n",
      "Epoch 44/50\n",
      "Epoch 44/50 - Train Loss: 0.006639 - Val Loss (simple RMSE, no physics involved): 0.067120\n",
      "Epoch 45/50\n",
      "Epoch 45/50 - Train Loss: 0.006732 - Val Loss (simple RMSE, no physics involved): 0.068419\n",
      "Epoch 46/50\n",
      "Epoch 46/50 - Train Loss: 0.006629 - Val Loss (simple RMSE, no physics involved): 0.069480\n",
      "Epoch 47/50\n",
      "Epoch 47/50 - Train Loss: 0.006589 - Val Loss (simple RMSE, no physics involved): 0.070155\n",
      "Epoch 48/50\n",
      "Epoch 48/50 - Train Loss: 0.006553 - Val Loss (simple RMSE, no physics involved): 0.071520\n",
      "Epoch 49/50\n",
      "Epoch 49/50 - Train Loss: 0.006681 - Val Loss (simple RMSE, no physics involved): 0.070266\n",
      "Epoch 50/50\n",
      "Epoch 50/50 - Train Loss: 0.006580 - Val Loss (simple RMSE, no physics involved): 0.065326\n",
      "Training time: 305.29441952705383\n",
      "Model saved as best_MLP_no2_MSE_allyears.pth in Model folder\n"
     ]
    }
   ],
   "source": [
    "torch.manual_seed(34)\n",
    "# Train the model with the best hyperparameters\n",
    "best_model_baseline = BasicMLP(\n",
    "    N_INPUT_UNITS=train_dataset.__n_features_in__(),\n",
    "    N_HIDDEN_LAYERS=best_params[\"n_hidden_layers\"],\n",
    "    N_HIDDEN_UNITS=best_params[\"n_hidden_units\"],\n",
    "    N_OUTPUT_UNITS=train_dataset.__n_features_out__(),\n",
    "    loss_function=\"MSE\",\n",
    ")\n",
    "\n",
    "# Create train & validation loaders with the best batch size\n",
    "train_loader = DataLoader(train_dataset, batch_size=best_params[\"batch_size\"], shuffle=True)\n",
    "val_loader = DataLoader(val_dataset, batch_size=best_params[\"batch_size\"], shuffle=False)\n",
    "\n",
    "# Train the model\n",
    "_, training_time = best_model_baseline.train_model(train_loader, val_loader, epochs=50, lr=best_params[\"lr\"], weight_decay=best_params[\"weight_decay\"], device=device)\n",
    "\n",
    "print(f\"Training time: {training_time}\")\n",
    "# Save the trained model\n",
    "torch.save(best_model_baseline.state_dict(), f\"{MODEL_PATH}/{MODEL_PATH_NAME}\")\n",
    "print(f\"Model saved as {MODEL_PATH_NAME} in Model folder\")"
   ]
  },
  {
   "cell_type": "code",
   "execution_count": 28,
   "metadata": {},
   "outputs": [
    {
     "name": "stdout",
     "output_type": "stream",
     "text": [
      "Test MSE Loss: 59.653010\n",
      "Test RMSE Loss: 6.568753\n",
      "Test SMAPE Loss: 26.350127%\n",
      "Total Inference Time: 0.39 seconds\n"
     ]
    }
   ],
   "source": [
    "torch.manual_seed(34)  # Set seed for reproducibility\n",
    "best_model_baseline.load_state_dict(torch.load(f\"{MODEL_PATH}/{MODEL_PATH_NAME}\"))\n",
    "best_model_baseline.eval()\n",
    "\n",
    "# Create the DataLoader for the test dataset\n",
    "test_loader = DataLoader(test_dataset, batch_size=best_params[\"batch_size\"], shuffle=False)\n",
    "\n",
    "# Evaluate the model on the test dataset\n",
    "df_minmax = pd.read_csv(MINMAX_PATH, sep=';')\n",
    "min_value = df_minmax[\"min\"].values\n",
    "max_value = df_minmax[\"max\"].values\n",
    "mse, rmse, smape, inference_time = best_model_baseline.test_model(test_loader, min_value=min_value, max_value=max_value, device=\"cpu\")\n",
    "\n"
   ]
  },
  {
   "cell_type": "code",
   "execution_count": 29,
   "metadata": {},
   "outputs": [
    {
     "name": "stdout",
     "output_type": "stream",
     "text": [
      "Results saved as results_MLP_no2_MSE_allyears.csv in Results/metrics folder\n"
     ]
    }
   ],
   "source": [
    "import csv\n",
    "\n",
    "# Define the CSV file path\n",
    "results_csv_path = f\"{RESULTS_PATH}/metrics/{RESULTS_METRICS_FILENAME}\"\n",
    "\n",
    "# Save metrics in a proper CSV format (header + values in one row)\n",
    "with open(results_csv_path, mode=\"w\", newline=\"\") as f:\n",
    "    writer = csv.writer(f)\n",
    "    \n",
    "    # Write header\n",
    "    writer.writerow([\"MSE\", \"RMSE\", \"SMAPE\", \"Inference Time\", \"Training Time\"])\n",
    "    \n",
    "    # Write values\n",
    "    writer.writerow([mse, rmse, smape, inference_time, training_time])\n",
    "\n",
    "print(f\"Results saved as {RESULTS_METRICS_FILENAME} in Results/metrics folder\")"
   ]
  },
  {
   "cell_type": "code",
   "execution_count": 30,
   "metadata": {},
   "outputs": [
    {
     "data": {
      "image/png": "[encoded data removed]",
      "text/plain": [
       "<Figure size 1000x500 with 1 Axes>"
      ]
     },
     "metadata": {},
     "output_type": "display_data"
    }
   ],
   "source": [
    "import torch\n",
    "import matplotlib.pyplot as plt\n",
    "\n",
    "# Ensure the model is in evaluation mode\n",
    "best_model_baseline.eval()\n",
    "\n",
    "y_preds = []\n",
    "y_trues = []\n",
    "\n",
    "# Iterate through the test set and collect predictions & ground truth\n",
    "with torch.no_grad():\n",
    "    for batch in test_loader:\n",
    "        x_test, y_true = batch  # Get input and ground truth\n",
    "        x_test = x_test.to(\"cpu\")  # Ensure data is on CPU if needed\n",
    "\n",
    "        # Get predictions\n",
    "        y_pred = best_model_baseline(x_test)\n",
    "\n",
    "        # Store results\n",
    "        y_preds.append(y_pred.cpu())\n",
    "        y_trues.append(y_true.cpu())\n",
    "\n",
    "# Convert lists to tensors\n",
    "y_preds = torch.cat(y_preds, dim=0).numpy()\n",
    "y_trues = torch.cat(y_trues, dim=0).numpy()\n",
    "\n",
    "# Plot results\n",
    "plt.figure(figsize=(10, 5))\n",
    "plt.plot(y_trues.flatten(), label=\"Ground Truth (NO₂)\", linestyle=\"-\", color=\"blue\")\n",
    "plt.scatter(range(len(y_preds.flatten())), y_preds.flatten(), label=\"Predictions\", color=\"black\", s=10)\n",
    "\n",
    "plt.xlabel(\"Time Step\")\n",
    "plt.ylabel(\"NO₂ Level\")\n",
    "plt.title(\"Predictions vs. Ground Truth\")\n",
    "plt.legend()\n",
    "#save the plot\n",
    "plt.savefig(f\"{RESULTS_PATH}/plots/{PLOT_FILENAME}\")\n",
    "plt.show()\n"
   ]
  }
 ],
 "metadata": {
  "kernelspec": {
   "display_name": "venv",
   "language": "python",
   "name": "python3"
  },
  "language_info": {
   "codemirror_mode": {
    "name": "ipython",
    "version": 3
   },
   "file_extension": ".py",
   "mimetype": "text/x-python",
   "name": "python",
   "nbconvert_exporter": "python",
   "pygments_lexer": "ipython3",
   "version": "3.10.16"
  }
 },
 "nbformat": 4,
 "nbformat_minor": 2
}
